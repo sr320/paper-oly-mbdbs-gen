{
 "cells": [
  {
   "cell_type": "code",
   "execution_count": 2,
   "metadata": {},
   "outputs": [
    {
     "name": "stdout",
     "output_type": "stream",
     "text": [
      "--2020-06-24 11:04:58--  https://raw.githubusercontent.com/RobertsLab/code/master/notebooks/sam/20181022_emu_oly_repeatmodeler.ipynb\n",
      "Resolving raw.githubusercontent.com (raw.githubusercontent.com)... 151.101.128.133, 151.101.64.133, 151.101.192.133, ...\n",
      "Connecting to raw.githubusercontent.com (raw.githubusercontent.com)|151.101.128.133|:443... connected.\n",
      "HTTP request sent, awaiting response... 200 OK\n",
      "Length: 39105 (38K) [text/plain]\n",
      "Saving to: ‘20181022_emu_oly_repeatmodeler.ipynb’\n",
      "\n",
      "20181022_emu_oly_re 100%[===================>]  38.19K  --.-KB/s    in 0.03s   \n",
      "\n",
      "2020-06-24 11:04:59 (1.32 MB/s) - ‘20181022_emu_oly_repeatmodeler.ipynb’ saved [39105/39105]\n",
      "\n"
     ]
    }
   ],
   "source": [
    "!wget https://raw.githubusercontent.com/RobertsLab/code/master/notebooks/sam/20181022_emu_oly_repeatmodeler.ipynb"
   ]
  },
  {
   "cell_type": "code",
   "execution_count": null,
   "metadata": {},
   "outputs": [],
   "source": [
    "Genome annotation with MAKER:\n",
    "\n",
    "1. https://github.com/RobertsLab/sams-notebook/blob/master/sbatch_scripts/20181127_oly_maker_genome_annotation.sh\n",
    "\n",
    "2. https://github.com/RobertsLab/sams-notebook/blob/master/sbatch_scripts/20190108_oly_maker_blastp.sh\n",
    "\n",
    "3. https://github.com/RobertsLab/sams-notebook/blob/master/sbatch_scripts/20190107_oly_maker_interproscan.sh\n",
    "\n",
    "4. https://github.com/RobertsLab/sams-notebook/blob/master/sbatch_scripts/20190108_oly_maker_blastp.sh\n",
    "\n",
    "5. https://github.com/RobertsLab/sams-notebook/blob/master/sbatch_scripts/20190108_oly_maker_interproscan.sh\n",
    "\n",
    "6. https://github.com/RobertsLab/sams-notebook/blob/master/sbatch_scripts/20190109_oly_maker_functional_annotation.sh\n",
    "Show less"
   ]
  },
  {
   "cell_type": "code",
   "execution_count": 3,
   "metadata": {},
   "outputs": [
    {
     "name": "stdout",
     "output_type": "stream",
     "text": [
      "--2020-06-24 11:06:13--  https://raw.githubusercontent.com/RobertsLab/sams-notebook/master/sbatch_scripts/20181127_oly_maker_genome_annotation.sh\n",
      "Resolving raw.githubusercontent.com (raw.githubusercontent.com)... 151.101.128.133, 151.101.64.133, 151.101.192.133, ...\n",
      "Connecting to raw.githubusercontent.com (raw.githubusercontent.com)|151.101.128.133|:443... connected.\n",
      "HTTP request sent, awaiting response... 200 OK\n",
      "Length: 6988 (6.8K) [text/plain]\n",
      "Saving to: ‘20181127_oly_maker_genome_annotation.sh’\n",
      "\n",
      "20181127_oly_maker_ 100%[===================>]   6.82K  --.-KB/s    in 0s      \n",
      "\n",
      "2020-06-24 11:06:13 (19.8 MB/s) - ‘20181127_oly_maker_genome_annotation.sh’ saved [6988/6988]\n",
      "\n"
     ]
    }
   ],
   "source": [
    "!wget https://raw.githubusercontent.com/RobertsLab/sams-notebook/master/sbatch_scripts/20181127_oly_maker_genome_annotation.sh\n",
    "    "
   ]
  },
  {
   "cell_type": "code",
   "execution_count": 4,
   "metadata": {},
   "outputs": [
    {
     "name": "stdout",
     "output_type": "stream",
     "text": [
      "--2020-06-24 11:06:40--  https://raw.githubusercontent.com/RobertsLab/sams-notebook/master/sbatch_scripts/20190108_oly_maker_blastp.sh\n",
      "Resolving raw.githubusercontent.com (raw.githubusercontent.com)... 151.101.64.133, 151.101.192.133, 151.101.0.133, ...\n",
      "Connecting to raw.githubusercontent.com (raw.githubusercontent.com)|151.101.64.133|:443... connected.\n",
      "HTTP request sent, awaiting response... 200 OK\n",
      "Length: 1593 (1.6K) [text/plain]\n",
      "Saving to: ‘20190108_oly_maker_blastp.sh’\n",
      "\n",
      "20190108_oly_maker_ 100%[===================>]   1.56K  --.-KB/s    in 0s      \n",
      "\n",
      "2020-06-24 11:06:41 (6.05 MB/s) - ‘20190108_oly_maker_blastp.sh’ saved [1593/1593]\n",
      "\n"
     ]
    }
   ],
   "source": [
    "!wget https://raw.githubusercontent.com/RobertsLab/sams-notebook/master/sbatch_scripts/20190108_oly_maker_blastp.sh"
   ]
  },
  {
   "cell_type": "code",
   "execution_count": 6,
   "metadata": {},
   "outputs": [
    {
     "name": "stdout",
     "output_type": "stream",
     "text": [
      "--2020-06-24 11:07:44--  https://raw.githubusercontent.com/RobertsLab/sams-notebook/master/sbatch_scripts/20190107_oly_maker_interproscan.sh\n",
      "Resolving raw.githubusercontent.com (raw.githubusercontent.com)... 151.101.128.133, 151.101.64.133, 151.101.0.133, ...\n",
      "Connecting to raw.githubusercontent.com (raw.githubusercontent.com)|151.101.128.133|:443... connected.\n",
      "HTTP request sent, awaiting response... 200 OK\n",
      "Length: 1500 (1.5K) [text/plain]\n",
      "Saving to: ‘20190107_oly_maker_interproscan.sh’\n",
      "\n",
      "20190107_oly_maker_ 100%[===================>]   1.46K  --.-KB/s    in 0s      \n",
      "\n",
      "2020-06-24 11:07:44 (4.46 MB/s) - ‘20190107_oly_maker_interproscan.sh’ saved [1500/1500]\n",
      "\n"
     ]
    }
   ],
   "source": [
    "!wget https://raw.githubusercontent.com/RobertsLab/sams-notebook/master/sbatch_scripts/20190107_oly_maker_interproscan.sh"
   ]
  },
  {
   "cell_type": "code",
   "execution_count": 8,
   "metadata": {},
   "outputs": [
    {
     "name": "stdout",
     "output_type": "stream",
     "text": [
      "--2020-06-24 11:08:45--  https://raw.githubusercontent.com/RobertsLab/sams-notebook/master/sbatch_scripts/20190108_oly_maker_interproscan.sh\n",
      "Resolving raw.githubusercontent.com (raw.githubusercontent.com)... 151.101.64.133, 151.101.192.133, 151.101.0.133, ...\n",
      "Connecting to raw.githubusercontent.com (raw.githubusercontent.com)|151.101.64.133|:443... connected.\n",
      "HTTP request sent, awaiting response... 200 OK\n",
      "Length: 1494 (1.5K) [text/plain]\n",
      "Saving to: ‘20190108_oly_maker_interproscan.sh’\n",
      "\n",
      "20190108_oly_maker_ 100%[===================>]   1.46K  --.-KB/s    in 0s      \n",
      "\n",
      "2020-06-24 11:08:45 (6.06 MB/s) - ‘20190108_oly_maker_interproscan.sh’ saved [1494/1494]\n",
      "\n"
     ]
    }
   ],
   "source": [
    "!wget https://raw.githubusercontent.com/RobertsLab/sams-notebook/master/sbatch_scripts/20190108_oly_maker_interproscan.sh"
   ]
  },
  {
   "cell_type": "code",
   "execution_count": 9,
   "metadata": {},
   "outputs": [
    {
     "name": "stdout",
     "output_type": "stream",
     "text": [
      "--2020-06-24 11:09:13--  https://raw.githubusercontent.com/RobertsLab/sams-notebook/master/sbatch_scripts/20190109_oly_maker_functional_annotation.sh\n",
      "Resolving raw.githubusercontent.com (raw.githubusercontent.com)... 151.101.64.133, 151.101.192.133, 151.101.0.133, ...\n",
      "Connecting to raw.githubusercontent.com (raw.githubusercontent.com)|151.101.64.133|:443... connected.\n",
      "HTTP request sent, awaiting response... 200 OK\n",
      "Length: 2993 (2.9K) [text/plain]\n",
      "Saving to: ‘20190109_oly_maker_functional_annotation.sh’\n",
      "\n",
      "20190109_oly_maker_ 100%[===================>]   2.92K  --.-KB/s    in 0s      \n",
      "\n",
      "2020-06-24 11:09:13 (7.76 MB/s) - ‘20190109_oly_maker_functional_annotation.sh’ saved [2993/2993]\n",
      "\n"
     ]
    }
   ],
   "source": [
    "!wget https://raw.githubusercontent.com/RobertsLab/sams-notebook/master/sbatch_scripts/20190109_oly_maker_functional_annotation.sh"
   ]
  },
  {
   "cell_type": "code",
   "execution_count": 10,
   "metadata": {},
   "outputs": [
    {
     "name": "stdout",
     "output_type": "stream",
     "text": [
      "--2020-06-24 11:10:08--  https://raw.githubusercontent.com/RobertsLab/sams-notebook/master/sbatch_scripts/20190115_oly_busco_metazoa_augustus.sh\n",
      "Resolving raw.githubusercontent.com (raw.githubusercontent.com)... 151.101.64.133, 151.101.128.133, 151.101.192.133, ...\n",
      "Connecting to raw.githubusercontent.com (raw.githubusercontent.com)|151.101.64.133|:443... connected.\n",
      "HTTP request sent, awaiting response... 200 OK\n",
      "Length: 5176 (5.1K) [text/plain]\n",
      "Saving to: ‘20190115_oly_busco_metazoa_augustus.sh’\n",
      "\n",
      "20190115_oly_busco_ 100%[===================>]   5.05K  --.-KB/s    in 0.005s  \n",
      "\n",
      "2020-06-24 11:10:08 (1010 KB/s) - ‘20190115_oly_busco_metazoa_augustus.sh’ saved [5176/5176]\n",
      "\n"
     ]
    }
   ],
   "source": [
    "!wget https://raw.githubusercontent.com/RobertsLab/sams-notebook/master/sbatch_scripts/20190115_oly_busco_metazoa_augustus.sh"
   ]
  },
  {
   "cell_type": "code",
   "execution_count": null,
   "metadata": {},
   "outputs": [],
   "source": []
  }
 ],
 "metadata": {
  "kernelspec": {
   "display_name": "Python 3",
   "language": "python",
   "name": "python3"
  },
  "language_info": {
   "codemirror_mode": {
    "name": "ipython",
    "version": 3
   },
   "file_extension": ".py",
   "mimetype": "text/x-python",
   "name": "python",
   "nbconvert_exporter": "python",
   "pygments_lexer": "ipython3",
   "version": "3.6.8"
  }
 },
 "nbformat": 4,
 "nbformat_minor": 2
}
