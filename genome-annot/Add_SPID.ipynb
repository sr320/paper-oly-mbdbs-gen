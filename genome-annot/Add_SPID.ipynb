{
 "cells": [
  {
   "cell_type": "markdown",
   "metadata": {},
   "source": [
    "# Add SPID to genome GFF"
   ]
  },
  {
   "cell_type": "markdown",
   "metadata": {},
   "source": [
    "### Get best blast hit from blastp_annotation"
   ]
  },
  {
   "cell_type": "code",
   "execution_count": 5,
   "metadata": {},
   "outputs": [],
   "source": [
    "%%bash\n",
    "# sort blast hits by e-value\n",
    "sort -k1,1 -k11,11 --field-separator $'\\t' blastp.outfmt6 | awk '!($1 in array){array[$1]; print}' > best_blastp.outfmt6"
   ]
  },
  {
   "cell_type": "code",
   "execution_count": 17,
   "metadata": {},
   "outputs": [
    {
     "name": "stdout",
     "output_type": "stream",
     "text": [
      "OLUR_00000001-RA\tsp|Q9IA16|HXD12_HETFR\t38.406\t138\t74\t2\t112\t238\t131\t268\t5.32e-21\t92.4\n",
      "OLUR_00000003-RA\tsp|Q9R1R2|TRIM3_MOUSE\t26.210\t248\t159\t10\t369\t608\t512\t743\t1.40e-13\t77.8\n",
      "OLUR_00000005-RA\tsp|Q9HCR9|PDE11_HUMAN\t61.778\t225\t86\t0\t554\t778\t689\t913\t1.42e-90\t308\n",
      "OLUR_00000007-RA\tsp|P47237|PAX6_CHICK\t55.187\t241\t67\t11\t24\t248\t1\t216\t1.56e-73\t226\n",
      "OLUR_00000008-RA\tsp|P63016|PAX6_RAT\t73.575\t193\t24\t4\t79\t269\t5\t172\t1.78e-88\t273\n"
     ]
    }
   ],
   "source": [
    "%%bash\n",
    "head -n 5 best_blastp.outfmt6"
   ]
  },
  {
   "cell_type": "code",
   "execution_count": 9,
   "metadata": {},
   "outputs": [
    {
     "name": "stdout",
     "output_type": "stream",
     "text": [
      "##gff-version 3\n",
      "Contig61093\tmaker\tgene\t7493\t7946\t.\t+\t.\tID=OLUR_00020575;Name=OLUR_00020575;Alias=maker-Contig61093-snap-gene-0.2;Note=Protein of unknown function;\n",
      "Contig1111\tmaker\tgene\t24968\t28696\t.\t-\t.\tID=OLUR_00006628;Name=OLUR_00006628;Alias=maker-Contig1111-snap-gene-0.1;Note=Similar to Spag6: Sperm-associated antigen 6 (Mus musculus OX%3D10090);Dbxref=Gene3D:G3DSA:1.25.10.10,InterPro:IPR000225,InterPro:IPR000357,InterPro:IPR011989,InterPro:IPR016024,Pfam:PF02985,SMART:SM00185,SUPERFAMILY:SSF48371;Ontology_term=GO:0005515;\n",
      "Contig214118\tmaker\tgene\t201\t926\t.\t+\t.\tID=OLUR_00032161;Name=OLUR_00032161;Alias=maker-Contig214118-snap-gene-0.0;Note=Protein of unknown function;Dbxref=Gene3D:G3DSA:3.10.450.10;\n",
      "Contig58217\tmaker\tgene\t9736\t11541\t.\t-\t.\tID=OLUR_00019127;Name=OLUR_00019127;Alias=snap_masked-Contig58217-processed-gene-0.2;Note=Protein of unknown function;Dbxref=MobiDBLite:mobidb-lite;\n"
     ]
    }
   ],
   "source": [
    "%%bash\n",
    "head -n 5 ../genome-features/Olurida_v081-20190709.gene.gff"
   ]
  },
  {
   "cell_type": "code",
   "execution_count": 21,
   "metadata": {},
   "outputs": [],
   "source": [
    "# add SPID to gene.gff\n",
    "gff = open(\"../genome-features/Olurida_v081-20190709.gene.gff\",\"r\")\n",
    "blast = open(\"best_blastp.outfmt6\",\"r\")\n",
    "tmp = open(\"../genome-features/tmp.gene.gff\",\"w\")\n",
    "\n",
    "spid_dict = {}\n",
    "for line in blast:\n",
    "    gene = line.split()[0].split(\"-\")[0]\n",
    "    spid = line.split()[1].split(\"|\")[1]\n",
    "    spid_dict[gene] = spid\n",
    "\n",
    "blast.close()\n",
    "\n",
    "tmp.write(\"##gff-version 3\\n\")\n",
    "next(gff)\n",
    "for line in gff:\n",
    "    ID = line.split()[8].split(\";\")[0][3:]\n",
    "    if ID in spid_dict.keys():\n",
    "        tmp.write(line.strip()+\"SPID=\"+spid_dict[ID]+\";\\n\")\n",
    "    else:\n",
    "        tmp.write(line)\n",
    "gff.close()\n",
    "tmp.close()"
   ]
  },
  {
   "cell_type": "code",
   "execution_count": 24,
   "metadata": {},
   "outputs": [
    {
     "name": "stdout",
     "output_type": "stream",
     "text": [
      "##gff-version 3\n",
      "Contig61093\tmaker\tgene\t7493\t7946\t.\t+\t.\tID=OLUR_00020575;Name=OLUR_00020575;Alias=maker-Contig61093-snap-gene-0.2;Note=Protein of unknown function;\n",
      "Contig1111\tmaker\tgene\t24968\t28696\t.\t-\t.\tID=OLUR_00006628;Name=OLUR_00006628;Alias=maker-Contig1111-snap-gene-0.1;Note=Similar to Spag6: Sperm-associated antigen 6 (Mus musculus OX%3D10090);Dbxref=Gene3D:G3DSA:1.25.10.10,InterPro:IPR000225,InterPro:IPR000357,InterPro:IPR011989,InterPro:IPR016024,Pfam:PF02985,SMART:SM00185,SUPERFAMILY:SSF48371;Ontology_term=GO:0005515;SPID=Q9JLI7;\n",
      "Contig214118\tmaker\tgene\t201\t926\t.\t+\t.\tID=OLUR_00032161;Name=OLUR_00032161;Alias=maker-Contig214118-snap-gene-0.0;Note=Protein of unknown function;Dbxref=Gene3D:G3DSA:3.10.450.10;\n",
      "Contig58217\tmaker\tgene\t9736\t11541\t.\t-\t.\tID=OLUR_00019127;Name=OLUR_00019127;Alias=snap_masked-Contig58217-processed-gene-0.2;Note=Protein of unknown function;Dbxref=MobiDBLite:mobidb-lite;\n"
     ]
    }
   ],
   "source": [
    "%%bash\n",
    "head -n 5 ../genome-features/tmp.gene.gff"
   ]
  },
  {
   "cell_type": "code",
   "execution_count": 25,
   "metadata": {},
   "outputs": [],
   "source": [
    "%%bash \n",
    "mv ../genome-features/tmp.gene.gff ../genome-features/Olurida_v081-20190709.gene.gff"
   ]
  },
  {
   "cell_type": "markdown",
   "metadata": {},
   "source": [
    "### Add SPID to other GFFs"
   ]
  },
  {
   "cell_type": "code",
   "execution_count": 27,
   "metadata": {
    "scrolled": true
   },
   "outputs": [
    {
     "name": "stdout",
     "output_type": "stream",
     "text": [
      "20190709-Olurida_v081.stringtie.gtf\n",
      "Heare-PCRtargets-2kslop.gff\n",
      "Olur_gene_UPacc.gff\n",
      "Olurida_v081-20190709.2kbflank-down.gff\n",
      "Olurida_v081-20190709.2kbflank-up.gff\n",
      "Olurida_v081-20190709.CDS.gff\n",
      "Olurida_v081-20190709.exon.gff\n",
      "Olurida_v081-20190709.five_prime_UTR.gff3\n",
      "Olurida_v081-20190709.gene.2kb-down.gff\n",
      "Olurida_v081-20190709.gene.2kb-up.gff\n",
      "Olurida_v081-20190709.gene.2kbslop.gff\n",
      "Olurida_v081-20190709.gene.gff\n",
      "Olurida_v081-20190709.geneB.gff\n",
      "Olurida_v081-20190709.intergenic.bed\n",
      "Olurida_v081-20190709.introns.bed\n",
      "Olurida_v081-20190709.mRNA.gff\n",
      "Olurida_v081-20190709.three_prime_UTR.gff3\n",
      "Olurida_v081.fa.fai\n",
      "Olurida_v081_10kbIntervals.bed\n",
      "Olurida_v081_1kbIntervals.bed\n",
      "Olurida_v081_TE-Cg.gff\n",
      "Olurida_v081_bins-10kb.bed\n",
      "Olurida_v081_bins-1kb.bed\n",
      "tmp.gene.gff\n"
     ]
    }
   ],
   "source": [
    "%%bash\n",
    "ls ../genome-features/"
   ]
  },
  {
   "cell_type": "code",
   "execution_count": 29,
   "metadata": {},
   "outputs": [],
   "source": [
    "# add SPID to gene.gff\n",
    "gff = open(\"../genome-features/Olurida_v081-20190709.gene.2kbslop.gff\",\"r\")\n",
    "blast = open(\"best_blastp.outfmt6\",\"r\")\n",
    "tmp = open(\"../genome-features/tmp.gene.gff\",\"w\")\n",
    "\n",
    "spid_dict = {}\n",
    "for line in blast:\n",
    "    gene = line.split()[0].split(\"-\")[0]\n",
    "    spid = line.split()[1].split(\"|\")[1]\n",
    "    spid_dict[gene] = spid\n",
    "\n",
    "blast.close()\n",
    "\n",
    "tmp.write(\"##gff-version 3\\n\")\n",
    "next(gff)\n",
    "for line in gff:\n",
    "    ID = line.split()[8].split(\";\")[0][3:]\n",
    "    if ID in spid_dict.keys():\n",
    "        tmp.write(line.strip()+\"SPID=\"+spid_dict[ID]+\";\\n\")\n",
    "    else:\n",
    "        tmp.write(line)\n",
    "gff.close()\n",
    "tmp.close()"
   ]
  },
  {
   "cell_type": "code",
   "execution_count": 30,
   "metadata": {},
   "outputs": [],
   "source": [
    "%%bash \n",
    "mv ../genome-features/tmp.gene.gff ../genome-features/Olurida_v081-20190709.gene.2kbslop.gff"
   ]
  },
  {
   "cell_type": "code",
   "execution_count": null,
   "metadata": {},
   "outputs": [],
   "source": []
  }
 ],
 "metadata": {
  "kernelspec": {
   "display_name": "Python [conda env:root] *",
   "language": "python",
   "name": "conda-root-py"
  },
  "language_info": {
   "codemirror_mode": {
    "name": "ipython",
    "version": 3
   },
   "file_extension": ".py",
   "mimetype": "text/x-python",
   "name": "python",
   "nbconvert_exporter": "python",
   "pygments_lexer": "ipython3",
   "version": "3.7.6"
  }
 },
 "nbformat": 4,
 "nbformat_minor": 4
}
