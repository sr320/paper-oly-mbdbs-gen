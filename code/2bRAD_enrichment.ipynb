{
 "cells": [
  {
   "cell_type": "markdown",
   "metadata": {},
   "source": [
    "# Get Uniprot accession numbers to identify enriched functions with DAVID "
   ]
  },
  {
   "cell_type": "code",
   "execution_count": 1,
   "metadata": {},
   "outputs": [],
   "source": [
    "module load gcc/6.2.0\n",
    "module load bedtools/2.29.0\n",
    "module load gnutls/3.5.9\n",
    "module load boost/1.55.0\n",
    "module load blast/2.6.0"
   ]
  },
  {
   "cell_type": "markdown",
   "metadata": {},
   "source": [
    "## GWAS genes"
   ]
  },
  {
   "cell_type": "code",
   "execution_count": 10,
   "metadata": {},
   "outputs": [
    {
     "name": "stdout",
     "output_type": "stream",
     "text": [
      "Contig60108\tmaker\tgene\t41\t11731\t.\t-\t.\tID=OLUR_00014779;Name=OLUR_00014779;Alias=maker-Contig60108-snap-gene-0.2;Note=Similar to MLH3: DNA mismatch repair protein Mlh3 (Homo sapiens OX%3D9606);Dbxref=Gene3D:G3DSA:3.30.230.10,Gene3D:G3DSA:3.30.565.10,InterPro:IPR013507,InterPro:IPR014721,InterPro:IPR020568,InterPro:IPR036890,MobiDBLite:mobidb-lite,Pfam:PF01119,SMART:SM01340,SUPERFAMILY:SSF54211,SUPERFAMILY:SSF55874;Ontology_term=GO:0005524,GO:0006298,GO:0030983;\tContig60108\t2787\t2787\t0.00959340726719418\n",
      "Contig42157\tmaker\tgene\t2034\t10762\t.\t-\t.\tID=OLUR_00019115;Name=OLUR_00019115;Alias=snap_masked-Contig42157-processed-gene-0.0;Note=Protein of unknown function;Dbxref=Coils:Coil,MobiDBLite:mobidb-lite;\tContig42157\t9907\t9907\t0.00647897493033771\n",
      "Contig58976\tmaker\tgene\t224\t2577\t.\t-\t.\tID=OLUR_00018983;Name=OLUR_00018983;Alias=maker-Contig58976-snap-gene-0.2;Note=Similar to cpiB: Cystatin-A2 (Dictyostelium discoideum OX%3D44689);Dbxref=Gene3D:G3DSA:3.10.450.10,InterPro:IPR000010,InterPro:IPR001713,InterPro:IPR018073,PRINTS:PR00295,Pfam:PF00031,ProSitePatterns:PS00287,SUPERFAMILY:SSF54403;Ontology_term=GO:0004866,GO:0004869,GO:0005622;\tContig58976\t2566\t2566\t0.00398242448408655\n"
     ]
    }
   ],
   "source": [
    "# GWAS significant genes\n",
    "head -n 3 GWAS/GWAS_width_lfmmLassoP01.genes2kb"
   ]
  },
  {
   "cell_type": "code",
   "execution_count": 11,
   "metadata": {},
   "outputs": [],
   "source": [
    "cat GWAS/GWAS_width_lfmmLassoP01.genes2kb \\\n",
    "| cut  -f1,4,5 | sort | uniq > GWAS/GWAS_width_lfmmLassoP01-BED.genes2kb"
   ]
  },
  {
   "cell_type": "code",
   "execution_count": 15,
   "metadata": {},
   "outputs": [
    {
     "name": "stdout",
     "output_type": "stream",
     "text": [
      "37 GWAS/GWAS_width_lfmmLassoP01-BED.genes2kb\n"
     ]
    }
   ],
   "source": [
    "wc -l GWAS/GWAS_width_lfmmLassoP01-BED.genes2kb"
   ]
  },
  {
   "cell_type": "code",
   "execution_count": 13,
   "metadata": {},
   "outputs": [],
   "source": [
    "# Background GWAS genes (should be background for all analyses?)\n",
    "cat GWAS/GWAS_width_lfmmLasso.genes2kb \\\n",
    "| cut  -f1,4,5 | sort | uniq > GWAS/GWAS_width_lfmmLasso-BED.genes2kb"
   ]
  },
  {
   "cell_type": "code",
   "execution_count": 14,
   "metadata": {},
   "outputs": [
    {
     "name": "stdout",
     "output_type": "stream",
     "text": [
      "Contig973\t10702\t17477\n",
      "Contig97360\t1319\t3169\n",
      "Contig97510\t4167\t7322\n",
      "Contig97731\t5751\t12595\n",
      "Contig98\t13288\t46306\n",
      "Contig98\t2535\t11398\n",
      "Contig98085\t682\t7530\n",
      "Contig99041\t298\t1646\n",
      "Contig99082\t822\t13998\n",
      "Contig99323\t6816\t14674\n"
     ]
    }
   ],
   "source": [
    "tail GWAS/GWAS_width_lfmmLasso-BED.genes2kb"
   ]
  },
  {
   "cell_type": "markdown",
   "metadata": {},
   "source": [
    "Make fastas"
   ]
  },
  {
   "cell_type": "code",
   "execution_count": 17,
   "metadata": {},
   "outputs": [
    {
     "name": "stdout",
     "output_type": "stream",
     "text": [
      "index file ../../Olurida_v081.fa.fai not found, generating...\n"
     ]
    }
   ],
   "source": [
    "fastaFromBed \\\n",
    "-fi ../../Olurida_v081.fa \\\n",
    "-bed GWAS/GWAS_width_lfmmLassoP01-BED.genes2kb \\\n",
    "> GWAS/GWAS_width_lfmmLassoP01-genes2kb.fa"
   ]
  },
  {
   "cell_type": "code",
   "execution_count": 18,
   "metadata": {},
   "outputs": [
    {
     "name": "stdout",
     "output_type": "stream",
     "text": [
      "37\n"
     ]
    }
   ],
   "source": [
    "grep \">\" -c GWAS/GWAS_width_lfmmLassoP01-genes2kb.fa"
   ]
  },
  {
   "cell_type": "code",
   "execution_count": 19,
   "metadata": {},
   "outputs": [],
   "source": [
    "fastaFromBed \\\n",
    "-fi ../../Olurida_v081.fa \\\n",
    "-bed GWAS/GWAS_width_lfmmLasso-BED.genes2kb \\\n",
    "> GWAS/GWAS_width_lfmmLasso-genes2kb.fa"
   ]
  },
  {
   "cell_type": "code",
   "execution_count": 20,
   "metadata": {},
   "outputs": [
    {
     "name": "stdout",
     "output_type": "stream",
     "text": [
      "1302\n"
     ]
    }
   ],
   "source": [
    "grep \">\" -c GWAS/GWAS_width_lfmmLasso-genes2kb.fa"
   ]
  },
  {
   "cell_type": "markdown",
   "metadata": {},
   "source": [
    "### Blast gene fasta files against uniprot  \n",
    "Uniprot/Swiss-prot reviewed database downloaded on 04/22/2020 from https://www.uniprot.org/downloads"
   ]
  },
  {
   "cell_type": "code",
   "execution_count": 28,
   "metadata": {},
   "outputs": [
    {
     "name": "stdout",
     "output_type": "stream",
     "text": [
      "\n",
      "The following have been reloaded with a version change:\n",
      "  1) blast/2.9.0 => blast/2.10.0\n",
      "\n"
     ]
    }
   ],
   "source": [
    "module load gcc/6.2.0\n",
    "module load gnutls/3.5.9\n",
    "module load boost/1.55.0\n",
    "module load blast/2.10.0"
   ]
  },
  {
   "cell_type": "code",
   "execution_count": 2,
   "metadata": {},
   "outputs": [
    {
     "name": "stdout",
     "output_type": "stream",
     "text": [
      "\n",
      "\n",
      "Building a new DB, current time: 04/23/2020 16:24:41\n",
      "New DB name:   /scratch/t.cri.ksilliman/CommonG_cp2/2019_Mapping/uniprot_sprot_042220.fasta\n",
      "New DB title:  ../../uniprot_sprot.fasta\n",
      "Sequence type: Protein\n",
      "Keep MBits: T\n",
      "Maximum file size: 1000000000B\n",
      "Adding sequences from FASTA; added 562253 sequences in 18.284 seconds.\n"
     ]
    }
   ],
   "source": [
    "makeblastdb \\\n",
    "-in ../../uniprot_sprot.fasta \\\n",
    "-dbtype prot \\\n",
    "-out ../../uniprot_sprot_042220.fasta"
   ]
  },
  {
   "cell_type": "code",
   "execution_count": 5,
   "metadata": {},
   "outputs": [],
   "source": [
    "blastx \\\n",
    "-query GWAS/GWAS_width_lfmmLassoP01-genes2kb.fa \\\n",
    "-db ../../uniprot_sprot_042220.fasta \\\n",
    "-num_threads 6 \\\n",
    "-evalue 1E-5 \\\n",
    "-outfmt 6 \\\n",
    "-max_target_seqs 1 \\\n",
    "-out GWAS/GWAS_width_lfmmLassoP01-genes2kb_blastx.tab"
   ]
  },
  {
   "cell_type": "code",
   "execution_count": 7,
   "metadata": {},
   "outputs": [
    {
     "name": "stdout",
     "output_type": "stream",
     "text": [
      "71 GWAS/GWAS_width_lfmmLassoP01-genes2kb_blastx.tab\n"
     ]
    }
   ],
   "source": [
    "wc -l GWAS/GWAS_width_lfmmLassoP01-genes2kb_blastx.tab"
   ]
  },
  {
   "cell_type": "code",
   "execution_count": 8,
   "metadata": {},
   "outputs": [],
   "source": [
    "# background list\n",
    "blastx \\\n",
    "-query GWAS/GWAS_width_lfmmLasso-genes2kb.fa \\\n",
    "-db ../../uniprot_sprot_042220.fasta \\\n",
    "-num_threads 6 \\\n",
    "-evalue 1E-5 \\\n",
    "-outfmt 6 \\\n",
    "-max_target_seqs 1 \\\n",
    "-out GWAS/GWAS_width_lfmmLassoBackground-genes2kb_blastx.tab"
   ]
  },
  {
   "cell_type": "code",
   "execution_count": 9,
   "metadata": {},
   "outputs": [
    {
     "name": "stdout",
     "output_type": "stream",
     "text": [
      "2591 GWAS/GWAS_width_lfmmLassoBackground-genes2kb_blastx.tab\n"
     ]
    }
   ],
   "source": [
    "wc -l GWAS/GWAS_width_lfmmLassoBackground-genes2kb_blastx.tab"
   ]
  },
  {
   "cell_type": "markdown",
   "metadata": {},
   "source": [
    "### Get Uniprot accession and load into DAVID"
   ]
  },
  {
   "cell_type": "code",
   "execution_count": 14,
   "metadata": {},
   "outputs": [],
   "source": [
    "tr '|' '\\t' < GWAS/GWAS_width_lfmmLassoP01-genes2kb_blastx.tab \\\n",
    "| cut -f3 > GWAS/GWAS_width_lfmmLassoP01-genes2kb_blastx.prots"
   ]
  },
  {
   "cell_type": "code",
   "execution_count": 12,
   "metadata": {},
   "outputs": [],
   "source": [
    "tr '|' '\\t' < GWAS/GWAS_width_lfmmLassoBackground-genes2kb_blastx.tab \\\n",
    "| cut -f3 > background_2brad.txt"
   ]
  },
  {
   "cell_type": "markdown",
   "metadata": {},
   "source": [
    "### No enrichment for BP, MF, CC for GWAS snps, only 23 DAVID ids"
   ]
  },
  {
   "cell_type": "markdown",
   "metadata": {},
   "source": [
    "## Fst > 0.3"
   ]
  },
  {
   "cell_type": "code",
   "execution_count": null,
   "metadata": {},
   "outputs": [],
   "source": []
  },
  {
   "cell_type": "code",
   "execution_count": 18,
   "metadata": {},
   "outputs": [
    {
     "name": "stdout",
     "output_type": "stream",
     "text": [
      "Contig29033\tmaker\tgene\t13408\t30648\t.\t-\t.\tID=OLUR_00003721;Name=OLUR_00003721;Alias=maker-Contig29033-snap-gene-0.4;Note=Similar to G2/mitotic-specific cyclin-B (Hydra viridissima OX%3D6082);Dbxref=CDD:cd00043,Gene3D:G3DSA:1.10.472.10,InterPro:IPR004367,InterPro:IPR006671,InterPro:IPR013763,InterPro:IPR036915,InterPro:IPR039361,MobiDBLite:mobidb-lite,PIRSF:PIRSF001771,Pfam:PF00134,SMART:SM00385,SMART:SM01332,SUPERFAMILY:SSF47954;Ontology_term=GO:0005634;\tContig29033\t13407\t30648\t0.441704035874439\n",
      "Contig77382\tmaker\tgene\t3560\t10918\t.\t+\t.\tID=OLUR_00016056;Name=OLUR_00016056;Alias=snap_masked-Contig77382-processed-gene-0.0;Note=Similar to Socs5: Suppressor of cytokine signaling 5 (Mus musculus OX%3D10090);Dbxref=Gene3D:G3DSA:3.30.505.10,InterPro:IPR000980,InterPro:IPR036860,MobiDBLite:mobidb-lite,Pfam:PF00017,SUPERFAMILY:SSF55550;\tContig77382\t3559\t10918\t0.663352272727273\n",
      "Contig34298\tmaker\tgene\t15093\t51017\t.\t+\t.\tID=OLUR_00001738;Name=OLUR_00001738;Alias=maker-Contig34298-snap-gene-0.4;Note=Similar to BIRC6: Baculoviral IAP repeat-containing protein 6 (Homo sapiens OX%3D9606);Dbxref=CDD:cd00022,Gene3D:G3DSA:1.10.1170.10,InterPro:IPR001370,InterPro:IPR019775,InterPro:IPR036322,MobiDBLite:mobidb-lite,Pfam:PF00653,ProSitePatterns:PS00678,ProSiteProfiles:PS50143,SMART:SM00238,SUPERFAMILY:SSF50978,SUPERFAMILY:SSF57924;Ontology_term=GO:0005515;\tContig34298\t15092\t51017\t0.371428571428571\n"
     ]
    }
   ],
   "source": [
    "# Fst > 0.3 genes\n",
    "# Fst from genes +-2kb, but mapping only to original gene region\n",
    "head -n 3 Results/fst2kb_g03.genes"
   ]
  },
  {
   "cell_type": "code",
   "execution_count": 19,
   "metadata": {},
   "outputs": [],
   "source": [
    "cat Results/fst2kb_g03.genes \\\n",
    "| cut  -f1,4,5 | sort | uniq > Results/fst2kb_g03.BED"
   ]
  },
  {
   "cell_type": "code",
   "execution_count": 20,
   "metadata": {},
   "outputs": [
    {
     "name": "stdout",
     "output_type": "stream",
     "text": [
      "42 Results/fst2kb_g03.BED\n"
     ]
    }
   ],
   "source": [
    "wc -l Results/fst2kb_g03.BED"
   ]
  },
  {
   "cell_type": "code",
   "execution_count": 21,
   "metadata": {},
   "outputs": [],
   "source": [
    "# Background FST genes \n",
    "cat Results/fst2kb_background.genes \\\n",
    "| cut  -f1,4,5 | sort | uniq > Results/fst2kb_background.BED"
   ]
  },
  {
   "cell_type": "markdown",
   "metadata": {},
   "source": [
    "Make fastas"
   ]
  },
  {
   "cell_type": "code",
   "execution_count": 22,
   "metadata": {},
   "outputs": [],
   "source": [
    "fastaFromBed \\\n",
    "-fi ../../Olurida_v081.fa \\\n",
    "-bed Results/fst2kb_g03.BED \\\n",
    "> Results/fst2kb_g03.fa"
   ]
  },
  {
   "cell_type": "code",
   "execution_count": 23,
   "metadata": {},
   "outputs": [
    {
     "name": "stdout",
     "output_type": "stream",
     "text": [
      "42\n"
     ]
    }
   ],
   "source": [
    "grep \">\" -c Results/fst2kb_g03.fa"
   ]
  },
  {
   "cell_type": "code",
   "execution_count": 24,
   "metadata": {},
   "outputs": [],
   "source": [
    "fastaFromBed \\\n",
    "-fi ../../Olurida_v081.fa \\\n",
    "-bed  Results/fst2kb_background.BED \\\n",
    ">  Results/fst2kb_background.fa"
   ]
  },
  {
   "cell_type": "code",
   "execution_count": 25,
   "metadata": {},
   "outputs": [
    {
     "name": "stdout",
     "output_type": "stream",
     "text": [
      "1597\n"
     ]
    }
   ],
   "source": [
    "grep \">\" -c  Results/fst2kb_background.fa"
   ]
  },
  {
   "cell_type": "markdown",
   "metadata": {},
   "source": [
    "### Blast gene fasta files against uniprot  \n",
    "Uniprot/Swiss-prot reviewed database downloaded on 04/22/2020 from https://www.uniprot.org/downloads"
   ]
  },
  {
   "cell_type": "code",
   "execution_count": null,
   "metadata": {},
   "outputs": [],
   "source": [
    "blastx \\\n",
    "-query Results/fst2kb_background.fa \\\n",
    "-db ../../uniprot_sprot_042220.fasta \\\n",
    "-num_threads 6 \\\n",
    "-evalue 1E-5 \\\n",
    "-outfmt 6 \\\n",
    "-max_target_seqs 1 \\\n",
    "-out Results/fst2kb_background_blastx.tab"
   ]
  },
  {
   "cell_type": "code",
   "execution_count": 2,
   "metadata": {},
   "outputs": [
    {
     "name": "stdout",
     "output_type": "stream",
     "text": [
      "3034 Results/fst2kb_background_blastx.tab\n"
     ]
    }
   ],
   "source": [
    "wc -l Results/fst2kb_background_blastx.tab"
   ]
  },
  {
   "cell_type": "code",
   "execution_count": null,
   "metadata": {},
   "outputs": [],
   "source": [
    "# background list\n",
    "blastx \\\n",
    "-query Results/fst2kb_g03.fa \\\n",
    "-db ../../uniprot_sprot_042220.fasta \\\n",
    "-num_threads 6 \\\n",
    "-evalue 1E-5 \\\n",
    "-outfmt 6 \\\n",
    "-max_target_seqs 1 \\\n",
    "-out Results/fst2kb_g03_blastx.tab"
   ]
  },
  {
   "cell_type": "code",
   "execution_count": 5,
   "metadata": {},
   "outputs": [
    {
     "name": "stdout",
     "output_type": "stream",
     "text": [
      "78 Results/fst2kb_g03_blastx.tab\n"
     ]
    }
   ],
   "source": [
    "wc -l Results/fst2kb_g03_blastx.tab"
   ]
  },
  {
   "cell_type": "markdown",
   "metadata": {},
   "source": [
    "### Get Uniprot accession and load into DAVID"
   ]
  },
  {
   "cell_type": "code",
   "execution_count": 6,
   "metadata": {},
   "outputs": [],
   "source": [
    "tr '|' '\\t' < Results/fst2kb_background_blastx.tab \\\n",
    "| cut -f3 > Results/fst2kb_background_blastx.prots"
   ]
  },
  {
   "cell_type": "code",
   "execution_count": 7,
   "metadata": {},
   "outputs": [],
   "source": [
    "tr '|' '\\t' < Results/fst2kb_g03_blastx.tab \\\n",
    "| cut -f3 > Results/fst2kb_g03_blastx.prots"
   ]
  },
  {
   "cell_type": "markdown",
   "metadata": {},
   "source": [
    "### 4 enriched terms for BP, none for CC, 1 for MF for fst > 0.3 snps, only 19 DAVID ids"
   ]
  },
  {
   "cell_type": "code",
   "execution_count": 9,
   "metadata": {},
   "outputs": [
    {
     "name": "stdout",
     "output_type": "stream",
     "text": [
      "Q96RR4\n",
      "Q96RR4\n",
      "Q96RR4\n",
      "Q96RR4\n",
      "P27966\n",
      "P27966\n",
      "P82596\n",
      "Q9I8C7\n",
      "Q96MM6\n",
      "Q96MM6\n"
     ]
    }
   ],
   "source": [
    "head Results/fst2kb_background_blastx.prots"
   ]
  },
  {
   "cell_type": "code",
   "execution_count": null,
   "metadata": {},
   "outputs": [],
   "source": []
  }
 ],
 "metadata": {
  "kernelspec": {
   "display_name": "Bash",
   "language": "bash",
   "name": "bash"
  },
  "language_info": {
   "codemirror_mode": "shell",
   "file_extension": ".sh",
   "mimetype": "text/x-sh",
   "name": "bash"
  }
 },
 "nbformat": 4,
 "nbformat_minor": 2
}
