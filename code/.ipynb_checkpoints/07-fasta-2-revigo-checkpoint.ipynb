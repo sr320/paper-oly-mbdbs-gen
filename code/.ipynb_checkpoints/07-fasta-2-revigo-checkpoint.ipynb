{
 "cells": [
  {
   "cell_type": "markdown",
   "metadata": {},
   "source": [
    "### Create Oly fastas, blastx against Oly genome, and get gene information (Uniprot Accession #, P-value) to identify enriched functions via DAVID, then visualize in REVIGO.  \n",
    "\n",
    "Script adapted from Steven Roberts' script, available here: https://github.com/sr320/paper-oly-mbdbs-gen/blob/master/code/07-DML-MACAU-annotation.ipynb \n",
    "\n",
    "\n",
    "- [Significant DML loci](https://github.com/sr320/paper-oly-mbdbs-gen/raw/master/analyses/DMLs/DML-gene.bed), access via \"../analyses/DMLs/DML-gene.bed\"  \n",
    "- [DML background loci](https://github.com/sr320/paper-oly-mbdbs-gen/blob/master/analyses/DMLs/AllLociDMLs-gene.bed?raw=true), access via \"../analyses/DMLs/AllLociDMLs-gene.bed\"  \n",
    "- [Significant MACAU loci](https://raw.githubusercontent.com/sr320/paper-oly-mbdbs-gen/master/analyses/macau/macau-gene.bed), access via \"../analyses/macau/macau-gene.bed\"  \n",
    "- [MACAU background loci](https://github.com/sr320/paper-oly-mbdbs-gen/blob/master/analyses/macau/AllLociMACAU-gene.bed?raw=true), access via \"../analyses/macau/AllLociMACAU-gene.bed\""
   ]
  },
  {
   "cell_type": "code",
   "execution_count": 118,
   "metadata": {},
   "outputs": [
    {
     "name": "stdout",
     "output_type": "stream",
     "text": [
      "cut: illegal option -- -\r\n",
      "usage: cut -b list [-n] [file ...]\r\n",
      "       cut -c list [file ...]\r\n",
      "       cut -f list [-s] [-d delim] [file ...]\r\n"
     ]
    }
   ],
   "source": [
    "! cut --manual"
   ]
  },
  {
   "cell_type": "code",
   "execution_count": 119,
   "metadata": {
    "ExecuteTime": {
     "end_time": "2020-02-07T20:00:39.124166Z",
     "start_time": "2020-02-07T20:00:38.981002Z"
    }
   },
   "outputs": [
    {
     "name": "stdout",
     "output_type": "stream",
     "text": [
      "Contig100994\t3427\t3429\t-31.801994301994306\tContig100994\tmaker\tgene\t1031\t6602\t.\t-\t.\tID=OLUR_00017867;Name=OLUR_00017867;Alias=maker-Contig100994-snap-gene-0.1;Note=Similar to PCK1: Phosphoenolpyruvate carboxykinase%2C cytosolic [GTP] (Gallus gallus OX%3D9031);Dbxref=Gene3D:G3DSA:2.170.8.10,Gene3D:G3DSA:3.40.449.10,InterPro:IPR008210,InterPro:IPR035077,InterPro:IPR035078,Pfam:PF00821,Pfam:PF17297,SUPERFAMILY:SSF53795,SUPERFAMILY:SSF68923;Ontology_term=GO:0004611,GO:0006094,GO:0017076;\r\n",
      "Contig101661\t3024\t3026\t26.26111924332846\tContig101661\tmaker\tgene\t1862\t3354\t.\t-\t.\tID=OLUR_00025834;Name=OLUR_00025834;Alias=maker-Contig101661-snap-gene-0.3;Note=Protein of unknown function;Dbxref=MobiDBLite:mobidb-lite;\r\n",
      "Contig103503\t7053\t7055\t-36.247723132969035\tContig103503\tmaker\tgene\t6845\t7852\t.\t-\t.\tID=OLUR_00014920;Name=OLUR_00014920;Alias=snap_masked-Contig103503-processed-gene-0.0;Note=Similar to Glyceraldehyde-3-phosphate dehydrogenase (Panulirus versicolor OX%3D150436);Dbxref=Gene3D:G3DSA:3.30.360.10,Gene3D:G3DSA:3.40.50.720,InterPro:IPR006424,InterPro:IPR020828,InterPro:IPR020829,InterPro:IPR020830,InterPro:IPR020831,InterPro:IPR036291,PIRSF:PIRSF000149,PRINTS:PR00078,Pfam:PF00044,Pfam:PF02800,ProSitePatterns:PS00071,SMART:SM00846,SUPERFAMILY:SSF51735,SUPERFAMILY:SSF55347,TIGRFAM:TIGR01534;Ontology_term=GO:0006006,GO:0016620,GO:0050661,GO:0051287,GO:0055114;\r\n"
     ]
    }
   ],
   "source": [
    "!head  -3 ../analyses/DMLs/DML-gene.bed"
   ]
  },
  {
   "cell_type": "code",
   "execution_count": 120,
   "metadata": {
    "ExecuteTime": {
     "end_time": "2020-02-07T20:00:49.835430Z",
     "start_time": "2020-02-07T20:00:49.685516Z"
    }
   },
   "outputs": [
    {
     "name": "stdout",
     "output_type": "stream",
     "text": [
      "Contig0\t39225\t39227\t-6\tContig0\tmaker\tgene\t12497\t93068\t.\t+\t.\tID=OLUR_00000039;Name=OLUR_00000039;Alias=maker-Contig0-snap-gene-0.8;Note=Similar to WDR87: WD repeat-containing protein 87 (Homo sapiens OX%3D9606);Dbxref=Coils:Coil,Gene3D:G3DSA:1.25.10.10,Gene3D:G3DSA:2.130.10.10,InterPro:IPR001680,InterPro:IPR011989,InterPro:IPR015943,InterPro:IPR016024,InterPro:IPR017986,InterPro:IPR036322,MobiDBLite:mobidb-lite,Pfam:PF00400,ProSiteProfiles:PS50082,ProSiteProfiles:PS50294,SMART:SM00320,SUPERFAMILY:SSF48371,SUPERFAMILY:SSF50978;Ontology_term=GO:0005515;\r\n",
      "Contig0\t39233\t39235\t6\tContig0\tmaker\tgene\t12497\t93068\t.\t+\t.\tID=OLUR_00000039;Name=OLUR_00000039;Alias=maker-Contig0-snap-gene-0.8;Note=Similar to WDR87: WD repeat-containing protein 87 (Homo sapiens OX%3D9606);Dbxref=Coils:Coil,Gene3D:G3DSA:1.25.10.10,Gene3D:G3DSA:2.130.10.10,InterPro:IPR001680,InterPro:IPR011989,InterPro:IPR015943,InterPro:IPR016024,InterPro:IPR017986,InterPro:IPR036322,MobiDBLite:mobidb-lite,Pfam:PF00400,ProSiteProfiles:PS50082,ProSiteProfiles:PS50294,SMART:SM00320,SUPERFAMILY:SSF48371,SUPERFAMILY:SSF50978;Ontology_term=GO:0005515;\r\n",
      "Contig0\t64178\t64180\t0\tContig0\tmaker\tgene\t12497\t93068\t.\t+\t.\tID=OLUR_00000039;Name=OLUR_00000039;Alias=maker-Contig0-snap-gene-0.8;Note=Similar to WDR87: WD repeat-containing protein 87 (Homo sapiens OX%3D9606);Dbxref=Coils:Coil,Gene3D:G3DSA:1.25.10.10,Gene3D:G3DSA:2.130.10.10,InterPro:IPR001680,InterPro:IPR011989,InterPro:IPR015943,InterPro:IPR016024,InterPro:IPR017986,InterPro:IPR036322,MobiDBLite:mobidb-lite,Pfam:PF00400,ProSiteProfiles:PS50082,ProSiteProfiles:PS50294,SMART:SM00320,SUPERFAMILY:SSF48371,SUPERFAMILY:SSF50978;Ontology_term=GO:0005515;\r\n"
     ]
    }
   ],
   "source": [
    "!head  -3 ../analyses/DMLs/AllLociDMLs-gene.bed"
   ]
  },
  {
   "cell_type": "code",
   "execution_count": 161,
   "metadata": {
    "ExecuteTime": {
     "end_time": "2020-02-07T20:01:02.478002Z",
     "start_time": "2020-02-07T20:01:02.335902Z"
    }
   },
   "outputs": [
    {
     "name": "stdout",
     "output_type": "stream",
     "text": [
      "Contig29494\t2656\t2656\tContig29494\tmaker\tgene\t1705\t4678\t.\t-\t.\tID=OLUR_00020955;Name=OLUR_00020955;Alias=maker-Contig29494-snap-gene-0.1;Note=Similar to ZNF79: Zinc finger protein 79 (Homo sapiens OX%3D9606);Dbxref=Coils:Coil,Gene3D:G3DSA:3.30.160.60,InterPro:IPR013087,InterPro:IPR036236,MobiDBLite:mobidb-lite,Pfam:PF00096,ProSitePatterns:PS00028,ProSiteProfiles:PS50157,SMART:SM00355,SUPERFAMILY:SSF57667;Ontology_term=GO:0003676;\r\n",
      "Contig34681\t11633\t11633\tContig34681\tmaker\tgene\t13\t16482\t.\t-\t.\tID=OLUR_00013930;Name=OLUR_00013930;Alias=maker-Contig34681-snap-gene-0.2;Note=Similar to Otulin: Ubiquitin thioesterase otulin (Mus musculus OX%3D10090);Dbxref=InterPro:IPR023235,MobiDBLite:mobidb-lite,PRINTS:PR02055,Pfam:PF16218;\r\n",
      "Contig53865\t4076\t4076\tContig53865\tmaker\tgene\t3795\t4166\t.\t+\t.\tID=OLUR_00022809;Name=OLUR_00022809;Alias=snap_masked-Contig53865-processed-gene-0.0;Note=Protein of unknown function;Dbxref=MobiDBLite:mobidb-lite;\r\n"
     ]
    }
   ],
   "source": [
    "!head  -3 ../analyses/macau/macau-gene.bed"
   ]
  },
  {
   "cell_type": "code",
   "execution_count": 122,
   "metadata": {},
   "outputs": [
    {
     "name": "stdout",
     "output_type": "stream",
     "text": [
      "Contig0\t39226\t39226\tContig0\tmaker\tgene\t12497\t93068\t.\t+\t.\tID=OLUR_00000039;Name=OLUR_00000039;Alias=maker-Contig0-snap-gene-0.8;Note=Similar to WDR87: WD repeat-containing protein 87 (Homo sapiens OX%3D9606);Dbxref=Coils:Coil,Gene3D:G3DSA:1.25.10.10,Gene3D:G3DSA:2.130.10.10,InterPro:IPR001680,InterPro:IPR011989,InterPro:IPR015943,InterPro:IPR016024,InterPro:IPR017986,InterPro:IPR036322,MobiDBLite:mobidb-lite,Pfam:PF00400,ProSiteProfiles:PS50082,ProSiteProfiles:PS50294,SMART:SM00320,SUPERFAMILY:SSF48371,SUPERFAMILY:SSF50978;Ontology_term=GO:0005515;\r\n",
      "Contig0\t39234\t39234\tContig0\tmaker\tgene\t12497\t93068\t.\t+\t.\tID=OLUR_00000039;Name=OLUR_00000039;Alias=maker-Contig0-snap-gene-0.8;Note=Similar to WDR87: WD repeat-containing protein 87 (Homo sapiens OX%3D9606);Dbxref=Coils:Coil,Gene3D:G3DSA:1.25.10.10,Gene3D:G3DSA:2.130.10.10,InterPro:IPR001680,InterPro:IPR011989,InterPro:IPR015943,InterPro:IPR016024,InterPro:IPR017986,InterPro:IPR036322,MobiDBLite:mobidb-lite,Pfam:PF00400,ProSiteProfiles:PS50082,ProSiteProfiles:PS50294,SMART:SM00320,SUPERFAMILY:SSF48371,SUPERFAMILY:SSF50978;Ontology_term=GO:0005515;\r\n",
      "Contig0\t64179\t64179\tContig0\tmaker\tgene\t12497\t93068\t.\t+\t.\tID=OLUR_00000039;Name=OLUR_00000039;Alias=maker-Contig0-snap-gene-0.8;Note=Similar to WDR87: WD repeat-containing protein 87 (Homo sapiens OX%3D9606);Dbxref=Coils:Coil,Gene3D:G3DSA:1.25.10.10,Gene3D:G3DSA:2.130.10.10,InterPro:IPR001680,InterPro:IPR011989,InterPro:IPR015943,InterPro:IPR016024,InterPro:IPR017986,InterPro:IPR036322,MobiDBLite:mobidb-lite,Pfam:PF00400,ProSiteProfiles:PS50082,ProSiteProfiles:PS50294,SMART:SM00320,SUPERFAMILY:SSF48371,SUPERFAMILY:SSF50978;Ontology_term=GO:0005515;\r\n"
     ]
    }
   ],
   "source": [
    "! head -3 ../analyses/macau/AllLociMACAU-gene.bed"
   ]
  },
  {
   "cell_type": "markdown",
   "metadata": {},
   "source": [
    "Need to remove first few colums"
   ]
  },
  {
   "cell_type": "code",
   "execution_count": 123,
   "metadata": {
    "ExecuteTime": {
     "end_time": "2020-02-07T20:08:07.964940Z",
     "start_time": "2020-02-07T20:08:05.804450Z"
    }
   },
   "outputs": [],
   "source": [
    "!cat ../analyses/DMLs/DML-gene.bed \\\n",
    "| cut  -f1,8,9 | sort | uniq > ../analyses/DMLs/DML-gene-BED.bed"
   ]
  },
  {
   "cell_type": "code",
   "execution_count": 124,
   "metadata": {
    "ExecuteTime": {
     "end_time": "2020-02-07T20:08:08.797555Z",
     "start_time": "2020-02-07T20:08:08.658568Z"
    }
   },
   "outputs": [
    {
     "name": "stdout",
     "output_type": "stream",
     "text": [
      "Contig80637\t514\t3232\r\n",
      "Contig813\t17507\t38199\r\n",
      "Contig81635\t3755\t8945\r\n",
      "Contig82531\t1885\t3195\r\n",
      "Contig8584\t41\t2711\r\n",
      "Contig86155\t817\t2078\r\n",
      "Contig86885\t153\t1525\r\n",
      "Contig915\t1062\t20652\r\n",
      "Contig98338\t979\t6150\r\n",
      "Contig9939\t2619\t6685\r\n"
     ]
    }
   ],
   "source": [
    "!tail ../analyses/DMLs/DML-gene-BED.bed"
   ]
  },
  {
   "cell_type": "code",
   "execution_count": 125,
   "metadata": {
    "ExecuteTime": {
     "end_time": "2020-02-07T20:08:53.935358Z",
     "start_time": "2020-02-07T20:08:53.778462Z"
    }
   },
   "outputs": [],
   "source": [
    "!cat ../analyses/DMLs/AllLociDMLs-gene.bed \\\n",
    "| cut  -f1,8,9 | sort | uniq > ../analyses/DMLs/AllLociDMLs-gene-BED.bed"
   ]
  },
  {
   "cell_type": "code",
   "execution_count": 126,
   "metadata": {
    "ExecuteTime": {
     "end_time": "2020-02-07T20:09:05.643029Z",
     "start_time": "2020-02-07T20:09:05.498439Z"
    }
   },
   "outputs": [
    {
     "name": "stdout",
     "output_type": "stream",
     "text": [
      "Contig0\t12497\t93068\r\n",
      "Contig100\t50322\t57773\r\n",
      "Contig100188\t461\t2761\r\n",
      "Contig100199\t7411\t26019\r\n",
      "Contig100396\t517\t2908\r\n",
      "Contig100499\t2508\t2804\r\n",
      "Contig1006\t1730\t13078\r\n",
      "Contig100691\t1\t8249\r\n",
      "Contig10074\t4260\t6385\r\n",
      "Contig100743\t9752\t10849\r\n"
     ]
    }
   ],
   "source": [
    "!head ../analyses/DMLs/AllLociDMLs-gene-BED.bed"
   ]
  },
  {
   "cell_type": "code",
   "execution_count": 162,
   "metadata": {
    "ExecuteTime": {
     "end_time": "2020-02-07T20:09:49.168454Z",
     "start_time": "2020-02-07T20:09:49.000385Z"
    }
   },
   "outputs": [],
   "source": [
    "!cat ../analyses/macau/macau-gene.bed \\\n",
    "| cut  -f1,7,8 | sort | uniq > ../analyses/macau/macau-gene-BED.bed"
   ]
  },
  {
   "cell_type": "code",
   "execution_count": 163,
   "metadata": {},
   "outputs": [
    {
     "name": "stdout",
     "output_type": "stream",
     "text": [
      "      17 ../analyses/macau/macau-gene-BED.bed\n",
      "Contig109515\t2799\t9518\n",
      "Contig120547\t108\t3786\n",
      "Contig138707\t928\t6769\n",
      "Contig141213\t3211\t8837\n",
      "Contig19176\t1395\t16297\n",
      "Contig19628\t130\t18960\n",
      "Contig19797\t23851\t35067\n",
      "Contig19797\t24620\t34147\n",
      "Contig23208\t17482\t48918\n",
      "Contig26349\t972\t9673\n",
      "Contig29494\t1705\t4678\n",
      "Contig34681\t13\t16482\n",
      "Contig38771\t228\t2364\n",
      "Contig46069\t2674\t24842\n",
      "Contig53865\t3795\t4166\n",
      "Contig67368\t4197\t5153\n",
      "Contig87529\t530\t5612\n"
     ]
    }
   ],
   "source": [
    "! wc -l ../analyses/macau/macau-gene-BED.bed\n",
    "! cat ../analyses/macau/macau-gene-BED.bed"
   ]
  },
  {
   "cell_type": "code",
   "execution_count": 129,
   "metadata": {},
   "outputs": [],
   "source": [
    "!cat ../analyses/macau/AllLociMACAU-gene.bed \\\n",
    "| cut  -f1,7,8 | sort | uniq > ../analyses/macau/AllLociMACAU-gene-BED.bed"
   ]
  },
  {
   "cell_type": "code",
   "execution_count": 130,
   "metadata": {},
   "outputs": [
    {
     "name": "stdout",
     "output_type": "stream",
     "text": [
      "Contig0\t12497\t93068\r\n",
      "Contig100\t50322\t57773\r\n",
      "Contig100188\t461\t2761\r\n",
      "Contig100199\t7411\t26019\r\n",
      "Contig100396\t517\t2908\r\n",
      "Contig100499\t2508\t2804\r\n",
      "Contig1006\t1730\t13078\r\n",
      "Contig100691\t1\t8249\r\n",
      "Contig10074\t4260\t6385\r\n",
      "Contig100743\t9752\t10849\r\n"
     ]
    }
   ],
   "source": [
    "!head ../analyses/macau/AllLociMACAU-gene-BED.bed"
   ]
  },
  {
   "cell_type": "code",
   "execution_count": 131,
   "metadata": {},
   "outputs": [
    {
     "name": "stdout",
     "output_type": "stream",
     "text": [
      "\r\n",
      "Tool:    bedtools getfasta (aka fastaFromBed)\r\n",
      "Version: v2.29.2\r\n",
      "Summary: Extract DNA sequences from a fasta file based on feature coordinates.\r\n",
      "\r\n",
      "Usage:   bedtools getfasta [OPTIONS] -fi <fasta> -bed <bed/gff/vcf>\r\n",
      "\r\n",
      "Options: \r\n",
      "\t-fi\t\tInput FASTA file\r\n",
      "\t-fo\t\tOutput file (opt., default is STDOUT\r\n",
      "\t-bed\t\tBED/GFF/VCF file of ranges to extract from -fi\r\n",
      "\t-name\t\tUse the name field and coordinates for the FASTA header\r\n",
      "\t-name+\t\t(deprecated) Use the name field and coordinates for the FASTA header\r\n",
      "\t-nameOnly\tUse the name field for the FASTA header\r\n",
      "\t-split\t\tGiven BED12 fmt., extract and concatenate the sequences\r\n",
      "\t\t\tfrom the BED \"blocks\" (e.g., exons)\r\n",
      "\t-tab\t\tWrite output in TAB delimited format.\r\n",
      "\t\t\t- Default is FASTA format.\r\n",
      "\t-s\t\tForce strandedness. If the feature occupies the antisense,\r\n",
      "\t\t\tstrand, the sequence will be reverse complemented.\r\n",
      "\t\t\t- By default, strand information is ignored.\r\n",
      "\t-fullHeader\tUse full fasta header.\r\n",
      "\t\t\t- By default, only the word before the first space or tab \r\n",
      "\t\t\tis used.\r\n",
      "\r\n"
     ]
    }
   ],
   "source": [
    "! ../resources/bedtools2/bin/fastaFromBed "
   ]
  },
  {
   "cell_type": "code",
   "execution_count": 166,
   "metadata": {
    "ExecuteTime": {
     "end_time": "2020-02-07T20:10:09.764972Z",
     "start_time": "2020-02-07T20:10:06.094133Z"
    }
   },
   "outputs": [],
   "source": [
    "! ../resources/bedtools2/bin/fastaFromBed \\\n",
    "-fi ../resources/Olurida_v081.fa \\\n",
    "-bed ../analyses/DMLs/DML-gene-BED.bed \\\n",
    "> ../analyses/DMLs/Olurida_v081.DML-gene.fa"
   ]
  },
  {
   "cell_type": "code",
   "execution_count": 167,
   "metadata": {},
   "outputs": [
    {
     "name": "stdout",
     "output_type": "stream",
     "text": [
      "193\r\n"
     ]
    }
   ],
   "source": [
    "!grep \">\" -c ../analyses/DMLs/Olurida_v081.DML-gene.fa"
   ]
  },
  {
   "cell_type": "code",
   "execution_count": 168,
   "metadata": {
    "ExecuteTime": {
     "end_time": "2020-02-07T20:10:35.541102Z",
     "start_time": "2020-02-07T20:10:34.944769Z"
    }
   },
   "outputs": [],
   "source": [
    "! ../resources/bedtools2/bin/fastaFromBed \\\n",
    "-fi ../resources/Olurida_v081.fa \\\n",
    "-bed ../analyses/DMLs/AllLociDMLs-gene-BED.bed \\\n",
    "> ../analyses/DMLs/Olurida_v081.AllLociDMLs-gene.fa"
   ]
  },
  {
   "cell_type": "code",
   "execution_count": 169,
   "metadata": {
    "ExecuteTime": {
     "end_time": "2020-02-08T16:29:26.195188Z",
     "start_time": "2020-02-08T16:29:26.011787Z"
    }
   },
   "outputs": [
    {
     "name": "stdout",
     "output_type": "stream",
     "text": [
      "3304\r\n"
     ]
    }
   ],
   "source": [
    "!grep \">\" -c  ../analyses/DMLs/Olurida_v081.AllLociDMLs-gene.fa"
   ]
  },
  {
   "cell_type": "code",
   "execution_count": 171,
   "metadata": {
    "ExecuteTime": {
     "end_time": "2020-02-07T20:10:49.847772Z",
     "start_time": "2020-02-07T20:10:49.245700Z"
    }
   },
   "outputs": [],
   "source": [
    "! ../resources/bedtools2/bin/fastaFromBed \\\n",
    "-fi ../resources/Olurida_v081.fa \\\n",
    "-bed ../analyses/macau/macau-gene-BED.bed \\\n",
    "> ../analyses/macau/Olurida_v081.macau-gene.fa"
   ]
  },
  {
   "cell_type": "code",
   "execution_count": 172,
   "metadata": {},
   "outputs": [
    {
     "name": "stdout",
     "output_type": "stream",
     "text": [
      "17\r\n"
     ]
    }
   ],
   "source": [
    "!grep \">\" -c  ../analyses/macau/Olurida_v081.macau-gene.fa"
   ]
  },
  {
   "cell_type": "code",
   "execution_count": 173,
   "metadata": {},
   "outputs": [],
   "source": [
    "! ../resources/bedtools2/bin/fastaFromBed \\\n",
    "-fi ../resources/Olurida_v081.fa \\\n",
    "-bed ../analyses/macau/AllLociMACAU-gene-BED.bed \\\n",
    "> ../analyses/macau/Olurida_v081.AllLociMACAU-gene.fa"
   ]
  },
  {
   "cell_type": "code",
   "execution_count": 174,
   "metadata": {},
   "outputs": [
    {
     "name": "stdout",
     "output_type": "stream",
     "text": [
      "3270\r\n"
     ]
    }
   ],
   "source": [
    "!grep \">\" -c  ../analyses/macau/Olurida_v081.AllLociMACAU-gene.fa"
   ]
  },
  {
   "cell_type": "markdown",
   "metadata": {},
   "source": [
    "### Blast gene fasta files for DMLs, MACAU and their background files against uniprot database.\n",
    "\n",
    "Uniprot/Swiss-prot reviewed database downloaded on 02/08/2020 from https://www.uniprot.org/downloads"
   ]
  },
  {
   "cell_type": "code",
   "execution_count": 24,
   "metadata": {},
   "outputs": [],
   "source": [
    "bldir = \"../resources/ncbi-blast-2.7.1+/bin/\""
   ]
  },
  {
   "cell_type": "code",
   "execution_count": 25,
   "metadata": {},
   "outputs": [
    {
     "name": "stdout",
     "output_type": "stream",
     "text": [
      "USAGE\r\n",
      "  blastx [-h] [-help] [-import_search_strategy filename]\r\n",
      "    [-export_search_strategy filename] [-task task_name] [-db database_name]\r\n",
      "    [-dbsize num_letters] [-gilist filename] [-seqidlist filename]\r\n",
      "    [-negative_gilist filename] [-negative_seqidlist filename]\r\n",
      "    [-entrez_query entrez_query] [-db_soft_mask filtering_algorithm]\r\n",
      "    [-db_hard_mask filtering_algorithm] [-subject subject_input_file]\r\n",
      "    [-subject_loc range] [-query input_file] [-out output_file]\r\n",
      "    [-evalue evalue] [-word_size int_value] [-gapopen open_penalty]\r\n",
      "    [-gapextend extend_penalty] [-qcov_hsp_perc float_value]\r\n",
      "    [-max_hsps int_value] [-xdrop_ungap float_value] [-xdrop_gap float_value]\r\n",
      "    [-xdrop_gap_final float_value] [-searchsp int_value]\r\n",
      "    [-sum_stats bool_value] [-max_intron_length length] [-seg SEG_options]\r\n",
      "    [-soft_masking soft_masking] [-matrix matrix_name]\r\n",
      "    [-threshold float_value] [-culling_limit int_value]\r\n",
      "    [-best_hit_overhang float_value] [-best_hit_score_edge float_value]\r\n",
      "    [-window_size int_value] [-ungapped] [-lcase_masking] [-query_loc range]\r\n",
      "    [-strand strand] [-parse_deflines] [-query_gencode int_value]\r\n",
      "    [-outfmt format] [-show_gis] [-num_descriptions int_value]\r\n",
      "    [-num_alignments int_value] [-line_length line_length] [-html]\r\n",
      "    [-max_target_seqs num_sequences] [-num_threads int_value] [-remote]\r\n",
      "    [-comp_based_stats compo] [-use_sw_tback] [-version]\r\n",
      "\r\n",
      "DESCRIPTION\r\n",
      "   Translated Query-Protein Subject BLAST 2.7.1+\r\n",
      "\r\n",
      "OPTIONAL ARGUMENTS\r\n",
      " -h\r\n",
      "   Print USAGE and DESCRIPTION;  ignore all other parameters\r\n",
      " -help\r\n",
      "   Print USAGE, DESCRIPTION and ARGUMENTS; ignore all other parameters\r\n",
      " -version\r\n",
      "   Print version number;  ignore other arguments\r\n",
      "\r\n",
      " *** Input query options\r\n",
      " -query <File_In>\r\n",
      "   Input file name\r\n",
      "   Default = `-'\r\n",
      " -query_loc <String>\r\n",
      "   Location on the query sequence in 1-based offsets (Format: start-stop)\r\n",
      " -strand <String, `both', `minus', `plus'>\r\n",
      "   Query strand(s) to search against database/subject\r\n",
      "   Default = `both'\r\n",
      " -query_gencode <Integer, values between: 1-6, 9-16, 21-25>\r\n",
      "   Genetic code to use to translate query (see user manual for details)\r\n",
      "   Default = `1'\r\n",
      "\r\n",
      " *** General search options\r\n",
      " -task <String, Permissible values: 'blastx' 'blastx-fast' >\r\n",
      "   Task to execute\r\n",
      "   Default = `blastx'\r\n",
      " -db <String>\r\n",
      "   BLAST database name\r\n",
      "    * Incompatible with:  subject, subject_loc\r\n",
      " -out <File_Out>\r\n",
      "   Output file name\r\n",
      "   Default = `-'\r\n",
      " -evalue <Real>\r\n",
      "   Expectation value (E) threshold for saving hits \r\n",
      "   Default = `10'\r\n",
      " -word_size <Integer, >=2>\r\n",
      "   Word size for wordfinder algorithm\r\n",
      " -gapopen <Integer>\r\n",
      "   Cost to open a gap\r\n",
      " -gapextend <Integer>\r\n",
      "   Cost to extend a gap\r\n",
      " -max_intron_length <Integer, >=0>\r\n",
      "   Length of the largest intron allowed in a translated nucleotide sequence\r\n",
      "   when linking multiple distinct alignments\r\n",
      "   Default = `0'\r\n",
      " -matrix <String>\r\n",
      "   Scoring matrix name (normally BLOSUM62)\r\n",
      " -threshold <Real, >=0>\r\n",
      "   Minimum word score such that the word is added to the BLAST lookup table\r\n",
      " -comp_based_stats <String>\r\n",
      "   Use composition-based statistics:\r\n",
      "       D or d: default (equivalent to 2 )\r\n",
      "       0 or F or f: No composition-based statistics\r\n",
      "       1: Composition-based statistics as in NAR 29:2994-3005, 2001\r\n",
      "       2 or T or t : Composition-based score adjustment as in Bioinformatics\r\n",
      "   21:902-911,\r\n",
      "       2005, conditioned on sequence properties\r\n",
      "       3: Composition-based score adjustment as in Bioinformatics 21:902-911,\r\n",
      "       2005, unconditionally\r\n",
      "   Default = `2'\r\n",
      "\r\n",
      " *** BLAST-2-Sequences options\r\n",
      " -subject <File_In>\r\n",
      "   Subject sequence(s) to search\r\n",
      "    * Incompatible with:  db, gilist, seqidlist, negative_gilist,\r\n",
      "   negative_seqidlist, db_soft_mask, db_hard_mask\r\n",
      " -subject_loc <String>\r\n",
      "   Location on the subject sequence in 1-based offsets (Format: start-stop)\r\n",
      "    * Incompatible with:  db, gilist, seqidlist, negative_gilist,\r\n",
      "   negative_seqidlist, db_soft_mask, db_hard_mask, remote\r\n",
      "\r\n",
      " *** Formatting options\r\n",
      " -outfmt <String>\r\n",
      "   alignment view options:\r\n",
      "     0 = Pairwise,\r\n",
      "     1 = Query-anchored showing identities,\r\n",
      "     2 = Query-anchored no identities,\r\n",
      "     3 = Flat query-anchored showing identities,\r\n",
      "     4 = Flat query-anchored no identities,\r\n",
      "     5 = BLAST XML,\r\n",
      "     6 = Tabular,\r\n",
      "     7 = Tabular with comment lines,\r\n",
      "     8 = Seqalign (Text ASN.1),\r\n",
      "     9 = Seqalign (Binary ASN.1),\r\n",
      "    10 = Comma-separated values,\r\n",
      "    11 = BLAST archive (ASN.1),\r\n",
      "    12 = Seqalign (JSON),\r\n",
      "    13 = Multiple-file BLAST JSON,\r\n",
      "    14 = Multiple-file BLAST XML2,\r\n",
      "    15 = Single-file BLAST JSON,\r\n",
      "    16 = Single-file BLAST XML2,\r\n",
      "    18 = Organism Report\r\n",
      "   \r\n",
      "   Options 6, 7 and 10 can be additionally configured to produce\r\n",
      "   a custom format specified by space delimited format specifiers.\r\n",
      "   The supported format specifiers are:\r\n",
      "   \t    qseqid means Query Seq-id\r\n",
      "   \t       qgi means Query GI\r\n",
      "   \t      qacc means Query accesion\r\n",
      "   \t   qaccver means Query accesion.version\r\n",
      "   \t      qlen means Query sequence length\r\n",
      "   \t    sseqid means Subject Seq-id\r\n",
      "   \t sallseqid means All subject Seq-id(s), separated by a ';'\r\n",
      "   \t       sgi means Subject GI\r\n",
      "   \t    sallgi means All subject GIs\r\n",
      "   \t      sacc means Subject accession\r\n",
      "   \t   saccver means Subject accession.version\r\n",
      "   \t   sallacc means All subject accessions\r\n",
      "   \t      slen means Subject sequence length\r\n",
      "   \t    qstart means Start of alignment in query\r\n",
      "   \t      qend means End of alignment in query\r\n",
      "   \t    sstart means Start of alignment in subject\r\n",
      "   \t      send means End of alignment in subject\r\n",
      "   \t      qseq means Aligned part of query sequence\r\n",
      "   \t      sseq means Aligned part of subject sequence\r\n",
      "   \t    evalue means Expect value\r\n",
      "   \t  bitscore means Bit score\r\n",
      "   \t     score means Raw score\r\n",
      "   \t    length means Alignment length\r\n",
      "   \t    pident means Percentage of identical matches\r\n",
      "   \t    nident means Number of identical matches\r\n",
      "   \t  mismatch means Number of mismatches\r\n",
      "   \t  positive means Number of positive-scoring matches\r\n",
      "   \t   gapopen means Number of gap openings\r\n",
      "   \t      gaps means Total number of gaps\r\n",
      "   \t      ppos means Percentage of positive-scoring matches\r\n",
      "   \t    frames means Query and subject frames separated by a '/'\r\n",
      "   \t    qframe means Query frame\r\n",
      "   \t    sframe means Subject frame\r\n",
      "   \t      btop means Blast traceback operations (BTOP)\r\n",
      "   \t    staxid means Subject Taxonomy ID\r\n",
      "   \t  ssciname means Subject Scientific Name\r\n",
      "   \t  scomname means Subject Common Name\r\n",
      "   \tsblastname means Subject Blast Name\r\n",
      "   \t sskingdom means Subject Super Kingdom\r\n",
      "   \t   staxids means unique Subject Taxonomy ID(s), separated by a ';'\r\n",
      "   \t\t\t (in numerical order)\r\n",
      "   \t sscinames means unique Subject Scientific Name(s), separated by a ';'\r\n",
      "   \t scomnames means unique Subject Common Name(s), separated by a ';'\r\n",
      "   \tsblastnames means unique Subject Blast Name(s), separated by a ';'\r\n",
      "   \t\t\t (in alphabetical order)\r\n",
      "   \tsskingdoms means unique Subject Super Kingdom(s), separated by a ';'\r\n",
      "   \t\t\t (in alphabetical order) \r\n",
      "   \t    stitle means Subject Title\r\n",
      "   \tsalltitles means All Subject Title(s), separated by a '<>'\r\n",
      "   \t   sstrand means Subject Strand\r\n",
      "   \t     qcovs means Query Coverage Per Subject\r\n",
      "   \t   qcovhsp means Query Coverage Per HSP\r\n",
      "   \t    qcovus means Query Coverage Per Unique Subject (blastn only)\r\n",
      "   When not provided, the default value is:\r\n",
      "   'qaccver saccver pident length mismatch gapopen qstart qend sstart send\r\n",
      "   evalue bitscore', which is equivalent to the keyword 'std'\r\n",
      "   Default = `0'\r\n",
      " -show_gis\r\n",
      "   Show NCBI GIs in deflines?\r\n",
      " -num_descriptions <Integer, >=0>\r\n",
      "   Number of database sequences to show one-line descriptions for\r\n",
      "   Not applicable for outfmt > 4\r\n",
      "   Default = `500'\r\n",
      "    * Incompatible with:  max_target_seqs\r\n",
      " -num_alignments <Integer, >=0>\r\n",
      "   Number of database sequences to show alignments for\r\n",
      "   Default = `250'\r\n",
      "    * Incompatible with:  max_target_seqs\r\n",
      " -line_length <Integer, >=1>\r\n",
      "   Line length for formatting alignments\r\n",
      "   Not applicable for outfmt > 4\r\n",
      "   Default = `60'\r\n",
      " -html\r\n",
      "   Produce HTML output?\r\n",
      "\r\n",
      " *** Query filtering options\r\n",
      " -seg <String>\r\n",
      "   Filter query sequence with SEG (Format: 'yes', 'window locut hicut', or\r\n",
      "   'no' to disable)\r\n",
      "   Default = `12 2.2 2.5'\r\n",
      " -soft_masking <Boolean>\r\n",
      "   Apply filtering locations as soft masks\r\n",
      "   Default = `false'\r\n",
      " -lcase_masking\r\n",
      "   Use lower case filtering in query and subject sequence(s)?\r\n",
      "\r\n",
      " *** Restrict search or results\r\n",
      " -gilist <String>\r\n",
      "   Restrict search of database to list of GI's\r\n",
      "    * Incompatible with:  negative_gilist, seqidlist, negative_seqidlist,\r\n",
      "   remote, subject, subject_loc\r\n",
      " -seqidlist <String>\r\n",
      "   Restrict search of database to list of SeqId's\r\n",
      "    * Incompatible with:  gilist, negative_gilist, negative_seqidlist, remote,\r\n",
      "   subject, subject_loc\r\n",
      " -negative_gilist <String>\r\n",
      "   Restrict search of database to everything except the listed GIs\r\n",
      "    * Incompatible with:  gilist, seqidlist, remote, subject, subject_loc\r\n",
      " -negative_seqidlist <String>\r\n",
      "   Restrict search of database to everything except the listed SeqIDs\r\n",
      "    * Incompatible with:  gilist, seqidlist, remote, subject, subject_loc\r\n",
      " -entrez_query <String>\r\n",
      "   Restrict search with the given Entrez query\r\n",
      "    * Requires:  remote\r\n",
      " -db_soft_mask <String>\r\n",
      "   Filtering algorithm ID to apply to the BLAST database as soft masking\r\n",
      "    * Incompatible with:  db_hard_mask, subject, subject_loc\r\n",
      " -db_hard_mask <String>\r\n",
      "   Filtering algorithm ID to apply to the BLAST database as hard masking\r\n",
      "    * Incompatible with:  db_soft_mask, subject, subject_loc\r\n",
      " -qcov_hsp_perc <Real, 0..100>\r\n",
      "   Percent query coverage per hsp\r\n",
      " -max_hsps <Integer, >=1>\r\n",
      "   Set maximum number of HSPs per subject sequence to save for each query\r\n",
      " -culling_limit <Integer, >=0>\r\n",
      "   If the query range of a hit is enveloped by that of at least this many\r\n",
      "   higher-scoring hits, delete the hit\r\n",
      "    * Incompatible with:  best_hit_overhang, best_hit_score_edge\r\n",
      " -best_hit_overhang <Real, (>0 and <0.5)>\r\n",
      "   Best Hit algorithm overhang value (recommended value: 0.1)\r\n",
      "    * Incompatible with:  culling_limit\r\n",
      " -best_hit_score_edge <Real, (>0 and <0.5)>\r\n",
      "   Best Hit algorithm score edge value (recommended value: 0.1)\r\n",
      "    * Incompatible with:  culling_limit\r\n",
      " -max_target_seqs <Integer, >=1>\r\n",
      "   Maximum number of aligned sequences to keep \r\n",
      "   Not applicable for outfmt <= 4\r\n",
      "   Default = `500'\r\n",
      "    * Incompatible with:  num_descriptions, num_alignments\r\n",
      "\r\n",
      " *** Statistical options\r\n",
      " -dbsize <Int8>\r\n",
      "   Effective length of the database \r\n",
      " -searchsp <Int8, >=0>\r\n",
      "   Effective length of the search space\r\n",
      " -sum_stats <Boolean>\r\n",
      "   Use sum statistics\r\n",
      "\r\n",
      " *** Search strategy options\r\n",
      " -import_search_strategy <File_In>\r\n",
      "   Search strategy to use\r\n",
      "    * Incompatible with:  export_search_strategy\r\n",
      " -export_search_strategy <File_Out>\r\n",
      "   File name to record the search strategy used\r\n",
      "    * Incompatible with:  import_search_strategy\r\n",
      "\r\n",
      " *** Extension options\r\n",
      " -xdrop_ungap <Real>\r\n",
      "   X-dropoff value (in bits) for ungapped extensions\r\n",
      " -xdrop_gap <Real>\r\n",
      "   X-dropoff value (in bits) for preliminary gapped extensions\r\n",
      " -xdrop_gap_final <Real>\r\n",
      "   X-dropoff value (in bits) for final gapped alignment\r\n",
      " -window_size <Integer, >=0>\r\n",
      "   Multiple hits window size, use 0 to specify 1-hit algorithm\r\n",
      " -ungapped\r\n",
      "   Perform ungapped alignment only?\r\n",
      "\r\n",
      " *** Miscellaneous options\r\n",
      " -parse_deflines\r\n",
      "   Should the query and subject defline(s) be parsed?\r\n",
      " -num_threads <Integer, (>=1 and =<8)>\r\n",
      "   Number of threads (CPUs) to use in the BLAST search\r\n",
      "   Default = `1'\r\n",
      "    * Incompatible with:  remote\r\n",
      " -remote\r\n",
      "   Execute search remotely?\r\n",
      "    * Incompatible with:  gilist, seqidlist, negative_gilist,\r\n",
      "   negative_seqidlist, subject_loc, num_threads\r\n",
      " -use_sw_tback\r\n",
      "   Compute locally optimal Smith-Waterman alignments?\r\n",
      "\r\n"
     ]
    }
   ],
   "source": [
    "! {bldir}blastx -help"
   ]
  },
  {
   "cell_type": "code",
   "execution_count": 28,
   "metadata": {},
   "outputs": [
    {
     "name": "stdout",
     "output_type": "stream",
     "text": [
      "\n",
      "\n",
      "Building a new DB, current time: 03/25/2020 15:55:47\n",
      "New DB name:   /Users/laura/Documents/roberts-lab/paper-oly-mbdbs-gen/resources/uniprot_sprot_20200208.fasta\n",
      "New DB title:  ../resources/uniprot_sprot.fasta\n",
      "Sequence type: Protein\n",
      "Keep MBits: T\n",
      "Maximum file size: 1000000000B\n",
      "Adding sequences from FASTA; added 561568 sequences in 15.1688 seconds.\n"
     ]
    }
   ],
   "source": [
    "! {bldir}makeblastdb \\\n",
    "-in ../resources/uniprot_sprot.fasta \\\n",
    "-dbtype prot \\\n",
    "-out ../resources/uniprot_sprot_20200208.fasta"
   ]
  },
  {
   "cell_type": "code",
   "execution_count": 140,
   "metadata": {
    "ExecuteTime": {
     "end_time": "2020-02-07T20:41:03.433757Z",
     "start_time": "2020-02-07T20:16:06.529709Z"
    }
   },
   "outputs": [],
   "source": [
    "! {bldir}blastx \\\n",
    "-query ../analyses/DMLs/Olurida_v081.DML-gene.fa \\\n",
    "-db ../resources/uniprot_sprot_20200208.fasta \\\n",
    "-num_threads 4 \\\n",
    "-evalue 1E-5 \\\n",
    "-outfmt 6 \\\n",
    "-max_target_seqs 1 \\\n",
    "-out ../analyses/DMLs/DML-gene_blastx_sp.tab"
   ]
  },
  {
   "cell_type": "code",
   "execution_count": 101,
   "metadata": {
    "ExecuteTime": {
     "end_time": "2020-02-07T22:22:54.690053Z",
     "start_time": "2020-02-07T20:41:03.440288Z"
    }
   },
   "outputs": [],
   "source": [
    "! {bldir}blastx \\\n",
    "-query ../analyses/DMLs/Olurida_v081.AllLociDMLs-gene.fa \\\n",
    "-db ../resources/uniprot_sprot_20200208.fasta \\\n",
    "-num_threads 4 \\\n",
    "-evalue 1E-5 \\\n",
    "-outfmt 6 \\\n",
    "-max_target_seqs 1 \\\n",
    "-out ../analyses/DMLs/AllLociDMLs-gene_blastx_sp.tab"
   ]
  },
  {
   "cell_type": "code",
   "execution_count": 175,
   "metadata": {
    "ExecuteTime": {
     "end_time": "2020-02-07T22:34:59.350996Z",
     "start_time": "2020-02-07T22:22:54.698966Z"
    }
   },
   "outputs": [],
   "source": [
    "! {bldir}blastx \\\n",
    "-query ../analyses/macau/Olurida_v081.macau-gene.fa \\\n",
    "-db ../resources/uniprot_sprot_20200208.fasta \\\n",
    "-num_threads 4 \\\n",
    "-evalue 1E-5 \\\n",
    "-outfmt 6 \\\n",
    "-max_target_seqs 1 \\\n",
    "-out ../analyses/macau/macau-gene_blastx_sp.tab"
   ]
  },
  {
   "cell_type": "code",
   "execution_count": 33,
   "metadata": {},
   "outputs": [],
   "source": [
    "! {bldir}blastx \\\n",
    "-query ../analyses/macau/Olurida_v081.AllLociMACAU-gene.fa \\\n",
    "-db ../resources/uniprot_sprot_20200208.fasta \\\n",
    "-num_threads 4 \\\n",
    "-evalue 1E-5 \\\n",
    "-outfmt 6 \\\n",
    "-max_target_seqs 1 \\\n",
    "-out ../analyses/macau/AllLociMACAU-gene_blastx_sp.tab"
   ]
  },
  {
   "cell_type": "markdown",
   "metadata": {},
   "source": [
    "# blast outputs "
   ]
  },
  {
   "cell_type": "code",
   "execution_count": 178,
   "metadata": {
    "ExecuteTime": {
     "end_time": "2020-02-08T16:12:18.176277Z",
     "start_time": "2020-02-08T16:12:18.044433Z"
    }
   },
   "outputs": [
    {
     "name": "stdout",
     "output_type": "stream",
     "text": [
      "     987 ../analyses/DMLs/DML-gene_blastx_sp.tab\r\n"
     ]
    }
   ],
   "source": [
    "! wc -l ../analyses/DMLs/DML-gene_blastx_sp.tab"
   ]
  },
  {
   "cell_type": "code",
   "execution_count": 179,
   "metadata": {
    "ExecuteTime": {
     "end_time": "2020-02-08T16:12:32.467802Z",
     "start_time": "2020-02-08T16:12:32.318194Z"
    }
   },
   "outputs": [
    {
     "name": "stdout",
     "output_type": "stream",
     "text": [
      "    9157 ../analyses/DMLs/AllLociDMLs-gene_blastx_sp.tab\r\n"
     ]
    }
   ],
   "source": [
    "! wc -l ../analyses/DMLs/AllLociDMLs-gene_blastx_sp.tab"
   ]
  },
  {
   "cell_type": "code",
   "execution_count": 180,
   "metadata": {},
   "outputs": [
    {
     "name": "stdout",
     "output_type": "stream",
     "text": [
      "      71 ../analyses/macau/macau-gene_blastx_sp.tab\r\n"
     ]
    }
   ],
   "source": [
    "! wc -l ../analyses/macau/macau-gene_blastx_sp.tab"
   ]
  },
  {
   "cell_type": "code",
   "execution_count": 181,
   "metadata": {},
   "outputs": [
    {
     "name": "stdout",
     "output_type": "stream",
     "text": [
      "    9104 ../analyses/macau/AllLociMACAU-gene_blastx_sp.tab\r\n"
     ]
    }
   ],
   "source": [
    "! wc -l ../analyses/macau/AllLociMACAU-gene_blastx_sp.tab"
   ]
  },
  {
   "cell_type": "markdown",
   "metadata": {},
   "source": [
    "# pull uniprot accession - copy to clipboard, paste in [DAVID online tool](https://david.ncifcrf.gov/tools.jsp)"
   ]
  },
  {
   "cell_type": "markdown",
   "metadata": {},
   "source": [
    "## DMLs"
   ]
  },
  {
   "cell_type": "code",
   "execution_count": 155,
   "metadata": {},
   "outputs": [],
   "source": [
    "!tr '|' '\\t' < ../analyses/DMLs/DML-gene_blastx_sp.tab \\\n",
    "| cut -f3 | pbcopy"
   ]
  },
  {
   "cell_type": "code",
   "execution_count": 156,
   "metadata": {
    "ExecuteTime": {
     "end_time": "2020-02-08T16:20:10.660911Z",
     "start_time": "2020-02-08T16:20:10.442172Z"
    }
   },
   "outputs": [],
   "source": [
    "!tr '|' '\\t' < ../analyses/DMLs/AllLociDMLs-gene_blastx_sp.tab \\\n",
    "| cut -f3 | pbcopy"
   ]
  },
  {
   "cell_type": "markdown",
   "metadata": {},
   "source": [
    "## DMLs - Enriched Biological Processes\n",
    "\n",
    "![DMLs_DAVID-Enriched-Biological-Processes.png](../analyses/DMLs/DMLs_DAVID-Enriched-Biological-Processes.png)"
   ]
  },
  {
   "cell_type": "code",
   "execution_count": 182,
   "metadata": {
    "ExecuteTime": {
     "end_time": "2020-02-08T16:32:45.404855Z",
     "start_time": "2020-02-08T16:32:44.785028Z"
    },
    "scrolled": true
   },
   "outputs": [
    {
     "name": "stdout",
     "output_type": "stream",
     "text": [
      "  % Total    % Received % Xferd  Average Speed   Time    Time     Time  Current\n",
      "                                 Dload  Upload   Total   Spent    Left  Speed\n",
      "100  1510  100  1510    0     0   3408      0 --:--:-- --:--:-- --:--:--  3408\n"
     ]
    }
   ],
   "source": [
    "!curl -o ../analyses/DMLs/DML_DAVID_BP_chart.txt https://david.ncifcrf.gov/data/download/chart_9CC555416A961585356088237.txt"
   ]
  },
  {
   "cell_type": "markdown",
   "metadata": {},
   "source": [
    "## DMLs - Enriched Molecular Function\n",
    "\n",
    "![DMLs_DAVID-Enriched-Molecular-Function.png](../analyses/DMLs/DMLs_DAVID-Enriched-Molecular-Function.png)"
   ]
  },
  {
   "cell_type": "code",
   "execution_count": 183,
   "metadata": {
    "ExecuteTime": {
     "end_time": "2020-02-08T16:32:45.404855Z",
     "start_time": "2020-02-08T16:32:44.785028Z"
    },
    "scrolled": true
   },
   "outputs": [
    {
     "name": "stdout",
     "output_type": "stream",
     "text": [
      "  % Total    % Received % Xferd  Average Speed   Time    Time     Time  Current\n",
      "                                 Dload  Upload   Total   Spent    Left  Speed\n",
      "100  2556  100  2556    0     0   2884      0 --:--:-- --:--:-- --:--:--  2881\n"
     ]
    }
   ],
   "source": [
    "!curl -o ../analyses/DMLs/DML_DAVID_MF_chart.txt https://david.ncifcrf.gov/data/download/chart_6D1954493F8A1585357903553.txt"
   ]
  },
  {
   "cell_type": "markdown",
   "metadata": {},
   "source": [
    "## DMLs - Enriched Cellular Component\n",
    "\n",
    "![DMLs_DAVID-Enriched-Cellular-Component.png](../analyses/DMLs/DMLs_DAVID-Enriched-Cellular-Component.png)"
   ]
  },
  {
   "cell_type": "code",
   "execution_count": 184,
   "metadata": {},
   "outputs": [
    {
     "name": "stdout",
     "output_type": "stream",
     "text": [
      "  % Total    % Received % Xferd  Average Speed   Time    Time     Time  Current\n",
      "                                 Dload  Upload   Total   Spent    Left  Speed\n",
      "100   739  100   739    0     0    903      0 --:--:-- --:--:-- --:--:--   902\n"
     ]
    }
   ],
   "source": [
    "!curl -o ../analyses/DMLs/DML_DAVID_CC_chart.txt https://david.ncifcrf.gov/data/download/chart_6D1954493F8A1585357947811.txt"
   ]
  },
  {
   "cell_type": "markdown",
   "metadata": {},
   "source": [
    "## Size-associated loci (from MACAU) "
   ]
  },
  {
   "cell_type": "code",
   "execution_count": 185,
   "metadata": {
    "ExecuteTime": {
     "end_time": "2020-02-08T16:22:58.682383Z",
     "start_time": "2020-02-08T16:22:58.438785Z"
    }
   },
   "outputs": [],
   "source": [
    "!tr '|' '\\t' < ../analyses/macau/macau-gene_blastx_sp.tab \\\n",
    "| cut -f3 | pbcopy"
   ]
  },
  {
   "cell_type": "code",
   "execution_count": 186,
   "metadata": {
    "ExecuteTime": {
     "end_time": "2020-02-08T16:22:35.000368Z",
     "start_time": "2020-02-08T16:22:34.783705Z"
    }
   },
   "outputs": [],
   "source": [
    "!tr '|' '\\t' < ../analyses/macau/AllLociMACAU-gene_blastx_sp.tab \\\n",
    "| cut -f3 | pbcopy"
   ]
  },
  {
   "cell_type": "markdown",
   "metadata": {},
   "source": [
    "## Size-associated loci - Enriched Biological Processes\n",
    "\n",
    "![MACAU_DAVID-Enriched-Biological-Processes.png](../analyses/macau/MACAU_DAVID-Enriched-Biological-Processes.png)"
   ]
  },
  {
   "cell_type": "code",
   "execution_count": 187,
   "metadata": {
    "ExecuteTime": {
     "end_time": "2020-02-08T16:32:45.404855Z",
     "start_time": "2020-02-08T16:32:44.785028Z"
    },
    "scrolled": true
   },
   "outputs": [
    {
     "name": "stdout",
     "output_type": "stream",
     "text": [
      "  % Total    % Received % Xferd  Average Speed   Time    Time     Time  Current\n",
      "                                 Dload  Upload   Total   Spent    Left  Speed\n",
      "100   887  100   887    0     0   2015      0 --:--:-- --:--:-- --:--:--  2011\n"
     ]
    }
   ],
   "source": [
    "!curl -o ../analyses/macau/MACAU_DAVID_BP_chart.txt https://david.ncifcrf.gov/data/download/chart_6D1954493F8A1585358705036.txt"
   ]
  },
  {
   "cell_type": "markdown",
   "metadata": {},
   "source": [
    "## Size-associated loci - Enriched Molecular Function\n",
    "\n",
    "![MACAU_DAVID-Enriched-Molecular-Function.png](../analyses/macau/MACAU_DAVID-Enriched-Molecular-Function.png)"
   ]
  },
  {
   "cell_type": "code",
   "execution_count": 188,
   "metadata": {
    "ExecuteTime": {
     "end_time": "2020-02-08T16:32:45.404855Z",
     "start_time": "2020-02-08T16:32:44.785028Z"
    },
    "scrolled": true
   },
   "outputs": [
    {
     "name": "stdout",
     "output_type": "stream",
     "text": [
      "  % Total    % Received % Xferd  Average Speed   Time    Time     Time  Current\n",
      "                                 Dload  Upload   Total   Spent    Left  Speed\n",
      "100   662  100   662    0     0    457      0  0:00:01  0:00:01 --:--:--   456\n"
     ]
    }
   ],
   "source": [
    "!curl -o ../analyses/macau/MACAU_DAVID_MF_chart.txt https://david.ncifcrf.gov/data/download/chart_6D1954493F8A1585358852823.txt"
   ]
  },
  {
   "cell_type": "markdown",
   "metadata": {},
   "source": [
    "## Size-associated loci - Enriched Cellular Component\n",
    "\n",
    "![MACAU_DAVID-Enriched-Cellular-Components.png](../analyses/macau/MACAU_DAVID-Enriched-Cellular-Components.png)"
   ]
  },
  {
   "cell_type": "code",
   "execution_count": 189,
   "metadata": {},
   "outputs": [
    {
     "name": "stdout",
     "output_type": "stream",
     "text": [
      "  % Total    % Received % Xferd  Average Speed   Time    Time     Time  Current\n",
      "                                 Dload  Upload   Total   Spent    Left  Speed\n",
      "100   452  100   452    0     0   1048      0 --:--:-- --:--:-- --:--:--  1046\n"
     ]
    }
   ],
   "source": [
    "!curl -o ../analyses/macau/MACAU_DAVID_CC_chart.txt https://david.ncifcrf.gov/data/download/chart_6D1954493F8A1585358962217.txt"
   ]
  },
  {
   "cell_type": "markdown",
   "metadata": {},
   "source": [
    "## Enriched biological functions visualized in [REVIGO](http://revigo.irb.hr/)"
   ]
  },
  {
   "cell_type": "markdown",
   "metadata": {},
   "source": [
    "## Enriched BP in DMLs \n",
    "![DML_REVIGO_BP.png](../analyses/DMLs/DML_REVIGO_BP.png)"
   ]
  },
  {
   "cell_type": "markdown",
   "metadata": {},
   "source": [
    "## Enriched BP in size-associated loci (MACAU) \n",
    "\n",
    "![MACAU_REVIGO_BP.png](../analyses/macau/MACAU_REVIGO_BP.png)"
   ]
  }
 ],
 "metadata": {
  "kernelspec": {
   "display_name": "Python 3",
   "language": "python",
   "name": "python3"
  },
  "language_info": {
   "codemirror_mode": {
    "name": "ipython",
    "version": 3
   },
   "file_extension": ".py",
   "mimetype": "text/x-python",
   "name": "python",
   "nbconvert_exporter": "python",
   "pygments_lexer": "ipython3",
   "version": "3.7.0"
  }
 },
 "nbformat": 4,
 "nbformat_minor": 2
}
