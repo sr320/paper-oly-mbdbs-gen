{
 "cells": [
  {
   "cell_type": "markdown",
   "metadata": {
    "kernel": "SoS"
   },
   "source": [
    "# Make input files for GO_MWU"
   ]
  },
  {
   "cell_type": "code",
   "execution_count": 1,
   "metadata": {
    "kernel": "bash"
   },
   "outputs": [
    {
     "name": "stdout",
     "output_type": "stream",
     "text": [
      "/home/ksilliman/Projects/CommonG/Analysis/2bRAD/paper-oly-mbdbs-gen/analyses\n"
     ]
    }
   ],
   "source": [
    "pwd"
   ]
  },
  {
   "cell_type": "code",
   "execution_count": 61,
   "metadata": {
    "kernel": "R"
   },
   "outputs": [],
   "source": [
    "loci = read.csv(\"allLoci.GO.csv\",header = T)"
   ]
  },
  {
   "cell_type": "code",
   "execution_count": null,
   "metadata": {
    "kernel": "R"
   },
   "outputs": [],
   "source": []
  },
  {
   "cell_type": "code",
   "execution_count": 8,
   "metadata": {
    "kernel": "R"
   },
   "outputs": [
    {
     "data": {
      "text/html": [
       "<table>\n",
       "<thead><tr><th scope=col>contig.allLoci</th><th scope=col>start.allLoci</th><th scope=col>end.allLoci</th><th scope=col>feature</th><th scope=col>start.feat</th><th scope=col>end.feat</th><th scope=col>Note</th><th scope=col>GO_term</th></tr></thead>\n",
       "<tbody>\n",
       "\t<tr><td>Contig0                                                                         </td><td>38973                                                                           </td><td>38973                                                                           </td><td>mRNA                                                                            </td><td>12485                                                                           </td><td>93036                                                                           </td><td>Note=Similar to WDR87: WD repeat-containing protein 87 (Homo sapiens OX%3D9606);</td><td>GO:0005515                                                                      </td></tr>\n",
       "\t<tr><td>Contig0                                                                         </td><td>39226                                                                           </td><td>39226                                                                           </td><td>mRNA                                                                            </td><td>12485                                                                           </td><td>93036                                                                           </td><td>Note=Similar to WDR87: WD repeat-containing protein 87 (Homo sapiens OX%3D9606);</td><td>GO:0005515                                                                      </td></tr>\n",
       "\t<tr><td>Contig0                                                                         </td><td>39234                                                                           </td><td>39234                                                                           </td><td>mRNA                                                                            </td><td>12485                                                                           </td><td>93036                                                                           </td><td>Note=Similar to WDR87: WD repeat-containing protein 87 (Homo sapiens OX%3D9606);</td><td>GO:0005515                                                                      </td></tr>\n",
       "\t<tr><td>Contig0                                                                         </td><td>39252                                                                           </td><td>39252                                                                           </td><td>mRNA                                                                            </td><td>12485                                                                           </td><td>93036                                                                           </td><td>Note=Similar to WDR87: WD repeat-containing protein 87 (Homo sapiens OX%3D9606);</td><td>GO:0005515                                                                      </td></tr>\n",
       "\t<tr><td>Contig0                                                                         </td><td>41234                                                                           </td><td>41234                                                                           </td><td>mRNA                                                                            </td><td>12485                                                                           </td><td>93036                                                                           </td><td>Note=Similar to WDR87: WD repeat-containing protein 87 (Homo sapiens OX%3D9606);</td><td>GO:0005515                                                                      </td></tr>\n",
       "\t<tr><td>Contig0                                                                         </td><td>64124                                                                           </td><td>64124                                                                           </td><td>mRNA                                                                            </td><td>12485                                                                           </td><td>93036                                                                           </td><td>Note=Similar to WDR87: WD repeat-containing protein 87 (Homo sapiens OX%3D9606);</td><td>GO:0005515                                                                      </td></tr>\n",
       "</tbody>\n",
       "</table>\n"
      ],
      "text/latex": [
       "\\begin{tabular}{r|llllllll}\n",
       " contig.allLoci & start.allLoci & end.allLoci & feature & start.feat & end.feat & Note & GO\\_term\\\\\n",
       "\\hline\n",
       "\t Contig0                                                                            & 38973                                                                              & 38973                                                                              & mRNA                                                                               & 12485                                                                              & 93036                                                                              & Note=Similar to WDR87: WD repeat-containing protein 87 (Homo sapiens OX\\%3D9606); & GO:0005515                                                                        \\\\\n",
       "\t Contig0                                                                            & 39226                                                                              & 39226                                                                              & mRNA                                                                               & 12485                                                                              & 93036                                                                              & Note=Similar to WDR87: WD repeat-containing protein 87 (Homo sapiens OX\\%3D9606); & GO:0005515                                                                        \\\\\n",
       "\t Contig0                                                                            & 39234                                                                              & 39234                                                                              & mRNA                                                                               & 12485                                                                              & 93036                                                                              & Note=Similar to WDR87: WD repeat-containing protein 87 (Homo sapiens OX\\%3D9606); & GO:0005515                                                                        \\\\\n",
       "\t Contig0                                                                            & 39252                                                                              & 39252                                                                              & mRNA                                                                               & 12485                                                                              & 93036                                                                              & Note=Similar to WDR87: WD repeat-containing protein 87 (Homo sapiens OX\\%3D9606); & GO:0005515                                                                        \\\\\n",
       "\t Contig0                                                                            & 41234                                                                              & 41234                                                                              & mRNA                                                                               & 12485                                                                              & 93036                                                                              & Note=Similar to WDR87: WD repeat-containing protein 87 (Homo sapiens OX\\%3D9606); & GO:0005515                                                                        \\\\\n",
       "\t Contig0                                                                            & 64124                                                                              & 64124                                                                              & mRNA                                                                               & 12485                                                                              & 93036                                                                              & Note=Similar to WDR87: WD repeat-containing protein 87 (Homo sapiens OX\\%3D9606); & GO:0005515                                                                        \\\\\n",
       "\\end{tabular}\n"
      ],
      "text/markdown": [
       "\n",
       "| contig.allLoci | start.allLoci | end.allLoci | feature | start.feat | end.feat | Note | GO_term |\n",
       "|---|---|---|---|---|---|---|---|\n",
       "| Contig0                                                                          | 38973                                                                            | 38973                                                                            | mRNA                                                                             | 12485                                                                            | 93036                                                                            | Note=Similar to WDR87: WD repeat-containing protein 87 (Homo sapiens OX%3D9606); | GO:0005515                                                                       |\n",
       "| Contig0                                                                          | 39226                                                                            | 39226                                                                            | mRNA                                                                             | 12485                                                                            | 93036                                                                            | Note=Similar to WDR87: WD repeat-containing protein 87 (Homo sapiens OX%3D9606); | GO:0005515                                                                       |\n",
       "| Contig0                                                                          | 39234                                                                            | 39234                                                                            | mRNA                                                                             | 12485                                                                            | 93036                                                                            | Note=Similar to WDR87: WD repeat-containing protein 87 (Homo sapiens OX%3D9606); | GO:0005515                                                                       |\n",
       "| Contig0                                                                          | 39252                                                                            | 39252                                                                            | mRNA                                                                             | 12485                                                                            | 93036                                                                            | Note=Similar to WDR87: WD repeat-containing protein 87 (Homo sapiens OX%3D9606); | GO:0005515                                                                       |\n",
       "| Contig0                                                                          | 41234                                                                            | 41234                                                                            | mRNA                                                                             | 12485                                                                            | 93036                                                                            | Note=Similar to WDR87: WD repeat-containing protein 87 (Homo sapiens OX%3D9606); | GO:0005515                                                                       |\n",
       "| Contig0                                                                          | 64124                                                                            | 64124                                                                            | mRNA                                                                             | 12485                                                                            | 93036                                                                            | Note=Similar to WDR87: WD repeat-containing protein 87 (Homo sapiens OX%3D9606); | GO:0005515                                                                       |\n",
       "\n"
      ],
      "text/plain": [
       "  contig.allLoci start.allLoci end.allLoci feature start.feat end.feat\n",
       "1 Contig0        38973         38973       mRNA    12485      93036   \n",
       "2 Contig0        39226         39226       mRNA    12485      93036   \n",
       "3 Contig0        39234         39234       mRNA    12485      93036   \n",
       "4 Contig0        39252         39252       mRNA    12485      93036   \n",
       "5 Contig0        41234         41234       mRNA    12485      93036   \n",
       "6 Contig0        64124         64124       mRNA    12485      93036   \n",
       "  Note                                                                            \n",
       "1 Note=Similar to WDR87: WD repeat-containing protein 87 (Homo sapiens OX%3D9606);\n",
       "2 Note=Similar to WDR87: WD repeat-containing protein 87 (Homo sapiens OX%3D9606);\n",
       "3 Note=Similar to WDR87: WD repeat-containing protein 87 (Homo sapiens OX%3D9606);\n",
       "4 Note=Similar to WDR87: WD repeat-containing protein 87 (Homo sapiens OX%3D9606);\n",
       "5 Note=Similar to WDR87: WD repeat-containing protein 87 (Homo sapiens OX%3D9606);\n",
       "6 Note=Similar to WDR87: WD repeat-containing protein 87 (Homo sapiens OX%3D9606);\n",
       "  GO_term   \n",
       "1 GO:0005515\n",
       "2 GO:0005515\n",
       "3 GO:0005515\n",
       "4 GO:0005515\n",
       "5 GO:0005515\n",
       "6 GO:0005515"
      ]
     },
     "metadata": {},
     "output_type": "display_data"
    }
   ],
   "source": [
    "head(loci)"
   ]
  },
  {
   "cell_type": "code",
   "execution_count": 90,
   "metadata": {
    "kernel": "R"
   },
   "outputs": [
    {
     "data": {
      "text/html": [
       "<table>\n",
       "<thead><tr><th scope=col>ID</th><th scope=col>GO_term</th></tr></thead>\n",
       "<tbody>\n",
       "\t<tr><td>Contig0.38973</td><td>GO:0005515   </td></tr>\n",
       "\t<tr><td>Contig0.39226</td><td>GO:0005515   </td></tr>\n",
       "\t<tr><td>Contig0.39234</td><td>GO:0005515   </td></tr>\n",
       "\t<tr><td>Contig0.39252</td><td>GO:0005515   </td></tr>\n",
       "\t<tr><td>Contig0.41234</td><td>GO:0005515   </td></tr>\n",
       "\t<tr><td>Contig0.64124</td><td>GO:0005515   </td></tr>\n",
       "</tbody>\n",
       "</table>\n"
      ],
      "text/latex": [
       "\\begin{tabular}{r|ll}\n",
       " ID & GO\\_term\\\\\n",
       "\\hline\n",
       "\t Contig0.38973 & GO:0005515   \\\\\n",
       "\t Contig0.39226 & GO:0005515   \\\\\n",
       "\t Contig0.39234 & GO:0005515   \\\\\n",
       "\t Contig0.39252 & GO:0005515   \\\\\n",
       "\t Contig0.41234 & GO:0005515   \\\\\n",
       "\t Contig0.64124 & GO:0005515   \\\\\n",
       "\\end{tabular}\n"
      ],
      "text/markdown": [
       "\n",
       "| ID | GO_term |\n",
       "|---|---|\n",
       "| Contig0.38973 | GO:0005515    |\n",
       "| Contig0.39226 | GO:0005515    |\n",
       "| Contig0.39234 | GO:0005515    |\n",
       "| Contig0.39252 | GO:0005515    |\n",
       "| Contig0.41234 | GO:0005515    |\n",
       "| Contig0.64124 | GO:0005515    |\n",
       "\n"
      ],
      "text/plain": [
       "  ID            GO_term   \n",
       "1 Contig0.38973 GO:0005515\n",
       "2 Contig0.39226 GO:0005515\n",
       "3 Contig0.39234 GO:0005515\n",
       "4 Contig0.39252 GO:0005515\n",
       "5 Contig0.41234 GO:0005515\n",
       "6 Contig0.64124 GO:0005515"
      ]
     },
     "metadata": {},
     "output_type": "display_data"
    }
   ],
   "source": [
    "ids = paste(loci$contig.allLoci, loci$start.allLoci,sep=\".\")\n",
    "allGOs = as.data.frame(cbind(ids, as.character(loci$GO_term)))\n",
    "colnames(allGOs) <- c(\"ID\",\"GO_term\")\n",
    "allGOs <- aggregate(data=allGOs,GO_term~ID,function(y) paste(unique(y),collapse =\";\"))\n",
    "head(allGOs)"
   ]
  },
  {
   "cell_type": "code",
   "execution_count": 91,
   "metadata": {
    "kernel": "R"
   },
   "outputs": [
    {
     "data": {
      "text/html": [
       "<table>\n",
       "<thead><tr><th></th><th scope=col>ID</th><th scope=col>GO_term</th></tr></thead>\n",
       "<tbody>\n",
       "\t<tr><th scope=row>1635</th><td>Contig113403.874     </td><td>GO:0003676;GO:0003677</td></tr>\n",
       "</tbody>\n",
       "</table>\n"
      ],
      "text/latex": [
       "\\begin{tabular}{r|ll}\n",
       "  & ID & GO\\_term\\\\\n",
       "\\hline\n",
       "\t1635 & Contig113403.874      & GO:0003676;GO:0003677\\\\\n",
       "\\end{tabular}\n"
      ],
      "text/markdown": [
       "\n",
       "| <!--/--> | ID | GO_term |\n",
       "|---|---|---|\n",
       "| 1635 | Contig113403.874      | GO:0003676;GO:0003677 |\n",
       "\n"
      ],
      "text/plain": [
       "     ID               GO_term              \n",
       "1635 Contig113403.874 GO:0003676;GO:0003677"
      ]
     },
     "metadata": {},
     "output_type": "display_data"
    }
   ],
   "source": [
    "allGOs[which(allGOs$ID == \"Contig113403.874\"),]"
   ]
  },
  {
   "cell_type": "code",
   "execution_count": 99,
   "metadata": {
    "kernel": "R"
   },
   "outputs": [],
   "source": [
    "write.table(allGOs,\"allLoci.GO.mwu\",sep=\"\\t\",quote = F,row.names = F, col.names=F)"
   ]
  },
  {
   "cell_type": "markdown",
   "metadata": {
    "kernel": "R"
   },
   "source": [
    "## MACAU "
   ]
  },
  {
   "cell_type": "code",
   "execution_count": 92,
   "metadata": {
    "kernel": "R"
   },
   "outputs": [
    {
     "data": {
      "text/html": [
       "<ol class=list-inline>\n",
       "\t<li>'Contig30572.15642'</li>\n",
       "\t<li>'Contig41368.9107'</li>\n",
       "\t<li>'Contig113403.874'</li>\n",
       "\t<li>'Contig113403.874'</li>\n",
       "\t<li>'Contig16063.8073'</li>\n",
       "\t<li>'Contig16063.8073'</li>\n",
       "</ol>\n"
      ],
      "text/latex": [
       "\\begin{enumerate*}\n",
       "\\item 'Contig30572.15642'\n",
       "\\item 'Contig41368.9107'\n",
       "\\item 'Contig113403.874'\n",
       "\\item 'Contig113403.874'\n",
       "\\item 'Contig16063.8073'\n",
       "\\item 'Contig16063.8073'\n",
       "\\end{enumerate*}\n"
      ],
      "text/markdown": [
       "1. 'Contig30572.15642'\n",
       "2. 'Contig41368.9107'\n",
       "3. 'Contig113403.874'\n",
       "4. 'Contig113403.874'\n",
       "5. 'Contig16063.8073'\n",
       "6. 'Contig16063.8073'\n",
       "\n",
       "\n"
      ],
      "text/plain": [
       "[1] \"Contig30572.15642\" \"Contig41368.9107\"  \"Contig113403.874\" \n",
       "[4] \"Contig113403.874\"  \"Contig16063.8073\"  \"Contig16063.8073\" "
      ]
     },
     "metadata": {},
     "output_type": "display_data"
    }
   ],
   "source": [
    "m75 <- read.csv(\"macau/macau75.GO.csv\")\n",
    "m75.ids = paste(m75$contig.macau75, m75$start.macau75,sep=\".\")\n",
    "head(m75.ids)\n"
   ]
  },
  {
   "cell_type": "code",
   "execution_count": 93,
   "metadata": {
    "kernel": "R"
   },
   "outputs": [
    {
     "data": {
      "text/html": [
       "<table>\n",
       "<thead><tr><th scope=col>gene</th><th scope=col>sig</th></tr></thead>\n",
       "<tbody>\n",
       "\t<tr><td>Contig0.38973</td><td>0            </td></tr>\n",
       "\t<tr><td>Contig0.39226</td><td>0            </td></tr>\n",
       "\t<tr><td>Contig0.39234</td><td>0            </td></tr>\n",
       "\t<tr><td>Contig0.39252</td><td>0            </td></tr>\n",
       "\t<tr><td>Contig0.41234</td><td>0            </td></tr>\n",
       "\t<tr><td>Contig0.64124</td><td>0            </td></tr>\n",
       "</tbody>\n",
       "</table>\n"
      ],
      "text/latex": [
       "\\begin{tabular}{r|ll}\n",
       " gene & sig\\\\\n",
       "\\hline\n",
       "\t Contig0.38973 & 0            \\\\\n",
       "\t Contig0.39226 & 0            \\\\\n",
       "\t Contig0.39234 & 0            \\\\\n",
       "\t Contig0.39252 & 0            \\\\\n",
       "\t Contig0.41234 & 0            \\\\\n",
       "\t Contig0.64124 & 0            \\\\\n",
       "\\end{tabular}\n"
      ],
      "text/markdown": [
       "\n",
       "| gene | sig |\n",
       "|---|---|\n",
       "| Contig0.38973 | 0             |\n",
       "| Contig0.39226 | 0             |\n",
       "| Contig0.39234 | 0             |\n",
       "| Contig0.39252 | 0             |\n",
       "| Contig0.41234 | 0             |\n",
       "| Contig0.64124 | 0             |\n",
       "\n"
      ],
      "text/plain": [
       "  gene          sig\n",
       "1 Contig0.38973 0  \n",
       "2 Contig0.39226 0  \n",
       "3 Contig0.39234 0  \n",
       "4 Contig0.39252 0  \n",
       "5 Contig0.41234 0  \n",
       "6 Contig0.64124 0  "
      ]
     },
     "metadata": {},
     "output_type": "display_data"
    }
   ],
   "source": [
    "m75.sig <- as.data.frame(cbind(as.character(allGOs$ID), rep(0,nrow(allGOs))), stringsAsFactors=F)\n",
    "colnames(m75.sig) <- c(\"gene\",\"sig\")\n",
    "head(m75.sig)"
   ]
  },
  {
   "cell_type": "code",
   "execution_count": 94,
   "metadata": {
    "kernel": "R"
   },
   "outputs": [],
   "source": [
    "m75.sig[which(m75.sig$gene %in% m75.ids),]$sig <- 1"
   ]
  },
  {
   "cell_type": "code",
   "execution_count": 95,
   "metadata": {
    "kernel": "R"
   },
   "outputs": [
    {
     "data": {
      "text/html": [
       "<table>\n",
       "<thead><tr><th></th><th scope=col>gene</th><th scope=col>sig</th></tr></thead>\n",
       "<tbody>\n",
       "\t<tr><th scope=row>1635</th><td>Contig113403.874 </td><td>1                </td></tr>\n",
       "\t<tr><th scope=row>4592</th><td>Contig16063.8073 </td><td>1                </td></tr>\n",
       "\t<tr><th scope=row>7863</th><td>Contig1877.5033  </td><td>1                </td></tr>\n",
       "\t<tr><th scope=row>10060</th><td>Contig19785.13546</td><td>1                </td></tr>\n",
       "\t<tr><th scope=row>10901</th><td>Contig2013.4861  </td><td>1                </td></tr>\n",
       "\t<tr><th scope=row>11261</th><td>Contig202.26526  </td><td>1                </td></tr>\n",
       "\t<tr><th scope=row>17758</th><td>Contig24215.9978 </td><td>1                </td></tr>\n",
       "\t<tr><th scope=row>18565</th><td>Contig24745.37011</td><td>1                </td></tr>\n",
       "\t<tr><th scope=row>20348</th><td>Contig25646.1510 </td><td>1                </td></tr>\n",
       "\t<tr><th scope=row>21606</th><td>Contig267.26160  </td><td>1                </td></tr>\n",
       "\t<tr><th scope=row>27130</th><td>Contig30572.15642</td><td>1                </td></tr>\n",
       "\t<tr><th scope=row>34385</th><td>Contig36958.18668</td><td>1                </td></tr>\n",
       "\t<tr><th scope=row>34926</th><td>Contig37656.20747</td><td>1                </td></tr>\n",
       "\t<tr><th scope=row>38058</th><td>Contig41368.9107 </td><td>1                </td></tr>\n",
       "\t<tr><th scope=row>39888</th><td>Contig44002.29177</td><td>1                </td></tr>\n",
       "\t<tr><th scope=row>40409</th><td>Contig44633.14246</td><td>1                </td></tr>\n",
       "\t<tr><th scope=row>46025</th><td>Contig55841.10469</td><td>1                </td></tr>\n",
       "\t<tr><th scope=row>49321</th><td>Contig66193.17973</td><td>1                </td></tr>\n",
       "\t<tr><th scope=row>53747</th><td>Contig87529.1163 </td><td>1                </td></tr>\n",
       "</tbody>\n",
       "</table>\n"
      ],
      "text/latex": [
       "\\begin{tabular}{r|ll}\n",
       "  & gene & sig\\\\\n",
       "\\hline\n",
       "\t1635 & Contig113403.874  & 1                \\\\\n",
       "\t4592 & Contig16063.8073  & 1                \\\\\n",
       "\t7863 & Contig1877.5033   & 1                \\\\\n",
       "\t10060 & Contig19785.13546 & 1                \\\\\n",
       "\t10901 & Contig2013.4861   & 1                \\\\\n",
       "\t11261 & Contig202.26526   & 1                \\\\\n",
       "\t17758 & Contig24215.9978  & 1                \\\\\n",
       "\t18565 & Contig24745.37011 & 1                \\\\\n",
       "\t20348 & Contig25646.1510  & 1                \\\\\n",
       "\t21606 & Contig267.26160   & 1                \\\\\n",
       "\t27130 & Contig30572.15642 & 1                \\\\\n",
       "\t34385 & Contig36958.18668 & 1                \\\\\n",
       "\t34926 & Contig37656.20747 & 1                \\\\\n",
       "\t38058 & Contig41368.9107  & 1                \\\\\n",
       "\t39888 & Contig44002.29177 & 1                \\\\\n",
       "\t40409 & Contig44633.14246 & 1                \\\\\n",
       "\t46025 & Contig55841.10469 & 1                \\\\\n",
       "\t49321 & Contig66193.17973 & 1                \\\\\n",
       "\t53747 & Contig87529.1163  & 1                \\\\\n",
       "\\end{tabular}\n"
      ],
      "text/markdown": [
       "\n",
       "| <!--/--> | gene | sig |\n",
       "|---|---|---|\n",
       "| 1635 | Contig113403.874  | 1                 |\n",
       "| 4592 | Contig16063.8073  | 1                 |\n",
       "| 7863 | Contig1877.5033   | 1                 |\n",
       "| 10060 | Contig19785.13546 | 1                 |\n",
       "| 10901 | Contig2013.4861   | 1                 |\n",
       "| 11261 | Contig202.26526   | 1                 |\n",
       "| 17758 | Contig24215.9978  | 1                 |\n",
       "| 18565 | Contig24745.37011 | 1                 |\n",
       "| 20348 | Contig25646.1510  | 1                 |\n",
       "| 21606 | Contig267.26160   | 1                 |\n",
       "| 27130 | Contig30572.15642 | 1                 |\n",
       "| 34385 | Contig36958.18668 | 1                 |\n",
       "| 34926 | Contig37656.20747 | 1                 |\n",
       "| 38058 | Contig41368.9107  | 1                 |\n",
       "| 39888 | Contig44002.29177 | 1                 |\n",
       "| 40409 | Contig44633.14246 | 1                 |\n",
       "| 46025 | Contig55841.10469 | 1                 |\n",
       "| 49321 | Contig66193.17973 | 1                 |\n",
       "| 53747 | Contig87529.1163  | 1                 |\n",
       "\n"
      ],
      "text/plain": [
       "      gene              sig\n",
       "1635  Contig113403.874  1  \n",
       "4592  Contig16063.8073  1  \n",
       "7863  Contig1877.5033   1  \n",
       "10060 Contig19785.13546 1  \n",
       "10901 Contig2013.4861   1  \n",
       "11261 Contig202.26526   1  \n",
       "17758 Contig24215.9978  1  \n",
       "18565 Contig24745.37011 1  \n",
       "20348 Contig25646.1510  1  \n",
       "21606 Contig267.26160   1  \n",
       "27130 Contig30572.15642 1  \n",
       "34385 Contig36958.18668 1  \n",
       "34926 Contig37656.20747 1  \n",
       "38058 Contig41368.9107  1  \n",
       "39888 Contig44002.29177 1  \n",
       "40409 Contig44633.14246 1  \n",
       "46025 Contig55841.10469 1  \n",
       "49321 Contig66193.17973 1  \n",
       "53747 Contig87529.1163  1  "
      ]
     },
     "metadata": {},
     "output_type": "display_data"
    }
   ],
   "source": [
    "m75.sig[which(m75.sig$gene %in% m75.ids),]"
   ]
  },
  {
   "cell_type": "code",
   "execution_count": 101,
   "metadata": {
    "kernel": "R"
   },
   "outputs": [],
   "source": [
    "write.table(m75.sig,\"macau/macau75.sig.csv\",sep=\",\",quote = F,row.names = F, col.names=T)"
   ]
  },
  {
   "cell_type": "markdown",
   "metadata": {
    "kernel": "R"
   },
   "source": [
    "### Run GO_MWU"
   ]
  },
  {
   "cell_type": "code",
   "execution_count": 106,
   "metadata": {
    "kernel": "R"
   },
   "outputs": [],
   "source": [
    "input=\"macau75.sig.csv\" # two columns of comma-separated values: gene id, continuous measure of significance. To perform standard GO enrichment analysis based on Fisher's exact test, use binary measure (0 or 1, i.e., either sgnificant or not).\n",
    "goAnnotations=\"allLoci.GO.mwu\" # two-column, tab-delimited, one line per gene, multiple GO terms separated by semicolon. If you have multiple lines per gene, use nrify_GOtable.pl prior to running this script.\n",
    "goDatabase=\"~/Projects/OA_Ostrea/Analysis/DGE/MWU/go.obo\" # download from http://www.geneontology.org/GO.downloads.ontology.shtml\n",
    "goDivision=\"MF\" # either MF, or BP, or CC\n",
    "source(\"~/Projects/OA_Ostrea/Analysis/DGE/MWU/gomwu.functions.R\")"
   ]
  },
  {
   "cell_type": "code",
   "execution_count": 107,
   "metadata": {
    "kernel": "R"
   },
   "outputs": [
    {
     "name": "stdout",
     "output_type": "stream",
     "text": [
      "Binary classification detected; will perform Fisher's test\n",
      "0  GO terms at 10% FDR\n"
     ]
    }
   ],
   "source": [
    "gomwuStats(input, goDatabase, goAnnotations, goDivision,\n",
    "\tperlPath=\"perl\", # replace with full path to perl executable if it is not in your system's PATH already\n",
    "\tlargest=0.15,  # a GO category will not be considered if it contains more than this fraction of the total number of genes\n",
    "\tsmallest=3,   # a GO category should contain at least this many genes to be considered\n",
    "\tclusterCutHeight=0.25 # threshold for merging similar (gene-sharing) terms. See README for details.\n",
    "#\tAlternative=\"g\" # by default the MWU test is two-tailed; specify \"g\" or \"l\" of you want to test for \"greater\" or \"less\" instead. \n",
    "#\tModule=TRUE,Alternative=\"g\" # un-remark this if you are analyzing a SIGNED WGCNA module (values: 0 for not in module genes, kME for in-module genes). In the call to gomwuPlot below, specify absValue=0.001 (count number of \"good genes\" that fall into the module)\n",
    "#\tModule=TRUE # un-remark this if you are analyzing an UNSIGNED WGCNA module \n",
    ")"
   ]
  },
  {
   "cell_type": "code",
   "execution_count": null,
   "metadata": {
    "kernel": "R"
   },
   "outputs": [],
   "source": [
    "results=gomwuPlot(input,goAnnotations,goDivision,\n",
    "\t#absValue=-log(0.05,10),  # genes with the measure value exceeding this will be counted as \"good genes\". Specify absValue=0.001 if you are doing Fisher's exact test for standard GO enrichment or analyzing a WGCNA module (all non-zero genes = \"good genes\").\n",
    "\tabsValue=-log(0.05),\n",
    "\tlevel1=0.1, # FDR threshold for plotting. Specify level1=1 to plot all GO categories containing genes exceeding the absValue.\n",
    "\tlevel2=0.05, # FDR cutoff to print in regular (not italic) font.\n",
    "\tlevel3=0.01, # FDR cutoff to print in large bold font.\n",
    "\ttxtsize=1.4,    # decrease to fit more on one page, or increase (after rescaling the plot so the tree fits the text) for better \"word cloud\" effect\n",
    "\ttreeHeight=0.5, # height of the hierarchical clustering tree\n",
    "#\tcolors=c(\"dodgerblue2\",\"firebrick1\",\"skyblue\",\"lightcoral\") # these are default colors, un-remar and change if needed\n",
    ")\n",
    "# manually rescale the plot so the tree matches the text \n",
    "# if there are too many categories displayed, try make it more stringent with level1=0.05,level2=0.01,level3=0.001.  \n",
    "\n",
    "# text representation of results, with actual adjusted p-values\n",
    "results"
   ]
  }
 ],
 "metadata": {
  "kernelspec": {
   "display_name": "Python 3",
   "language": "python",
   "name": "python3"
  },
  "language_info": {
   "codemirror_mode": {
    "name": "ipython",
    "version": 3
   },
   "file_extension": ".py",
   "mimetype": "text/x-python",
   "name": "python",
   "nbconvert_exporter": "python",
   "pygments_lexer": "ipython3",
   "version": "3.7.0"
  },
  "sos": {
   "kernels": [
    [
     "R",
     "ir",
     "R",
     "#DCDCDA"
    ],
    [
     "bash",
     "bash",
     "bash",
     ""
    ]
   ],
   "version": "0.19.6"
  }
 },
 "nbformat": 4,
 "nbformat_minor": 2
}
