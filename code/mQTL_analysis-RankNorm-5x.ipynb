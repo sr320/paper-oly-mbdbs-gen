{
 "cells": [
  {
   "cell_type": "markdown",
   "metadata": {
    "kernel": "SoS"
   },
   "source": [
    "# All MBD sites, MAF filtering 0.05, RankNorm\n"
   ]
  },
  {
   "cell_type": "code",
   "execution_count": 2,
   "metadata": {
    "kernel": "SoS"
   },
   "outputs": [],
   "source": [
    "INPUT = '../analyses/2bRAD/Inputs/'\n",
    "mQTL = '../analyses/2bRAD/mQTL_5x/'"
   ]
  },
  {
   "cell_type": "code",
   "execution_count": 3,
   "metadata": {},
   "outputs": [],
   "source": [
    "#function to run bash commands cleanly\n",
    "js <- function(shell_command){\n",
    "    cat(system(shell_command, intern=TRUE), sep='\\n')}"
   ]
  },
  {
   "cell_type": "markdown",
   "metadata": {
    "kernel": "SoS"
   },
   "source": [
    "## Format genetic data"
   ]
  },
  {
   "cell_type": "code",
   "execution_count": null,
   "metadata": {},
   "outputs": [],
   "source": []
  },
  {
   "cell_type": "code",
   "execution_count": 4,
   "metadata": {
    "kernel": "R"
   },
   "outputs": [
    {
     "name": "stderr",
     "output_type": "stream",
     "text": [
      "Warning message:\n",
      "“Your system is mis-configured: ‘/etc/localtime’ is not a symlink”\n",
      "Warning message:\n",
      "“It is strongly recommended to set envionment variable TZ to ‘America/Chicago’ (or equivalent)”\n",
      "── \u001b[1mAttaching packages\u001b[22m ─────────────────────────────────────── tidyverse 1.3.1 ──\n",
      "\n",
      "\u001b[32m✔\u001b[39m \u001b[34mggplot2\u001b[39m 3.3.5     \u001b[32m✔\u001b[39m \u001b[34mpurrr  \u001b[39m 0.3.4\n",
      "\u001b[32m✔\u001b[39m \u001b[34mtibble \u001b[39m 3.1.4     \u001b[32m✔\u001b[39m \u001b[34mdplyr  \u001b[39m 1.0.7\n",
      "\u001b[32m✔\u001b[39m \u001b[34mtidyr  \u001b[39m 1.1.3     \u001b[32m✔\u001b[39m \u001b[34mstringr\u001b[39m 1.4.0\n",
      "\u001b[32m✔\u001b[39m \u001b[34mreadr  \u001b[39m 2.0.1     \u001b[32m✔\u001b[39m \u001b[34mforcats\u001b[39m 0.5.1\n",
      "\n",
      "── \u001b[1mConflicts\u001b[22m ────────────────────────────────────────── tidyverse_conflicts() ──\n",
      "\u001b[31m✖\u001b[39m \u001b[34mdplyr\u001b[39m::\u001b[32mfilter()\u001b[39m masks \u001b[34mstats\u001b[39m::filter()\n",
      "\u001b[31m✖\u001b[39m \u001b[34mdplyr\u001b[39m::\u001b[32mlag()\u001b[39m    masks \u001b[34mstats\u001b[39m::lag()\n",
      "\n",
      "\n",
      "Attaching package: ‘reshape2’\n",
      "\n",
      "\n",
      "The following object is masked from ‘package:tidyr’:\n",
      "\n",
      "    smiths\n",
      "\n",
      "\n"
     ]
    }
   ],
   "source": [
    "library(MatrixEQTL)\n",
    "library(tidyverse)\n",
    "library(reshape2)\n",
    "library(ggpubr)"
   ]
  },
  {
   "cell_type": "markdown",
   "metadata": {},
   "source": [
    "Read in previouslt generated .geno file, with data for at least 7 individuals in each population and overal MAF of 0.05."
   ]
  },
  {
   "cell_type": "code",
   "execution_count": 5,
   "metadata": {
    "kernel": "R"
   },
   "outputs": [],
   "source": [
    "geno <- read.table(paste0(INPUT,'MBD_HCSS_Afilt32m70_maf05_m2pop.geno'))"
   ]
  },
  {
   "cell_type": "code",
   "execution_count": 6,
   "metadata": {
    "kernel": "R"
   },
   "outputs": [
    {
     "data": {
      "text/html": [
       "<style>\n",
       ".list-inline {list-style: none; margin:0; padding: 0}\n",
       ".list-inline>li {display: inline-block}\n",
       ".list-inline>li:not(:last-child)::after {content: \"\\00b7\"; padding: 0 .5ex}\n",
       "</style>\n",
       "<ol class=list-inline><li>2860</li><li>18</li></ol>\n"
      ],
      "text/latex": [
       "\\begin{enumerate*}\n",
       "\\item 2860\n",
       "\\item 18\n",
       "\\end{enumerate*}\n"
      ],
      "text/markdown": [
       "1. 2860\n",
       "2. 18\n",
       "\n",
       "\n"
      ],
      "text/plain": [
       "[1] 2860   18"
      ]
     },
     "metadata": {},
     "output_type": "display_data"
    }
   ],
   "source": [
    "dim(geno)"
   ]
  },
  {
   "cell_type": "code",
   "execution_count": 7,
   "metadata": {
    "kernel": "R"
   },
   "outputs": [
    {
     "data": {
      "text/html": [
       "<table class=\"dataframe\">\n",
       "<caption>A data.frame: 6 x 18</caption>\n",
       "<thead>\n",
       "\t<tr><th></th><th scope=col>HC1.2</th><th scope=col>HC1.4</th><th scope=col>HC2.15</th><th scope=col>HC2.17</th><th scope=col>HC3.1</th><th scope=col>HC3.5</th><th scope=col>HC3.7</th><th scope=col>HC3.10</th><th scope=col>HC3.11</th><th scope=col>SS2.9</th><th scope=col>SS2.14</th><th scope=col>SS2.18</th><th scope=col>SS3.3</th><th scope=col>SS3.14</th><th scope=col>SS3.15</th><th scope=col>SS3.16</th><th scope=col>SS3.20</th><th scope=col>SS5.18</th></tr>\n",
       "\t<tr><th></th><th scope=col>&lt;int&gt;</th><th scope=col>&lt;int&gt;</th><th scope=col>&lt;int&gt;</th><th scope=col>&lt;int&gt;</th><th scope=col>&lt;int&gt;</th><th scope=col>&lt;int&gt;</th><th scope=col>&lt;int&gt;</th><th scope=col>&lt;int&gt;</th><th scope=col>&lt;int&gt;</th><th scope=col>&lt;int&gt;</th><th scope=col>&lt;int&gt;</th><th scope=col>&lt;int&gt;</th><th scope=col>&lt;int&gt;</th><th scope=col>&lt;int&gt;</th><th scope=col>&lt;int&gt;</th><th scope=col>&lt;int&gt;</th><th scope=col>&lt;int&gt;</th><th scope=col>&lt;int&gt;</th></tr>\n",
       "</thead>\n",
       "<tbody>\n",
       "\t<tr><th scope=row>Contig0_109103</th><td>1</td><td>1</td><td>0</td><td>1</td><td>2</td><td>0</td><td>0</td><td>1</td><td>1</td><td>0</td><td>0</td><td>0</td><td>0</td><td>2</td><td>0</td><td>1</td><td>0</td><td>2</td></tr>\n",
       "\t<tr><th scope=row>Contig0_109119</th><td>0</td><td>0</td><td>0</td><td>0</td><td>2</td><td>0</td><td>0</td><td>0</td><td>1</td><td>0</td><td>0</td><td>0</td><td>0</td><td>0</td><td>0</td><td>0</td><td>0</td><td>0</td></tr>\n",
       "\t<tr><th scope=row>Contig0_109123</th><td>0</td><td>0</td><td>0</td><td>0</td><td>2</td><td>0</td><td>0</td><td>0</td><td>1</td><td>0</td><td>0</td><td>0</td><td>0</td><td>0</td><td>0</td><td>0</td><td>0</td><td>0</td></tr>\n",
       "\t<tr><th scope=row>Contig3_14914</th><td>0</td><td>0</td><td>0</td><td>0</td><td>0</td><td>0</td><td>0</td><td>1</td><td>0</td><td>0</td><td>0</td><td>1</td><td>1</td><td>0</td><td>2</td><td>1</td><td>1</td><td>1</td></tr>\n",
       "\t<tr><th scope=row>Contig4_51093</th><td>1</td><td>1</td><td>0</td><td>0</td><td>0</td><td>0</td><td>0</td><td>0</td><td>0</td><td>1</td><td>0</td><td>0</td><td>0</td><td>0</td><td>0</td><td>0</td><td>0</td><td>0</td></tr>\n",
       "\t<tr><th scope=row>Contig9_17749</th><td>1</td><td>0</td><td>0</td><td>0</td><td>0</td><td>1</td><td>0</td><td>0</td><td>0</td><td>1</td><td>1</td><td>1</td><td>0</td><td>2</td><td>1</td><td>0</td><td>0</td><td>1</td></tr>\n",
       "</tbody>\n",
       "</table>\n"
      ],
      "text/latex": [
       "A data.frame: 6 x 18\n",
       "\\begin{tabular}{r|llllllllllllllllll}\n",
       "  & HC1.2 & HC1.4 & HC2.15 & HC2.17 & HC3.1 & HC3.5 & HC3.7 & HC3.10 & HC3.11 & SS2.9 & SS2.14 & SS2.18 & SS3.3 & SS3.14 & SS3.15 & SS3.16 & SS3.20 & SS5.18\\\\\n",
       "  & <int> & <int> & <int> & <int> & <int> & <int> & <int> & <int> & <int> & <int> & <int> & <int> & <int> & <int> & <int> & <int> & <int> & <int>\\\\\n",
       "\\hline\n",
       "\tContig0\\_109103 & 1 & 1 & 0 & 1 & 2 & 0 & 0 & 1 & 1 & 0 & 0 & 0 & 0 & 2 & 0 & 1 & 0 & 2\\\\\n",
       "\tContig0\\_109119 & 0 & 0 & 0 & 0 & 2 & 0 & 0 & 0 & 1 & 0 & 0 & 0 & 0 & 0 & 0 & 0 & 0 & 0\\\\\n",
       "\tContig0\\_109123 & 0 & 0 & 0 & 0 & 2 & 0 & 0 & 0 & 1 & 0 & 0 & 0 & 0 & 0 & 0 & 0 & 0 & 0\\\\\n",
       "\tContig3\\_14914 & 0 & 0 & 0 & 0 & 0 & 0 & 0 & 1 & 0 & 0 & 0 & 1 & 1 & 0 & 2 & 1 & 1 & 1\\\\\n",
       "\tContig4\\_51093 & 1 & 1 & 0 & 0 & 0 & 0 & 0 & 0 & 0 & 1 & 0 & 0 & 0 & 0 & 0 & 0 & 0 & 0\\\\\n",
       "\tContig9\\_17749 & 1 & 0 & 0 & 0 & 0 & 1 & 0 & 0 & 0 & 1 & 1 & 1 & 0 & 2 & 1 & 0 & 0 & 1\\\\\n",
       "\\end{tabular}\n"
      ],
      "text/markdown": [
       "\n",
       "A data.frame: 6 x 18\n",
       "\n",
       "| <!--/--> | HC1.2 &lt;int&gt; | HC1.4 &lt;int&gt; | HC2.15 &lt;int&gt; | HC2.17 &lt;int&gt; | HC3.1 &lt;int&gt; | HC3.5 &lt;int&gt; | HC3.7 &lt;int&gt; | HC3.10 &lt;int&gt; | HC3.11 &lt;int&gt; | SS2.9 &lt;int&gt; | SS2.14 &lt;int&gt; | SS2.18 &lt;int&gt; | SS3.3 &lt;int&gt; | SS3.14 &lt;int&gt; | SS3.15 &lt;int&gt; | SS3.16 &lt;int&gt; | SS3.20 &lt;int&gt; | SS5.18 &lt;int&gt; |\n",
       "|---|---|---|---|---|---|---|---|---|---|---|---|---|---|---|---|---|---|---|\n",
       "| Contig0_109103 | 1 | 1 | 0 | 1 | 2 | 0 | 0 | 1 | 1 | 0 | 0 | 0 | 0 | 2 | 0 | 1 | 0 | 2 |\n",
       "| Contig0_109119 | 0 | 0 | 0 | 0 | 2 | 0 | 0 | 0 | 1 | 0 | 0 | 0 | 0 | 0 | 0 | 0 | 0 | 0 |\n",
       "| Contig0_109123 | 0 | 0 | 0 | 0 | 2 | 0 | 0 | 0 | 1 | 0 | 0 | 0 | 0 | 0 | 0 | 0 | 0 | 0 |\n",
       "| Contig3_14914 | 0 | 0 | 0 | 0 | 0 | 0 | 0 | 1 | 0 | 0 | 0 | 1 | 1 | 0 | 2 | 1 | 1 | 1 |\n",
       "| Contig4_51093 | 1 | 1 | 0 | 0 | 0 | 0 | 0 | 0 | 0 | 1 | 0 | 0 | 0 | 0 | 0 | 0 | 0 | 0 |\n",
       "| Contig9_17749 | 1 | 0 | 0 | 0 | 0 | 1 | 0 | 0 | 0 | 1 | 1 | 1 | 0 | 2 | 1 | 0 | 0 | 1 |\n",
       "\n"
      ],
      "text/plain": [
       "               HC1.2 HC1.4 HC2.15 HC2.17 HC3.1 HC3.5 HC3.7 HC3.10 HC3.11 SS2.9\n",
       "Contig0_109103 1     1     0      1      2     0     0     1      1      0    \n",
       "Contig0_109119 0     0     0      0      2     0     0     0      1      0    \n",
       "Contig0_109123 0     0     0      0      2     0     0     0      1      0    \n",
       "Contig3_14914  0     0     0      0      0     0     0     1      0      0    \n",
       "Contig4_51093  1     1     0      0      0     0     0     0      0      1    \n",
       "Contig9_17749  1     0     0      0      0     1     0     0      0      1    \n",
       "               SS2.14 SS2.18 SS3.3 SS3.14 SS3.15 SS3.16 SS3.20 SS5.18\n",
       "Contig0_109103 0      0      0     2      0      1      0      2     \n",
       "Contig0_109119 0      0      0     0      0      0      0      0     \n",
       "Contig0_109123 0      0      0     0      0      0      0      0     \n",
       "Contig3_14914  0      1      1     0      2      1      1      1     \n",
       "Contig4_51093  0      0      0     0      0      0      0      0     \n",
       "Contig9_17749  1      1      0     2      1      0      0      1     "
      ]
     },
     "metadata": {},
     "output_type": "display_data"
    }
   ],
   "source": [
    "head(geno)"
   ]
  },
  {
   "cell_type": "code",
   "execution_count": 8,
   "metadata": {
    "kernel": "R"
   },
   "outputs": [
    {
     "data": {
      "text/html": [
       "<table class=\"dataframe\">\n",
       "<caption>A data.frame: 6 x 19</caption>\n",
       "<thead>\n",
       "\t<tr><th></th><th scope=col>id</th><th scope=col>hc1_2</th><th scope=col>hc1_4</th><th scope=col>hc2_15</th><th scope=col>hc2_17</th><th scope=col>hc3_1</th><th scope=col>hc3_5</th><th scope=col>hc3_7</th><th scope=col>hc3_10</th><th scope=col>hc3_11</th><th scope=col>ss2_9</th><th scope=col>ss2_14</th><th scope=col>ss2_18</th><th scope=col>ss3_3</th><th scope=col>ss3_14</th><th scope=col>ss3_15</th><th scope=col>ss3_16</th><th scope=col>ss3_20</th><th scope=col>ss5_18</th></tr>\n",
       "\t<tr><th></th><th scope=col>&lt;chr&gt;</th><th scope=col>&lt;int&gt;</th><th scope=col>&lt;int&gt;</th><th scope=col>&lt;int&gt;</th><th scope=col>&lt;int&gt;</th><th scope=col>&lt;int&gt;</th><th scope=col>&lt;int&gt;</th><th scope=col>&lt;int&gt;</th><th scope=col>&lt;int&gt;</th><th scope=col>&lt;int&gt;</th><th scope=col>&lt;int&gt;</th><th scope=col>&lt;int&gt;</th><th scope=col>&lt;int&gt;</th><th scope=col>&lt;int&gt;</th><th scope=col>&lt;int&gt;</th><th scope=col>&lt;int&gt;</th><th scope=col>&lt;int&gt;</th><th scope=col>&lt;int&gt;</th><th scope=col>&lt;int&gt;</th></tr>\n",
       "</thead>\n",
       "<tbody>\n",
       "\t<tr><th scope=row>1</th><td>Contig0_109103</td><td>1</td><td>1</td><td>0</td><td>1</td><td>2</td><td>0</td><td>0</td><td>1</td><td>1</td><td>0</td><td>0</td><td>0</td><td>0</td><td>2</td><td>0</td><td>1</td><td>0</td><td>2</td></tr>\n",
       "\t<tr><th scope=row>2</th><td>Contig0_109119</td><td>0</td><td>0</td><td>0</td><td>0</td><td>2</td><td>0</td><td>0</td><td>0</td><td>1</td><td>0</td><td>0</td><td>0</td><td>0</td><td>0</td><td>0</td><td>0</td><td>0</td><td>0</td></tr>\n",
       "\t<tr><th scope=row>3</th><td>Contig0_109123</td><td>0</td><td>0</td><td>0</td><td>0</td><td>2</td><td>0</td><td>0</td><td>0</td><td>1</td><td>0</td><td>0</td><td>0</td><td>0</td><td>0</td><td>0</td><td>0</td><td>0</td><td>0</td></tr>\n",
       "\t<tr><th scope=row>4</th><td>Contig3_14914 </td><td>0</td><td>0</td><td>0</td><td>0</td><td>0</td><td>0</td><td>0</td><td>1</td><td>0</td><td>0</td><td>0</td><td>1</td><td>1</td><td>0</td><td>2</td><td>1</td><td>1</td><td>1</td></tr>\n",
       "\t<tr><th scope=row>5</th><td>Contig4_51093 </td><td>1</td><td>1</td><td>0</td><td>0</td><td>0</td><td>0</td><td>0</td><td>0</td><td>0</td><td>1</td><td>0</td><td>0</td><td>0</td><td>0</td><td>0</td><td>0</td><td>0</td><td>0</td></tr>\n",
       "\t<tr><th scope=row>6</th><td>Contig9_17749 </td><td>1</td><td>0</td><td>0</td><td>0</td><td>0</td><td>1</td><td>0</td><td>0</td><td>0</td><td>1</td><td>1</td><td>1</td><td>0</td><td>2</td><td>1</td><td>0</td><td>0</td><td>1</td></tr>\n",
       "</tbody>\n",
       "</table>\n"
      ],
      "text/latex": [
       "A data.frame: 6 x 19\n",
       "\\begin{tabular}{r|lllllllllllllllllll}\n",
       "  & id & hc1\\_2 & hc1\\_4 & hc2\\_15 & hc2\\_17 & hc3\\_1 & hc3\\_5 & hc3\\_7 & hc3\\_10 & hc3\\_11 & ss2\\_9 & ss2\\_14 & ss2\\_18 & ss3\\_3 & ss3\\_14 & ss3\\_15 & ss3\\_16 & ss3\\_20 & ss5\\_18\\\\\n",
       "  & <chr> & <int> & <int> & <int> & <int> & <int> & <int> & <int> & <int> & <int> & <int> & <int> & <int> & <int> & <int> & <int> & <int> & <int> & <int>\\\\\n",
       "\\hline\n",
       "\t1 & Contig0\\_109103 & 1 & 1 & 0 & 1 & 2 & 0 & 0 & 1 & 1 & 0 & 0 & 0 & 0 & 2 & 0 & 1 & 0 & 2\\\\\n",
       "\t2 & Contig0\\_109119 & 0 & 0 & 0 & 0 & 2 & 0 & 0 & 0 & 1 & 0 & 0 & 0 & 0 & 0 & 0 & 0 & 0 & 0\\\\\n",
       "\t3 & Contig0\\_109123 & 0 & 0 & 0 & 0 & 2 & 0 & 0 & 0 & 1 & 0 & 0 & 0 & 0 & 0 & 0 & 0 & 0 & 0\\\\\n",
       "\t4 & Contig3\\_14914  & 0 & 0 & 0 & 0 & 0 & 0 & 0 & 1 & 0 & 0 & 0 & 1 & 1 & 0 & 2 & 1 & 1 & 1\\\\\n",
       "\t5 & Contig4\\_51093  & 1 & 1 & 0 & 0 & 0 & 0 & 0 & 0 & 0 & 1 & 0 & 0 & 0 & 0 & 0 & 0 & 0 & 0\\\\\n",
       "\t6 & Contig9\\_17749  & 1 & 0 & 0 & 0 & 0 & 1 & 0 & 0 & 0 & 1 & 1 & 1 & 0 & 2 & 1 & 0 & 0 & 1\\\\\n",
       "\\end{tabular}\n"
      ],
      "text/markdown": [
       "\n",
       "A data.frame: 6 x 19\n",
       "\n",
       "| <!--/--> | id &lt;chr&gt; | hc1_2 &lt;int&gt; | hc1_4 &lt;int&gt; | hc2_15 &lt;int&gt; | hc2_17 &lt;int&gt; | hc3_1 &lt;int&gt; | hc3_5 &lt;int&gt; | hc3_7 &lt;int&gt; | hc3_10 &lt;int&gt; | hc3_11 &lt;int&gt; | ss2_9 &lt;int&gt; | ss2_14 &lt;int&gt; | ss2_18 &lt;int&gt; | ss3_3 &lt;int&gt; | ss3_14 &lt;int&gt; | ss3_15 &lt;int&gt; | ss3_16 &lt;int&gt; | ss3_20 &lt;int&gt; | ss5_18 &lt;int&gt; |\n",
       "|---|---|---|---|---|---|---|---|---|---|---|---|---|---|---|---|---|---|---|---|\n",
       "| 1 | Contig0_109103 | 1 | 1 | 0 | 1 | 2 | 0 | 0 | 1 | 1 | 0 | 0 | 0 | 0 | 2 | 0 | 1 | 0 | 2 |\n",
       "| 2 | Contig0_109119 | 0 | 0 | 0 | 0 | 2 | 0 | 0 | 0 | 1 | 0 | 0 | 0 | 0 | 0 | 0 | 0 | 0 | 0 |\n",
       "| 3 | Contig0_109123 | 0 | 0 | 0 | 0 | 2 | 0 | 0 | 0 | 1 | 0 | 0 | 0 | 0 | 0 | 0 | 0 | 0 | 0 |\n",
       "| 4 | Contig3_14914  | 0 | 0 | 0 | 0 | 0 | 0 | 0 | 1 | 0 | 0 | 0 | 1 | 1 | 0 | 2 | 1 | 1 | 1 |\n",
       "| 5 | Contig4_51093  | 1 | 1 | 0 | 0 | 0 | 0 | 0 | 0 | 0 | 1 | 0 | 0 | 0 | 0 | 0 | 0 | 0 | 0 |\n",
       "| 6 | Contig9_17749  | 1 | 0 | 0 | 0 | 0 | 1 | 0 | 0 | 0 | 1 | 1 | 1 | 0 | 2 | 1 | 0 | 0 | 1 |\n",
       "\n"
      ],
      "text/plain": [
       "  id             hc1_2 hc1_4 hc2_15 hc2_17 hc3_1 hc3_5 hc3_7 hc3_10 hc3_11\n",
       "1 Contig0_109103 1     1     0      1      2     0     0     1      1     \n",
       "2 Contig0_109119 0     0     0      0      2     0     0     0      1     \n",
       "3 Contig0_109123 0     0     0      0      2     0     0     0      1     \n",
       "4 Contig3_14914  0     0     0      0      0     0     0     1      0     \n",
       "5 Contig4_51093  1     1     0      0      0     0     0     0      0     \n",
       "6 Contig9_17749  1     0     0      0      0     1     0     0      0     \n",
       "  ss2_9 ss2_14 ss2_18 ss3_3 ss3_14 ss3_15 ss3_16 ss3_20 ss5_18\n",
       "1 0     0      0      0     2      0      1      0      2     \n",
       "2 0     0      0      0     0      0      0      0      0     \n",
       "3 0     0      0      0     0      0      0      0      0     \n",
       "4 0     0      1      1     0      2      1      1      1     \n",
       "5 1     0      0      0     0      0      0      0      0     \n",
       "6 1     1      1      0     2      1      0      0      1     "
      ]
     },
     "metadata": {},
     "output_type": "display_data"
    }
   ],
   "source": [
    "geno <- cbind(as.character(rownames(geno)),geno)\n",
    "rownames(geno) <- NULL\n",
    "# change sample names to match epigenetics\n",
    "mbdorder = c(\"hc1_2\",\"hc1_4\",\"hc2_15\",\"hc2_17\",\"hc3_1\",\"hc3_5\",\"hc3_7\",\"hc3_10\",\"hc3_11\",\n",
    "        \"ss2_9\",\"ss2_14\",\"ss2_18\",\"ss3_3\",\"ss3_14\",\"ss3_15\",\"ss3_16\",\"ss3_20\",\"ss5_18\")\n",
    "colnames(geno) <- c(\"id\",mbdorder)\n",
    "head(geno)\n",
    "write.table(geno,paste0(mQTL,'MBD_HCSS_Afilt32m70_maf05_m2pop_format.tab'),sep=\"\\t\",quote = F,row.names = F)"
   ]
  },
  {
   "cell_type": "code",
   "execution_count": 9,
   "metadata": {
    "kernel": "R"
   },
   "outputs": [],
   "source": [
    "geno %>% mutate_if(is.factor, as.character) -> geno"
   ]
  },
  {
   "cell_type": "code",
   "execution_count": 10,
   "metadata": {
    "kernel": "R"
   },
   "outputs": [
    {
     "data": {
      "text/html": [
       "<table class=\"dataframe\">\n",
       "<caption>A data.frame: 6 x 3</caption>\n",
       "<thead>\n",
       "\t<tr><th></th><th scope=col>snp</th><th scope=col>chr</th><th scope=col>pos</th></tr>\n",
       "\t<tr><th></th><th scope=col>&lt;chr&gt;</th><th scope=col>&lt;chr&gt;</th><th scope=col>&lt;dbl&gt;</th></tr>\n",
       "</thead>\n",
       "<tbody>\n",
       "\t<tr><th scope=row>1</th><td>Contig0_109103</td><td>Contig0</td><td>109103</td></tr>\n",
       "\t<tr><th scope=row>2</th><td>Contig0_109119</td><td>Contig0</td><td>109119</td></tr>\n",
       "\t<tr><th scope=row>3</th><td>Contig0_109123</td><td>Contig0</td><td>109123</td></tr>\n",
       "\t<tr><th scope=row>4</th><td>Contig3_14914 </td><td>Contig3</td><td> 14914</td></tr>\n",
       "\t<tr><th scope=row>5</th><td>Contig4_51093 </td><td>Contig4</td><td> 51093</td></tr>\n",
       "\t<tr><th scope=row>6</th><td>Contig9_17749 </td><td>Contig9</td><td> 17749</td></tr>\n",
       "</tbody>\n",
       "</table>\n"
      ],
      "text/latex": [
       "A data.frame: 6 x 3\n",
       "\\begin{tabular}{r|lll}\n",
       "  & snp & chr & pos\\\\\n",
       "  & <chr> & <chr> & <dbl>\\\\\n",
       "\\hline\n",
       "\t1 & Contig0\\_109103 & Contig0 & 109103\\\\\n",
       "\t2 & Contig0\\_109119 & Contig0 & 109119\\\\\n",
       "\t3 & Contig0\\_109123 & Contig0 & 109123\\\\\n",
       "\t4 & Contig3\\_14914  & Contig3 &  14914\\\\\n",
       "\t5 & Contig4\\_51093  & Contig4 &  51093\\\\\n",
       "\t6 & Contig9\\_17749  & Contig9 &  17749\\\\\n",
       "\\end{tabular}\n"
      ],
      "text/markdown": [
       "\n",
       "A data.frame: 6 x 3\n",
       "\n",
       "| <!--/--> | snp &lt;chr&gt; | chr &lt;chr&gt; | pos &lt;dbl&gt; |\n",
       "|---|---|---|---|\n",
       "| 1 | Contig0_109103 | Contig0 | 109103 |\n",
       "| 2 | Contig0_109119 | Contig0 | 109119 |\n",
       "| 3 | Contig0_109123 | Contig0 | 109123 |\n",
       "| 4 | Contig3_14914  | Contig3 |  14914 |\n",
       "| 5 | Contig4_51093  | Contig4 |  51093 |\n",
       "| 6 | Contig9_17749  | Contig9 |  17749 |\n",
       "\n"
      ],
      "text/plain": [
       "  snp            chr     pos   \n",
       "1 Contig0_109103 Contig0 109103\n",
       "2 Contig0_109119 Contig0 109119\n",
       "3 Contig0_109123 Contig0 109123\n",
       "4 Contig3_14914  Contig3  14914\n",
       "5 Contig4_51093  Contig4  51093\n",
       "6 Contig9_17749  Contig9  17749"
      ]
     },
     "metadata": {},
     "output_type": "display_data"
    }
   ],
   "source": [
    "# get snp position file\n",
    "geno <- as.data.frame(geno,stringsAsFactors = F)\n",
    "chr = sapply(strsplit(geno$id,\"_\"), '[',1)\n",
    "pos = sapply(strsplit(geno$id,\"_\"), '[',2)\n",
    "snppos <- as.data.frame(cbind(geno$id,chr,pos),stringsAsFactors = F)\n",
    "snppos$pos <- as.numeric(snppos$pos)\n",
    "colnames(snppos) <- c('snp','chr','pos')\n",
    "head(snppos)\n",
    "write.table(snppos,file=paste(mQTL,\"snppos_mqtl_05_m2pop.tab\"),quote = F,row.names = F,sep = \"\\t\")"
   ]
  },
  {
   "cell_type": "code",
   "execution_count": 11,
   "metadata": {
    "kernel": "R"
   },
   "outputs": [],
   "source": [
    "bed <- cbind(chr,pos,pos, geno$id)\n",
    "write.table(bed,file=paste0(mQTL,\"snppos_mqtl_05_m2pop.BED\"),quote = F,row.names = F,col.names=F,sep = \"\\t\")"
   ]
  },
  {
   "cell_type": "code",
   "execution_count": 12,
   "metadata": {},
   "outputs": [
    {
     "data": {
      "text/html": [
       "<style>\n",
       ".list-inline {list-style: none; margin:0; padding: 0}\n",
       ".list-inline>li {display: inline-block}\n",
       ".list-inline>li:not(:last-child)::after {content: \"\\00b7\"; padding: 0 .5ex}\n",
       "</style>\n",
       "<ol class=list-inline><li>2860</li><li>19</li></ol>\n"
      ],
      "text/latex": [
       "\\begin{enumerate*}\n",
       "\\item 2860\n",
       "\\item 19\n",
       "\\end{enumerate*}\n"
      ],
      "text/markdown": [
       "1. 2860\n",
       "2. 19\n",
       "\n",
       "\n"
      ],
      "text/plain": [
       "[1] 2860   19"
      ]
     },
     "metadata": {},
     "output_type": "display_data"
    }
   ],
   "source": [
    "dim(geno)"
   ]
  },
  {
   "cell_type": "markdown",
   "metadata": {
    "kernel": "Bash"
   },
   "source": [
    "# Looking at individual methylated sites"
   ]
  },
  {
   "cell_type": "markdown",
   "metadata": {
    "kernel": "R"
   },
   "source": [
    "## Format methylation data"
   ]
  },
  {
   "cell_type": "code",
   "execution_count": 13,
   "metadata": {},
   "outputs": [
    {
     "data": {
      "text/html": [
       "<table class=\"dataframe\">\n",
       "<caption>A data.frame: 6 x 19</caption>\n",
       "<thead>\n",
       "\t<tr><th></th><th scope=col>id</th><th scope=col>hc1_2</th><th scope=col>hc1_4</th><th scope=col>hc2_15</th><th scope=col>hc2_17</th><th scope=col>hc3_1</th><th scope=col>hc3_5</th><th scope=col>hc3_7</th><th scope=col>hc3_10</th><th scope=col>hc3_11</th><th scope=col>ss2_9</th><th scope=col>ss2_14</th><th scope=col>ss2_18</th><th scope=col>ss3_3</th><th scope=col>ss3_14</th><th scope=col>ss3_15</th><th scope=col>ss3_16</th><th scope=col>ss3_20</th><th scope=col>ss5_18</th></tr>\n",
       "\t<tr><th></th><th scope=col>&lt;chr&gt;</th><th scope=col>&lt;dbl&gt;</th><th scope=col>&lt;dbl&gt;</th><th scope=col>&lt;dbl&gt;</th><th scope=col>&lt;dbl&gt;</th><th scope=col>&lt;dbl&gt;</th><th scope=col>&lt;dbl&gt;</th><th scope=col>&lt;dbl&gt;</th><th scope=col>&lt;dbl&gt;</th><th scope=col>&lt;dbl&gt;</th><th scope=col>&lt;dbl&gt;</th><th scope=col>&lt;dbl&gt;</th><th scope=col>&lt;dbl&gt;</th><th scope=col>&lt;dbl&gt;</th><th scope=col>&lt;dbl&gt;</th><th scope=col>&lt;dbl&gt;</th><th scope=col>&lt;dbl&gt;</th><th scope=col>&lt;dbl&gt;</th><th scope=col>&lt;dbl&gt;</th></tr>\n",
       "</thead>\n",
       "<tbody>\n",
       "\t<tr><th scope=row>1</th><td>Contig0.38965.38965</td><td>50.00000</td><td>83.33333</td><td>45.45455</td><td>40.00000</td><td>36.36364</td><td> 60.00000</td><td>66.66667</td><td>44.44444</td><td>80.00000</td><td>100.00000</td><td>66.66667</td><td>57.14286</td><td>75.00000</td><td>40.00000</td><td>28.57143</td><td> 33.33333</td><td> 66.66667</td><td>58.33333</td></tr>\n",
       "\t<tr><th scope=row>2</th><td>Contig0.38973.38973</td><td>86.66667</td><td>93.75000</td><td>81.25000</td><td>76.92308</td><td>80.00000</td><td> 70.58824</td><td>92.30769</td><td>81.81818</td><td>68.42105</td><td> 83.33333</td><td>66.66667</td><td>73.33333</td><td>63.63636</td><td>75.00000</td><td>77.77778</td><td> 80.00000</td><td> 75.00000</td><td>88.23529</td></tr>\n",
       "\t<tr><th scope=row>3</th><td>Contig0.39226.39226</td><td>52.38095</td><td>77.27273</td><td>45.45455</td><td>60.86957</td><td>37.50000</td><td> 63.63636</td><td>45.00000</td><td>62.50000</td><td>58.06452</td><td> 52.94118</td><td>80.00000</td><td>65.21739</td><td>61.11111</td><td>50.00000</td><td>40.00000</td><td> 61.53846</td><td> 42.10526</td><td>32.00000</td></tr>\n",
       "\t<tr><th scope=row>4</th><td>Contig0.39234.39234</td><td>41.66667</td><td>25.92593</td><td>37.03704</td><td>19.23077</td><td>41.37931</td><td> 42.30769</td><td>30.43478</td><td>33.33333</td><td>22.22222</td><td> 36.84211</td><td>14.28571</td><td>34.48276</td><td>45.00000</td><td>41.66667</td><td>48.00000</td><td> 29.41176</td><td> 52.17391</td><td>33.33333</td></tr>\n",
       "\t<tr><th scope=row>5</th><td>Contig0.39252.39252</td><td>69.23077</td><td>72.72727</td><td>54.54545</td><td>75.00000</td><td>76.92308</td><td> 72.72727</td><td>80.00000</td><td>69.23077</td><td>71.42857</td><td> 57.14286</td><td>50.00000</td><td>75.00000</td><td>87.50000</td><td>66.66667</td><td>66.66667</td><td> 20.00000</td><td> 50.00000</td><td>80.00000</td></tr>\n",
       "\t<tr><th scope=row>6</th><td>Contig0.64179.64179</td><td>90.90909</td><td>66.66667</td><td>88.88889</td><td>95.23810</td><td>75.00000</td><td>100.00000</td><td>42.85714</td><td>91.66667</td><td>60.00000</td><td> 50.00000</td><td>80.00000</td><td>75.00000</td><td>75.00000</td><td>75.00000</td><td>89.47368</td><td>100.00000</td><td>100.00000</td><td>46.66667</td></tr>\n",
       "</tbody>\n",
       "</table>\n"
      ],
      "text/latex": [
       "A data.frame: 6 x 19\n",
       "\\begin{tabular}{r|lllllllllllllllllll}\n",
       "  & id & hc1\\_2 & hc1\\_4 & hc2\\_15 & hc2\\_17 & hc3\\_1 & hc3\\_5 & hc3\\_7 & hc3\\_10 & hc3\\_11 & ss2\\_9 & ss2\\_14 & ss2\\_18 & ss3\\_3 & ss3\\_14 & ss3\\_15 & ss3\\_16 & ss3\\_20 & ss5\\_18\\\\\n",
       "  & <chr> & <dbl> & <dbl> & <dbl> & <dbl> & <dbl> & <dbl> & <dbl> & <dbl> & <dbl> & <dbl> & <dbl> & <dbl> & <dbl> & <dbl> & <dbl> & <dbl> & <dbl> & <dbl>\\\\\n",
       "\\hline\n",
       "\t1 & Contig0.38965.38965 & 50.00000 & 83.33333 & 45.45455 & 40.00000 & 36.36364 &  60.00000 & 66.66667 & 44.44444 & 80.00000 & 100.00000 & 66.66667 & 57.14286 & 75.00000 & 40.00000 & 28.57143 &  33.33333 &  66.66667 & 58.33333\\\\\n",
       "\t2 & Contig0.38973.38973 & 86.66667 & 93.75000 & 81.25000 & 76.92308 & 80.00000 &  70.58824 & 92.30769 & 81.81818 & 68.42105 &  83.33333 & 66.66667 & 73.33333 & 63.63636 & 75.00000 & 77.77778 &  80.00000 &  75.00000 & 88.23529\\\\\n",
       "\t3 & Contig0.39226.39226 & 52.38095 & 77.27273 & 45.45455 & 60.86957 & 37.50000 &  63.63636 & 45.00000 & 62.50000 & 58.06452 &  52.94118 & 80.00000 & 65.21739 & 61.11111 & 50.00000 & 40.00000 &  61.53846 &  42.10526 & 32.00000\\\\\n",
       "\t4 & Contig0.39234.39234 & 41.66667 & 25.92593 & 37.03704 & 19.23077 & 41.37931 &  42.30769 & 30.43478 & 33.33333 & 22.22222 &  36.84211 & 14.28571 & 34.48276 & 45.00000 & 41.66667 & 48.00000 &  29.41176 &  52.17391 & 33.33333\\\\\n",
       "\t5 & Contig0.39252.39252 & 69.23077 & 72.72727 & 54.54545 & 75.00000 & 76.92308 &  72.72727 & 80.00000 & 69.23077 & 71.42857 &  57.14286 & 50.00000 & 75.00000 & 87.50000 & 66.66667 & 66.66667 &  20.00000 &  50.00000 & 80.00000\\\\\n",
       "\t6 & Contig0.64179.64179 & 90.90909 & 66.66667 & 88.88889 & 95.23810 & 75.00000 & 100.00000 & 42.85714 & 91.66667 & 60.00000 &  50.00000 & 80.00000 & 75.00000 & 75.00000 & 75.00000 & 89.47368 & 100.00000 & 100.00000 & 46.66667\\\\\n",
       "\\end{tabular}\n"
      ],
      "text/markdown": [
       "\n",
       "A data.frame: 6 x 19\n",
       "\n",
       "| <!--/--> | id &lt;chr&gt; | hc1_2 &lt;dbl&gt; | hc1_4 &lt;dbl&gt; | hc2_15 &lt;dbl&gt; | hc2_17 &lt;dbl&gt; | hc3_1 &lt;dbl&gt; | hc3_5 &lt;dbl&gt; | hc3_7 &lt;dbl&gt; | hc3_10 &lt;dbl&gt; | hc3_11 &lt;dbl&gt; | ss2_9 &lt;dbl&gt; | ss2_14 &lt;dbl&gt; | ss2_18 &lt;dbl&gt; | ss3_3 &lt;dbl&gt; | ss3_14 &lt;dbl&gt; | ss3_15 &lt;dbl&gt; | ss3_16 &lt;dbl&gt; | ss3_20 &lt;dbl&gt; | ss5_18 &lt;dbl&gt; |\n",
       "|---|---|---|---|---|---|---|---|---|---|---|---|---|---|---|---|---|---|---|---|\n",
       "| 1 | Contig0.38965.38965 | 50.00000 | 83.33333 | 45.45455 | 40.00000 | 36.36364 |  60.00000 | 66.66667 | 44.44444 | 80.00000 | 100.00000 | 66.66667 | 57.14286 | 75.00000 | 40.00000 | 28.57143 |  33.33333 |  66.66667 | 58.33333 |\n",
       "| 2 | Contig0.38973.38973 | 86.66667 | 93.75000 | 81.25000 | 76.92308 | 80.00000 |  70.58824 | 92.30769 | 81.81818 | 68.42105 |  83.33333 | 66.66667 | 73.33333 | 63.63636 | 75.00000 | 77.77778 |  80.00000 |  75.00000 | 88.23529 |\n",
       "| 3 | Contig0.39226.39226 | 52.38095 | 77.27273 | 45.45455 | 60.86957 | 37.50000 |  63.63636 | 45.00000 | 62.50000 | 58.06452 |  52.94118 | 80.00000 | 65.21739 | 61.11111 | 50.00000 | 40.00000 |  61.53846 |  42.10526 | 32.00000 |\n",
       "| 4 | Contig0.39234.39234 | 41.66667 | 25.92593 | 37.03704 | 19.23077 | 41.37931 |  42.30769 | 30.43478 | 33.33333 | 22.22222 |  36.84211 | 14.28571 | 34.48276 | 45.00000 | 41.66667 | 48.00000 |  29.41176 |  52.17391 | 33.33333 |\n",
       "| 5 | Contig0.39252.39252 | 69.23077 | 72.72727 | 54.54545 | 75.00000 | 76.92308 |  72.72727 | 80.00000 | 69.23077 | 71.42857 |  57.14286 | 50.00000 | 75.00000 | 87.50000 | 66.66667 | 66.66667 |  20.00000 |  50.00000 | 80.00000 |\n",
       "| 6 | Contig0.64179.64179 | 90.90909 | 66.66667 | 88.88889 | 95.23810 | 75.00000 | 100.00000 | 42.85714 | 91.66667 | 60.00000 |  50.00000 | 80.00000 | 75.00000 | 75.00000 | 75.00000 | 89.47368 | 100.00000 | 100.00000 | 46.66667 |\n",
       "\n"
      ],
      "text/plain": [
       "  id                  hc1_2    hc1_4    hc2_15   hc2_17   hc3_1    hc3_5    \n",
       "1 Contig0.38965.38965 50.00000 83.33333 45.45455 40.00000 36.36364  60.00000\n",
       "2 Contig0.38973.38973 86.66667 93.75000 81.25000 76.92308 80.00000  70.58824\n",
       "3 Contig0.39226.39226 52.38095 77.27273 45.45455 60.86957 37.50000  63.63636\n",
       "4 Contig0.39234.39234 41.66667 25.92593 37.03704 19.23077 41.37931  42.30769\n",
       "5 Contig0.39252.39252 69.23077 72.72727 54.54545 75.00000 76.92308  72.72727\n",
       "6 Contig0.64179.64179 90.90909 66.66667 88.88889 95.23810 75.00000 100.00000\n",
       "  hc3_7    hc3_10   hc3_11   ss2_9     ss2_14   ss2_18   ss3_3    ss3_14  \n",
       "1 66.66667 44.44444 80.00000 100.00000 66.66667 57.14286 75.00000 40.00000\n",
       "2 92.30769 81.81818 68.42105  83.33333 66.66667 73.33333 63.63636 75.00000\n",
       "3 45.00000 62.50000 58.06452  52.94118 80.00000 65.21739 61.11111 50.00000\n",
       "4 30.43478 33.33333 22.22222  36.84211 14.28571 34.48276 45.00000 41.66667\n",
       "5 80.00000 69.23077 71.42857  57.14286 50.00000 75.00000 87.50000 66.66667\n",
       "6 42.85714 91.66667 60.00000  50.00000 80.00000 75.00000 75.00000 75.00000\n",
       "  ss3_15   ss3_16    ss3_20    ss5_18  \n",
       "1 28.57143  33.33333  66.66667 58.33333\n",
       "2 77.77778  80.00000  75.00000 88.23529\n",
       "3 40.00000  61.53846  42.10526 32.00000\n",
       "4 48.00000  29.41176  52.17391 33.33333\n",
       "5 66.66667  20.00000  50.00000 80.00000\n",
       "6 89.47368 100.00000 100.00000 46.66667"
      ]
     },
     "metadata": {},
     "output_type": "display_data"
    }
   ],
   "source": [
    "mf <- read.table(\"../analyses/methylation-filtered/percent-methylation-filtered.tab\",header=T)\n",
    "#add sample names\n",
    "colnames(mf) <- c(\"id\",mbdorder)\n",
    "head(mf)\n",
    "write.table(mf,paste0(mQTL,\"meth_filter_allsites.tab\"),sep=\"\\t\",row.names = F,quote = F)"
   ]
  },
  {
   "cell_type": "code",
   "execution_count": 13,
   "metadata": {},
   "outputs": [],
   "source": [
    "mf <- read.table(paste0(mQTL,\"meth_filter_allsites.tab\"),header=T)"
   ]
  },
  {
   "cell_type": "code",
   "execution_count": 48,
   "metadata": {},
   "outputs": [
    {
     "data": {
      "text/html": [
       "<style>\n",
       ".list-inline {list-style: none; margin:0; padding: 0}\n",
       ".list-inline>li {display: inline-block}\n",
       ".list-inline>li:not(:last-child)::after {content: \"\\00b7\"; padding: 0 .5ex}\n",
       "</style>\n",
       "<ol class=list-inline><li>252366</li><li>19</li></ol>\n"
      ],
      "text/latex": [
       "\\begin{enumerate*}\n",
       "\\item 252366\n",
       "\\item 19\n",
       "\\end{enumerate*}\n"
      ],
      "text/markdown": [
       "1. 252366\n",
       "2. 19\n",
       "\n",
       "\n"
      ],
      "text/plain": [
       "[1] 252366     19"
      ]
     },
     "metadata": {},
     "output_type": "display_data"
    }
   ],
   "source": [
    "dim(mf)"
   ]
  },
  {
   "cell_type": "code",
   "execution_count": 46,
   "metadata": {},
   "outputs": [],
   "source": [
    "remove = c()\n",
    "for (row in 1:nrow(mf)) {\n",
    "    minR <- min(mf[row,2:19],na.rm = T)\n",
    "    maxR <- max(mf[row, 2:19],na.rm=T)\n",
    "    if(maxR-minR < 12 ) {\n",
    "        remove = c(remove,row)\n",
    "    }\n",
    "}\n"
   ]
  },
  {
   "cell_type": "code",
   "execution_count": 49,
   "metadata": {},
   "outputs": [
    {
     "data": {
      "text/html": [
       "<style>\n",
       ".list-inline {list-style: none; margin:0; padding: 0}\n",
       ".list-inline>li {display: inline-block}\n",
       ".list-inline>li:not(:last-child)::after {content: \"\\00b7\"; padding: 0 .5ex}\n",
       "</style>\n",
       "<ol class=list-inline><li>232567</li><li>19</li></ol>\n"
      ],
      "text/latex": [
       "\\begin{enumerate*}\n",
       "\\item 232567\n",
       "\\item 19\n",
       "\\end{enumerate*}\n"
      ],
      "text/markdown": [
       "1. 232567\n",
       "2. 19\n",
       "\n",
       "\n"
      ],
      "text/plain": [
       "[1] 232567     19"
      ]
     },
     "metadata": {},
     "output_type": "display_data"
    }
   ],
   "source": [
    "mf_12 <- mf %>% slice(-remove)\n",
    "dim(mf_12)"
   ]
  },
  {
   "cell_type": "code",
   "execution_count": 14,
   "metadata": {},
   "outputs": [
    {
     "name": "stderr",
     "output_type": "stream",
     "text": [
      "Using id as id variables\n",
      "\n"
     ]
    },
    {
     "data": {
      "text/html": [
       "<table class=\"dataframe\">\n",
       "<caption>A data.frame: 6 x 4</caption>\n",
       "<thead>\n",
       "\t<tr><th></th><th scope=col>id</th><th scope=col>sample</th><th scope=col>percMeth</th><th scope=col>pop</th></tr>\n",
       "\t<tr><th></th><th scope=col>&lt;chr&gt;</th><th scope=col>&lt;fct&gt;</th><th scope=col>&lt;dbl&gt;</th><th scope=col>&lt;chr&gt;</th></tr>\n",
       "</thead>\n",
       "<tbody>\n",
       "\t<tr><th scope=row>1</th><td>Contig0.38965.38965</td><td>hc1_2</td><td>50.00000</td><td>hc</td></tr>\n",
       "\t<tr><th scope=row>2</th><td>Contig0.38973.38973</td><td>hc1_2</td><td>86.66667</td><td>hc</td></tr>\n",
       "\t<tr><th scope=row>3</th><td>Contig0.39226.39226</td><td>hc1_2</td><td>52.38095</td><td>hc</td></tr>\n",
       "\t<tr><th scope=row>4</th><td>Contig0.39234.39234</td><td>hc1_2</td><td>41.66667</td><td>hc</td></tr>\n",
       "\t<tr><th scope=row>5</th><td>Contig0.39252.39252</td><td>hc1_2</td><td>69.23077</td><td>hc</td></tr>\n",
       "\t<tr><th scope=row>6</th><td>Contig0.64179.64179</td><td>hc1_2</td><td>90.90909</td><td>hc</td></tr>\n",
       "</tbody>\n",
       "</table>\n"
      ],
      "text/latex": [
       "A data.frame: 6 x 4\n",
       "\\begin{tabular}{r|llll}\n",
       "  & id & sample & percMeth & pop\\\\\n",
       "  & <chr> & <fct> & <dbl> & <chr>\\\\\n",
       "\\hline\n",
       "\t1 & Contig0.38965.38965 & hc1\\_2 & 50.00000 & hc\\\\\n",
       "\t2 & Contig0.38973.38973 & hc1\\_2 & 86.66667 & hc\\\\\n",
       "\t3 & Contig0.39226.39226 & hc1\\_2 & 52.38095 & hc\\\\\n",
       "\t4 & Contig0.39234.39234 & hc1\\_2 & 41.66667 & hc\\\\\n",
       "\t5 & Contig0.39252.39252 & hc1\\_2 & 69.23077 & hc\\\\\n",
       "\t6 & Contig0.64179.64179 & hc1\\_2 & 90.90909 & hc\\\\\n",
       "\\end{tabular}\n"
      ],
      "text/markdown": [
       "\n",
       "A data.frame: 6 x 4\n",
       "\n",
       "| <!--/--> | id &lt;chr&gt; | sample &lt;fct&gt; | percMeth &lt;dbl&gt; | pop &lt;chr&gt; |\n",
       "|---|---|---|---|---|\n",
       "| 1 | Contig0.38965.38965 | hc1_2 | 50.00000 | hc |\n",
       "| 2 | Contig0.38973.38973 | hc1_2 | 86.66667 | hc |\n",
       "| 3 | Contig0.39226.39226 | hc1_2 | 52.38095 | hc |\n",
       "| 4 | Contig0.39234.39234 | hc1_2 | 41.66667 | hc |\n",
       "| 5 | Contig0.39252.39252 | hc1_2 | 69.23077 | hc |\n",
       "| 6 | Contig0.64179.64179 | hc1_2 | 90.90909 | hc |\n",
       "\n"
      ],
      "text/plain": [
       "  id                  sample percMeth pop\n",
       "1 Contig0.38965.38965 hc1_2  50.00000 hc \n",
       "2 Contig0.38973.38973 hc1_2  86.66667 hc \n",
       "3 Contig0.39226.39226 hc1_2  52.38095 hc \n",
       "4 Contig0.39234.39234 hc1_2  41.66667 hc \n",
       "5 Contig0.39252.39252 hc1_2  69.23077 hc \n",
       "6 Contig0.64179.64179 hc1_2  90.90909 hc "
      ]
     },
     "metadata": {},
     "output_type": "display_data"
    }
   ],
   "source": [
    "perc_meth <- melt(mf,variable.name = \"sample\",value.name = \"percMeth\")\n",
    "perc_meth <- mutate(perc_meth,pop=substr(sample,1,2))\n",
    "head(perc_meth)"
   ]
  },
  {
   "cell_type": "code",
   "execution_count": 16,
   "metadata": {
    "kernel": "R"
   },
   "outputs": [
    {
     "data": {
      "image/png": "[encoded data removed]",
      "text/plain": [
       "plot without title"
      ]
     },
     "metadata": {
      "image/png": {
       "height": 420,
       "width": 420
      }
     },
     "output_type": "display_data"
    }
   ],
   "source": [
    "# check a couple loci to make sure % methylation is calculated separately for each sample and gene region \n",
    "perc_meth %>% filter(id==\"Contig0.39226.39226\") %>% ggplot(aes(x=sample, y=percMeth)) + geom_bar(stat=\"identity\")"
   ]
  },
  {
   "cell_type": "code",
   "execution_count": 17,
   "metadata": {},
   "outputs": [],
   "source": [
    "myRN <- function(x){\n",
    "    \n",
    "    y <- x[2:19][!is.na(x[2:19])]\n",
    "    n <- length(y)\n",
    "    k = 0.375  \n",
    "  # Ranks.\n",
    "      r <- rank(y)\n",
    "  \n",
    "  # Apply transformation.\n",
    "    out <- qnorm((r - k) / (n - 2 * k + 1))\n",
    "    x[2:19][!is.na(x[2:19])] <- out\n",
    "    return(x)\n",
    "}\n"
   ]
  },
  {
   "cell_type": "code",
   "execution_count": 50,
   "metadata": {},
   "outputs": [],
   "source": [
    "df_list <- lapply(1:nrow(mf_12), function(r_num) { myRN(mf_12[r_num, ]) })\n",
    "dcN12<- do.call(rbind, df_list)"
   ]
  },
  {
   "cell_type": "code",
   "execution_count": 52,
   "metadata": {},
   "outputs": [
    {
     "data": {
      "text/html": [
       "<table class=\"dataframe\">\n",
       "<caption>A data.frame: 6 x 19</caption>\n",
       "<thead>\n",
       "\t<tr><th></th><th scope=col>id</th><th scope=col>hc1_2</th><th scope=col>hc1_4</th><th scope=col>hc2_15</th><th scope=col>hc2_17</th><th scope=col>hc3_1</th><th scope=col>hc3_5</th><th scope=col>hc3_7</th><th scope=col>hc3_10</th><th scope=col>hc3_11</th><th scope=col>ss2_9</th><th scope=col>ss2_14</th><th scope=col>ss2_18</th><th scope=col>ss3_3</th><th scope=col>ss3_14</th><th scope=col>ss3_15</th><th scope=col>ss3_16</th><th scope=col>ss3_20</th><th scope=col>ss5_18</th></tr>\n",
       "\t<tr><th></th><th scope=col>&lt;chr&gt;</th><th scope=col>&lt;dbl&gt;</th><th scope=col>&lt;dbl&gt;</th><th scope=col>&lt;dbl&gt;</th><th scope=col>&lt;dbl&gt;</th><th scope=col>&lt;dbl&gt;</th><th scope=col>&lt;dbl&gt;</th><th scope=col>&lt;dbl&gt;</th><th scope=col>&lt;dbl&gt;</th><th scope=col>&lt;dbl&gt;</th><th scope=col>&lt;dbl&gt;</th><th scope=col>&lt;dbl&gt;</th><th scope=col>&lt;dbl&gt;</th><th scope=col>&lt;dbl&gt;</th><th scope=col>&lt;dbl&gt;</th><th scope=col>&lt;dbl&gt;</th><th scope=col>&lt;dbl&gt;</th><th scope=col>&lt;dbl&gt;</th><th scope=col>&lt;dbl&gt;</th></tr>\n",
       "</thead>\n",
       "<tbody>\n",
       "\t<tr><th scope=row>1</th><td>Contig0.38965.38965</td><td>-0.2075038</td><td> 1.3466835</td><td>-0.3504148</td><td>-0.7519938</td><td>-1.0632442</td><td> 0.2075038</td><td> 0.5009045</td><td>-0.5009045</td><td> 1.06324418</td><td> 1.82174853</td><td> 0.50090447</td><td>-0.06872882</td><td> 0.8465244</td><td>-0.7519938</td><td>-1.82174853</td><td>-1.3466835</td><td> 0.5009045</td><td> 0.06872882</td></tr>\n",
       "\t<tr><th scope=row>2</th><td>Contig0.38973.38973</td><td> 0.8465244</td><td> 1.8217485</td><td> 0.3504148</td><td>-0.2075038</td><td> 0.1377842</td><td>-0.8465244</td><td> 1.3466835</td><td> 0.5009045</td><td>-1.06324418</td><td> 0.66375159</td><td>-1.34668349</td><td>-0.66375159</td><td>-1.8217485</td><td>-0.4244566</td><td>-0.06872882</td><td> 0.1377842</td><td>-0.4244566</td><td> 1.06324418</td></tr>\n",
       "\t<tr><th scope=row>3</th><td>Contig0.39226.39226</td><td>-0.2075038</td><td> 1.3466835</td><td>-0.5009045</td><td> 0.2075038</td><td>-1.3466835</td><td> 0.8465244</td><td>-0.6637516</td><td> 0.6637516</td><td> 0.06872882</td><td>-0.06872882</td><td> 1.82174853</td><td> 1.06324418</td><td> 0.3504148</td><td>-0.3504148</td><td>-1.06324418</td><td> 0.5009045</td><td>-0.8465244</td><td>-1.82174853</td></tr>\n",
       "\t<tr><th scope=row>4</th><td>Contig0.39234.39234</td><td> 0.5804016</td><td>-0.8465244</td><td> 0.2075038</td><td>-1.3466835</td><td> 0.3504148</td><td> 0.8465244</td><td>-0.5009045</td><td>-0.2782481</td><td>-1.06324418</td><td> 0.06872882</td><td>-1.82174853</td><td>-0.06872882</td><td> 1.0632442</td><td> 0.5804016</td><td> 1.34668349</td><td>-0.6637516</td><td> 1.8217485</td><td>-0.27824809</td></tr>\n",
       "\t<tr><th scope=row>5</th><td>Contig0.39252.39252</td><td>-0.1377842</td><td> 0.2782481</td><td>-0.8465244</td><td> 0.5804016</td><td> 0.8465244</td><td> 0.2782481</td><td> 1.1929813</td><td>-0.1377842</td><td> 0.06872882</td><td>-0.66375159</td><td>-1.19298126</td><td> 0.58040159</td><td> 1.8217485</td><td>-0.4244566</td><td>-0.42445656</td><td>-1.8217485</td><td>-1.1929813</td><td> 1.19298126</td></tr>\n",
       "\t<tr><th scope=row>6</th><td>Contig0.64179.64179</td><td> 0.5009045</td><td>-0.6637516</td><td> 0.2075038</td><td> 0.8465244</td><td>-0.2782481</td><td> 1.3466835</td><td>-1.8217485</td><td> 0.6637516</td><td>-0.84652439</td><td>-1.06324418</td><td> 0.06872882</td><td>-0.27824809</td><td>-0.2782481</td><td>-0.2782481</td><td> 0.35041483</td><td> 1.3466835</td><td> 1.3466835</td><td>-1.34668349</td></tr>\n",
       "</tbody>\n",
       "</table>\n"
      ],
      "text/latex": [
       "A data.frame: 6 x 19\n",
       "\\begin{tabular}{r|lllllllllllllllllll}\n",
       "  & id & hc1\\_2 & hc1\\_4 & hc2\\_15 & hc2\\_17 & hc3\\_1 & hc3\\_5 & hc3\\_7 & hc3\\_10 & hc3\\_11 & ss2\\_9 & ss2\\_14 & ss2\\_18 & ss3\\_3 & ss3\\_14 & ss3\\_15 & ss3\\_16 & ss3\\_20 & ss5\\_18\\\\\n",
       "  & <chr> & <dbl> & <dbl> & <dbl> & <dbl> & <dbl> & <dbl> & <dbl> & <dbl> & <dbl> & <dbl> & <dbl> & <dbl> & <dbl> & <dbl> & <dbl> & <dbl> & <dbl> & <dbl>\\\\\n",
       "\\hline\n",
       "\t1 & Contig0.38965.38965 & -0.2075038 &  1.3466835 & -0.3504148 & -0.7519938 & -1.0632442 &  0.2075038 &  0.5009045 & -0.5009045 &  1.06324418 &  1.82174853 &  0.50090447 & -0.06872882 &  0.8465244 & -0.7519938 & -1.82174853 & -1.3466835 &  0.5009045 &  0.06872882\\\\\n",
       "\t2 & Contig0.38973.38973 &  0.8465244 &  1.8217485 &  0.3504148 & -0.2075038 &  0.1377842 & -0.8465244 &  1.3466835 &  0.5009045 & -1.06324418 &  0.66375159 & -1.34668349 & -0.66375159 & -1.8217485 & -0.4244566 & -0.06872882 &  0.1377842 & -0.4244566 &  1.06324418\\\\\n",
       "\t3 & Contig0.39226.39226 & -0.2075038 &  1.3466835 & -0.5009045 &  0.2075038 & -1.3466835 &  0.8465244 & -0.6637516 &  0.6637516 &  0.06872882 & -0.06872882 &  1.82174853 &  1.06324418 &  0.3504148 & -0.3504148 & -1.06324418 &  0.5009045 & -0.8465244 & -1.82174853\\\\\n",
       "\t4 & Contig0.39234.39234 &  0.5804016 & -0.8465244 &  0.2075038 & -1.3466835 &  0.3504148 &  0.8465244 & -0.5009045 & -0.2782481 & -1.06324418 &  0.06872882 & -1.82174853 & -0.06872882 &  1.0632442 &  0.5804016 &  1.34668349 & -0.6637516 &  1.8217485 & -0.27824809\\\\\n",
       "\t5 & Contig0.39252.39252 & -0.1377842 &  0.2782481 & -0.8465244 &  0.5804016 &  0.8465244 &  0.2782481 &  1.1929813 & -0.1377842 &  0.06872882 & -0.66375159 & -1.19298126 &  0.58040159 &  1.8217485 & -0.4244566 & -0.42445656 & -1.8217485 & -1.1929813 &  1.19298126\\\\\n",
       "\t6 & Contig0.64179.64179 &  0.5009045 & -0.6637516 &  0.2075038 &  0.8465244 & -0.2782481 &  1.3466835 & -1.8217485 &  0.6637516 & -0.84652439 & -1.06324418 &  0.06872882 & -0.27824809 & -0.2782481 & -0.2782481 &  0.35041483 &  1.3466835 &  1.3466835 & -1.34668349\\\\\n",
       "\\end{tabular}\n"
      ],
      "text/markdown": [
       "\n",
       "A data.frame: 6 x 19\n",
       "\n",
       "| <!--/--> | id &lt;chr&gt; | hc1_2 &lt;dbl&gt; | hc1_4 &lt;dbl&gt; | hc2_15 &lt;dbl&gt; | hc2_17 &lt;dbl&gt; | hc3_1 &lt;dbl&gt; | hc3_5 &lt;dbl&gt; | hc3_7 &lt;dbl&gt; | hc3_10 &lt;dbl&gt; | hc3_11 &lt;dbl&gt; | ss2_9 &lt;dbl&gt; | ss2_14 &lt;dbl&gt; | ss2_18 &lt;dbl&gt; | ss3_3 &lt;dbl&gt; | ss3_14 &lt;dbl&gt; | ss3_15 &lt;dbl&gt; | ss3_16 &lt;dbl&gt; | ss3_20 &lt;dbl&gt; | ss5_18 &lt;dbl&gt; |\n",
       "|---|---|---|---|---|---|---|---|---|---|---|---|---|---|---|---|---|---|---|---|\n",
       "| 1 | Contig0.38965.38965 | -0.2075038 |  1.3466835 | -0.3504148 | -0.7519938 | -1.0632442 |  0.2075038 |  0.5009045 | -0.5009045 |  1.06324418 |  1.82174853 |  0.50090447 | -0.06872882 |  0.8465244 | -0.7519938 | -1.82174853 | -1.3466835 |  0.5009045 |  0.06872882 |\n",
       "| 2 | Contig0.38973.38973 |  0.8465244 |  1.8217485 |  0.3504148 | -0.2075038 |  0.1377842 | -0.8465244 |  1.3466835 |  0.5009045 | -1.06324418 |  0.66375159 | -1.34668349 | -0.66375159 | -1.8217485 | -0.4244566 | -0.06872882 |  0.1377842 | -0.4244566 |  1.06324418 |\n",
       "| 3 | Contig0.39226.39226 | -0.2075038 |  1.3466835 | -0.5009045 |  0.2075038 | -1.3466835 |  0.8465244 | -0.6637516 |  0.6637516 |  0.06872882 | -0.06872882 |  1.82174853 |  1.06324418 |  0.3504148 | -0.3504148 | -1.06324418 |  0.5009045 | -0.8465244 | -1.82174853 |\n",
       "| 4 | Contig0.39234.39234 |  0.5804016 | -0.8465244 |  0.2075038 | -1.3466835 |  0.3504148 |  0.8465244 | -0.5009045 | -0.2782481 | -1.06324418 |  0.06872882 | -1.82174853 | -0.06872882 |  1.0632442 |  0.5804016 |  1.34668349 | -0.6637516 |  1.8217485 | -0.27824809 |\n",
       "| 5 | Contig0.39252.39252 | -0.1377842 |  0.2782481 | -0.8465244 |  0.5804016 |  0.8465244 |  0.2782481 |  1.1929813 | -0.1377842 |  0.06872882 | -0.66375159 | -1.19298126 |  0.58040159 |  1.8217485 | -0.4244566 | -0.42445656 | -1.8217485 | -1.1929813 |  1.19298126 |\n",
       "| 6 | Contig0.64179.64179 |  0.5009045 | -0.6637516 |  0.2075038 |  0.8465244 | -0.2782481 |  1.3466835 | -1.8217485 |  0.6637516 | -0.84652439 | -1.06324418 |  0.06872882 | -0.27824809 | -0.2782481 | -0.2782481 |  0.35041483 |  1.3466835 |  1.3466835 | -1.34668349 |\n",
       "\n"
      ],
      "text/plain": [
       "  id                  hc1_2      hc1_4      hc2_15     hc2_17     hc3_1     \n",
       "1 Contig0.38965.38965 -0.2075038  1.3466835 -0.3504148 -0.7519938 -1.0632442\n",
       "2 Contig0.38973.38973  0.8465244  1.8217485  0.3504148 -0.2075038  0.1377842\n",
       "3 Contig0.39226.39226 -0.2075038  1.3466835 -0.5009045  0.2075038 -1.3466835\n",
       "4 Contig0.39234.39234  0.5804016 -0.8465244  0.2075038 -1.3466835  0.3504148\n",
       "5 Contig0.39252.39252 -0.1377842  0.2782481 -0.8465244  0.5804016  0.8465244\n",
       "6 Contig0.64179.64179  0.5009045 -0.6637516  0.2075038  0.8465244 -0.2782481\n",
       "  hc3_5      hc3_7      hc3_10     hc3_11      ss2_9       ss2_14     \n",
       "1  0.2075038  0.5009045 -0.5009045  1.06324418  1.82174853  0.50090447\n",
       "2 -0.8465244  1.3466835  0.5009045 -1.06324418  0.66375159 -1.34668349\n",
       "3  0.8465244 -0.6637516  0.6637516  0.06872882 -0.06872882  1.82174853\n",
       "4  0.8465244 -0.5009045 -0.2782481 -1.06324418  0.06872882 -1.82174853\n",
       "5  0.2782481  1.1929813 -0.1377842  0.06872882 -0.66375159 -1.19298126\n",
       "6  1.3466835 -1.8217485  0.6637516 -0.84652439 -1.06324418  0.06872882\n",
       "  ss2_18      ss3_3      ss3_14     ss3_15      ss3_16     ss3_20    \n",
       "1 -0.06872882  0.8465244 -0.7519938 -1.82174853 -1.3466835  0.5009045\n",
       "2 -0.66375159 -1.8217485 -0.4244566 -0.06872882  0.1377842 -0.4244566\n",
       "3  1.06324418  0.3504148 -0.3504148 -1.06324418  0.5009045 -0.8465244\n",
       "4 -0.06872882  1.0632442  0.5804016  1.34668349 -0.6637516  1.8217485\n",
       "5  0.58040159  1.8217485 -0.4244566 -0.42445656 -1.8217485 -1.1929813\n",
       "6 -0.27824809 -0.2782481 -0.2782481  0.35041483  1.3466835  1.3466835\n",
       "  ss5_18     \n",
       "1  0.06872882\n",
       "2  1.06324418\n",
       "3 -1.82174853\n",
       "4 -0.27824809\n",
       "5  1.19298126\n",
       "6 -1.34668349"
      ]
     },
     "metadata": {},
     "output_type": "display_data"
    }
   ],
   "source": [
    "write.table(dcN12,paste0(mQTL,\"meth_filter_12_RankNorm.tab\"),sep=\"\\t\",row.names = F,quote = F)\n",
    "head(dcN12)"
   ]
  },
  {
   "cell_type": "code",
   "execution_count": 32,
   "metadata": {},
   "outputs": [],
   "source": [
    "myRN <- function(x){\n",
    "    \n",
    "    y <- x[2:19][!is.na(x[2:19])]\n",
    "    n <- length(y)\n",
    "    k = 0.375  \n",
    "  # Ranks.\n",
    "      r <- rank(y)\n",
    "  \n",
    "  # Apply transformation.\n",
    "    out <- qnorm((r - k) / (n - 2 * k + 1))\n",
    "    x[2:19][!is.na(x[2:19])] <- out\n",
    "    return(x)\n",
    "}\n"
   ]
  },
  {
   "cell_type": "code",
   "execution_count": 33,
   "metadata": {},
   "outputs": [],
   "source": [
    "df_list <- lapply(1:nrow(dc), function(r_num) { myRN(dc[r_num, ]) })\n",
    "dcN<- do.call(rbind, df_list)"
   ]
  },
  {
   "cell_type": "code",
   "execution_count": 16,
   "metadata": {},
   "outputs": [
    {
     "data": {
      "text/html": [
       "<table class=\"dataframe\">\n",
       "<caption>A data.frame: 6 × 19</caption>\n",
       "<thead>\n",
       "\t<tr><th></th><th scope=col>id</th><th scope=col>hc1_2</th><th scope=col>hc1_4</th><th scope=col>hc2_15</th><th scope=col>hc2_17</th><th scope=col>hc3_1</th><th scope=col>hc3_5</th><th scope=col>hc3_7</th><th scope=col>hc3_10</th><th scope=col>hc3_11</th><th scope=col>ss2_9</th><th scope=col>ss2_14</th><th scope=col>ss2_18</th><th scope=col>ss3_3</th><th scope=col>ss3_14</th><th scope=col>ss3_15</th><th scope=col>ss3_16</th><th scope=col>ss3_20</th><th scope=col>ss5_18</th></tr>\n",
       "\t<tr><th></th><th scope=col>&lt;chr&gt;</th><th scope=col>&lt;dbl&gt;</th><th scope=col>&lt;dbl&gt;</th><th scope=col>&lt;dbl&gt;</th><th scope=col>&lt;dbl&gt;</th><th scope=col>&lt;dbl&gt;</th><th scope=col>&lt;dbl&gt;</th><th scope=col>&lt;dbl&gt;</th><th scope=col>&lt;dbl&gt;</th><th scope=col>&lt;dbl&gt;</th><th scope=col>&lt;dbl&gt;</th><th scope=col>&lt;dbl&gt;</th><th scope=col>&lt;dbl&gt;</th><th scope=col>&lt;dbl&gt;</th><th scope=col>&lt;dbl&gt;</th><th scope=col>&lt;dbl&gt;</th><th scope=col>&lt;dbl&gt;</th><th scope=col>&lt;dbl&gt;</th><th scope=col>&lt;dbl&gt;</th></tr>\n",
       "</thead>\n",
       "<tbody>\n",
       "\t<tr><th scope=row>1</th><td>Contig0_39226_39226</td><td>-0.1458270</td><td> 1.7961934</td><td>-0.4507442</td><td> 0.4507442</td><td>-1.3153098</td><td>0.8059185</td><td>-0.6185211</td><td> 1.0271543</td><td> 0.1458270</td><td> 0.0000000</td><td>       NA</td><td> 1.3153098</td><td> 0.2948402</td><td>-0.2948402</td><td>-1.0271543</td><td> 0.6185211</td><td>-0.8059185</td><td>-1.7961934</td></tr>\n",
       "\t<tr><th scope=row>2</th><td>Contig0_39234_39234</td><td> 0.3716615</td><td>-1.0271543</td><td> 0.1458270</td><td>-1.7961934</td><td> 0.8059185</td><td>1.0271543</td><td>-0.6185211</td><td>-0.2948402</td><td>-1.3153098</td><td> 0.0000000</td><td>       NA</td><td>-0.1458270</td><td> 0.6185211</td><td> 0.3716615</td><td> 1.3153098</td><td>-0.8059185</td><td> 1.7961934</td><td>-0.4507442</td></tr>\n",
       "\t<tr><th scope=row>3</th><td>Contig0_64179_64179</td><td> 0.3348942</td><td>-0.7137046</td><td>        NA</td><td> 0.7137046</td><td>-0.4232249</td><td>1.2450462</td><td>-1.7393842</td><td> 0.5149938</td><td>-0.9457771</td><td>        NA</td><td>       NA</td><td>-0.1651163</td><td>-0.4232249</td><td> 0.0000000</td><td> 0.1651163</td><td> 1.2450462</td><td> 1.2450462</td><td>-1.2450462</td></tr>\n",
       "\t<tr><th scope=row>4</th><td>Contig0_71523_71523</td><td> 0.9109555</td><td> 0.9109555</td><td> 0.9109555</td><td> 0.0000000</td><td>-1.3153098</td><td>       NA</td><td>-1.7961934</td><td> 0.9109555</td><td> 0.1458270</td><td>-0.8059185</td><td>0.2948402</td><td> 0.9109555</td><td>-0.6185211</td><td>-0.3716615</td><td>-0.1458270</td><td>-0.3716615</td><td>-1.0271543</td><td> 0.9109555</td></tr>\n",
       "\t<tr><th scope=row>5</th><td>Contig0_71533_71533</td><td> 0.5804016</td><td> 0.5804016</td><td>-1.0632442</td><td> 0.5804016</td><td> 0.5804016</td><td>0.5804016</td><td>-1.8217485</td><td> 0.5804016</td><td> 0.5804016</td><td> 0.5804016</td><td>0.5804016</td><td>-1.3466835</td><td>-0.2075038</td><td>-0.5804016</td><td>-0.8465244</td><td>-0.5804016</td><td> 0.5804016</td><td>-0.3504148</td></tr>\n",
       "\t<tr><th scope=row>6</th><td>Contig0_71542_71542</td><td>-0.8465244</td><td> 0.5009045</td><td> 0.5009045</td><td> 0.5009045</td><td> 0.5009045</td><td>0.5009045</td><td> 0.5009045</td><td>-1.1929813</td><td> 0.5009045</td><td> 0.5009045</td><td>0.5009045</td><td> 0.5009045</td><td> 0.5009045</td><td>-0.5804016</td><td>-0.3504148</td><td>-1.8217485</td><td>-1.1929813</td><td>-0.5804016</td></tr>\n",
       "</tbody>\n",
       "</table>\n"
      ],
      "text/latex": [
       "A data.frame: 6 × 19\n",
       "\\begin{tabular}{r|lllllllllllllllllll}\n",
       "  & id & hc1\\_2 & hc1\\_4 & hc2\\_15 & hc2\\_17 & hc3\\_1 & hc3\\_5 & hc3\\_7 & hc3\\_10 & hc3\\_11 & ss2\\_9 & ss2\\_14 & ss2\\_18 & ss3\\_3 & ss3\\_14 & ss3\\_15 & ss3\\_16 & ss3\\_20 & ss5\\_18\\\\\n",
       "  & <chr> & <dbl> & <dbl> & <dbl> & <dbl> & <dbl> & <dbl> & <dbl> & <dbl> & <dbl> & <dbl> & <dbl> & <dbl> & <dbl> & <dbl> & <dbl> & <dbl> & <dbl> & <dbl>\\\\\n",
       "\\hline\n",
       "\t1 & Contig0\\_39226\\_39226 & -0.1458270 &  1.7961934 & -0.4507442 &  0.4507442 & -1.3153098 & 0.8059185 & -0.6185211 &  1.0271543 &  0.1458270 &  0.0000000 &        NA &  1.3153098 &  0.2948402 & -0.2948402 & -1.0271543 &  0.6185211 & -0.8059185 & -1.7961934\\\\\n",
       "\t2 & Contig0\\_39234\\_39234 &  0.3716615 & -1.0271543 &  0.1458270 & -1.7961934 &  0.8059185 & 1.0271543 & -0.6185211 & -0.2948402 & -1.3153098 &  0.0000000 &        NA & -0.1458270 &  0.6185211 &  0.3716615 &  1.3153098 & -0.8059185 &  1.7961934 & -0.4507442\\\\\n",
       "\t3 & Contig0\\_64179\\_64179 &  0.3348942 & -0.7137046 &         NA &  0.7137046 & -0.4232249 & 1.2450462 & -1.7393842 &  0.5149938 & -0.9457771 &         NA &        NA & -0.1651163 & -0.4232249 &  0.0000000 &  0.1651163 &  1.2450462 &  1.2450462 & -1.2450462\\\\\n",
       "\t4 & Contig0\\_71523\\_71523 &  0.9109555 &  0.9109555 &  0.9109555 &  0.0000000 & -1.3153098 &        NA & -1.7961934 &  0.9109555 &  0.1458270 & -0.8059185 & 0.2948402 &  0.9109555 & -0.6185211 & -0.3716615 & -0.1458270 & -0.3716615 & -1.0271543 &  0.9109555\\\\\n",
       "\t5 & Contig0\\_71533\\_71533 &  0.5804016 &  0.5804016 & -1.0632442 &  0.5804016 &  0.5804016 & 0.5804016 & -1.8217485 &  0.5804016 &  0.5804016 &  0.5804016 & 0.5804016 & -1.3466835 & -0.2075038 & -0.5804016 & -0.8465244 & -0.5804016 &  0.5804016 & -0.3504148\\\\\n",
       "\t6 & Contig0\\_71542\\_71542 & -0.8465244 &  0.5009045 &  0.5009045 &  0.5009045 &  0.5009045 & 0.5009045 &  0.5009045 & -1.1929813 &  0.5009045 &  0.5009045 & 0.5009045 &  0.5009045 &  0.5009045 & -0.5804016 & -0.3504148 & -1.8217485 & -1.1929813 & -0.5804016\\\\\n",
       "\\end{tabular}\n"
      ],
      "text/markdown": [
       "\n",
       "A data.frame: 6 × 19\n",
       "\n",
       "| <!--/--> | id &lt;chr&gt; | hc1_2 &lt;dbl&gt; | hc1_4 &lt;dbl&gt; | hc2_15 &lt;dbl&gt; | hc2_17 &lt;dbl&gt; | hc3_1 &lt;dbl&gt; | hc3_5 &lt;dbl&gt; | hc3_7 &lt;dbl&gt; | hc3_10 &lt;dbl&gt; | hc3_11 &lt;dbl&gt; | ss2_9 &lt;dbl&gt; | ss2_14 &lt;dbl&gt; | ss2_18 &lt;dbl&gt; | ss3_3 &lt;dbl&gt; | ss3_14 &lt;dbl&gt; | ss3_15 &lt;dbl&gt; | ss3_16 &lt;dbl&gt; | ss3_20 &lt;dbl&gt; | ss5_18 &lt;dbl&gt; |\n",
       "|---|---|---|---|---|---|---|---|---|---|---|---|---|---|---|---|---|---|---|---|\n",
       "| 1 | Contig0_39226_39226 | -0.1458270 |  1.7961934 | -0.4507442 |  0.4507442 | -1.3153098 | 0.8059185 | -0.6185211 |  1.0271543 |  0.1458270 |  0.0000000 |        NA |  1.3153098 |  0.2948402 | -0.2948402 | -1.0271543 |  0.6185211 | -0.8059185 | -1.7961934 |\n",
       "| 2 | Contig0_39234_39234 |  0.3716615 | -1.0271543 |  0.1458270 | -1.7961934 |  0.8059185 | 1.0271543 | -0.6185211 | -0.2948402 | -1.3153098 |  0.0000000 |        NA | -0.1458270 |  0.6185211 |  0.3716615 |  1.3153098 | -0.8059185 |  1.7961934 | -0.4507442 |\n",
       "| 3 | Contig0_64179_64179 |  0.3348942 | -0.7137046 |         NA |  0.7137046 | -0.4232249 | 1.2450462 | -1.7393842 |  0.5149938 | -0.9457771 |         NA |        NA | -0.1651163 | -0.4232249 |  0.0000000 |  0.1651163 |  1.2450462 |  1.2450462 | -1.2450462 |\n",
       "| 4 | Contig0_71523_71523 |  0.9109555 |  0.9109555 |  0.9109555 |  0.0000000 | -1.3153098 |        NA | -1.7961934 |  0.9109555 |  0.1458270 | -0.8059185 | 0.2948402 |  0.9109555 | -0.6185211 | -0.3716615 | -0.1458270 | -0.3716615 | -1.0271543 |  0.9109555 |\n",
       "| 5 | Contig0_71533_71533 |  0.5804016 |  0.5804016 | -1.0632442 |  0.5804016 |  0.5804016 | 0.5804016 | -1.8217485 |  0.5804016 |  0.5804016 |  0.5804016 | 0.5804016 | -1.3466835 | -0.2075038 | -0.5804016 | -0.8465244 | -0.5804016 |  0.5804016 | -0.3504148 |\n",
       "| 6 | Contig0_71542_71542 | -0.8465244 |  0.5009045 |  0.5009045 |  0.5009045 |  0.5009045 | 0.5009045 |  0.5009045 | -1.1929813 |  0.5009045 |  0.5009045 | 0.5009045 |  0.5009045 |  0.5009045 | -0.5804016 | -0.3504148 | -1.8217485 | -1.1929813 | -0.5804016 |\n",
       "\n"
      ],
      "text/plain": [
       "  id                  hc1_2      hc1_4      hc2_15     hc2_17     hc3_1     \n",
       "1 Contig0_39226_39226 -0.1458270  1.7961934 -0.4507442  0.4507442 -1.3153098\n",
       "2 Contig0_39234_39234  0.3716615 -1.0271543  0.1458270 -1.7961934  0.8059185\n",
       "3 Contig0_64179_64179  0.3348942 -0.7137046         NA  0.7137046 -0.4232249\n",
       "4 Contig0_71523_71523  0.9109555  0.9109555  0.9109555  0.0000000 -1.3153098\n",
       "5 Contig0_71533_71533  0.5804016  0.5804016 -1.0632442  0.5804016  0.5804016\n",
       "6 Contig0_71542_71542 -0.8465244  0.5009045  0.5009045  0.5009045  0.5009045\n",
       "  hc3_5     hc3_7      hc3_10     hc3_11     ss2_9      ss2_14    ss2_18    \n",
       "1 0.8059185 -0.6185211  1.0271543  0.1458270  0.0000000        NA  1.3153098\n",
       "2 1.0271543 -0.6185211 -0.2948402 -1.3153098  0.0000000        NA -0.1458270\n",
       "3 1.2450462 -1.7393842  0.5149938 -0.9457771         NA        NA -0.1651163\n",
       "4        NA -1.7961934  0.9109555  0.1458270 -0.8059185 0.2948402  0.9109555\n",
       "5 0.5804016 -1.8217485  0.5804016  0.5804016  0.5804016 0.5804016 -1.3466835\n",
       "6 0.5009045  0.5009045 -1.1929813  0.5009045  0.5009045 0.5009045  0.5009045\n",
       "  ss3_3      ss3_14     ss3_15     ss3_16     ss3_20     ss5_18    \n",
       "1  0.2948402 -0.2948402 -1.0271543  0.6185211 -0.8059185 -1.7961934\n",
       "2  0.6185211  0.3716615  1.3153098 -0.8059185  1.7961934 -0.4507442\n",
       "3 -0.4232249  0.0000000  0.1651163  1.2450462  1.2450462 -1.2450462\n",
       "4 -0.6185211 -0.3716615 -0.1458270 -0.3716615 -1.0271543  0.9109555\n",
       "5 -0.2075038 -0.5804016 -0.8465244 -0.5804016  0.5804016 -0.3504148\n",
       "6  0.5009045 -0.5804016 -0.3504148 -1.8217485 -1.1929813 -0.5804016"
      ]
     },
     "metadata": {},
     "output_type": "display_data"
    }
   ],
   "source": [
    "write.table(dcN,paste0(mQTL,\"meth_filter_allsites_RankNorm.tab\"),sep=\"\\t\",row.names = F,quote = F)\n",
    "head(dcN)"
   ]
  },
  {
   "cell_type": "code",
   "execution_count": 53,
   "metadata": {
    "kernel": "R"
   },
   "outputs": [
    {
     "data": {
      "text/html": [
       "<table class=\"dataframe\">\n",
       "<caption>A data.frame: 6 x 4</caption>\n",
       "<thead>\n",
       "\t<tr><th></th><th scope=col>geneid</th><th scope=col>chr</th><th scope=col>s1</th><th scope=col>s2</th></tr>\n",
       "\t<tr><th></th><th scope=col>&lt;chr&gt;</th><th scope=col>&lt;chr&gt;</th><th scope=col>&lt;dbl&gt;</th><th scope=col>&lt;dbl&gt;</th></tr>\n",
       "</thead>\n",
       "<tbody>\n",
       "\t<tr><th scope=row>1</th><td>Contig0.38965.38965</td><td>Contig0</td><td>38965</td><td>38965</td></tr>\n",
       "\t<tr><th scope=row>2</th><td>Contig0.38973.38973</td><td>Contig0</td><td>38973</td><td>38973</td></tr>\n",
       "\t<tr><th scope=row>3</th><td>Contig0.39226.39226</td><td>Contig0</td><td>39226</td><td>39226</td></tr>\n",
       "\t<tr><th scope=row>4</th><td>Contig0.39234.39234</td><td>Contig0</td><td>39234</td><td>39234</td></tr>\n",
       "\t<tr><th scope=row>5</th><td>Contig0.39252.39252</td><td>Contig0</td><td>39252</td><td>39252</td></tr>\n",
       "\t<tr><th scope=row>6</th><td>Contig0.64179.64179</td><td>Contig0</td><td>64179</td><td>64179</td></tr>\n",
       "</tbody>\n",
       "</table>\n"
      ],
      "text/latex": [
       "A data.frame: 6 x 4\n",
       "\\begin{tabular}{r|llll}\n",
       "  & geneid & chr & s1 & s2\\\\\n",
       "  & <chr> & <chr> & <dbl> & <dbl>\\\\\n",
       "\\hline\n",
       "\t1 & Contig0.38965.38965 & Contig0 & 38965 & 38965\\\\\n",
       "\t2 & Contig0.38973.38973 & Contig0 & 38973 & 38973\\\\\n",
       "\t3 & Contig0.39226.39226 & Contig0 & 39226 & 39226\\\\\n",
       "\t4 & Contig0.39234.39234 & Contig0 & 39234 & 39234\\\\\n",
       "\t5 & Contig0.39252.39252 & Contig0 & 39252 & 39252\\\\\n",
       "\t6 & Contig0.64179.64179 & Contig0 & 64179 & 64179\\\\\n",
       "\\end{tabular}\n"
      ],
      "text/markdown": [
       "\n",
       "A data.frame: 6 x 4\n",
       "\n",
       "| <!--/--> | geneid &lt;chr&gt; | chr &lt;chr&gt; | s1 &lt;dbl&gt; | s2 &lt;dbl&gt; |\n",
       "|---|---|---|---|---|\n",
       "| 1 | Contig0.38965.38965 | Contig0 | 38965 | 38965 |\n",
       "| 2 | Contig0.38973.38973 | Contig0 | 38973 | 38973 |\n",
       "| 3 | Contig0.39226.39226 | Contig0 | 39226 | 39226 |\n",
       "| 4 | Contig0.39234.39234 | Contig0 | 39234 | 39234 |\n",
       "| 5 | Contig0.39252.39252 | Contig0 | 39252 | 39252 |\n",
       "| 6 | Contig0.64179.64179 | Contig0 | 64179 | 64179 |\n",
       "\n"
      ],
      "text/plain": [
       "  geneid              chr     s1    s2   \n",
       "1 Contig0.38965.38965 Contig0 38965 38965\n",
       "2 Contig0.38973.38973 Contig0 38973 38973\n",
       "3 Contig0.39226.39226 Contig0 39226 39226\n",
       "4 Contig0.39234.39234 Contig0 39234 39234\n",
       "5 Contig0.39252.39252 Contig0 39252 39252\n",
       "6 Contig0.64179.64179 Contig0 64179 64179"
      ]
     },
     "metadata": {},
     "output_type": "display_data"
    }
   ],
   "source": [
    "# get meth position file\n",
    "dcN12 <- as.data.frame(dcN12,stringsAsFactors = F)\n",
    "chr = sapply(strsplit(dcN12$id,\"[.]\"), '[',1)\n",
    "s1 = as.numeric(sapply(strsplit(dcN12$id,\"[.]\"), '[',2))\n",
    "s2 = as.numeric(sapply(strsplit(dcN12$id,\"[.]\"), '[',3))\n",
    "methpos <- as.data.frame(cbind(dcN12$id,chr,s1,s2),stringsAsFactors = F)\n",
    "methpos$s1 <- as.numeric(methpos$s1)\n",
    "methpos$s2 <- as.numeric(methpos$s2)\n",
    "colnames(methpos) <- c('geneid','chr','s1','s2')\n",
    "head(methpos)\n",
    "write.table(methpos,file=paste0(mQTL,\"methsitespos_12_mqtl.tab\"),quote = F,row.names = F,sep = \"\\t\")"
   ]
  },
  {
   "cell_type": "code",
   "execution_count": 54,
   "metadata": {
    "kernel": "R"
   },
   "outputs": [],
   "source": [
    "bed <- cbind(chr,s1,s2, dcN12$id)\n",
    "write.table(bed,file=paste0(mQTL,\"methsitepos_12_mqtl.BED\"),quote = F,row.names = F,col.names=F,sep = \"\\t\")"
   ]
  },
  {
   "cell_type": "code",
   "execution_count": 22,
   "metadata": {},
   "outputs": [
    {
     "data": {
      "text/html": [
       "<table class=\"dataframe\">\n",
       "<caption>A matrix: 6 x 10 of type dbl</caption>\n",
       "<thead>\n",
       "\t<tr><th></th><th scope=col>Axis1</th><th scope=col>Axis2</th><th scope=col>Axis3</th><th scope=col>Axis4</th><th scope=col>Axis5</th><th scope=col>Axis6</th><th scope=col>Axis7</th><th scope=col>Axis8</th><th scope=col>Axis9</th><th scope=col>Axis10</th></tr>\n",
       "</thead>\n",
       "<tbody>\n",
       "\t<tr><th scope=row>hc1_2</th><td>-30.85435</td><td> 62.502919</td><td>-39.126699</td><td>-6.682553</td><td> 8.322146</td><td> -0.7086301</td><td> 17.317525</td><td>  0.2936824</td><td>  0.8989264</td><td>-0.4304196</td></tr>\n",
       "\t<tr><th scope=row>hc1_4</th><td>-36.76328</td><td>-28.075423</td><td> -8.433215</td><td> 7.664743</td><td>-1.618463</td><td>-31.0590303</td><td> -9.857334</td><td> -8.3973498</td><td>-27.8566307</td><td>-0.9438271</td></tr>\n",
       "\t<tr><th scope=row>hc2_15</th><td>-19.18685</td><td> -5.184282</td><td>  7.364130</td><td>13.135168</td><td>-4.388550</td><td> 12.5090228</td><td>-22.747310</td><td> 24.8400420</td><td>-65.7538216</td><td>13.3349372</td></tr>\n",
       "\t<tr><th scope=row>hc2_17</th><td>-40.20686</td><td>-36.105270</td><td>-12.322371</td><td> 9.687674</td><td> 2.635277</td><td>-58.6181161</td><td>-13.758874</td><td>-23.7416069</td><td> 23.5703357</td><td>-6.2352104</td></tr>\n",
       "\t<tr><th scope=row>hc3_1</th><td>-37.82643</td><td>-36.942524</td><td> -5.509531</td><td> 1.518255</td><td>-4.692239</td><td> 48.6833461</td><td> 23.362380</td><td>  9.7129216</td><td> 21.5883136</td><td>-3.5359827</td></tr>\n",
       "\t<tr><th scope=row>hc3_5</th><td>-30.14360</td><td> 55.023133</td><td>-36.232789</td><td>-5.362076</td><td> 1.008838</td><td> -0.7074565</td><td> 14.193249</td><td> -9.9157602</td><td> -3.6163448</td><td> 3.2526797</td></tr>\n",
       "</tbody>\n",
       "</table>\n"
      ],
      "text/latex": [
       "A matrix: 6 x 10 of type dbl\n",
       "\\begin{tabular}{r|llllllllll}\n",
       "  & Axis1 & Axis2 & Axis3 & Axis4 & Axis5 & Axis6 & Axis7 & Axis8 & Axis9 & Axis10\\\\\n",
       "\\hline\n",
       "\thc1\\_2 & -30.85435 &  62.502919 & -39.126699 & -6.682553 &  8.322146 &  -0.7086301 &  17.317525 &   0.2936824 &   0.8989264 & -0.4304196\\\\\n",
       "\thc1\\_4 & -36.76328 & -28.075423 &  -8.433215 &  7.664743 & -1.618463 & -31.0590303 &  -9.857334 &  -8.3973498 & -27.8566307 & -0.9438271\\\\\n",
       "\thc2\\_15 & -19.18685 &  -5.184282 &   7.364130 & 13.135168 & -4.388550 &  12.5090228 & -22.747310 &  24.8400420 & -65.7538216 & 13.3349372\\\\\n",
       "\thc2\\_17 & -40.20686 & -36.105270 & -12.322371 &  9.687674 &  2.635277 & -58.6181161 & -13.758874 & -23.7416069 &  23.5703357 & -6.2352104\\\\\n",
       "\thc3\\_1 & -37.82643 & -36.942524 &  -5.509531 &  1.518255 & -4.692239 &  48.6833461 &  23.362380 &   9.7129216 &  21.5883136 & -3.5359827\\\\\n",
       "\thc3\\_5 & -30.14360 &  55.023133 & -36.232789 & -5.362076 &  1.008838 &  -0.7074565 &  14.193249 &  -9.9157602 &  -3.6163448 &  3.2526797\\\\\n",
       "\\end{tabular}\n"
      ],
      "text/markdown": [
       "\n",
       "A matrix: 6 x 10 of type dbl\n",
       "\n",
       "| <!--/--> | Axis1 | Axis2 | Axis3 | Axis4 | Axis5 | Axis6 | Axis7 | Axis8 | Axis9 | Axis10 |\n",
       "|---|---|---|---|---|---|---|---|---|---|---|\n",
       "| hc1_2 | -30.85435 |  62.502919 | -39.126699 | -6.682553 |  8.322146 |  -0.7086301 |  17.317525 |   0.2936824 |   0.8989264 | -0.4304196 |\n",
       "| hc1_4 | -36.76328 | -28.075423 |  -8.433215 |  7.664743 | -1.618463 | -31.0590303 |  -9.857334 |  -8.3973498 | -27.8566307 | -0.9438271 |\n",
       "| hc2_15 | -19.18685 |  -5.184282 |   7.364130 | 13.135168 | -4.388550 |  12.5090228 | -22.747310 |  24.8400420 | -65.7538216 | 13.3349372 |\n",
       "| hc2_17 | -40.20686 | -36.105270 | -12.322371 |  9.687674 |  2.635277 | -58.6181161 | -13.758874 | -23.7416069 |  23.5703357 | -6.2352104 |\n",
       "| hc3_1 | -37.82643 | -36.942524 |  -5.509531 |  1.518255 | -4.692239 |  48.6833461 |  23.362380 |   9.7129216 |  21.5883136 | -3.5359827 |\n",
       "| hc3_5 | -30.14360 |  55.023133 | -36.232789 | -5.362076 |  1.008838 |  -0.7074565 |  14.193249 |  -9.9157602 |  -3.6163448 |  3.2526797 |\n",
       "\n"
      ],
      "text/plain": [
       "       Axis1     Axis2      Axis3      Axis4     Axis5     Axis6      \n",
       "hc1_2  -30.85435  62.502919 -39.126699 -6.682553  8.322146  -0.7086301\n",
       "hc1_4  -36.76328 -28.075423  -8.433215  7.664743 -1.618463 -31.0590303\n",
       "hc2_15 -19.18685  -5.184282   7.364130 13.135168 -4.388550  12.5090228\n",
       "hc2_17 -40.20686 -36.105270 -12.322371  9.687674  2.635277 -58.6181161\n",
       "hc3_1  -37.82643 -36.942524  -5.509531  1.518255 -4.692239  48.6833461\n",
       "hc3_5  -30.14360  55.023133 -36.232789 -5.362076  1.008838  -0.7074565\n",
       "       Axis7      Axis8       Axis9       Axis10    \n",
       "hc1_2   17.317525   0.2936824   0.8989264 -0.4304196\n",
       "hc1_4   -9.857334  -8.3973498 -27.8566307 -0.9438271\n",
       "hc2_15 -22.747310  24.8400420 -65.7538216 13.3349372\n",
       "hc2_17 -13.758874 -23.7416069  23.5703357 -6.2352104\n",
       "hc3_1   23.362380   9.7129216  21.5883136 -3.5359827\n",
       "hc3_5   14.193249  -9.9157602  -3.6163448  3.2526797"
      ]
     },
     "metadata": {},
     "output_type": "display_data"
    }
   ],
   "source": [
    "pca <- as.matrix(read.table(\"../analyses/2bRAD/PCA_MBD.tab\"))\n",
    "rownames(pca) <- mbdorder\n",
    "head(pca)"
   ]
  },
  {
   "cell_type": "code",
   "execution_count": 23,
   "metadata": {
    "kernel": "R"
   },
   "outputs": [],
   "source": [
    "# covariate\n",
    "id = mbdorder\n",
    "covariate <- rbind(id,t(pca[,1:3]))\n",
    "write.table(covariate,paste0(mQTL,\"covariate_PCA.tab\"),sep=\"\\t\",row.names=T,quote=F, col.names=F)"
   ]
  },
  {
   "cell_type": "code",
   "execution_count": 31,
   "metadata": {
    "kernel": "Bash"
   },
   "outputs": [
    {
     "name": "stdout",
     "output_type": "stream",
     "text": [
      "id\thc1_2\thc1_4\thc2_15\thc2_17\thc3_1\thc3_5\thc3_7\thc3_10\thc3_11\tss2_9\tss2_14\tss2_18\tss3_3\tss3_14\tss3_15\tss3_16\tss3_20\tss5_18\n",
      "Axis1\t-30.8543488156875\t-36.7632815520323\t-19.1868459086878\t-40.2068600553614\t-37.8264309307188\t-30.1435952942239\t-43.147805064287\t-17.1723893577857\t-19.2105366809675\t32.1947376175343\t32.1172093930606\t37.9439432633294\t46.4649184865142\t38.2455275871164\t4.05428367372196\t32.3602240933444\t5.85256860489092\t45.2786809402398\n",
      "Axis2\t62.5029187081274\t-28.0754231683899\t-5.18428177862099\t-36.1052703640299\t-36.9425235689188\t55.0231331543907\t-40.1710197533959\t33.7748409144085\t6.78545360109611\t-0.74738750177114\t-0.40058296272575\t-7.4312127359522\t-5.83359739260907\t-7.36625377184771\t26.7017972049959\t-4.00565592110267\t-1.10587050768295\t-11.419064155972\n",
      "Axis3\t-39.1266989566545\t-8.43321512801454\t7.36412985077157\t-12.3223707969935\t-5.5095307711699\t-36.2327888745743\t-7.61175942057101\t24.5313250984492\t48.3586753838834\t-7.02619515527421\t-3.77094356512209\t-9.53265297227056\t-16.2836332825772\t-6.53907187632134\t66.2491171551337\t-11.511127527083\t28.3627985667502\t-10.9660577283629\n"
     ]
    }
   ],
   "source": [
    "js(\"cat ../analyses/2bRAD/mQTL/covariate_PCA.tab\")"
   ]
  },
  {
   "cell_type": "code",
   "execution_count": 55,
   "metadata": {
    "kernel": "Bash"
   },
   "outputs": [
    {
     "name": "stdout",
     "output_type": "stream",
     "text": [
      "\n"
     ]
    }
   ],
   "source": [
    "js(\"bedtools window -w 50000 -u -a ../analyses/2bRAD/mQTL_5x/snppos_mqtl_05_m2pop.BED -b ../analyses/2bRAD/mQTL_5x/methsitepos_12_mqtl.BED > ../analyses/2bRAD/mQTL_5x/snpAmeth12B_50kb.txt\")"
   ]
  },
  {
   "cell_type": "code",
   "execution_count": 56,
   "metadata": {
    "kernel": "Bash"
   },
   "outputs": [
    {
     "name": "stdout",
     "output_type": "stream",
     "text": [
      "\n"
     ]
    }
   ],
   "source": [
    "js(\"bedtools window -w 50000 -u -b ../analyses/2bRAD/mQTL_5x/snppos_mqtl_05_m2pop.BED -a ../analyses/2bRAD/mQTL_5x/methsitepos_12_mqtl.BED > ../analyses/2bRAD/mQTL_5x/snpBmeth12A_50kb.txt\")"
   ]
  },
  {
   "cell_type": "code",
   "execution_count": 57,
   "metadata": {
    "kernel": "Bash"
   },
   "outputs": [
    {
     "name": "stdout",
     "output_type": "stream",
     "text": [
      "853 ../analyses/2bRAD/mQTL_5x/snpAmeth12B_50kb.txt\n"
     ]
    }
   ],
   "source": [
    "# how many SNPs are within 50kb of a methylated site\n",
    "js(\"wc -l ../analyses/2bRAD/mQTL_5x/snpAmeth12B_50kb.txt\")"
   ]
  },
  {
   "cell_type": "code",
   "execution_count": 58,
   "metadata": {
    "kernel": "Bash"
   },
   "outputs": [
    {
     "name": "stdout",
     "output_type": "stream",
     "text": [
      "10320 ../analyses/2bRAD/mQTL_5x/snpBmeth12A_50kb.txt\n"
     ]
    }
   ],
   "source": [
    "#how many mbd sites within 50kb of a SNP\n",
    "js(\"wc -l ../analyses/2bRAD/mQTL_5x/snpBmeth12A_50kb.txt\")"
   ]
  },
  {
   "cell_type": "code",
   "execution_count": 59,
   "metadata": {},
   "outputs": [
    {
     "name": "stdout",
     "output_type": "stream",
     "text": [
      "Contig0\t64179\t64179\tContig0.64179.64179\n",
      "Contig0\t64210\t64210\tContig0.64210.64210\n",
      "Contig0\t64217\t64217\tContig0.64217.64217\n",
      "Contig0\t64238\t64238\tContig0.64238.64238\n",
      "Contig0\t64253\t64253\tContig0.64253.64253\n",
      "Contig0\t64276\t64276\tContig0.64276.64276\n",
      "Contig0\t64285\t64285\tContig0.64285.64285\n",
      "Contig0\t64288\t64288\tContig0.64288.64288\n",
      "Contig0\t64309\t64309\tContig0.64309.64309\n",
      "Contig0\t64353\t64353\tContig0.64353.64353\n"
     ]
    }
   ],
   "source": [
    "js(\"head ../analyses/2bRAD/mQTL_5x/snpBmeth12A_50kb.txt\")"
   ]
  },
  {
   "cell_type": "markdown",
   "metadata": {
    "kernel": "R"
   },
   "source": [
    "## Run eQTL"
   ]
  },
  {
   "cell_type": "code",
   "execution_count": 60,
   "metadata": {
    "kernel": "R"
   },
   "outputs": [],
   "source": [
    "# set parameters\n",
    "useModel = modelLINEAR\n",
    "snpfile = paste0(mQTL,\"MBD_HCSS_Afilt32m70_maf05_m2pop_format.tab\")\n",
    "methfile = paste0(mQTL,\"meth_filter_12_RankNorm.tab\")\n",
    "covfile = paste0(mQTL,\"covariate_PCA.tab\")\n",
    "\n",
    "snposfile = paste0(mQTL,\"snppos_mqtl_05_m2pop.tab\")\n",
    "\n",
    "pvOutputThresholdcis = 0.01\n",
    "pvOutputThresholdtrans = 0.01\n",
    "output_file_name_cis = paste0(mQTL,\"mQTL_sites_cis50kb_12_p01_maf05.txt\")\n",
    "output_file_name_tra = paste0(mQTL,\"mQTL_sites_trans50kb_12_p01_maf05.txt\")\n",
    "#errorCovariance = rab2;\n",
    "errorCovariance = numeric()\n",
    "# Distance for local gene-SNP pairs\n",
    "cisDist = 50000  #50kb"
   ]
  },
  {
   "cell_type": "code",
   "execution_count": 25,
   "metadata": {
    "kernel": "R"
   },
   "outputs": [
    {
     "name": "stderr",
     "output_type": "stream",
     "text": [
      "Rows read: 2,000\n",
      "\n",
      "Rows read: 2860 done.\n",
      "\n"
     ]
    }
   ],
   "source": [
    "snps = SlicedData$new();\n",
    "snps$fileDelimiter = \"\\t\";      # the TAB character\n",
    "snps$fileOmitCharacters = \"NA\"; # denote missing values;\n",
    "snps$fileSkipRows = 1;          # one row of column labels\n",
    "snps$fileSkipColumns = 1;       # one column of row labels\n",
    "snps$fileSliceSize = 2000;      # read file in pieces of 2,000 rows\n",
    "snps$LoadFile( snpfile )"
   ]
  },
  {
   "cell_type": "code",
   "execution_count": 61,
   "metadata": {
    "kernel": "R",
    "scrolled": true,
    "tags": []
   },
   "outputs": [
    {
     "name": "stderr",
     "output_type": "stream",
     "text": [
      "Rows read: 2,000\n",
      "\n",
      "Rows read: 4,000\n",
      "\n",
      "Rows read: 6,000\n",
      "\n",
      "Rows read: 8,000\n",
      "\n",
      "Rows read: 10,000\n",
      "\n",
      "Rows read: 12,000\n",
      "\n",
      "Rows read: 14,000\n",
      "\n",
      "Rows read: 16,000\n",
      "\n",
      "Rows read: 18,000\n",
      "\n",
      "Rows read: 20,000\n",
      "\n",
      "Rows read: 22,000\n",
      "\n",
      "Rows read: 24,000\n",
      "\n",
      "Rows read: 26,000\n",
      "\n",
      "Rows read: 28,000\n",
      "\n",
      "Rows read: 30,000\n",
      "\n",
      "Rows read: 32,000\n",
      "\n",
      "Rows read: 34,000\n",
      "\n",
      "Rows read: 36,000\n",
      "\n",
      "Rows read: 38,000\n",
      "\n",
      "Rows read: 40,000\n",
      "\n",
      "Rows read: 42,000\n",
      "\n",
      "Rows read: 44,000\n",
      "\n",
      "Rows read: 46,000\n",
      "\n",
      "Rows read: 48,000\n",
      "\n",
      "Rows read: 50,000\n",
      "\n",
      "Rows read: 52,000\n",
      "\n",
      "Rows read: 54,000\n",
      "\n",
      "Rows read: 56,000\n",
      "\n",
      "Rows read: 58,000\n",
      "\n",
      "Rows read: 60,000\n",
      "\n",
      "Rows read: 62,000\n",
      "\n",
      "Rows read: 64,000\n",
      "\n",
      "Rows read: 66,000\n",
      "\n",
      "Rows read: 68,000\n",
      "\n",
      "Rows read: 70,000\n",
      "\n",
      "Rows read: 72,000\n",
      "\n",
      "Rows read: 74,000\n",
      "\n",
      "Rows read: 76,000\n",
      "\n",
      "Rows read: 78,000\n",
      "\n",
      "Rows read: 80,000\n",
      "\n",
      "Rows read: 82,000\n",
      "\n",
      "Rows read: 84,000\n",
      "\n",
      "Rows read: 86,000\n",
      "\n",
      "Rows read: 88,000\n",
      "\n",
      "Rows read: 90,000\n",
      "\n",
      "Rows read: 92,000\n",
      "\n",
      "Rows read: 94,000\n",
      "\n",
      "Rows read: 96,000\n",
      "\n",
      "Rows read: 98,000\n",
      "\n",
      "Rows read: 100,000\n",
      "\n",
      "Rows read: 102,000\n",
      "\n",
      "Rows read: 104,000\n",
      "\n",
      "Rows read: 106,000\n",
      "\n",
      "Rows read: 108,000\n",
      "\n",
      "Rows read: 110,000\n",
      "\n",
      "Rows read: 112,000\n",
      "\n",
      "Rows read: 114,000\n",
      "\n",
      "Rows read: 116,000\n",
      "\n",
      "Rows read: 118,000\n",
      "\n",
      "Rows read: 120,000\n",
      "\n",
      "Rows read: 122,000\n",
      "\n",
      "Rows read: 124,000\n",
      "\n",
      "Rows read: 126,000\n",
      "\n",
      "Rows read: 128,000\n",
      "\n",
      "Rows read: 130,000\n",
      "\n",
      "Rows read: 132,000\n",
      "\n",
      "Rows read: 134,000\n",
      "\n",
      "Rows read: 136,000\n",
      "\n",
      "Rows read: 138,000\n",
      "\n",
      "Rows read: 140,000\n",
      "\n",
      "Rows read: 142,000\n",
      "\n",
      "Rows read: 144,000\n",
      "\n",
      "Rows read: 146,000\n",
      "\n",
      "Rows read: 148,000\n",
      "\n",
      "Rows read: 150,000\n",
      "\n",
      "Rows read: 152,000\n",
      "\n",
      "Rows read: 154,000\n",
      "\n",
      "Rows read: 156,000\n",
      "\n",
      "Rows read: 158,000\n",
      "\n",
      "Rows read: 160,000\n",
      "\n",
      "Rows read: 162,000\n",
      "\n",
      "Rows read: 164,000\n",
      "\n",
      "Rows read: 166,000\n",
      "\n",
      "Rows read: 168,000\n",
      "\n",
      "Rows read: 170,000\n",
      "\n",
      "Rows read: 172,000\n",
      "\n",
      "Rows read: 174,000\n",
      "\n",
      "Rows read: 176,000\n",
      "\n",
      "Rows read: 178,000\n",
      "\n",
      "Rows read: 180,000\n",
      "\n",
      "Rows read: 182,000\n",
      "\n",
      "Rows read: 184,000\n",
      "\n",
      "Rows read: 186,000\n",
      "\n",
      "Rows read: 188,000\n",
      "\n",
      "Rows read: 190,000\n",
      "\n",
      "Rows read: 192,000\n",
      "\n",
      "Rows read: 194,000\n",
      "\n",
      "Rows read: 196,000\n",
      "\n",
      "Rows read: 198,000\n",
      "\n",
      "Rows read: 200,000\n",
      "\n",
      "Rows read: 202,000\n",
      "\n",
      "Rows read: 204,000\n",
      "\n",
      "Rows read: 206,000\n",
      "\n",
      "Rows read: 208,000\n",
      "\n",
      "Rows read: 210,000\n",
      "\n",
      "Rows read: 212,000\n",
      "\n",
      "Rows read: 214,000\n",
      "\n",
      "Rows read: 216,000\n",
      "\n",
      "Rows read: 218,000\n",
      "\n",
      "Rows read: 220,000\n",
      "\n",
      "Rows read: 222,000\n",
      "\n",
      "Rows read: 224,000\n",
      "\n",
      "Rows read: 226,000\n",
      "\n",
      "Rows read: 228,000\n",
      "\n",
      "Rows read: 230,000\n",
      "\n",
      "Rows read: 232,000\n",
      "\n",
      "Rows read: 232567 done.\n",
      "\n"
     ]
    }
   ],
   "source": [
    "meth = SlicedData$new();\n",
    "meth$fileDelimiter = \"\\t\";      # the TAB character\n",
    "meth$fileOmitCharacters = \"NA\"; # denote missing values;\n",
    "meth$fileSkipRows = 1;          # one row of column labels\n",
    "meth$fileSkipColumns = 1;       # one column of row labels\n",
    "meth$fileSliceSize = 2000;      # read file in pieces of 2,000 rows\n",
    "meth$LoadFile( methfile )"
   ]
  },
  {
   "cell_type": "code",
   "execution_count": 27,
   "metadata": {
    "kernel": "R"
   },
   "outputs": [
    {
     "name": "stderr",
     "output_type": "stream",
     "text": [
      "Rows read: 3 done.\n",
      "\n"
     ]
    }
   ],
   "source": [
    "cvrt = SlicedData$new();\n",
    "cvrt$fileDelimiter = \"\\t\";      # the TAB character\n",
    "cvrt$fileOmitCharacters = \"NA\"; # denote missing values;\n",
    "cvrt$fileSkipRows = 1;          # one row of column labels\n",
    "cvrt$fileSkipColumns = 1;       # one column of row labels\n",
    "cvrt$fileSliceSize = 2000;      # read file in pieces of 2,000 rows\n",
    "cvrt$LoadFile( covfile )"
   ]
  },
  {
   "cell_type": "code",
   "execution_count": 16,
   "metadata": {},
   "outputs": [
    {
     "data": {
      "text/html": [
       "277"
      ],
      "text/latex": [
       "277"
      ],
      "text/markdown": [
       "277"
      ],
      "text/plain": [
       "[1] 277"
      ]
     },
     "metadata": {},
     "output_type": "display_data"
    },
    {
     "data": {
      "text/html": [
       "13940"
      ],
      "text/latex": [
       "13940"
      ],
      "text/markdown": [
       "13940"
      ],
      "text/plain": [
       "[1] 13940"
      ]
     },
     "metadata": {},
     "output_type": "display_data"
    }
   ],
   "source": [
    "meS$cis$neqtls\n",
    "meS$cis$ntests"
   ]
  },
  {
   "cell_type": "code",
   "execution_count": 62,
   "metadata": {
    "kernel": "R",
    "scrolled": true,
    "tags": []
   },
   "outputs": [
    {
     "name": "stderr",
     "output_type": "stream",
     "text": [
      "Matching data files and location files\n",
      "\n",
      "232567 of 232567 genes matched\n",
      "\n",
      "2860 of 2860 SNPs matched\n",
      "\n",
      "\n",
      "Task finished in 0.072 seconds\n",
      "\n",
      "Reordering genes\n",
      "\n",
      "Task finished in 3.115 seconds\n",
      "\n",
      "Processing covariates\n",
      "\n",
      "Task finished in 0.004 seconds\n",
      "\n",
      "Processing gene expression data (imputation, residualization)\n",
      "\n",
      "Task finished in 0.255 seconds\n",
      "\n",
      "Creating output file(s)\n",
      "\n",
      "Warning message in Matrix_eQTL_main(snps = snps, gene = meth, cvrt = cvrt, output_file_name = output_file_name_tra, :\n",
      "“Warning: pvOutputThreshold may be too large.\n",
      "Expected number of findings > 6651416.2”\n",
      "Task finished in 0.058 seconds\n",
      "\n",
      "Performing eQTL analysis\n",
      "\n",
      " 0.42% done, 40 cis-eQTLs, 41,907 trans-eQTLs\n",
      "\n",
      " 0.85% done, 97 cis-eQTLs, 83,312 trans-eQTLs\n",
      "\n",
      " 1.28% done, 157 cis-eQTLs, 124,840 trans-eQTLs\n",
      "\n",
      " 1.70% done, 202 cis-eQTLs, 165,748 trans-eQTLs\n",
      "\n",
      " 2.13% done, 248 cis-eQTLs, 207,193 trans-eQTLs\n",
      "\n",
      " 2.56% done, 249,598 trans-eQTLs\n",
      "\n",
      " 2.99% done, 291,107 trans-eQTLs\n",
      "\n",
      " 3.41% done, 332,328 trans-eQTLs\n",
      "\n",
      " 3.84% done, 374,717 trans-eQTLs\n",
      "\n",
      " 4.27% done, 416,623 trans-eQTLs\n",
      "\n",
      " 4.70% done, 458,315 trans-eQTLs\n",
      "\n",
      " 5.12% done, 500,218 trans-eQTLs\n",
      "\n",
      " 5.55% done, 541,964 trans-eQTLs\n",
      "\n",
      " 5.98% done, 584,013 trans-eQTLs\n",
      "\n",
      " 6.41% done, 625,799 trans-eQTLs\n",
      "\n",
      " 6.83% done, 668,102 trans-eQTLs\n",
      "\n",
      " 7.26% done, 709,747 trans-eQTLs\n",
      "\n",
      " 7.69% done, 752,138 trans-eQTLs\n",
      "\n",
      " 8.11% done, 793,996 trans-eQTLs\n",
      "\n",
      " 8.54% done, 835,666 trans-eQTLs\n",
      "\n",
      " 8.97% done, 877,289 trans-eQTLs\n",
      "\n",
      " 9.40% done, 919,152 trans-eQTLs\n",
      "\n",
      " 9.82% done, 961,015 trans-eQTLs\n",
      "\n",
      "10.25% done, 1,002,288 trans-eQTLs\n",
      "\n",
      "10.68% done, 1,044,864 trans-eQTLs\n",
      "\n",
      "11.11% done, 1,086,598 trans-eQTLs\n",
      "\n",
      "11.53% done, 1,128,584 trans-eQTLs\n",
      "\n",
      "11.96% done, 1,169,860 trans-eQTLs\n",
      "\n",
      "12.39% done, 1,211,939 trans-eQTLs\n",
      "\n",
      "12.82% done, 1,252,835 trans-eQTLs\n",
      "\n",
      "13.24% done, 1,293,862 trans-eQTLs\n",
      "\n",
      "13.67% done, 1,335,993 trans-eQTLs\n",
      "\n",
      "14.10% done, 1,377,447 trans-eQTLs\n",
      "\n",
      "14.52% done, 1,419,281 trans-eQTLs\n",
      "\n",
      "14.95% done, 1,460,684 trans-eQTLs\n",
      "\n",
      "15.38% done, 1,502,332 trans-eQTLs\n",
      "\n",
      "15.81% done, 1,544,064 trans-eQTLs\n",
      "\n",
      "16.23% done, 1,585,651 trans-eQTLs\n",
      "\n",
      "16.66% done, 1,626,944 trans-eQTLs\n",
      "\n",
      "17.09% done, 1,668,740 trans-eQTLs\n",
      "\n",
      "17.52% done, 1,710,754 trans-eQTLs\n",
      "\n",
      "17.94% done, 1,752,536 trans-eQTLs\n",
      "\n",
      "18.37% done, 1,794,683 trans-eQTLs\n",
      "\n",
      "18.80% done, 1,836,606 trans-eQTLs\n",
      "\n",
      "19.23% done, 1,878,407 trans-eQTLs\n",
      "\n",
      "19.65% done, 1,919,539 trans-eQTLs\n",
      "\n",
      "20.08% done, 1,961,174 trans-eQTLs\n",
      "\n",
      "20.51% done, 2,003,582 trans-eQTLs\n",
      "\n",
      "20.94% done, 2,045,336 trans-eQTLs\n",
      "\n",
      "21.36% done, 2,086,626 trans-eQTLs\n",
      "\n",
      "21.79% done, 2,128,681 trans-eQTLs\n",
      "\n",
      "22.22% done, 2,170,152 trans-eQTLs\n",
      "\n",
      "22.64% done, 2,212,211 trans-eQTLs\n",
      "\n",
      "23.07% done, 2,255,110 trans-eQTLs\n",
      "\n",
      "23.50% done, 2,296,464 trans-eQTLs\n",
      "\n",
      "23.93% done, 2,337,617 trans-eQTLs\n",
      "\n",
      "24.35% done, 2,379,975 trans-eQTLs\n",
      "\n",
      "24.78% done, 2,422,314 trans-eQTLs\n",
      "\n",
      "25.21% done, 2,463,736 trans-eQTLs\n",
      "\n",
      "25.64% done, 2,505,290 trans-eQTLs\n",
      "\n",
      "26.06% done, 2,547,982 trans-eQTLs\n",
      "\n",
      "26.49% done, 2,588,680 trans-eQTLs\n",
      "\n",
      "26.92% done, 2,630,362 trans-eQTLs\n",
      "\n",
      "27.35% done, 2,672,602 trans-eQTLs\n",
      "\n",
      "27.77% done, 2,713,544 trans-eQTLs\n",
      "\n",
      "28.20% done, 2,755,267 trans-eQTLs\n",
      "\n",
      "28.63% done, 2,796,240 trans-eQTLs\n",
      "\n",
      "29.05% done, 2,838,034 trans-eQTLs\n",
      "\n",
      "29.48% done, 2,879,397 trans-eQTLs\n",
      "\n",
      "29.91% done, 2,921,981 trans-eQTLs\n",
      "\n",
      "30.34% done, 2,964,101 trans-eQTLs\n",
      "\n",
      "30.76% done, 3,006,529 trans-eQTLs\n",
      "\n",
      "31.19% done, 3,048,614 trans-eQTLs\n",
      "\n",
      "31.62% done, 3,091,293 trans-eQTLs\n",
      "\n",
      "32.05% done, 3,133,459 trans-eQTLs\n",
      "\n",
      "32.47% done, 3,174,836 trans-eQTLs\n",
      "\n",
      "32.90% done, 3,216,147 trans-eQTLs\n",
      "\n",
      "33.33% done, 3,258,267 trans-eQTLs\n",
      "\n",
      "33.76% done, 3,300,153 trans-eQTLs\n",
      "\n",
      "34.18% done, 3,341,127 trans-eQTLs\n",
      "\n",
      "34.61% done, 3,382,463 trans-eQTLs\n",
      "\n",
      "35.04% done, 3,425,507 trans-eQTLs\n",
      "\n",
      "35.47% done, 3,466,879 trans-eQTLs\n",
      "\n",
      "35.89% done, 3,509,258 trans-eQTLs\n",
      "\n",
      "36.32% done, 3,550,125 trans-eQTLs\n",
      "\n",
      "36.75% done, 3,591,975 trans-eQTLs\n",
      "\n",
      "37.17% done, 3,633,525 trans-eQTLs\n",
      "\n",
      "37.60% done, 3,676,047 trans-eQTLs\n",
      "\n",
      "38.03% done, 3,717,899 trans-eQTLs\n",
      "\n",
      "38.46% done, 3,759,804 trans-eQTLs\n",
      "\n",
      "38.88% done, 3,802,356 trans-eQTLs\n",
      "\n",
      "39.31% done, 3,845,156 trans-eQTLs\n",
      "\n",
      "39.74% done, 3,886,363 trans-eQTLs\n",
      "\n",
      "40.17% done, 3,928,161 trans-eQTLs\n",
      "\n",
      "40.59% done, 3,969,574 trans-eQTLs\n",
      "\n",
      "41.02% done, 4,011,217 trans-eQTLs\n",
      "\n",
      "41.45% done, 4,053,286 trans-eQTLs\n",
      "\n",
      "41.88% done, 4,094,892 trans-eQTLs\n",
      "\n",
      "42.30% done, 4,136,429 trans-eQTLs\n",
      "\n",
      "42.73% done, 4,178,771 trans-eQTLs\n",
      "\n",
      "43.16% done, 4,220,296 trans-eQTLs\n",
      "\n",
      "43.58% done, 4,262,073 trans-eQTLs\n",
      "\n",
      "44.01% done, 4,304,423 trans-eQTLs\n",
      "\n",
      "44.44% done, 4,345,999 trans-eQTLs\n",
      "\n",
      "44.87% done, 4,388,142 trans-eQTLs\n",
      "\n",
      "45.29% done, 4,429,615 trans-eQTLs\n",
      "\n",
      "45.72% done, 4,470,837 trans-eQTLs\n",
      "\n",
      "46.15% done, 4,512,561 trans-eQTLs\n",
      "\n",
      "46.58% done, 4,553,705 trans-eQTLs\n",
      "\n",
      "47.00% done, 4,595,025 trans-eQTLs\n",
      "\n",
      "47.43% done, 4,637,199 trans-eQTLs\n",
      "\n",
      "47.86% done, 4,679,368 trans-eQTLs\n",
      "\n",
      "48.29% done, 4,721,374 trans-eQTLs\n",
      "\n",
      "48.71% done, 4,763,740 trans-eQTLs\n",
      "\n",
      "49.14% done, 4,805,071 trans-eQTLs\n",
      "\n",
      "49.57% done, 4,847,455 trans-eQTLs\n",
      "\n",
      "50.00% done, 4,859,375 trans-eQTLs\n",
      "\n",
      "50.42% done, 4,877,065 trans-eQTLs\n",
      "\n",
      "50.85% done, 4,894,814 trans-eQTLs\n",
      "\n",
      "51.28% done, 4,912,524 trans-eQTLs\n",
      "\n",
      "51.70% done, 4,929,805 trans-eQTLs\n",
      "\n",
      "52.13% done, 256 cis-eQTLs, 4,947,349 trans-eQTLs\n",
      "\n",
      "52.56% done, 277 cis-eQTLs, 4,965,511 trans-eQTLs\n",
      "\n",
      "52.99% done, 4,983,509 trans-eQTLs\n",
      "\n",
      "53.41% done, 5,001,302 trans-eQTLs\n",
      "\n",
      "53.84% done, 5,019,352 trans-eQTLs\n",
      "\n",
      "54.27% done, 5,037,769 trans-eQTLs\n",
      "\n",
      "54.70% done, 5,055,707 trans-eQTLs\n",
      "\n",
      "55.12% done, 5,073,678 trans-eQTLs\n",
      "\n",
      "55.55% done, 5,091,727 trans-eQTLs\n",
      "\n",
      "55.98% done, 5,110,051 trans-eQTLs\n",
      "\n",
      "56.41% done, 5,127,758 trans-eQTLs\n",
      "\n",
      "56.83% done, 5,146,085 trans-eQTLs\n",
      "\n",
      "57.26% done, 5,163,758 trans-eQTLs\n",
      "\n",
      "57.69% done, 5,182,169 trans-eQTLs\n",
      "\n",
      "58.11% done, 5,200,118 trans-eQTLs\n",
      "\n",
      "58.54% done, 5,217,993 trans-eQTLs\n",
      "\n",
      "58.97% done, 5,236,089 trans-eQTLs\n",
      "\n",
      "59.40% done, 5,254,295 trans-eQTLs\n",
      "\n",
      "59.82% done, 5,271,654 trans-eQTLs\n",
      "\n",
      "60.25% done, 5,289,561 trans-eQTLs\n",
      "\n",
      "60.68% done, 5,308,032 trans-eQTLs\n",
      "\n",
      "61.11% done, 5,326,096 trans-eQTLs\n",
      "\n",
      "61.53% done, 5,343,946 trans-eQTLs\n",
      "\n",
      "61.96% done, 5,361,558 trans-eQTLs\n",
      "\n",
      "62.39% done, 5,379,718 trans-eQTLs\n",
      "\n",
      "62.82% done, 5,397,457 trans-eQTLs\n",
      "\n",
      "63.24% done, 5,415,129 trans-eQTLs\n",
      "\n",
      "63.67% done, 5,433,115 trans-eQTLs\n",
      "\n",
      "64.10% done, 5,450,644 trans-eQTLs\n",
      "\n",
      "64.52% done, 5,468,682 trans-eQTLs\n",
      "\n",
      "64.95% done, 5,486,371 trans-eQTLs\n",
      "\n",
      "65.38% done, 5,504,333 trans-eQTLs\n",
      "\n",
      "65.81% done, 5,521,904 trans-eQTLs\n",
      "\n",
      "66.23% done, 5,539,634 trans-eQTLs\n",
      "\n",
      "66.66% done, 5,557,152 trans-eQTLs\n",
      "\n",
      "67.09% done, 5,575,008 trans-eQTLs\n",
      "\n",
      "67.52% done, 5,592,966 trans-eQTLs\n",
      "\n",
      "67.94% done, 5,610,752 trans-eQTLs\n",
      "\n",
      "68.37% done, 5,628,406 trans-eQTLs\n",
      "\n",
      "68.80% done, 5,646,163 trans-eQTLs\n",
      "\n",
      "69.23% done, 5,664,036 trans-eQTLs\n",
      "\n",
      "69.65% done, 5,681,870 trans-eQTLs\n",
      "\n",
      "70.08% done, 5,699,551 trans-eQTLs\n",
      "\n",
      "70.51% done, 5,717,681 trans-eQTLs\n",
      "\n",
      "70.94% done, 5,735,587 trans-eQTLs\n",
      "\n",
      "71.36% done, 5,753,415 trans-eQTLs\n",
      "\n",
      "71.79% done, 5,771,247 trans-eQTLs\n",
      "\n",
      "72.22% done, 5,789,119 trans-eQTLs\n",
      "\n",
      "72.64% done, 5,806,964 trans-eQTLs\n",
      "\n",
      "73.07% done, 5,825,376 trans-eQTLs\n",
      "\n",
      "73.50% done, 5,843,215 trans-eQTLs\n",
      "\n",
      "73.93% done, 5,860,882 trans-eQTLs\n",
      "\n",
      "74.35% done, 5,878,803 trans-eQTLs\n",
      "\n",
      "74.78% done, 5,896,992 trans-eQTLs\n",
      "\n",
      "75.21% done, 5,914,986 trans-eQTLs\n",
      "\n",
      "75.64% done, 5,932,975 trans-eQTLs\n",
      "\n",
      "76.06% done, 5,951,044 trans-eQTLs\n",
      "\n",
      "76.49% done, 5,968,899 trans-eQTLs\n",
      "\n",
      "76.92% done, 5,986,610 trans-eQTLs\n",
      "\n",
      "77.35% done, 6,004,703 trans-eQTLs\n",
      "\n",
      "77.77% done, 6,022,423 trans-eQTLs\n",
      "\n",
      "78.20% done, 6,040,388 trans-eQTLs\n",
      "\n",
      "78.63% done, 6,057,841 trans-eQTLs\n",
      "\n",
      "79.05% done, 6,075,829 trans-eQTLs\n",
      "\n",
      "79.48% done, 6,093,555 trans-eQTLs\n",
      "\n",
      "79.91% done, 6,111,882 trans-eQTLs\n",
      "\n",
      "80.34% done, 6,130,048 trans-eQTLs\n",
      "\n",
      "80.76% done, 6,148,032 trans-eQTLs\n",
      "\n",
      "81.19% done, 6,165,902 trans-eQTLs\n",
      "\n",
      "81.62% done, 6,184,013 trans-eQTLs\n",
      "\n",
      "82.05% done, 6,201,885 trans-eQTLs\n",
      "\n",
      "82.47% done, 6,219,387 trans-eQTLs\n",
      "\n",
      "82.90% done, 6,236,944 trans-eQTLs\n",
      "\n",
      "83.33% done, 6,254,971 trans-eQTLs\n",
      "\n",
      "83.76% done, 6,273,059 trans-eQTLs\n",
      "\n",
      "84.18% done, 6,290,859 trans-eQTLs\n",
      "\n",
      "84.61% done, 6,308,655 trans-eQTLs\n",
      "\n",
      "85.04% done, 6,326,962 trans-eQTLs\n",
      "\n",
      "85.47% done, 6,344,772 trans-eQTLs\n",
      "\n",
      "85.89% done, 6,362,587 trans-eQTLs\n",
      "\n",
      "86.32% done, 6,380,190 trans-eQTLs\n",
      "\n",
      "86.75% done, 6,398,361 trans-eQTLs\n",
      "\n",
      "87.17% done, 6,416,297 trans-eQTLs\n",
      "\n",
      "87.60% done, 6,434,550 trans-eQTLs\n",
      "\n",
      "88.03% done, 6,452,564 trans-eQTLs\n",
      "\n",
      "88.46% done, 6,470,436 trans-eQTLs\n",
      "\n",
      "88.88% done, 6,488,893 trans-eQTLs\n",
      "\n",
      "89.31% done, 6,507,256 trans-eQTLs\n",
      "\n",
      "89.74% done, 6,524,955 trans-eQTLs\n",
      "\n",
      "90.17% done, 6,542,808 trans-eQTLs\n",
      "\n",
      "90.59% done, 6,560,845 trans-eQTLs\n",
      "\n",
      "91.02% done, 6,578,698 trans-eQTLs\n",
      "\n",
      "91.45% done, 6,596,617 trans-eQTLs\n",
      "\n",
      "91.88% done, 6,614,687 trans-eQTLs\n",
      "\n",
      "92.30% done, 6,632,432 trans-eQTLs\n",
      "\n",
      "92.73% done, 6,650,738 trans-eQTLs\n",
      "\n",
      "93.16% done, 6,668,649 trans-eQTLs\n",
      "\n",
      "93.58% done, 6,686,540 trans-eQTLs\n",
      "\n",
      "94.01% done, 6,704,882 trans-eQTLs\n",
      "\n",
      "94.44% done, 6,722,744 trans-eQTLs\n",
      "\n",
      "94.87% done, 6,740,696 trans-eQTLs\n",
      "\n",
      "95.29% done, 6,758,634 trans-eQTLs\n",
      "\n",
      "95.72% done, 6,776,309 trans-eQTLs\n",
      "\n",
      "96.15% done, 6,794,377 trans-eQTLs\n",
      "\n",
      "96.58% done, 6,811,964 trans-eQTLs\n",
      "\n",
      "97.00% done, 6,829,561 trans-eQTLs\n",
      "\n",
      "97.43% done, 6,847,588 trans-eQTLs\n",
      "\n",
      "97.86% done, 6,865,714 trans-eQTLs\n",
      "\n",
      "98.29% done, 6,883,843 trans-eQTLs\n",
      "\n",
      "98.71% done, 6,902,140 trans-eQTLs\n",
      "\n",
      "99.14% done, 6,919,916 trans-eQTLs\n",
      "\n",
      "99.57% done, 6,938,149 trans-eQTLs\n",
      "\n",
      "100.00% done, 6,943,226 trans-eQTLs\n",
      "\n",
      "Task finished in 88.361 seconds\n",
      "\n",
      "\n",
      "\n"
     ]
    }
   ],
   "source": [
    "## Run the analysis\n",
    "\n",
    "meS = Matrix_eQTL_main(\n",
    "snps = snps, \n",
    "gene = meth, \n",
    "cvrt = cvrt,\n",
    "output_file_name     = output_file_name_tra,\n",
    "pvOutputThreshold     = pvOutputThresholdtrans,\n",
    "useModel = useModel, \n",
    "errorCovariance = errorCovariance, \n",
    "verbose = TRUE, \n",
    "output_file_name.cis = output_file_name_cis,\n",
    "pvOutputThreshold.cis = pvOutputThresholdcis,\n",
    "snpspos = snppos, \n",
    "genepos = methpos,\n",
    "cisDist = cisDist,\n",
    "pvalue.hist = \"qqplot\",\n",
    "min.pv.by.genesnp = TRUE,\n",
    "noFDRsaveMemory = FALSE);\n",
    "\n",
    "unlink(output_file_name_tra);\n",
    "unlink(output_file_name_cis);"
   ]
  },
  {
   "cell_type": "code",
   "execution_count": 66,
   "metadata": {},
   "outputs": [
    {
     "data": {
      "text/html": [
       "6943226"
      ],
      "text/latex": [
       "6943226"
      ],
      "text/markdown": [
       "6943226"
      ],
      "text/plain": [
       "[1] 6943226"
      ]
     },
     "metadata": {},
     "output_type": "display_data"
    },
    {
     "data": {
      "text/html": [
       "665127680"
      ],
      "text/latex": [
       "665127680"
      ],
      "text/markdown": [
       "665127680"
      ],
      "text/plain": [
       "[1] 665127680"
      ]
     },
     "metadata": {},
     "output_type": "display_data"
    }
   ],
   "source": [
    "meS$trans$neqtls\n",
    "meS$trans$ntests"
   ]
  },
  {
   "cell_type": "code",
   "execution_count": 63,
   "metadata": {
    "kernel": "R"
   },
   "outputs": [],
   "source": [
    "save(meS,file=paste0(mQTL,\"MBD_HCSS_Afilt32m70_maf05_m2pop_sites50k_mQTL_12_RNPCA\"))"
   ]
  },
  {
   "cell_type": "code",
   "execution_count": 15,
   "metadata": {},
   "outputs": [],
   "source": [
    "load(file=paste0(mQTL,\"MBD_HCSS_Afilt32m70_maf05_m2pop_sites50k_mQTL_12_RNPCA\"))"
   ]
  },
  {
   "cell_type": "code",
   "execution_count": 73,
   "metadata": {},
   "outputs": [
    {
     "name": "stdout",
     "output_type": "stream",
     "text": [
      "Detected local eQTLs: \n"
     ]
    },
    {
     "data": {
      "text/html": [
       "<table class=\"dataframe\">\n",
       "<caption>A data.frame: 20 x 6</caption>\n",
       "<thead>\n",
       "\t<tr><th></th><th scope=col>snps</th><th scope=col>gene</th><th scope=col>statistic</th><th scope=col>pvalue</th><th scope=col>FDR</th><th scope=col>beta</th></tr>\n",
       "\t<tr><th></th><th scope=col>&lt;chr&gt;</th><th scope=col>&lt;chr&gt;</th><th scope=col>&lt;dbl&gt;</th><th scope=col>&lt;dbl&gt;</th><th scope=col>&lt;dbl&gt;</th><th scope=col>&lt;dbl&gt;</th></tr>\n",
       "</thead>\n",
       "<tbody>\n",
       "\t<tr><th scope=row>1</th><td>Contig346666_6197</td><td>Contig346666.5591.5591 </td><td> 7.892763</td><td>2.591407e-06</td><td>0.01805409</td><td> 0.8505726</td></tr>\n",
       "\t<tr><th scope=row>2</th><td>Contig20924_31357</td><td>Contig20924.31674.31674</td><td>-7.643323</td><td>3.671072e-06</td><td>0.01805409</td><td>-1.1106514</td></tr>\n",
       "\t<tr><th scope=row>3</th><td>Contig51028_11639</td><td>Contig51028.20112.20112</td><td>-7.603193</td><td>3.885386e-06</td><td>0.01805409</td><td>-1.9808249</td></tr>\n",
       "\t<tr><th scope=row>4</th><td>Contig29931_24809</td><td>Contig29931.8179.8179  </td><td> 6.772391</td><td>1.316631e-05</td><td>0.04588459</td><td> 0.9477876</td></tr>\n",
       "\t<tr><th scope=row>5</th><td>Contig35529_2509 </td><td>Contig35529.2508.2508  </td><td>-5.402653</td><td>1.205927e-04</td><td>0.24586321</td><td>-1.6268296</td></tr>\n",
       "\t<tr><th scope=row>6</th><td>Contig36473_28460</td><td>Contig36473.30294.30294</td><td> 5.391383</td><td>1.229432e-04</td><td>0.24586321</td><td> 1.3659333</td></tr>\n",
       "\t<tr><th scope=row>7</th><td>Contig470690_766 </td><td>Contig470690.1320.1320 </td><td>-5.384956</td><td>1.243052e-04</td><td>0.24586321</td><td>-1.9036519</td></tr>\n",
       "\t<tr><th scope=row>8</th><td>Contig24692_9048 </td><td>Contig24692.5776.5776  </td><td>-5.243914</td><td>1.585264e-04</td><td>0.24586321</td><td>-1.6943657</td></tr>\n",
       "\t<tr><th scope=row>9</th><td>Contig21828_42443</td><td>Contig21828.45513.45513</td><td> 5.207308</td><td>1.689295e-04</td><td>0.24586321</td><td> 0.8485381</td></tr>\n",
       "\t<tr><th scope=row>10</th><td>Contig25896_4772 </td><td>Contig25896.4572.4572  </td><td>-5.137260</td><td>1.908753e-04</td><td>0.24586321</td><td>-1.0825905</td></tr>\n",
       "\t<tr><th scope=row>11</th><td>Contig21828_42443</td><td>Contig21828.46082.46082</td><td> 5.127947</td><td>1.940097e-04</td><td>0.24586321</td><td> 0.8349945</td></tr>\n",
       "\t<tr><th scope=row>12</th><td>Contig22083_4718 </td><td>Contig22083.2715.2715  </td><td> 4.993066</td><td>2.459495e-04</td><td>0.25727505</td><td> 2.0146677</td></tr>\n",
       "\t<tr><th scope=row>13</th><td>Contig38940_15651</td><td>Contig38940.13829.13829</td><td>-4.968975</td><td>2.566599e-04</td><td>0.25727505</td><td>-2.1609963</td></tr>\n",
       "\t<tr><th scope=row>14</th><td>Contig26603_17846</td><td>Contig26603.2623.2623  </td><td>-4.965198</td><td>2.583824e-04</td><td>0.25727505</td><td>-1.0310799</td></tr>\n",
       "\t<tr><th scope=row>15</th><td>Contig23237_49982</td><td>Contig23237.57166.57166</td><td> 4.887604</td><td>2.965723e-04</td><td>0.26081410</td><td> 2.2391940</td></tr>\n",
       "\t<tr><th scope=row>16</th><td>Contig82836_6883 </td><td>Contig82836.16481.16481</td><td> 4.817994</td><td>3.358364e-04</td><td>0.26081410</td><td> 1.6712950</td></tr>\n",
       "\t<tr><th scope=row>17</th><td>Contig75_55990   </td><td>Contig75.15031.15031   </td><td> 4.765797</td><td>3.688046e-04</td><td>0.26081410</td><td> 1.1867618</td></tr>\n",
       "\t<tr><th scope=row>18</th><td>Contig18103_8098 </td><td>Contig18103.8097.8097  </td><td>-4.763233</td><td>3.705086e-04</td><td>0.26081410</td><td>-1.8733189</td></tr>\n",
       "\t<tr><th scope=row>19</th><td>Contig126977_2209</td><td>Contig126977.2209.2209 </td><td>-4.737563</td><td>3.880228e-04</td><td>0.26081410</td><td>-1.4505783</td></tr>\n",
       "\t<tr><th scope=row>20</th><td>Contig18086_3766 </td><td>Contig18086.7781.7781  </td><td>-4.707386</td><td>4.097178e-04</td><td>0.26081410</td><td>-1.2836940</td></tr>\n",
       "</tbody>\n",
       "</table>\n"
      ],
      "text/latex": [
       "A data.frame: 20 x 6\n",
       "\\begin{tabular}{r|llllll}\n",
       "  & snps & gene & statistic & pvalue & FDR & beta\\\\\n",
       "  & <chr> & <chr> & <dbl> & <dbl> & <dbl> & <dbl>\\\\\n",
       "\\hline\n",
       "\t1 & Contig346666\\_6197 & Contig346666.5591.5591  &  7.892763 & 2.591407e-06 & 0.01805409 &  0.8505726\\\\\n",
       "\t2 & Contig20924\\_31357 & Contig20924.31674.31674 & -7.643323 & 3.671072e-06 & 0.01805409 & -1.1106514\\\\\n",
       "\t3 & Contig51028\\_11639 & Contig51028.20112.20112 & -7.603193 & 3.885386e-06 & 0.01805409 & -1.9808249\\\\\n",
       "\t4 & Contig29931\\_24809 & Contig29931.8179.8179   &  6.772391 & 1.316631e-05 & 0.04588459 &  0.9477876\\\\\n",
       "\t5 & Contig35529\\_2509  & Contig35529.2508.2508   & -5.402653 & 1.205927e-04 & 0.24586321 & -1.6268296\\\\\n",
       "\t6 & Contig36473\\_28460 & Contig36473.30294.30294 &  5.391383 & 1.229432e-04 & 0.24586321 &  1.3659333\\\\\n",
       "\t7 & Contig470690\\_766  & Contig470690.1320.1320  & -5.384956 & 1.243052e-04 & 0.24586321 & -1.9036519\\\\\n",
       "\t8 & Contig24692\\_9048  & Contig24692.5776.5776   & -5.243914 & 1.585264e-04 & 0.24586321 & -1.6943657\\\\\n",
       "\t9 & Contig21828\\_42443 & Contig21828.45513.45513 &  5.207308 & 1.689295e-04 & 0.24586321 &  0.8485381\\\\\n",
       "\t10 & Contig25896\\_4772  & Contig25896.4572.4572   & -5.137260 & 1.908753e-04 & 0.24586321 & -1.0825905\\\\\n",
       "\t11 & Contig21828\\_42443 & Contig21828.46082.46082 &  5.127947 & 1.940097e-04 & 0.24586321 &  0.8349945\\\\\n",
       "\t12 & Contig22083\\_4718  & Contig22083.2715.2715   &  4.993066 & 2.459495e-04 & 0.25727505 &  2.0146677\\\\\n",
       "\t13 & Contig38940\\_15651 & Contig38940.13829.13829 & -4.968975 & 2.566599e-04 & 0.25727505 & -2.1609963\\\\\n",
       "\t14 & Contig26603\\_17846 & Contig26603.2623.2623   & -4.965198 & 2.583824e-04 & 0.25727505 & -1.0310799\\\\\n",
       "\t15 & Contig23237\\_49982 & Contig23237.57166.57166 &  4.887604 & 2.965723e-04 & 0.26081410 &  2.2391940\\\\\n",
       "\t16 & Contig82836\\_6883  & Contig82836.16481.16481 &  4.817994 & 3.358364e-04 & 0.26081410 &  1.6712950\\\\\n",
       "\t17 & Contig75\\_55990    & Contig75.15031.15031    &  4.765797 & 3.688046e-04 & 0.26081410 &  1.1867618\\\\\n",
       "\t18 & Contig18103\\_8098  & Contig18103.8097.8097   & -4.763233 & 3.705086e-04 & 0.26081410 & -1.8733189\\\\\n",
       "\t19 & Contig126977\\_2209 & Contig126977.2209.2209  & -4.737563 & 3.880228e-04 & 0.26081410 & -1.4505783\\\\\n",
       "\t20 & Contig18086\\_3766  & Contig18086.7781.7781   & -4.707386 & 4.097178e-04 & 0.26081410 & -1.2836940\\\\\n",
       "\\end{tabular}\n"
      ],
      "text/markdown": [
       "\n",
       "A data.frame: 20 x 6\n",
       "\n",
       "| <!--/--> | snps &lt;chr&gt; | gene &lt;chr&gt; | statistic &lt;dbl&gt; | pvalue &lt;dbl&gt; | FDR &lt;dbl&gt; | beta &lt;dbl&gt; |\n",
       "|---|---|---|---|---|---|---|\n",
       "| 1 | Contig346666_6197 | Contig346666.5591.5591  |  7.892763 | 2.591407e-06 | 0.01805409 |  0.8505726 |\n",
       "| 2 | Contig20924_31357 | Contig20924.31674.31674 | -7.643323 | 3.671072e-06 | 0.01805409 | -1.1106514 |\n",
       "| 3 | Contig51028_11639 | Contig51028.20112.20112 | -7.603193 | 3.885386e-06 | 0.01805409 | -1.9808249 |\n",
       "| 4 | Contig29931_24809 | Contig29931.8179.8179   |  6.772391 | 1.316631e-05 | 0.04588459 |  0.9477876 |\n",
       "| 5 | Contig35529_2509  | Contig35529.2508.2508   | -5.402653 | 1.205927e-04 | 0.24586321 | -1.6268296 |\n",
       "| 6 | Contig36473_28460 | Contig36473.30294.30294 |  5.391383 | 1.229432e-04 | 0.24586321 |  1.3659333 |\n",
       "| 7 | Contig470690_766  | Contig470690.1320.1320  | -5.384956 | 1.243052e-04 | 0.24586321 | -1.9036519 |\n",
       "| 8 | Contig24692_9048  | Contig24692.5776.5776   | -5.243914 | 1.585264e-04 | 0.24586321 | -1.6943657 |\n",
       "| 9 | Contig21828_42443 | Contig21828.45513.45513 |  5.207308 | 1.689295e-04 | 0.24586321 |  0.8485381 |\n",
       "| 10 | Contig25896_4772  | Contig25896.4572.4572   | -5.137260 | 1.908753e-04 | 0.24586321 | -1.0825905 |\n",
       "| 11 | Contig21828_42443 | Contig21828.46082.46082 |  5.127947 | 1.940097e-04 | 0.24586321 |  0.8349945 |\n",
       "| 12 | Contig22083_4718  | Contig22083.2715.2715   |  4.993066 | 2.459495e-04 | 0.25727505 |  2.0146677 |\n",
       "| 13 | Contig38940_15651 | Contig38940.13829.13829 | -4.968975 | 2.566599e-04 | 0.25727505 | -2.1609963 |\n",
       "| 14 | Contig26603_17846 | Contig26603.2623.2623   | -4.965198 | 2.583824e-04 | 0.25727505 | -1.0310799 |\n",
       "| 15 | Contig23237_49982 | Contig23237.57166.57166 |  4.887604 | 2.965723e-04 | 0.26081410 |  2.2391940 |\n",
       "| 16 | Contig82836_6883  | Contig82836.16481.16481 |  4.817994 | 3.358364e-04 | 0.26081410 |  1.6712950 |\n",
       "| 17 | Contig75_55990    | Contig75.15031.15031    |  4.765797 | 3.688046e-04 | 0.26081410 |  1.1867618 |\n",
       "| 18 | Contig18103_8098  | Contig18103.8097.8097   | -4.763233 | 3.705086e-04 | 0.26081410 | -1.8733189 |\n",
       "| 19 | Contig126977_2209 | Contig126977.2209.2209  | -4.737563 | 3.880228e-04 | 0.26081410 | -1.4505783 |\n",
       "| 20 | Contig18086_3766  | Contig18086.7781.7781   | -4.707386 | 4.097178e-04 | 0.26081410 | -1.2836940 |\n",
       "\n"
      ],
      "text/plain": [
       "   snps              gene                    statistic pvalue       FDR       \n",
       "1  Contig346666_6197 Contig346666.5591.5591   7.892763 2.591407e-06 0.01805409\n",
       "2  Contig20924_31357 Contig20924.31674.31674 -7.643323 3.671072e-06 0.01805409\n",
       "3  Contig51028_11639 Contig51028.20112.20112 -7.603193 3.885386e-06 0.01805409\n",
       "4  Contig29931_24809 Contig29931.8179.8179    6.772391 1.316631e-05 0.04588459\n",
       "5  Contig35529_2509  Contig35529.2508.2508   -5.402653 1.205927e-04 0.24586321\n",
       "6  Contig36473_28460 Contig36473.30294.30294  5.391383 1.229432e-04 0.24586321\n",
       "7  Contig470690_766  Contig470690.1320.1320  -5.384956 1.243052e-04 0.24586321\n",
       "8  Contig24692_9048  Contig24692.5776.5776   -5.243914 1.585264e-04 0.24586321\n",
       "9  Contig21828_42443 Contig21828.45513.45513  5.207308 1.689295e-04 0.24586321\n",
       "10 Contig25896_4772  Contig25896.4572.4572   -5.137260 1.908753e-04 0.24586321\n",
       "11 Contig21828_42443 Contig21828.46082.46082  5.127947 1.940097e-04 0.24586321\n",
       "12 Contig22083_4718  Contig22083.2715.2715    4.993066 2.459495e-04 0.25727505\n",
       "13 Contig38940_15651 Contig38940.13829.13829 -4.968975 2.566599e-04 0.25727505\n",
       "14 Contig26603_17846 Contig26603.2623.2623   -4.965198 2.583824e-04 0.25727505\n",
       "15 Contig23237_49982 Contig23237.57166.57166  4.887604 2.965723e-04 0.26081410\n",
       "16 Contig82836_6883  Contig82836.16481.16481  4.817994 3.358364e-04 0.26081410\n",
       "17 Contig75_55990    Contig75.15031.15031     4.765797 3.688046e-04 0.26081410\n",
       "18 Contig18103_8098  Contig18103.8097.8097   -4.763233 3.705086e-04 0.26081410\n",
       "19 Contig126977_2209 Contig126977.2209.2209  -4.737563 3.880228e-04 0.26081410\n",
       "20 Contig18086_3766  Contig18086.7781.7781   -4.707386 4.097178e-04 0.26081410\n",
       "   beta      \n",
       "1   0.8505726\n",
       "2  -1.1106514\n",
       "3  -1.9808249\n",
       "4   0.9477876\n",
       "5  -1.6268296\n",
       "6   1.3659333\n",
       "7  -1.9036519\n",
       "8  -1.6943657\n",
       "9   0.8485381\n",
       "10 -1.0825905\n",
       "11  0.8349945\n",
       "12  2.0146677\n",
       "13 -2.1609963\n",
       "14 -1.0310799\n",
       "15  2.2391940\n",
       "16  1.6712950\n",
       "17  1.1867618\n",
       "18 -1.8733189\n",
       "19 -1.4505783\n",
       "20 -1.2836940"
      ]
     },
     "metadata": {},
     "output_type": "display_data"
    }
   ],
   "source": [
    "cat('Detected local eQTLs:', '\\n');\n",
    "head(meS$cis$eqtls, n=20)"
   ]
  },
  {
   "cell_type": "code",
   "execution_count": 68,
   "metadata": {
    "kernel": "R"
   },
   "outputs": [
    {
     "data": {
      "image/png": "[encoded data removed]",
      "text/plain": [
       "Plot with title “QQ-plot for 13,940 local and 665,127,680 distant p-values”"
      ]
     },
     "metadata": {
      "image/png": {
       "height": 420,
       "width": 420
      }
     },
     "output_type": "display_data"
    }
   ],
   "source": [
    "plot(meS)"
   ]
  },
  {
   "cell_type": "markdown",
   "metadata": {
    "kernel": "R"
   },
   "source": [
    "### looking at trans genes that are highly sih"
   ]
  },
  {
   "cell_type": "code",
   "execution_count": 6,
   "metadata": {
    "kernel": "R"
   },
   "outputs": [
    {
     "data": {
      "text/html": [
       "1011397"
      ],
      "text/latex": [
       "1011397"
      ],
      "text/markdown": [
       "1011397"
      ],
      "text/plain": [
       "[1] 1011397"
      ]
     },
     "metadata": {},
     "output_type": "display_data"
    }
   ],
   "source": [
    "meS$trans$neqtls"
   ]
  },
  {
   "cell_type": "code",
   "execution_count": 83,
   "metadata": {},
   "outputs": [
    {
     "data": {
      "text/html": [
       "<style>\n",
       ".list-inline {list-style: none; margin:0; padding: 0}\n",
       ".list-inline>li {display: inline-block}\n",
       ".list-inline>li:not(:last-child)::after {content: \"\\00b7\"; padding: 0 .5ex}\n",
       "</style>\n",
       "<ol class=list-inline><li>1758</li><li>4</li></ol>\n"
      ],
      "text/latex": [
       "\\begin{enumerate*}\n",
       "\\item 1758\n",
       "\\item 4\n",
       "\\end{enumerate*}\n"
      ],
      "text/markdown": [
       "1. 1758\n",
       "2. 4\n",
       "\n",
       "\n"
      ],
      "text/plain": [
       "[1] 1758    4"
      ]
     },
     "metadata": {},
     "output_type": "display_data"
    }
   ],
   "source": [
    "trans_snps <- sigtrans %>%\n",
    "group_by(snps) %>%\n",
    "dplyr::summarise(\n",
    "    mean_pval= mean(pvalue, na.rm=TRUE),\n",
    "    mean_beta= mean(beta,na.rm=TRUE),\n",
    "    n()) \n",
    " \n",
    "dim(trans_snps)"
   ]
  },
  {
   "cell_type": "code",
   "execution_count": 84,
   "metadata": {},
   "outputs": [
    {
     "data": {
      "text/html": [
       "6.17178612059158"
      ],
      "text/latex": [
       "6.17178612059158"
      ],
      "text/markdown": [
       "6.17178612059158"
      ],
      "text/plain": [
       "[1] 6.171786"
      ]
     },
     "metadata": {},
     "output_type": "display_data"
    }
   ],
   "source": [
    "mean(trans_snps$`n()`)"
   ]
  },
  {
   "cell_type": "code",
   "execution_count": 75,
   "metadata": {
    "kernel": "R"
   },
   "outputs": [
    {
     "data": {
      "text/html": [
       "<style>\n",
       ".list-inline {list-style: none; margin:0; padding: 0}\n",
       ".list-inline>li {display: inline-block}\n",
       ".list-inline>li:not(:last-child)::after {content: \"\\00b7\"; padding: 0 .5ex}\n",
       "</style>\n",
       "<ol class=list-inline><li>5251</li><li>4</li></ol>\n"
      ],
      "text/latex": [
       "\\begin{enumerate*}\n",
       "\\item 5251\n",
       "\\item 4\n",
       "\\end{enumerate*}\n"
      ],
      "text/markdown": [
       "1. 5251\n",
       "2. 4\n",
       "\n",
       "\n"
      ],
      "text/plain": [
       "[1] 5251    4"
      ]
     },
     "metadata": {},
     "output_type": "display_data"
    }
   ],
   "source": [
    "sigtrans <- meS$trans$eqtls[which(meS$trans$eqtls$FDR < 0.05),]\n",
    "# Calculate mean p-value for each sig trans meth site\n",
    "mean_sigtrans <- sigtrans %>% \n",
    "   group_by(gene) %>%\n",
    "   dplyr::summarise(\n",
    "    mean_fdr= mean(FDR, na.rm=TRUE),\n",
    "    mean_beta= mean(beta,na.rm=TRUE),\n",
    "    n())  \n",
    "dim(mean_sigtrans)"
   ]
  },
  {
   "cell_type": "code",
   "execution_count": 76,
   "metadata": {},
   "outputs": [
    {
     "data": {
      "text/html": [
       "<style>\n",
       ".list-inline {list-style: none; margin:0; padding: 0}\n",
       ".list-inline>li {display: inline-block}\n",
       ".list-inline>li:not(:last-child)::after {content: \"\\00b7\"; padding: 0 .5ex}\n",
       "</style>\n",
       "<ol class=list-inline><li>10850</li><li>6</li></ol>\n"
      ],
      "text/latex": [
       "\\begin{enumerate*}\n",
       "\\item 10850\n",
       "\\item 6\n",
       "\\end{enumerate*}\n"
      ],
      "text/markdown": [
       "1. 10850\n",
       "2. 6\n",
       "\n",
       "\n"
      ],
      "text/plain": [
       "[1] 10850     6"
      ]
     },
     "metadata": {},
     "output_type": "display_data"
    }
   ],
   "source": [
    "dim(sigtrans)"
   ]
  },
  {
   "cell_type": "code",
   "execution_count": 77,
   "metadata": {
    "kernel": "R"
   },
   "outputs": [
    {
     "data": {
      "text/html": [
       "2.06627309083984"
      ],
      "text/latex": [
       "2.06627309083984"
      ],
      "text/markdown": [
       "2.06627309083984"
      ],
      "text/plain": [
       "[1] 2.066273"
      ]
     },
     "metadata": {},
     "output_type": "display_data"
    }
   ],
   "source": [
    "mean(mean_sigtrans$`n()`)"
   ]
  },
  {
   "cell_type": "markdown",
   "metadata": {
    "kernel": "R"
   },
   "source": [
    "* 5251 methylated sites out of 232,567 total sites have at least 1 trans (> 50kb away) SNP that is statistically linked (FDR < 5%). Mean 2.07 SNPs are significantly associated with each site. 1758 SNPs are associated with at least 1 site, mean 6.17 sites per SNP. (RN, PCA1-3) "
   ]
  },
  {
   "cell_type": "code",
   "execution_count": 78,
   "metadata": {
    "kernel": "R"
   },
   "outputs": [
    {
     "data": {
      "text/html": [
       "<table class=\"dataframe\">\n",
       "<caption>A tibble: 20 x 4</caption>\n",
       "<thead>\n",
       "\t<tr><th scope=col>gene</th><th scope=col>mean_fdr</th><th scope=col>mean_beta</th><th scope=col>n()</th></tr>\n",
       "\t<tr><th scope=col>&lt;chr&gt;</th><th scope=col>&lt;dbl&gt;</th><th scope=col>&lt;dbl&gt;</th><th scope=col>&lt;int&gt;</th></tr>\n",
       "</thead>\n",
       "<tbody>\n",
       "\t<tr><td>Contig102110.9040.9040 </td><td>0.007949475</td><td>2.957405</td><td>4</td></tr>\n",
       "\t<tr><td>Contig84548.13612.13612</td><td>0.048040949</td><td>2.762224</td><td>4</td></tr>\n",
       "\t<tr><td>Contig102342.2823.2823 </td><td>0.008765878</td><td>2.656596</td><td>5</td></tr>\n",
       "\t<tr><td>Contig125668.1515.1515 </td><td>0.008765878</td><td>2.656596</td><td>5</td></tr>\n",
       "\t<tr><td>Contig125668.1715.1715 </td><td>0.008765878</td><td>2.656596</td><td>5</td></tr>\n",
       "\t<tr><td>Contig17712.3409.3409  </td><td>0.008765878</td><td>2.656596</td><td>5</td></tr>\n",
       "\t<tr><td>Contig29738.10725.10725</td><td>0.008765878</td><td>2.656596</td><td>5</td></tr>\n",
       "\t<tr><td>Contig33119.13571.13571</td><td>0.008765878</td><td>2.656596</td><td>5</td></tr>\n",
       "\t<tr><td>Contig72069.4733.4733  </td><td>0.008765878</td><td>2.656596</td><td>5</td></tr>\n",
       "\t<tr><td>Contig2368.5059.5059   </td><td>0.043518142</td><td>2.623718</td><td>3</td></tr>\n",
       "\t<tr><td>Contig40252.249.249    </td><td>0.045146682</td><td>2.311395</td><td>1</td></tr>\n",
       "\t<tr><td>Contig137016.1735.1735 </td><td>0.043749390</td><td>2.310484</td><td>1</td></tr>\n",
       "\t<tr><td>Contig18103.22211.22211</td><td>0.049398109</td><td>2.273437</td><td>1</td></tr>\n",
       "\t<tr><td>Contig36689.32501.32501</td><td>0.017542868</td><td>2.219522</td><td>3</td></tr>\n",
       "\t<tr><td>Contig45534.865.865    </td><td>0.019471916</td><td>2.216059</td><td>1</td></tr>\n",
       "\t<tr><td>Contig124281.8393.8393 </td><td>0.031728342</td><td>2.193656</td><td>2</td></tr>\n",
       "\t<tr><td>Contig123259.1170.1170 </td><td>0.015098783</td><td>2.155449</td><td>1</td></tr>\n",
       "\t<tr><td>Contig76779.16150.16150</td><td>0.045957311</td><td>2.154960</td><td>1</td></tr>\n",
       "\t<tr><td>Contig59783.3073.3073  </td><td>0.049497793</td><td>2.139119</td><td>1</td></tr>\n",
       "\t<tr><td>Contig34098.3527.3527  </td><td>0.019993084</td><td>2.133504</td><td>1</td></tr>\n",
       "</tbody>\n",
       "</table>\n"
      ],
      "text/latex": [
       "A tibble: 20 x 4\n",
       "\\begin{tabular}{llll}\n",
       " gene & mean\\_fdr & mean\\_beta & n()\\\\\n",
       " <chr> & <dbl> & <dbl> & <int>\\\\\n",
       "\\hline\n",
       "\t Contig102110.9040.9040  & 0.007949475 & 2.957405 & 4\\\\\n",
       "\t Contig84548.13612.13612 & 0.048040949 & 2.762224 & 4\\\\\n",
       "\t Contig102342.2823.2823  & 0.008765878 & 2.656596 & 5\\\\\n",
       "\t Contig125668.1515.1515  & 0.008765878 & 2.656596 & 5\\\\\n",
       "\t Contig125668.1715.1715  & 0.008765878 & 2.656596 & 5\\\\\n",
       "\t Contig17712.3409.3409   & 0.008765878 & 2.656596 & 5\\\\\n",
       "\t Contig29738.10725.10725 & 0.008765878 & 2.656596 & 5\\\\\n",
       "\t Contig33119.13571.13571 & 0.008765878 & 2.656596 & 5\\\\\n",
       "\t Contig72069.4733.4733   & 0.008765878 & 2.656596 & 5\\\\\n",
       "\t Contig2368.5059.5059    & 0.043518142 & 2.623718 & 3\\\\\n",
       "\t Contig40252.249.249     & 0.045146682 & 2.311395 & 1\\\\\n",
       "\t Contig137016.1735.1735  & 0.043749390 & 2.310484 & 1\\\\\n",
       "\t Contig18103.22211.22211 & 0.049398109 & 2.273437 & 1\\\\\n",
       "\t Contig36689.32501.32501 & 0.017542868 & 2.219522 & 3\\\\\n",
       "\t Contig45534.865.865     & 0.019471916 & 2.216059 & 1\\\\\n",
       "\t Contig124281.8393.8393  & 0.031728342 & 2.193656 & 2\\\\\n",
       "\t Contig123259.1170.1170  & 0.015098783 & 2.155449 & 1\\\\\n",
       "\t Contig76779.16150.16150 & 0.045957311 & 2.154960 & 1\\\\\n",
       "\t Contig59783.3073.3073   & 0.049497793 & 2.139119 & 1\\\\\n",
       "\t Contig34098.3527.3527   & 0.019993084 & 2.133504 & 1\\\\\n",
       "\\end{tabular}\n"
      ],
      "text/markdown": [
       "\n",
       "A tibble: 20 x 4\n",
       "\n",
       "| gene &lt;chr&gt; | mean_fdr &lt;dbl&gt; | mean_beta &lt;dbl&gt; | n() &lt;int&gt; |\n",
       "|---|---|---|---|\n",
       "| Contig102110.9040.9040  | 0.007949475 | 2.957405 | 4 |\n",
       "| Contig84548.13612.13612 | 0.048040949 | 2.762224 | 4 |\n",
       "| Contig102342.2823.2823  | 0.008765878 | 2.656596 | 5 |\n",
       "| Contig125668.1515.1515  | 0.008765878 | 2.656596 | 5 |\n",
       "| Contig125668.1715.1715  | 0.008765878 | 2.656596 | 5 |\n",
       "| Contig17712.3409.3409   | 0.008765878 | 2.656596 | 5 |\n",
       "| Contig29738.10725.10725 | 0.008765878 | 2.656596 | 5 |\n",
       "| Contig33119.13571.13571 | 0.008765878 | 2.656596 | 5 |\n",
       "| Contig72069.4733.4733   | 0.008765878 | 2.656596 | 5 |\n",
       "| Contig2368.5059.5059    | 0.043518142 | 2.623718 | 3 |\n",
       "| Contig40252.249.249     | 0.045146682 | 2.311395 | 1 |\n",
       "| Contig137016.1735.1735  | 0.043749390 | 2.310484 | 1 |\n",
       "| Contig18103.22211.22211 | 0.049398109 | 2.273437 | 1 |\n",
       "| Contig36689.32501.32501 | 0.017542868 | 2.219522 | 3 |\n",
       "| Contig45534.865.865     | 0.019471916 | 2.216059 | 1 |\n",
       "| Contig124281.8393.8393  | 0.031728342 | 2.193656 | 2 |\n",
       "| Contig123259.1170.1170  | 0.015098783 | 2.155449 | 1 |\n",
       "| Contig76779.16150.16150 | 0.045957311 | 2.154960 | 1 |\n",
       "| Contig59783.3073.3073   | 0.049497793 | 2.139119 | 1 |\n",
       "| Contig34098.3527.3527   | 0.019993084 | 2.133504 | 1 |\n",
       "\n"
      ],
      "text/plain": [
       "   gene                    mean_fdr    mean_beta n()\n",
       "1  Contig102110.9040.9040  0.007949475 2.957405  4  \n",
       "2  Contig84548.13612.13612 0.048040949 2.762224  4  \n",
       "3  Contig102342.2823.2823  0.008765878 2.656596  5  \n",
       "4  Contig125668.1515.1515  0.008765878 2.656596  5  \n",
       "5  Contig125668.1715.1715  0.008765878 2.656596  5  \n",
       "6  Contig17712.3409.3409   0.008765878 2.656596  5  \n",
       "7  Contig29738.10725.10725 0.008765878 2.656596  5  \n",
       "8  Contig33119.13571.13571 0.008765878 2.656596  5  \n",
       "9  Contig72069.4733.4733   0.008765878 2.656596  5  \n",
       "10 Contig2368.5059.5059    0.043518142 2.623718  3  \n",
       "11 Contig40252.249.249     0.045146682 2.311395  1  \n",
       "12 Contig137016.1735.1735  0.043749390 2.310484  1  \n",
       "13 Contig18103.22211.22211 0.049398109 2.273437  1  \n",
       "14 Contig36689.32501.32501 0.017542868 2.219522  3  \n",
       "15 Contig45534.865.865     0.019471916 2.216059  1  \n",
       "16 Contig124281.8393.8393  0.031728342 2.193656  2  \n",
       "17 Contig123259.1170.1170  0.015098783 2.155449  1  \n",
       "18 Contig76779.16150.16150 0.045957311 2.154960  1  \n",
       "19 Contig59783.3073.3073   0.049497793 2.139119  1  \n",
       "20 Contig34098.3527.3527   0.019993084 2.133504  1  "
      ]
     },
     "metadata": {},
     "output_type": "display_data"
    }
   ],
   "source": [
    "head(mean_sigtrans[order(mean_sigtrans$mean_beta,decreasing = T),],n = 20)"
   ]
  },
  {
   "cell_type": "code",
   "execution_count": null,
   "metadata": {
    "kernel": "R"
   },
   "outputs": [],
   "source": []
  },
  {
   "cell_type": "code",
   "execution_count": 81,
   "metadata": {
    "kernel": "R"
   },
   "outputs": [
    {
     "name": "stderr",
     "output_type": "stream",
     "text": [
      "Bin width defaults to 1/30 of the range of the data. Pick better value with `binwidth`.\n",
      "\n"
     ]
    },
    {
     "data": {
      "image/png": "[encoded data removed]",
      "text/plain": [
       "plot without title"
      ]
     },
     "metadata": {
      "image/png": {
       "height": 420,
       "width": 420
      }
     },
     "output_type": "display_data"
    }
   ],
   "source": [
    "m <- perc_meth %>% filter(id==\"Contig102110.9040.9040\")\n",
    "s <- meS$trans$eqtls[which(meS$trans$eqtls$gene == \"Contig102110.9040.9040\" & meS$trans$eqtls$FDR < 0.05),]$snps\n",
    "\n",
    "g <- as.data.frame(t(geno[geno$id %in% s,]),stringsAsFactors = F)\n",
    "colnames(g) <- g[1,]\n",
    "g$sample <- rownames(g)\n",
    "g <- g[-1,]\n",
    "merge(m,g) %>% tidyr::gather(\"id\",\"value\",5:ncol(merge(m,g))) %>%\n",
    "ggplot(., aes(value, percMeth,colour=pop)) + \n",
    "        geom_dotplot(binaxis='y', stackdir='center',dotsize=0.6) +\n",
    "        geom_boxplot(outlier.size=0, alpha=0.6, fill=\"grey\") +\n",
    "        facet_wrap(~id) + theme_bw()"
   ]
  },
  {
   "cell_type": "markdown",
   "metadata": {
    "kernel": "R",
    "tags": []
   },
   "source": [
    "### Cis snps"
   ]
  },
  {
   "cell_type": "code",
   "execution_count": 82,
   "metadata": {
    "kernel": "R"
   },
   "outputs": [
    {
     "data": {
      "text/html": [
       "277"
      ],
      "text/latex": [
       "277"
      ],
      "text/markdown": [
       "277"
      ],
      "text/plain": [
       "[1] 277"
      ]
     },
     "metadata": {},
     "output_type": "display_data"
    }
   ],
   "source": [
    "meS$cis$neqtls"
   ]
  },
  {
   "cell_type": "code",
   "execution_count": 85,
   "metadata": {
    "kernel": "R"
   },
   "outputs": [
    {
     "data": {
      "text/html": [
       "<style>\n",
       ".list-inline {list-style: none; margin:0; padding: 0}\n",
       ".list-inline>li {display: inline-block}\n",
       ".list-inline>li:not(:last-child)::after {content: \"\\00b7\"; padding: 0 .5ex}\n",
       "</style>\n",
       "<ol class=list-inline><li>240</li><li>4</li></ol>\n"
      ],
      "text/latex": [
       "\\begin{enumerate*}\n",
       "\\item 240\n",
       "\\item 4\n",
       "\\end{enumerate*}\n"
      ],
      "text/markdown": [
       "1. 240\n",
       "2. 4\n",
       "\n",
       "\n"
      ],
      "text/plain": [
       "[1] 240   4"
      ]
     },
     "metadata": {},
     "output_type": "display_data"
    }
   ],
   "source": [
    "# Calculate mean p-value for each sig trans meth site\n",
    "mean_sigcis <- meS$cis$eqtls %>% \n",
    "   group_by(gene) %>%\n",
    "   dplyr::summarise(\n",
    "    mean_pval= mean(pvalue, na.rm=TRUE),\n",
    "    mean_beta= mean(beta,na.rm=TRUE),\n",
    "    n())  \n",
    "dim(mean_sigcis)"
   ]
  },
  {
   "cell_type": "code",
   "execution_count": 109,
   "metadata": {},
   "outputs": [],
   "source": [
    "# get sig meth sites\n",
    "sig_meth_cis <- as.character(unique(meS$cis$eqtls$gene))"
   ]
  },
  {
   "cell_type": "code",
   "execution_count": 110,
   "metadata": {},
   "outputs": [
    {
     "data": {
      "text/html": [
       "240"
      ],
      "text/latex": [
       "240"
      ],
      "text/markdown": [
       "240"
      ],
      "text/plain": [
       "[1] 240"
      ]
     },
     "metadata": {},
     "output_type": "display_data"
    }
   ],
   "source": [
    "length(sig_meth_cis)"
   ]
  },
  {
   "cell_type": "code",
   "execution_count": 111,
   "metadata": {},
   "outputs": [],
   "source": [
    "chr <- sapply(strsplit(sig_meth_cis,\"[.]\"), `[`, 1)\n",
    "start <- sapply(strsplit(sig_meth_cis,\"[.]\"), `[`, 2)\n",
    "end <- start\n",
    "bed <- cbind(chr,start,end)\n",
    "write.table(bed,\"../analyses/2bRAD/mQTL_5x/meth_mbd_maf05_sites_cis.bed\",row.names = F, col.names = F,quote = F, sep = \"\\t\")"
   ]
  },
  {
   "cell_type": "code",
   "execution_count": 82,
   "metadata": {
    "kernel": "R"
   },
   "outputs": [
    {
     "data": {
      "text/html": [
       "277"
      ],
      "text/latex": [
       "277"
      ],
      "text/markdown": [
       "277"
      ],
      "text/plain": [
       "[1] 277"
      ]
     },
     "metadata": {},
     "output_type": "display_data"
    }
   ],
   "source": [
    "meS$cis$neqtls"
   ]
  },
  {
   "cell_type": "code",
   "execution_count": 41,
   "metadata": {
    "kernel": "R"
   },
   "outputs": [
    {
     "name": "stderr",
     "output_type": "stream",
     "text": [
      "`summarise()` ungrouping output (override with `.groups` argument)\n",
      "\n"
     ]
    },
    {
     "data": {
      "text/html": [
       "<style>\n",
       ".list-inline {list-style: none; margin:0; padding: 0}\n",
       ".list-inline>li {display: inline-block}\n",
       ".list-inline>li:not(:last-child)::after {content: \"\\00b7\"; padding: 0 .5ex}\n",
       "</style>\n",
       "<ol class=list-inline><li>121</li><li>4</li></ol>\n"
      ],
      "text/latex": [
       "\\begin{enumerate*}\n",
       "\\item 121\n",
       "\\item 4\n",
       "\\end{enumerate*}\n"
      ],
      "text/markdown": [
       "1. 121\n",
       "2. 4\n",
       "\n",
       "\n"
      ],
      "text/plain": [
       "[1] 121   4"
      ]
     },
     "metadata": {},
     "output_type": "display_data"
    }
   ],
   "source": [
    "# Calculate mean p-value for each sig trans meth site\n",
    "mean_sigcis <- meS$cis$eqtls %>% \n",
    "   group_by(gene) %>%\n",
    "   dplyr::summarise(\n",
    "    mean_pval= mean(pvalue, na.rm=TRUE),\n",
    "    mean_beta= mean(beta,na.rm=TRUE),\n",
    "    n())  \n",
    "dim(mean_sigcis)"
   ]
  },
  {
   "cell_type": "code",
   "execution_count": 86,
   "metadata": {
    "kernel": "R"
   },
   "outputs": [
    {
     "data": {
      "text/html": [
       "1.15416666666667"
      ],
      "text/latex": [
       "1.15416666666667"
      ],
      "text/markdown": [
       "1.15416666666667"
      ],
      "text/plain": [
       "[1] 1.154167"
      ]
     },
     "metadata": {},
     "output_type": "display_data"
    }
   ],
   "source": [
    "mean(mean_sigcis$`n()`)"
   ]
  },
  {
   "cell_type": "code",
   "execution_count": 87,
   "metadata": {
    "kernel": "R"
   },
   "outputs": [
    {
     "data": {
      "text/html": [
       "<style>\n",
       ".list-inline {list-style: none; margin:0; padding: 0}\n",
       ".list-inline>li {display: inline-block}\n",
       ".list-inline>li:not(:last-child)::after {content: \"\\00b7\"; padding: 0 .5ex}\n",
       "</style>\n",
       "<ol class=list-inline><li>176</li><li>4</li></ol>\n"
      ],
      "text/latex": [
       "\\begin{enumerate*}\n",
       "\\item 176\n",
       "\\item 4\n",
       "\\end{enumerate*}\n"
      ],
      "text/markdown": [
       "1. 176\n",
       "2. 4\n",
       "\n",
       "\n"
      ],
      "text/plain": [
       "[1] 176   4"
      ]
     },
     "metadata": {},
     "output_type": "display_data"
    }
   ],
   "source": [
    "cis_snps <- meS$cis$eqtls %>%\n",
    "group_by(snps) %>%\n",
    "dplyr::summarise(\n",
    "    mean_pval= mean(pvalue, na.rm=TRUE),\n",
    "    mean_beta= mean(beta,na.rm=TRUE),\n",
    "    n()) \n",
    " \n",
    "dim(cis_snps)"
   ]
  },
  {
   "cell_type": "code",
   "execution_count": 88,
   "metadata": {
    "kernel": "R"
   },
   "outputs": [
    {
     "data": {
      "text/html": [
       "1.57386363636364"
      ],
      "text/latex": [
       "1.57386363636364"
      ],
      "text/markdown": [
       "1.57386363636364"
      ],
      "text/plain": [
       "[1] 1.573864"
      ]
     },
     "metadata": {},
     "output_type": "display_data"
    }
   ],
   "source": [
    "mean(cis_snps$`n()`)"
   ]
  },
  {
   "cell_type": "markdown",
   "metadata": {
    "kernel": "R"
   },
   "source": [
    "240 methylated sites out of X total sites have at least 1 cis (< 50kb away) SNP that is statistically linked (pvalue < 0.01). Mean 1.15 SNPs are significantly associated with each bin. 176 SNPs are associated with at least 1 site, mean 1.57 sites per SNP.  "
   ]
  },
  {
   "cell_type": "code",
   "execution_count": 92,
   "metadata": {
    "kernel": "R"
   },
   "outputs": [
    {
     "data": {
      "text/html": [
       "<table class=\"dataframe\">\n",
       "<caption>A data.frame: 20 x 6</caption>\n",
       "<thead>\n",
       "\t<tr><th></th><th scope=col>snps</th><th scope=col>gene</th><th scope=col>statistic</th><th scope=col>pvalue</th><th scope=col>FDR</th><th scope=col>beta</th></tr>\n",
       "\t<tr><th></th><th scope=col>&lt;chr&gt;</th><th scope=col>&lt;chr&gt;</th><th scope=col>&lt;dbl&gt;</th><th scope=col>&lt;dbl&gt;</th><th scope=col>&lt;dbl&gt;</th><th scope=col>&lt;dbl&gt;</th></tr>\n",
       "</thead>\n",
       "<tbody>\n",
       "\t<tr><th scope=row>1</th><td>Contig346666_6197</td><td>Contig346666.5591.5591 </td><td> 7.892763</td><td>2.591407e-06</td><td>0.01805409</td><td> 0.8505726</td></tr>\n",
       "\t<tr><th scope=row>2</th><td>Contig20924_31357</td><td>Contig20924.31674.31674</td><td>-7.643323</td><td>3.671072e-06</td><td>0.01805409</td><td>-1.1106514</td></tr>\n",
       "\t<tr><th scope=row>3</th><td>Contig51028_11639</td><td>Contig51028.20112.20112</td><td>-7.603193</td><td>3.885386e-06</td><td>0.01805409</td><td>-1.9808249</td></tr>\n",
       "\t<tr><th scope=row>4</th><td>Contig29931_24809</td><td>Contig29931.8179.8179  </td><td> 6.772391</td><td>1.316631e-05</td><td>0.04588459</td><td> 0.9477876</td></tr>\n",
       "\t<tr><th scope=row>5</th><td>Contig35529_2509 </td><td>Contig35529.2508.2508  </td><td>-5.402653</td><td>1.205927e-04</td><td>0.24586321</td><td>-1.6268296</td></tr>\n",
       "\t<tr><th scope=row>6</th><td>Contig36473_28460</td><td>Contig36473.30294.30294</td><td> 5.391383</td><td>1.229432e-04</td><td>0.24586321</td><td> 1.3659333</td></tr>\n",
       "\t<tr><th scope=row>7</th><td>Contig470690_766 </td><td>Contig470690.1320.1320 </td><td>-5.384956</td><td>1.243052e-04</td><td>0.24586321</td><td>-1.9036519</td></tr>\n",
       "\t<tr><th scope=row>8</th><td>Contig24692_9048 </td><td>Contig24692.5776.5776  </td><td>-5.243914</td><td>1.585264e-04</td><td>0.24586321</td><td>-1.6943657</td></tr>\n",
       "\t<tr><th scope=row>9</th><td>Contig21828_42443</td><td>Contig21828.45513.45513</td><td> 5.207308</td><td>1.689295e-04</td><td>0.24586321</td><td> 0.8485381</td></tr>\n",
       "\t<tr><th scope=row>10</th><td>Contig25896_4772 </td><td>Contig25896.4572.4572  </td><td>-5.137260</td><td>1.908753e-04</td><td>0.24586321</td><td>-1.0825905</td></tr>\n",
       "\t<tr><th scope=row>11</th><td>Contig21828_42443</td><td>Contig21828.46082.46082</td><td> 5.127947</td><td>1.940097e-04</td><td>0.24586321</td><td> 0.8349945</td></tr>\n",
       "\t<tr><th scope=row>12</th><td>Contig22083_4718 </td><td>Contig22083.2715.2715  </td><td> 4.993066</td><td>2.459495e-04</td><td>0.25727505</td><td> 2.0146677</td></tr>\n",
       "\t<tr><th scope=row>13</th><td>Contig38940_15651</td><td>Contig38940.13829.13829</td><td>-4.968975</td><td>2.566599e-04</td><td>0.25727505</td><td>-2.1609963</td></tr>\n",
       "\t<tr><th scope=row>14</th><td>Contig26603_17846</td><td>Contig26603.2623.2623  </td><td>-4.965198</td><td>2.583824e-04</td><td>0.25727505</td><td>-1.0310799</td></tr>\n",
       "\t<tr><th scope=row>15</th><td>Contig23237_49982</td><td>Contig23237.57166.57166</td><td> 4.887604</td><td>2.965723e-04</td><td>0.26081410</td><td> 2.2391940</td></tr>\n",
       "\t<tr><th scope=row>16</th><td>Contig82836_6883 </td><td>Contig82836.16481.16481</td><td> 4.817994</td><td>3.358364e-04</td><td>0.26081410</td><td> 1.6712950</td></tr>\n",
       "\t<tr><th scope=row>17</th><td>Contig75_55990   </td><td>Contig75.15031.15031   </td><td> 4.765797</td><td>3.688046e-04</td><td>0.26081410</td><td> 1.1867618</td></tr>\n",
       "\t<tr><th scope=row>18</th><td>Contig18103_8098 </td><td>Contig18103.8097.8097  </td><td>-4.763233</td><td>3.705086e-04</td><td>0.26081410</td><td>-1.8733189</td></tr>\n",
       "\t<tr><th scope=row>19</th><td>Contig126977_2209</td><td>Contig126977.2209.2209 </td><td>-4.737563</td><td>3.880228e-04</td><td>0.26081410</td><td>-1.4505783</td></tr>\n",
       "\t<tr><th scope=row>20</th><td>Contig18086_3766 </td><td>Contig18086.7781.7781  </td><td>-4.707386</td><td>4.097178e-04</td><td>0.26081410</td><td>-1.2836940</td></tr>\n",
       "</tbody>\n",
       "</table>\n"
      ],
      "text/latex": [
       "A data.frame: 20 x 6\n",
       "\\begin{tabular}{r|llllll}\n",
       "  & snps & gene & statistic & pvalue & FDR & beta\\\\\n",
       "  & <chr> & <chr> & <dbl> & <dbl> & <dbl> & <dbl>\\\\\n",
       "\\hline\n",
       "\t1 & Contig346666\\_6197 & Contig346666.5591.5591  &  7.892763 & 2.591407e-06 & 0.01805409 &  0.8505726\\\\\n",
       "\t2 & Contig20924\\_31357 & Contig20924.31674.31674 & -7.643323 & 3.671072e-06 & 0.01805409 & -1.1106514\\\\\n",
       "\t3 & Contig51028\\_11639 & Contig51028.20112.20112 & -7.603193 & 3.885386e-06 & 0.01805409 & -1.9808249\\\\\n",
       "\t4 & Contig29931\\_24809 & Contig29931.8179.8179   &  6.772391 & 1.316631e-05 & 0.04588459 &  0.9477876\\\\\n",
       "\t5 & Contig35529\\_2509  & Contig35529.2508.2508   & -5.402653 & 1.205927e-04 & 0.24586321 & -1.6268296\\\\\n",
       "\t6 & Contig36473\\_28460 & Contig36473.30294.30294 &  5.391383 & 1.229432e-04 & 0.24586321 &  1.3659333\\\\\n",
       "\t7 & Contig470690\\_766  & Contig470690.1320.1320  & -5.384956 & 1.243052e-04 & 0.24586321 & -1.9036519\\\\\n",
       "\t8 & Contig24692\\_9048  & Contig24692.5776.5776   & -5.243914 & 1.585264e-04 & 0.24586321 & -1.6943657\\\\\n",
       "\t9 & Contig21828\\_42443 & Contig21828.45513.45513 &  5.207308 & 1.689295e-04 & 0.24586321 &  0.8485381\\\\\n",
       "\t10 & Contig25896\\_4772  & Contig25896.4572.4572   & -5.137260 & 1.908753e-04 & 0.24586321 & -1.0825905\\\\\n",
       "\t11 & Contig21828\\_42443 & Contig21828.46082.46082 &  5.127947 & 1.940097e-04 & 0.24586321 &  0.8349945\\\\\n",
       "\t12 & Contig22083\\_4718  & Contig22083.2715.2715   &  4.993066 & 2.459495e-04 & 0.25727505 &  2.0146677\\\\\n",
       "\t13 & Contig38940\\_15651 & Contig38940.13829.13829 & -4.968975 & 2.566599e-04 & 0.25727505 & -2.1609963\\\\\n",
       "\t14 & Contig26603\\_17846 & Contig26603.2623.2623   & -4.965198 & 2.583824e-04 & 0.25727505 & -1.0310799\\\\\n",
       "\t15 & Contig23237\\_49982 & Contig23237.57166.57166 &  4.887604 & 2.965723e-04 & 0.26081410 &  2.2391940\\\\\n",
       "\t16 & Contig82836\\_6883  & Contig82836.16481.16481 &  4.817994 & 3.358364e-04 & 0.26081410 &  1.6712950\\\\\n",
       "\t17 & Contig75\\_55990    & Contig75.15031.15031    &  4.765797 & 3.688046e-04 & 0.26081410 &  1.1867618\\\\\n",
       "\t18 & Contig18103\\_8098  & Contig18103.8097.8097   & -4.763233 & 3.705086e-04 & 0.26081410 & -1.8733189\\\\\n",
       "\t19 & Contig126977\\_2209 & Contig126977.2209.2209  & -4.737563 & 3.880228e-04 & 0.26081410 & -1.4505783\\\\\n",
       "\t20 & Contig18086\\_3766  & Contig18086.7781.7781   & -4.707386 & 4.097178e-04 & 0.26081410 & -1.2836940\\\\\n",
       "\\end{tabular}\n"
      ],
      "text/markdown": [
       "\n",
       "A data.frame: 20 x 6\n",
       "\n",
       "| <!--/--> | snps &lt;chr&gt; | gene &lt;chr&gt; | statistic &lt;dbl&gt; | pvalue &lt;dbl&gt; | FDR &lt;dbl&gt; | beta &lt;dbl&gt; |\n",
       "|---|---|---|---|---|---|---|\n",
       "| 1 | Contig346666_6197 | Contig346666.5591.5591  |  7.892763 | 2.591407e-06 | 0.01805409 |  0.8505726 |\n",
       "| 2 | Contig20924_31357 | Contig20924.31674.31674 | -7.643323 | 3.671072e-06 | 0.01805409 | -1.1106514 |\n",
       "| 3 | Contig51028_11639 | Contig51028.20112.20112 | -7.603193 | 3.885386e-06 | 0.01805409 | -1.9808249 |\n",
       "| 4 | Contig29931_24809 | Contig29931.8179.8179   |  6.772391 | 1.316631e-05 | 0.04588459 |  0.9477876 |\n",
       "| 5 | Contig35529_2509  | Contig35529.2508.2508   | -5.402653 | 1.205927e-04 | 0.24586321 | -1.6268296 |\n",
       "| 6 | Contig36473_28460 | Contig36473.30294.30294 |  5.391383 | 1.229432e-04 | 0.24586321 |  1.3659333 |\n",
       "| 7 | Contig470690_766  | Contig470690.1320.1320  | -5.384956 | 1.243052e-04 | 0.24586321 | -1.9036519 |\n",
       "| 8 | Contig24692_9048  | Contig24692.5776.5776   | -5.243914 | 1.585264e-04 | 0.24586321 | -1.6943657 |\n",
       "| 9 | Contig21828_42443 | Contig21828.45513.45513 |  5.207308 | 1.689295e-04 | 0.24586321 |  0.8485381 |\n",
       "| 10 | Contig25896_4772  | Contig25896.4572.4572   | -5.137260 | 1.908753e-04 | 0.24586321 | -1.0825905 |\n",
       "| 11 | Contig21828_42443 | Contig21828.46082.46082 |  5.127947 | 1.940097e-04 | 0.24586321 |  0.8349945 |\n",
       "| 12 | Contig22083_4718  | Contig22083.2715.2715   |  4.993066 | 2.459495e-04 | 0.25727505 |  2.0146677 |\n",
       "| 13 | Contig38940_15651 | Contig38940.13829.13829 | -4.968975 | 2.566599e-04 | 0.25727505 | -2.1609963 |\n",
       "| 14 | Contig26603_17846 | Contig26603.2623.2623   | -4.965198 | 2.583824e-04 | 0.25727505 | -1.0310799 |\n",
       "| 15 | Contig23237_49982 | Contig23237.57166.57166 |  4.887604 | 2.965723e-04 | 0.26081410 |  2.2391940 |\n",
       "| 16 | Contig82836_6883  | Contig82836.16481.16481 |  4.817994 | 3.358364e-04 | 0.26081410 |  1.6712950 |\n",
       "| 17 | Contig75_55990    | Contig75.15031.15031    |  4.765797 | 3.688046e-04 | 0.26081410 |  1.1867618 |\n",
       "| 18 | Contig18103_8098  | Contig18103.8097.8097   | -4.763233 | 3.705086e-04 | 0.26081410 | -1.8733189 |\n",
       "| 19 | Contig126977_2209 | Contig126977.2209.2209  | -4.737563 | 3.880228e-04 | 0.26081410 | -1.4505783 |\n",
       "| 20 | Contig18086_3766  | Contig18086.7781.7781   | -4.707386 | 4.097178e-04 | 0.26081410 | -1.2836940 |\n",
       "\n"
      ],
      "text/plain": [
       "   snps              gene                    statistic pvalue       FDR       \n",
       "1  Contig346666_6197 Contig346666.5591.5591   7.892763 2.591407e-06 0.01805409\n",
       "2  Contig20924_31357 Contig20924.31674.31674 -7.643323 3.671072e-06 0.01805409\n",
       "3  Contig51028_11639 Contig51028.20112.20112 -7.603193 3.885386e-06 0.01805409\n",
       "4  Contig29931_24809 Contig29931.8179.8179    6.772391 1.316631e-05 0.04588459\n",
       "5  Contig35529_2509  Contig35529.2508.2508   -5.402653 1.205927e-04 0.24586321\n",
       "6  Contig36473_28460 Contig36473.30294.30294  5.391383 1.229432e-04 0.24586321\n",
       "7  Contig470690_766  Contig470690.1320.1320  -5.384956 1.243052e-04 0.24586321\n",
       "8  Contig24692_9048  Contig24692.5776.5776   -5.243914 1.585264e-04 0.24586321\n",
       "9  Contig21828_42443 Contig21828.45513.45513  5.207308 1.689295e-04 0.24586321\n",
       "10 Contig25896_4772  Contig25896.4572.4572   -5.137260 1.908753e-04 0.24586321\n",
       "11 Contig21828_42443 Contig21828.46082.46082  5.127947 1.940097e-04 0.24586321\n",
       "12 Contig22083_4718  Contig22083.2715.2715    4.993066 2.459495e-04 0.25727505\n",
       "13 Contig38940_15651 Contig38940.13829.13829 -4.968975 2.566599e-04 0.25727505\n",
       "14 Contig26603_17846 Contig26603.2623.2623   -4.965198 2.583824e-04 0.25727505\n",
       "15 Contig23237_49982 Contig23237.57166.57166  4.887604 2.965723e-04 0.26081410\n",
       "16 Contig82836_6883  Contig82836.16481.16481  4.817994 3.358364e-04 0.26081410\n",
       "17 Contig75_55990    Contig75.15031.15031     4.765797 3.688046e-04 0.26081410\n",
       "18 Contig18103_8098  Contig18103.8097.8097   -4.763233 3.705086e-04 0.26081410\n",
       "19 Contig126977_2209 Contig126977.2209.2209  -4.737563 3.880228e-04 0.26081410\n",
       "20 Contig18086_3766  Contig18086.7781.7781   -4.707386 4.097178e-04 0.26081410\n",
       "   beta      \n",
       "1   0.8505726\n",
       "2  -1.1106514\n",
       "3  -1.9808249\n",
       "4   0.9477876\n",
       "5  -1.6268296\n",
       "6   1.3659333\n",
       "7  -1.9036519\n",
       "8  -1.6943657\n",
       "9   0.8485381\n",
       "10 -1.0825905\n",
       "11  0.8349945\n",
       "12  2.0146677\n",
       "13 -2.1609963\n",
       "14 -1.0310799\n",
       "15  2.2391940\n",
       "16  1.6712950\n",
       "17  1.1867618\n",
       "18 -1.8733189\n",
       "19 -1.4505783\n",
       "20 -1.2836940"
      ]
     },
     "metadata": {},
     "output_type": "display_data"
    }
   ],
   "source": [
    "head(meS$cis$eqtls,n=20)"
   ]
  },
  {
   "cell_type": "code",
   "execution_count": 90,
   "metadata": {
    "kernel": "R"
   },
   "outputs": [],
   "source": [
    "write.table(meS$cis$eqtls,paste0(mQTL,\"mQTL_12_sites_cis50kb_p01_maf05_2pop_RNPCA.txt\"),quote = F,row.names = F)"
   ]
  },
  {
   "cell_type": "code",
   "execution_count": 93,
   "metadata": {
    "kernel": "R"
   },
   "outputs": [
    {
     "name": "stderr",
     "output_type": "stream",
     "text": [
      "Bin width defaults to 1/30 of the range of the data. Pick better value with `binwidth`.\n",
      "\n"
     ]
    },
    {
     "data": {
      "image/png": "[encoded data removed]",
      "text/plain": [
       "plot without title"
      ]
     },
     "metadata": {
      "image/png": {
       "height": 420,
       "width": 420
      }
     },
     "output_type": "display_data"
    }
   ],
   "source": [
    "m <- perc_meth %>% filter(id==\"Contig346666.5591.5591\")\n",
    "s <- meS$cis$eqtls[which(meS$cis$eqtls$gene == \"Contig346666.5591.5591\"),]$snps\n",
    "\n",
    "g <- as.data.frame(t(geno[geno$id %in% s,]),stringsAsFactors = F)\n",
    "colnames(g) <- g[1,]\n",
    "g$sample <- rownames(g)\n",
    "g <- g[-1,]\n",
    "merge(m,g) %>% tidyr::gather(\"id\",\"value\",5:ncol(merge(m,g))) %>%\n",
    "ggplot(., aes(value, percMeth,colour=pop)) + \n",
    "        geom_dotplot(binaxis='y', stackdir='center',dotsize=0.6) +\n",
    "        geom_boxplot(outlier.size=0, alpha=0.6, fill=\"grey\") +\n",
    "        facet_wrap(~id) + theme_bw() + ggtitle(\"Contig346666.5591.5591\")"
   ]
  },
  {
   "cell_type": "markdown",
   "metadata": {
    "kernel": "R"
   },
   "source": [
    "### All cis-meQTLs"
   ]
  },
  {
   "cell_type": "code",
   "execution_count": 94,
   "metadata": {
    "kernel": "R",
    "scrolled": true
   },
   "outputs": [
    {
     "ename": "ERROR",
     "evalue": "Error in ggboxplot(., x = \"value\", y = \"percMeth\", color = \"pop\", facet.by = c(\"id\"), : could not find function \"ggboxplot\"\n",
     "output_type": "error",
     "traceback": [
      "Error in ggboxplot(., x = \"value\", y = \"percMeth\", color = \"pop\", facet.by = c(\"id\"), : could not find function \"ggboxplot\"\nTraceback:\n",
      "1. mer %>% ggboxplot(., x = \"value\", y = \"percMeth\", color = \"pop\", \n .     facet.by = c(\"id\"), add = \"dotplot\")"
     ]
    }
   ],
   "source": [
    "for(gene in unique(meS$cis$eqtls$gene)){\n",
    "    m <- perc_meth %>% filter(id==gene)\n",
    "s <- meS$cis$eqtls[which(meS$cis$eqtls$gene == gene),]$snps\n",
    "    pval <- signif(mean_sigcis[which(mean_sigcis$gene == gene),\"mean_pval\"],digits=3)\n",
    "\n",
    "g <- as.data.frame(t(geno[geno$id %in% s,]),stringsAsFactors = F)\n",
    "colnames(g) <- g[1,]\n",
    "g$sample <- rownames(g)\n",
    "g <- g[-1,]\n",
    "    \n",
    "mer <- merge(m,g) %>% tidyr::gather(\"id\",\"value\",5:ncol(merge(m,g)))\n",
    "mer$value <- as.numeric(mer$value)\n",
    "\n",
    "plot <- mer %>%\n",
    "ggboxplot(., x = \"value\", y= \"percMeth\",color=\"pop\", facet.by = c(\"id\") , add =\"dotplot\") + \n",
    "    ggtitle(paste(gene,pval,sep=\" \"))\n",
    "#stat_compare_means( method = \"t.test\",label=\"p.format\") + ggtitle(gene)\n",
    "print(plot)\n",
    "}"
   ]
  },
  {
   "cell_type": "code",
   "execution_count": 96,
   "metadata": {
    "kernel": "R"
   },
   "outputs": [
    {
     "data": {
      "image/png": "[encoded data removed]",
      "text/plain": [
       "Plot with title “Histogram of m$percMeth”"
      ]
     },
     "metadata": {
      "image/png": {
       "height": 420,
       "width": 420
      }
     },
     "output_type": "display_data"
    }
   ],
   "source": [
    "m <- perc_meth %>% filter(id %in% meS$cis$eqtls$gene & pop %in% \"hc\")\n",
    "hist(m$percMeth,breaks = 20)"
   ]
  },
  {
   "cell_type": "code",
   "execution_count": 97,
   "metadata": {
    "kernel": "R"
   },
   "outputs": [
    {
     "data": {
      "image/png": "[encoded data removed]",
      "text/plain": [
       "Plot with title “Histogram of m$percMeth”"
      ]
     },
     "metadata": {
      "image/png": {
       "height": 420,
       "width": 420
      }
     },
     "output_type": "display_data"
    }
   ],
   "source": [
    "m <- perc_meth %>% filter(id %in% meS$cis$eqtls$gene & pop %in% \"ss\")\n",
    "hist(m$percMeth,breaks = 20)"
   ]
  },
  {
   "cell_type": "markdown",
   "metadata": {},
   "source": [
    "# No updated yet"
   ]
  },
  {
   "cell_type": "markdown",
   "metadata": {},
   "source": [
    "### are there more cis mqtl than trans mqtl "
   ]
  },
  {
   "cell_type": "code",
   "execution_count": 2,
   "metadata": {},
   "outputs": [],
   "source": [
    "ncis_snpT = 349 \n",
    "ncis_snp = 96 \n",
    "ntran_snpT = 2860 \n",
    "ntran_snp = 501"
   ]
  },
  {
   "cell_type": "code",
   "execution_count": 3,
   "metadata": {},
   "outputs": [
    {
     "data": {
      "text/html": [
       "<table class=\"dataframe\">\n",
       "<caption>A matrix: 2 × 2 of type dbl</caption>\n",
       "<thead>\n",
       "\t<tr><th></th><th scope=col>mQTL</th><th scope=col>non-mQTL</th></tr>\n",
       "</thead>\n",
       "<tbody>\n",
       "\t<tr><th scope=row>cis</th><td> 96</td><td> 253</td></tr>\n",
       "\t<tr><th scope=row>trans</th><td>501</td><td>2359</td></tr>\n",
       "</tbody>\n",
       "</table>\n"
      ],
      "text/latex": [
       "A matrix: 2 × 2 of type dbl\n",
       "\\begin{tabular}{r|ll}\n",
       "  & mQTL & non-mQTL\\\\\n",
       "\\hline\n",
       "\tcis &  96 &  253\\\\\n",
       "\ttrans & 501 & 2359\\\\\n",
       "\\end{tabular}\n"
      ],
      "text/markdown": [
       "\n",
       "A matrix: 2 × 2 of type dbl\n",
       "\n",
       "| <!--/--> | mQTL | non-mQTL |\n",
       "|---|---|---|\n",
       "| cis |  96 |  253 |\n",
       "| trans | 501 | 2359 |\n",
       "\n"
      ],
      "text/plain": [
       "      mQTL non-mQTL\n",
       "cis    96   253    \n",
       "trans 501  2359    "
      ]
     },
     "metadata": {},
     "output_type": "display_data"
    }
   ],
   "source": [
    "mat <- matrix(c(ncis_snp,ntran_snp,ncis_snpT-ncis_snp,ntran_snpT-ntran_snp),ncol=2)\n",
    "dimnames(mat) <- list(c(\"cis\",\"trans\"),c(\"mQTL\",\"non-mQTL\"))\n",
    "mat"
   ]
  },
  {
   "cell_type": "code",
   "execution_count": 4,
   "metadata": {},
   "outputs": [
    {
     "data": {
      "text/plain": [
       "\n",
       "\tPearson's Chi-squared test with Yates' continuity correction\n",
       "\n",
       "data:  mat\n",
       "X-squared = 19.844, df = 1, p-value = 8.403e-06\n"
      ]
     },
     "metadata": {},
     "output_type": "display_data"
    }
   ],
   "source": [
    "test <- chisq.test(mat)\n",
    "test"
   ]
  },
  {
   "cell_type": "code",
   "execution_count": null,
   "metadata": {},
   "outputs": [],
   "source": []
  },
  {
   "cell_type": "markdown",
   "metadata": {
    "kernel": "R"
   },
   "source": [
    "## Enrichment - have updated"
   ]
  },
  {
   "cell_type": "markdown",
   "metadata": {
    "kernel": "R"
   },
   "source": [
    "#### Make background and cis beds"
   ]
  },
  {
   "cell_type": "markdown",
   "metadata": {
    "kernel": "R"
   },
   "source": [
    "Make bed file of all snps and all meth sites"
   ]
  },
  {
   "cell_type": "markdown",
   "metadata": {
    "kernel": "R"
   },
   "source": [
    "#### meth background: methsitepos_12_mqtl.BED"
   ]
  },
  {
   "cell_type": "code",
   "execution_count": 99,
   "metadata": {
    "kernel": "Bash"
   },
   "outputs": [
    {
     "name": "stdout",
     "output_type": "stream",
     "text": [
      "\n",
      "\n",
      "\n",
      "\n",
      "\n",
      "\n",
      "\n",
      "\n",
      "\n"
     ]
    }
   ],
   "source": [
    "js(\"bedtools intersect -wb -a ../analyses/2bRAD/mQTL_5x/methsitepos_12_mqtl.BED -b ../genome-features/Olurida_v081-20190709.gene.gff >  ../analyses/2bRAD/mQTL_5x/meth-background-gene.bed\")\n",
    "js(\"bedtools intersect -wb -a ../analyses/2bRAD/mQTL_5x/methsitepos_12_mqtl.BED -b ../genome-features/Olurida_v081-20190709.gene.2kbslop.gff >  ../analyses/2bRAD/mQTL_5x/meth-background-gene2kb.bed\")\n",
    "js(\"bedtools intersect -wb -a ../analyses/2bRAD/mQTL_5x/methsitepos_12_mqtl.BED -b ../genome-features/Olurida_v081-20190709.2kbflank-up.gff >  ../analyses/2bRAD/mQTL_5x/meth-background-2kbflank-up.bed\")\n",
    "js(\"bedtools intersect -wb -a ../analyses/2bRAD/mQTL_5x/methsitepos_12_mqtl.BED -b ../genome-features/Olurida_v081-20190709.2kbflank-down.gff >  ../analyses/2bRAD/mQTL_5x/meth-background-2kbflank-down.bed\")\n",
    "js(\"bedtools intersect -wb -a ../analyses/2bRAD/mQTL_5x/methsitepos_12_mqtl.BED -b ../genome-features/Olurida_v081-20190709.exon.gff >  ../analyses/2bRAD/mQTL_5x/meth-background-exon.bed\")\n",
    "js(\"bedtools intersect -wb -a ../analyses/2bRAD/mQTL_5x/methsitepos_12_mqtl.BED -b ../genome-features/Olurida_v081-20190709.CDS.gff >  ../analyses/2bRAD/mQTL_5x/meth-background-CDS.bed\")\n",
    "js(\"bedtools intersect -wb -a ../analyses/2bRAD/mQTL_5x/methsitepos_12_mqtl.BED -b ../genome-features/Olurida_v081-20190709.mRNA.gff >  ../analyses/2bRAD/mQTL_5x/meth-background-mRNA.bed\")\n",
    "js(\"bedtools intersect -wb -a ../analyses/2bRAD/mQTL_5x/methsitepos_12_mqtl.BED -b ../genome-features/Olurida_v081_TE-Cg.gff >  ../analyses/2bRAD/mQTL_5x/meth-background-TE.bed\")\n",
    "js(\"bedtools intersect -v -a ../analyses/2bRAD/mQTL_5x/methsitepos_12_mqtl.BED -b ../genome-features/Olurida_v081-20190709.gene.2kbslop.gff ../genome-features/Olurida_v081-20190709.exon.gff ../genome-features/Olurida_v081-20190709.CDS.gff ../genome-features/Olurida_v081-20190709.mRNA.gff ../genome-features/Olurida_v081_TE-Cg.gff >  ../analyses/2bRAD/mQTL_5x/meth-background-unknown.bed\")"
   ]
  },
  {
   "cell_type": "code",
   "execution_count": 100,
   "metadata": {
    "kernel": "R",
    "scrolled": true
   },
   "outputs": [
    {
     "name": "stderr",
     "output_type": "stream",
     "text": [
      "\u001b[1m\u001b[1mRows: \u001b[1m\u001b[22m\u001b[34m\u001b[34m85729\u001b[34m\u001b[39m \u001b[1m\u001b[1mColumns: \u001b[1m\u001b[22m\u001b[34m\u001b[34m13\u001b[34m\u001b[39m\n",
      "\n",
      "\u001b[36m──\u001b[39m \u001b[1m\u001b[1mColumn specification\u001b[1m\u001b[22m \u001b[36m────────────────────────────────────────────────────────\u001b[39m\n",
      "\u001b[1mDelimiter:\u001b[22m \"\\t\"\n",
      "\u001b[31mchr\u001b[39m (8): X1, X4, X5, X6, X7, X10, X11, X13\n",
      "\u001b[32mdbl\u001b[39m (5): X2, X3, X8, X9, X12\n",
      "\n",
      "\n",
      "\u001b[36mℹ\u001b[39m Use \u001b[30m\u001b[47m\u001b[30m\u001b[47m`spec()`\u001b[47m\u001b[30m\u001b[49m\u001b[39m to retrieve the full column specification for this data.\n",
      "\u001b[36mℹ\u001b[39m Specify the column types or set \u001b[30m\u001b[47m\u001b[30m\u001b[47m`show_col_types = FALSE`\u001b[47m\u001b[30m\u001b[49m\u001b[39m to quiet this message.\n",
      "\n",
      "\u001b[1m\u001b[1mRows: \u001b[1m\u001b[22m\u001b[34m\u001b[34m90174\u001b[34m\u001b[39m \u001b[1m\u001b[1mColumns: \u001b[1m\u001b[22m\u001b[34m\u001b[34m13\u001b[34m\u001b[39m\n",
      "\n",
      "\u001b[36m──\u001b[39m \u001b[1m\u001b[1mColumn specification\u001b[1m\u001b[22m \u001b[36m────────────────────────────────────────────────────────\u001b[39m\n",
      "\u001b[1mDelimiter:\u001b[22m \"\\t\"\n",
      "\u001b[31mchr\u001b[39m (9): X1, X4, X5, X6, X7, X10, X11, X12, X13\n",
      "\u001b[32mdbl\u001b[39m (4): X2, X3, X8, X9\n",
      "\n",
      "\n",
      "\u001b[36mℹ\u001b[39m Use \u001b[30m\u001b[47m\u001b[30m\u001b[47m`spec()`\u001b[47m\u001b[30m\u001b[49m\u001b[39m to retrieve the full column specification for this data.\n",
      "\u001b[36mℹ\u001b[39m Specify the column types or set \u001b[30m\u001b[47m\u001b[30m\u001b[47m`show_col_types = FALSE`\u001b[47m\u001b[30m\u001b[49m\u001b[39m to quiet this message.\n",
      "\n",
      "\u001b[1m\u001b[1mRows: \u001b[1m\u001b[22m\u001b[34m\u001b[34m118561\u001b[34m\u001b[39m \u001b[1m\u001b[1mColumns: \u001b[1m\u001b[22m\u001b[34m\u001b[34m13\u001b[34m\u001b[39m\n",
      "\n",
      "\u001b[36m──\u001b[39m \u001b[1m\u001b[1mColumn specification\u001b[1m\u001b[22m \u001b[36m────────────────────────────────────────────────────────\u001b[39m\n",
      "\u001b[1mDelimiter:\u001b[22m \"\\t\"\n",
      "\u001b[31mchr\u001b[39m (9): X1, X4, X5, X6, X7, X10, X11, X12, X13\n",
      "\u001b[32mdbl\u001b[39m (4): X2, X3, X8, X9\n",
      "\n",
      "\n",
      "\u001b[36mℹ\u001b[39m Use \u001b[30m\u001b[47m\u001b[30m\u001b[47m`spec()`\u001b[47m\u001b[30m\u001b[49m\u001b[39m to retrieve the full column specification for this data.\n",
      "\u001b[36mℹ\u001b[39m Specify the column types or set \u001b[30m\u001b[47m\u001b[30m\u001b[47m`show_col_types = FALSE`\u001b[47m\u001b[30m\u001b[49m\u001b[39m to quiet this message.\n",
      "\n",
      "\u001b[1m\u001b[1mRows: \u001b[1m\u001b[22m\u001b[34m\u001b[34m137004\u001b[34m\u001b[39m \u001b[1m\u001b[1mColumns: \u001b[1m\u001b[22m\u001b[34m\u001b[34m13\u001b[34m\u001b[39m\n",
      "\n",
      "\u001b[36m──\u001b[39m \u001b[1m\u001b[1mColumn specification\u001b[1m\u001b[22m \u001b[36m────────────────────────────────────────────────────────\u001b[39m\n",
      "\u001b[1mDelimiter:\u001b[22m \"\\t\"\n",
      "\u001b[31mchr\u001b[39m (9): X1, X4, X5, X6, X7, X10, X11, X12, X13\n",
      "\u001b[32mdbl\u001b[39m (4): X2, X3, X8, X9\n",
      "\n",
      "\n",
      "\u001b[36mℹ\u001b[39m Use \u001b[30m\u001b[47m\u001b[30m\u001b[47m`spec()`\u001b[47m\u001b[30m\u001b[49m\u001b[39m to retrieve the full column specification for this data.\n",
      "\u001b[36mℹ\u001b[39m Specify the column types or set \u001b[30m\u001b[47m\u001b[30m\u001b[47m`show_col_types = FALSE`\u001b[47m\u001b[30m\u001b[49m\u001b[39m to quiet this message.\n",
      "\n",
      "\u001b[1m\u001b[1mRows: \u001b[1m\u001b[22m\u001b[34m\u001b[34m9244\u001b[34m\u001b[39m \u001b[1m\u001b[1mColumns: \u001b[1m\u001b[22m\u001b[34m\u001b[34m13\u001b[34m\u001b[39m\n",
      "\n",
      "\u001b[36m──\u001b[39m \u001b[1m\u001b[1mColumn specification\u001b[1m\u001b[22m \u001b[36m────────────────────────────────────────────────────────\u001b[39m\n",
      "\u001b[1mDelimiter:\u001b[22m \"\\t\"\n",
      "\u001b[31mchr\u001b[39m (9): X1, X4, X5, X6, X7, X10, X11, X12, X13\n",
      "\u001b[32mdbl\u001b[39m (4): X2, X3, X8, X9\n",
      "\n",
      "\n",
      "\u001b[36mℹ\u001b[39m Use \u001b[30m\u001b[47m\u001b[30m\u001b[47m`spec()`\u001b[47m\u001b[30m\u001b[49m\u001b[39m to retrieve the full column specification for this data.\n",
      "\u001b[36mℹ\u001b[39m Specify the column types or set \u001b[30m\u001b[47m\u001b[30m\u001b[47m`show_col_types = FALSE`\u001b[47m\u001b[30m\u001b[49m\u001b[39m to quiet this message.\n",
      "\n",
      "\u001b[1m\u001b[1mRows: \u001b[1m\u001b[22m\u001b[34m\u001b[34m9230\u001b[34m\u001b[39m \u001b[1m\u001b[1mColumns: \u001b[1m\u001b[22m\u001b[34m\u001b[34m13\u001b[34m\u001b[39m\n",
      "\n",
      "\u001b[36m──\u001b[39m \u001b[1m\u001b[1mColumn specification\u001b[1m\u001b[22m \u001b[36m────────────────────────────────────────────────────────\u001b[39m\n",
      "\u001b[1mDelimiter:\u001b[22m \"\\t\"\n",
      "\u001b[31mchr\u001b[39m (9): X1, X4, X5, X6, X7, X10, X11, X12, X13\n",
      "\u001b[32mdbl\u001b[39m (4): X2, X3, X8, X9\n",
      "\n",
      "\n",
      "\u001b[36mℹ\u001b[39m Use \u001b[30m\u001b[47m\u001b[30m\u001b[47m`spec()`\u001b[47m\u001b[30m\u001b[49m\u001b[39m to retrieve the full column specification for this data.\n",
      "\u001b[36mℹ\u001b[39m Specify the column types or set \u001b[30m\u001b[47m\u001b[30m\u001b[47m`show_col_types = FALSE`\u001b[47m\u001b[30m\u001b[49m\u001b[39m to quiet this message.\n",
      "\n",
      "\u001b[1m\u001b[1mRows: \u001b[1m\u001b[22m\u001b[34m\u001b[34m118561\u001b[34m\u001b[39m \u001b[1m\u001b[1mColumns: \u001b[1m\u001b[22m\u001b[34m\u001b[34m13\u001b[34m\u001b[39m\n",
      "\n",
      "\u001b[36m──\u001b[39m \u001b[1m\u001b[1mColumn specification\u001b[1m\u001b[22m \u001b[36m────────────────────────────────────────────────────────\u001b[39m\n",
      "\u001b[1mDelimiter:\u001b[22m \"\\t\"\n",
      "\u001b[31mchr\u001b[39m (9): X1, X4, X5, X6, X7, X10, X11, X12, X13\n",
      "\u001b[32mdbl\u001b[39m (4): X2, X3, X8, X9\n",
      "\n",
      "\n",
      "\u001b[36mℹ\u001b[39m Use \u001b[30m\u001b[47m\u001b[30m\u001b[47m`spec()`\u001b[47m\u001b[30m\u001b[49m\u001b[39m to retrieve the full column specification for this data.\n",
      "\u001b[36mℹ\u001b[39m Specify the column types or set \u001b[30m\u001b[47m\u001b[30m\u001b[47m`show_col_types = FALSE`\u001b[47m\u001b[30m\u001b[49m\u001b[39m to quiet this message.\n",
      "\n",
      "\u001b[1m\u001b[1mRows: \u001b[1m\u001b[22m\u001b[34m\u001b[34m13231\u001b[34m\u001b[39m \u001b[1m\u001b[1mColumns: \u001b[1m\u001b[22m\u001b[34m\u001b[34m13\u001b[34m\u001b[39m\n",
      "\n",
      "\u001b[36m──\u001b[39m \u001b[1m\u001b[1mColumn specification\u001b[1m\u001b[22m \u001b[36m────────────────────────────────────────────────────────\u001b[39m\n",
      "\u001b[1mDelimiter:\u001b[22m \"\\t\"\n",
      "\u001b[31mchr\u001b[39m (9): X1, X4, X5, X6, X7, X10, X11, X12, X13\n",
      "\u001b[32mdbl\u001b[39m (4): X2, X3, X8, X9\n",
      "\n",
      "\n",
      "\u001b[36mℹ\u001b[39m Use \u001b[30m\u001b[47m\u001b[30m\u001b[47m`spec()`\u001b[47m\u001b[30m\u001b[49m\u001b[39m to retrieve the full column specification for this data.\n",
      "\u001b[36mℹ\u001b[39m Specify the column types or set \u001b[30m\u001b[47m\u001b[30m\u001b[47m`show_col_types = FALSE`\u001b[47m\u001b[30m\u001b[49m\u001b[39m to quiet this message.\n",
      "\n",
      "\u001b[1m\u001b[1mRows: \u001b[1m\u001b[22m\u001b[34m\u001b[34m97427\u001b[34m\u001b[39m \u001b[1m\u001b[1mColumns: \u001b[1m\u001b[22m\u001b[34m\u001b[34m4\u001b[34m\u001b[39m\n",
      "\n",
      "\u001b[36m──\u001b[39m \u001b[1m\u001b[1mColumn specification\u001b[1m\u001b[22m \u001b[36m────────────────────────────────────────────────────────\u001b[39m\n",
      "\u001b[1mDelimiter:\u001b[22m \"\\t\"\n",
      "\u001b[31mchr\u001b[39m (2): X1, X4\n",
      "\u001b[32mdbl\u001b[39m (2): X2, X3\n",
      "\n",
      "\n",
      "\u001b[36mℹ\u001b[39m Use \u001b[30m\u001b[47m\u001b[30m\u001b[47m`spec()`\u001b[47m\u001b[30m\u001b[49m\u001b[39m to retrieve the full column specification for this data.\n",
      "\u001b[36mℹ\u001b[39m Specify the column types or set \u001b[30m\u001b[47m\u001b[30m\u001b[47m`show_col_types = FALSE`\u001b[47m\u001b[30m\u001b[49m\u001b[39m to quiet this message.\n",
      "\n"
     ]
    }
   ],
   "source": [
    "\n",
    "cisfiles <- c(\"../analyses/2bRAD/mQTL_5x/meth-background-CDS.bed\", \"../analyses/2bRAD/mQTL_5x/meth-background-exon.bed\", \"../analyses/2bRAD/mQTL_5x/meth-background-gene.bed\", \"../analyses/2bRAD/mQTL_5x/meth-background-gene2kb.bed\", \"../analyses/2bRAD/mQTL_5x/meth-background-2kbflank-up.bed\", \"../analyses/2bRAD/mQTL_5x/meth-background-2kbflank-down.bed\", \"../analyses/2bRAD/mQTL_5x/meth-background-mRNA.bed\", \"../analyses/2bRAD/mQTL_5x/meth-background-TE.bed\", \"../analyses/2bRAD/mQTL_5x/meth-background-unknown.bed\")\n",
    "cis.features <- list()\n",
    "for (i in c(1:9)) {\n",
    "  cis.features[[i]] <- read_delim(cisfiles[i], delim = '\\t', col_names = FALSE) %>% as_tibble()}\n",
    "for (i in 1:8) {\n",
    "  cis.features[[i]] <- cis.features[[i]] %>%\n",
    "    setNames(c(\"contig.cis\",\"start.cis\",\"end.cis\",\"id\",\"contig.feat\", \"source.feat\",\"feature\",\"start.feat\",\"end.feat\",\"unknown1\",\"strand\",\"unknown2\",\"attribute\")) %>%\n",
    "mutate(ID=str_extract(attribute, \"ID=(.*?);\"),\n",
    "       Parent=str_extract(attribute, \"Parent=(.*?);\"),\n",
    "       Name=str_extract(attribute, \"Name=(.*?);\"),\n",
    "       Alias=str_extract(attribute, \"Alias=(.*?);\"),\n",
    "       AED=str_extract(attribute, \"AED=(.*?);\"),\n",
    "       eAED=str_extract(attribute, \"eAED=(.*?);\"),\n",
    "       Note=str_extract(attribute, \"Note=(.*?);\"),\n",
    "       Ontology_term=str_extract(attribute, \"Ontology_term=(.*?);\"),\n",
    "       Dbxref=str_extract(attribute, \"Dbxref=(.*?);\"),\n",
    "       uniprotID=str_extract(attribute, \"SPID=(.*?);\")\n",
    "       ) %>%\n",
    "mutate_at(\"feature\", as.factor)\n",
    "}\n",
    "names(cis.features) <- c(\"cis.CDS\", \"cis.exon\", \"cis.gene\",\"cis.gene2kb\", \"cis.flank-up\", \"cis.flank-down\",\"cis.mRNA\", \"cis.TE\", \"cis.unknown\")\n",
    "cis.features[[\"cis.unknown\"]] <- \n",
    "  cis.features[[\"cis.unknown\"]] %>% \n",
    "  setNames(c(\"contig.cis\", \"start.cis\", \"end.cis\", \"score.cis\"))\n",
    "cis.features[[\"cis.CDS\"]] <- cis.features[[\"cis.CDS\"]] %>% mutate_at(\"unknown2\", as.character)\n",
    "cis.features[[\"cis.TE\"]] <- cis.features[[\"cis.TE\"]] %>% mutate_at(\"unknown1\", as.character)\n",
    "cis.features[[\"cis.gene2kb\"]]$feature <- \"gene2kb\"\n",
    "cis.features[[\"cis.flank-up\"]]$feature <- \"flank-up\"\n",
    "cis.features[[\"cis.flank-down\"]]$feature <- \"flank-down\"\n",
    "cis.features[[\"cis.unknown\"]]$feature <- \"unknown\"\n",
    "cis.features.df <- bind_rows(cis.features) \n",
    "#save cis loci feature df object to file, to use in notebook #12 \n",
    "save(cis.features.df, file=\"../analyses/2bRAD/mQTL_5x/meth-background.features.df\")"
   ]
  },
  {
   "cell_type": "code",
   "execution_count": 101,
   "metadata": {},
   "outputs": [
    {
     "name": "stdout",
     "output_type": "stream",
     "text": [
      "\n",
      "       CDS       exon flank-down   flank-up       gene    gene2kb       mRNA \n",
      "     85729      90174       9230       9244     118561     137004     118561 \n",
      "similarity    unknown \n",
      "     13231      97427 \n",
      "\n",
      "       CDS       exon flank-down   flank-up       gene    gene2kb       mRNA \n",
      "      0.37       0.39       0.04       0.04       0.51       0.59       0.51 \n",
      "similarity    unknown \n",
      "      0.06       0.42 \n"
     ]
    }
   ],
   "source": [
    "cis.summary <- table(cis.features.df[c(\"feature\")]) #Note: \"similarity\" refers to transposable elements; also NO alternative splice variants are included. \n",
    "print(cis.summary)\n",
    "save(cis.summary, file=\"../analyses/2bRAD/mQTL_5x/meth-background_feature.summary\")\n",
    "print(round(table(cis.features.df[c(\"feature\")])/232567,2))"
   ]
  },
  {
   "cell_type": "code",
   "execution_count": 102,
   "metadata": {
    "kernel": "R"
   },
   "outputs": [],
   "source": [
    "cis.features[[\"cis.gene2kb\"]] %>%\n",
    "   mutate(uniprotID=str_remove(uniprotID, \"SPID=\")) %>% mutate(uniprotID=str_remove(uniprotID, \";\")) %>%\n",
    "  select(uniprotID) %>% na.omit() %>% as.vector() %>% unique() %>% write.table(file=\"../analyses/2bRAD/mQTL_5x/background_meth_genes2kb_uniprot.txt\",quote = F,row.names = F,col.names = F)"
   ]
  },
  {
   "cell_type": "code",
   "execution_count": 105,
   "metadata": {
    "kernel": "Bash"
   },
   "outputs": [
    {
     "name": "stdout",
     "output_type": "stream",
     "text": [
      "114461\n"
     ]
    }
   ],
   "source": [
    "# how many background meth sites in genes\n",
    "js(\"cat ../analyses/2bRAD/mQTL_5x/meth-background-gene.bed | cut  -f1,2 | sort | uniq | wc -l\")"
   ]
  },
  {
   "cell_type": "code",
   "execution_count": 106,
   "metadata": {},
   "outputs": [
    {
     "name": "stdout",
     "output_type": "stream",
     "text": [
      "Contig0\t38965\t38965\tContig0.38965.38965\tContig0\tmaker\tgene\t12497\t93068\t.\t+\t.\tID=OLUR_00000039;Name=OLUR_00000039;Alias=maker-Contig0-snap-gene-0.8;Note=Similar to WDR87: WD repeat-containing protein 87 (Homo sapiens OX%3D9606);Dbxref=Coils:Coil,Gene3D:G3DSA:1.25.10.10,Gene3D:G3DSA:2.130.10.10,InterPro:IPR001680,InterPro:IPR011989,InterPro:IPR015943,InterPro:IPR016024,InterPro:IPR017986,InterPro:IPR036322,MobiDBLite:mobidb-lite,Pfam:PF00400,ProSiteProfiles:PS50082,ProSiteProfiles:PS50294,SMART:SM00320,SUPERFAMILY:SSF48371,SUPERFAMILY:SSF50978;Ontology_term=GO:0005515;SPID=Q6ZQQ6;\n",
      "Contig0\t38973\t38973\tContig0.38973.38973\tContig0\tmaker\tgene\t12497\t93068\t.\t+\t.\tID=OLUR_00000039;Name=OLUR_00000039;Alias=maker-Contig0-snap-gene-0.8;Note=Similar to WDR87: WD repeat-containing protein 87 (Homo sapiens OX%3D9606);Dbxref=Coils:Coil,Gene3D:G3DSA:1.25.10.10,Gene3D:G3DSA:2.130.10.10,InterPro:IPR001680,InterPro:IPR011989,InterPro:IPR015943,InterPro:IPR016024,InterPro:IPR017986,InterPro:IPR036322,MobiDBLite:mobidb-lite,Pfam:PF00400,ProSiteProfiles:PS50082,ProSiteProfiles:PS50294,SMART:SM00320,SUPERFAMILY:SSF48371,SUPERFAMILY:SSF50978;Ontology_term=GO:0005515;SPID=Q6ZQQ6;\n",
      "Contig0\t39226\t39226\tContig0.39226.39226\tContig0\tmaker\tgene\t12497\t93068\t.\t+\t.\tID=OLUR_00000039;Name=OLUR_00000039;Alias=maker-Contig0-snap-gene-0.8;Note=Similar to WDR87: WD repeat-containing protein 87 (Homo sapiens OX%3D9606);Dbxref=Coils:Coil,Gene3D:G3DSA:1.25.10.10,Gene3D:G3DSA:2.130.10.10,InterPro:IPR001680,InterPro:IPR011989,InterPro:IPR015943,InterPro:IPR016024,InterPro:IPR017986,InterPro:IPR036322,MobiDBLite:mobidb-lite,Pfam:PF00400,ProSiteProfiles:PS50082,ProSiteProfiles:PS50294,SMART:SM00320,SUPERFAMILY:SSF48371,SUPERFAMILY:SSF50978;Ontology_term=GO:0005515;SPID=Q6ZQQ6;\n",
      "Contig0\t39234\t39234\tContig0.39234.39234\tContig0\tmaker\tgene\t12497\t93068\t.\t+\t.\tID=OLUR_00000039;Name=OLUR_00000039;Alias=maker-Contig0-snap-gene-0.8;Note=Similar to WDR87: WD repeat-containing protein 87 (Homo sapiens OX%3D9606);Dbxref=Coils:Coil,Gene3D:G3DSA:1.25.10.10,Gene3D:G3DSA:2.130.10.10,InterPro:IPR001680,InterPro:IPR011989,InterPro:IPR015943,InterPro:IPR016024,InterPro:IPR017986,InterPro:IPR036322,MobiDBLite:mobidb-lite,Pfam:PF00400,ProSiteProfiles:PS50082,ProSiteProfiles:PS50294,SMART:SM00320,SUPERFAMILY:SSF48371,SUPERFAMILY:SSF50978;Ontology_term=GO:0005515;SPID=Q6ZQQ6;\n",
      "Contig0\t39252\t39252\tContig0.39252.39252\tContig0\tmaker\tgene\t12497\t93068\t.\t+\t.\tID=OLUR_00000039;Name=OLUR_00000039;Alias=maker-Contig0-snap-gene-0.8;Note=Similar to WDR87: WD repeat-containing protein 87 (Homo sapiens OX%3D9606);Dbxref=Coils:Coil,Gene3D:G3DSA:1.25.10.10,Gene3D:G3DSA:2.130.10.10,InterPro:IPR001680,InterPro:IPR011989,InterPro:IPR015943,InterPro:IPR016024,InterPro:IPR017986,InterPro:IPR036322,MobiDBLite:mobidb-lite,Pfam:PF00400,ProSiteProfiles:PS50082,ProSiteProfiles:PS50294,SMART:SM00320,SUPERFAMILY:SSF48371,SUPERFAMILY:SSF50978;Ontology_term=GO:0005515;SPID=Q6ZQQ6;\n",
      "Contig0\t64179\t64179\tContig0.64179.64179\tContig0\tmaker\tgene\t12497\t93068\t.\t+\t.\tID=OLUR_00000039;Name=OLUR_00000039;Alias=maker-Contig0-snap-gene-0.8;Note=Similar to WDR87: WD repeat-containing protein 87 (Homo sapiens OX%3D9606);Dbxref=Coils:Coil,Gene3D:G3DSA:1.25.10.10,Gene3D:G3DSA:2.130.10.10,InterPro:IPR001680,InterPro:IPR011989,InterPro:IPR015943,InterPro:IPR016024,InterPro:IPR017986,InterPro:IPR036322,MobiDBLite:mobidb-lite,Pfam:PF00400,ProSiteProfiles:PS50082,ProSiteProfiles:PS50294,SMART:SM00320,SUPERFAMILY:SSF48371,SUPERFAMILY:SSF50978;Ontology_term=GO:0005515;SPID=Q6ZQQ6;\n",
      "Contig0\t64210\t64210\tContig0.64210.64210\tContig0\tmaker\tgene\t12497\t93068\t.\t+\t.\tID=OLUR_00000039;Name=OLUR_00000039;Alias=maker-Contig0-snap-gene-0.8;Note=Similar to WDR87: WD repeat-containing protein 87 (Homo sapiens OX%3D9606);Dbxref=Coils:Coil,Gene3D:G3DSA:1.25.10.10,Gene3D:G3DSA:2.130.10.10,InterPro:IPR001680,InterPro:IPR011989,InterPro:IPR015943,InterPro:IPR016024,InterPro:IPR017986,InterPro:IPR036322,MobiDBLite:mobidb-lite,Pfam:PF00400,ProSiteProfiles:PS50082,ProSiteProfiles:PS50294,SMART:SM00320,SUPERFAMILY:SSF48371,SUPERFAMILY:SSF50978;Ontology_term=GO:0005515;SPID=Q6ZQQ6;\n",
      "Contig0\t64217\t64217\tContig0.64217.64217\tContig0\tmaker\tgene\t12497\t93068\t.\t+\t.\tID=OLUR_00000039;Name=OLUR_00000039;Alias=maker-Contig0-snap-gene-0.8;Note=Similar to WDR87: WD repeat-containing protein 87 (Homo sapiens OX%3D9606);Dbxref=Coils:Coil,Gene3D:G3DSA:1.25.10.10,Gene3D:G3DSA:2.130.10.10,InterPro:IPR001680,InterPro:IPR011989,InterPro:IPR015943,InterPro:IPR016024,InterPro:IPR017986,InterPro:IPR036322,MobiDBLite:mobidb-lite,Pfam:PF00400,ProSiteProfiles:PS50082,ProSiteProfiles:PS50294,SMART:SM00320,SUPERFAMILY:SSF48371,SUPERFAMILY:SSF50978;Ontology_term=GO:0005515;SPID=Q6ZQQ6;\n",
      "Contig0\t64238\t64238\tContig0.64238.64238\tContig0\tmaker\tgene\t12497\t93068\t.\t+\t.\tID=OLUR_00000039;Name=OLUR_00000039;Alias=maker-Contig0-snap-gene-0.8;Note=Similar to WDR87: WD repeat-containing protein 87 (Homo sapiens OX%3D9606);Dbxref=Coils:Coil,Gene3D:G3DSA:1.25.10.10,Gene3D:G3DSA:2.130.10.10,InterPro:IPR001680,InterPro:IPR011989,InterPro:IPR015943,InterPro:IPR016024,InterPro:IPR017986,InterPro:IPR036322,MobiDBLite:mobidb-lite,Pfam:PF00400,ProSiteProfiles:PS50082,ProSiteProfiles:PS50294,SMART:SM00320,SUPERFAMILY:SSF48371,SUPERFAMILY:SSF50978;Ontology_term=GO:0005515;SPID=Q6ZQQ6;\n",
      "Contig0\t64253\t64253\tContig0.64253.64253\tContig0\tmaker\tgene\t12497\t93068\t.\t+\t.\tID=OLUR_00000039;Name=OLUR_00000039;Alias=maker-Contig0-snap-gene-0.8;Note=Similar to WDR87: WD repeat-containing protein 87 (Homo sapiens OX%3D9606);Dbxref=Coils:Coil,Gene3D:G3DSA:1.25.10.10,Gene3D:G3DSA:2.130.10.10,InterPro:IPR001680,InterPro:IPR011989,InterPro:IPR015943,InterPro:IPR016024,InterPro:IPR017986,InterPro:IPR036322,MobiDBLite:mobidb-lite,Pfam:PF00400,ProSiteProfiles:PS50082,ProSiteProfiles:PS50294,SMART:SM00320,SUPERFAMILY:SSF48371,SUPERFAMILY:SSF50978;Ontology_term=GO:0005515;SPID=Q6ZQQ6;\n"
     ]
    }
   ],
   "source": [
    "js(\"head ../analyses/2bRAD/mQTL_5x/meth-background-gene.bed\")"
   ]
  },
  {
   "cell_type": "code",
   "execution_count": 108,
   "metadata": {
    "kernel": "Bash"
   },
   "outputs": [
    {
     "name": "stdout",
     "output_type": "stream",
     "text": [
      "8046\n"
     ]
    }
   ],
   "source": [
    "# how many genes with background meth sites\n",
    "js(\"cat ../analyses/2bRAD/mQTL_5x/meth-background-gene.bed | cut  -f5,8,9 | sort | uniq | wc -l\")"
   ]
  },
  {
   "cell_type": "markdown",
   "metadata": {
    "kernel": "Bash"
   },
   "source": [
    "### Identify cis meth sites in each feature with Bedtools"
   ]
  },
  {
   "cell_type": "markdown",
   "metadata": {},
   "source": [
    "#### SNP background"
   ]
  },
  {
   "cell_type": "code",
   "execution_count": 112,
   "metadata": {
    "kernel": "Bash"
   },
   "outputs": [
    {
     "name": "stdout",
     "output_type": "stream",
     "text": [
      "\n",
      "\n",
      "\n",
      "\n",
      "\n",
      "\n",
      "\n",
      "\n",
      "\n"
     ]
    }
   ],
   "source": [
    "js(\"bedtools intersect -wb -a ../analyses/2bRAD/mQTL_5x/snppos_mqtl_05_m2pop.BED -b ../genome-features/Olurida_v081-20190709.gene.gff >  ../analyses/2bRAD/mQTL_5x/snp-background-gene.bed\")\n",
    "js(\"bedtools intersect -wb -a ../analyses/2bRAD/mQTL_5x/snppos_mqtl_05_m2pop.BED -b ../genome-features/Olurida_v081-20190709.gene.2kbslop.gff >  ../analyses/2bRAD/mQTL_5x/snp-background-gene2kb.bed\")\n",
    "js(\"bedtools intersect -wb -a ../analyses/2bRAD/mQTL_5x/snppos_mqtl_05_m2pop.BED -b ../genome-features/Olurida_v081-20190709.2kbflank-up.gff >  ../analyses/2bRAD/mQTL_5x/snp-background-2kbflank-up.bed\")\n",
    "js(\"bedtools intersect -wb -a ../analyses/2bRAD/mQTL_5x/snppos_mqtl_05_m2pop.BED -b ../genome-features/Olurida_v081-20190709.2kbflank-down.gff >  ../analyses/2bRAD/mQTL_5x/snp-background-2kbflank-down.bed\")\n",
    "js(\"bedtools intersect -wb -a ../analyses/2bRAD/mQTL_5x/snppos_mqtl_05_m2pop.BED -b ../genome-features/Olurida_v081-20190709.exon.gff >  ../analyses/2bRAD/mQTL_5x/snp-background-exon.bed\")\n",
    "js(\"bedtools intersect -wb -a ../analyses/2bRAD/mQTL_5x/snppos_mqtl_05_m2pop.BED -b ../genome-features/Olurida_v081-20190709.CDS.gff >  ../analyses/2bRAD/mQTL_5x/snp-background-CDS.bed\")\n",
    "js(\"bedtools intersect -wb -a ../analyses/2bRAD/mQTL_5x/snppos_mqtl_05_m2pop.BED -b ../genome-features/Olurida_v081-20190709.mRNA.gff >  ../analyses/2bRAD/mQTL_5x/snp-background-mRNA.bed\")\n",
    "js(\"bedtools intersect -wb -a ../analyses/2bRAD/mQTL_5x/snppos_mqtl_05_m2pop.BED -b ../genome-features/Olurida_v081_TE-Cg.gff >  ../analyses/2bRAD/mQTL_5x/snp-background-TE.bed\")\n",
    "js(\"bedtools intersect -v -a ../analyses/2bRAD/mQTL_5x/snppos_mqtl_05_m2pop.BED -b ../genome-features/Olurida_v081-20190709.gene.2kbslop.gff ../genome-features/Olurida_v081-20190709.exon.gff ../genome-features/Olurida_v081-20190709.CDS.gff ../genome-features/Olurida_v081-20190709.mRNA.gff ../genome-features/Olurida_v081_TE-Cg.gff >  ../analyses/2bRAD/mQTL_5x/snp-background-unknown.bed\")"
   ]
  },
  {
   "cell_type": "code",
   "execution_count": 113,
   "metadata": {
    "kernel": "R",
    "scrolled": true
   },
   "outputs": [
    {
     "name": "stderr",
     "output_type": "stream",
     "text": [
      "\u001b[1m\u001b[1mRows: \u001b[1m\u001b[22m\u001b[34m\u001b[34m171\u001b[34m\u001b[39m \u001b[1m\u001b[1mColumns: \u001b[1m\u001b[22m\u001b[34m\u001b[34m13\u001b[34m\u001b[39m\n",
      "\n",
      "\u001b[36m──\u001b[39m \u001b[1m\u001b[1mColumn specification\u001b[1m\u001b[22m \u001b[36m────────────────────────────────────────────────────────\u001b[39m\n",
      "\u001b[1mDelimiter:\u001b[22m \"\\t\"\n",
      "\u001b[31mchr\u001b[39m (8): X1, X4, X5, X6, X7, X10, X11, X13\n",
      "\u001b[32mdbl\u001b[39m (5): X2, X3, X8, X9, X12\n",
      "\n",
      "\n",
      "\u001b[36mℹ\u001b[39m Use \u001b[30m\u001b[47m\u001b[30m\u001b[47m`spec()`\u001b[47m\u001b[30m\u001b[49m\u001b[39m to retrieve the full column specification for this data.\n",
      "\u001b[36mℹ\u001b[39m Specify the column types or set \u001b[30m\u001b[47m\u001b[30m\u001b[47m`show_col_types = FALSE`\u001b[47m\u001b[30m\u001b[49m\u001b[39m to quiet this message.\n",
      "\n",
      "\u001b[1m\u001b[1mRows: \u001b[1m\u001b[22m\u001b[34m\u001b[34m202\u001b[34m\u001b[39m \u001b[1m\u001b[1mColumns: \u001b[1m\u001b[22m\u001b[34m\u001b[34m13\u001b[34m\u001b[39m\n",
      "\n",
      "\u001b[36m──\u001b[39m \u001b[1m\u001b[1mColumn specification\u001b[1m\u001b[22m \u001b[36m────────────────────────────────────────────────────────\u001b[39m\n",
      "\u001b[1mDelimiter:\u001b[22m \"\\t\"\n",
      "\u001b[31mchr\u001b[39m (9): X1, X4, X5, X6, X7, X10, X11, X12, X13\n",
      "\u001b[32mdbl\u001b[39m (4): X2, X3, X8, X9\n",
      "\n",
      "\n",
      "\u001b[36mℹ\u001b[39m Use \u001b[30m\u001b[47m\u001b[30m\u001b[47m`spec()`\u001b[47m\u001b[30m\u001b[49m\u001b[39m to retrieve the full column specification for this data.\n",
      "\u001b[36mℹ\u001b[39m Specify the column types or set \u001b[30m\u001b[47m\u001b[30m\u001b[47m`show_col_types = FALSE`\u001b[47m\u001b[30m\u001b[49m\u001b[39m to quiet this message.\n",
      "\n",
      "\u001b[1m\u001b[1mRows: \u001b[1m\u001b[22m\u001b[34m\u001b[34m785\u001b[34m\u001b[39m \u001b[1m\u001b[1mColumns: \u001b[1m\u001b[22m\u001b[34m\u001b[34m13\u001b[34m\u001b[39m\n",
      "\n",
      "\u001b[36m──\u001b[39m \u001b[1m\u001b[1mColumn specification\u001b[1m\u001b[22m \u001b[36m────────────────────────────────────────────────────────\u001b[39m\n",
      "\u001b[1mDelimiter:\u001b[22m \"\\t\"\n",
      "\u001b[31mchr\u001b[39m (9): X1, X4, X5, X6, X7, X10, X11, X12, X13\n",
      "\u001b[32mdbl\u001b[39m (4): X2, X3, X8, X9\n",
      "\n",
      "\n",
      "\u001b[36mℹ\u001b[39m Use \u001b[30m\u001b[47m\u001b[30m\u001b[47m`spec()`\u001b[47m\u001b[30m\u001b[49m\u001b[39m to retrieve the full column specification for this data.\n",
      "\u001b[36mℹ\u001b[39m Specify the column types or set \u001b[30m\u001b[47m\u001b[30m\u001b[47m`show_col_types = FALSE`\u001b[47m\u001b[30m\u001b[49m\u001b[39m to quiet this message.\n",
      "\n",
      "\u001b[1m\u001b[1mRows: \u001b[1m\u001b[22m\u001b[34m\u001b[34m1046\u001b[34m\u001b[39m \u001b[1m\u001b[1mColumns: \u001b[1m\u001b[22m\u001b[34m\u001b[34m13\u001b[34m\u001b[39m\n",
      "\n",
      "\u001b[36m──\u001b[39m \u001b[1m\u001b[1mColumn specification\u001b[1m\u001b[22m \u001b[36m────────────────────────────────────────────────────────\u001b[39m\n",
      "\u001b[1mDelimiter:\u001b[22m \"\\t\"\n",
      "\u001b[31mchr\u001b[39m (9): X1, X4, X5, X6, X7, X10, X11, X12, X13\n",
      "\u001b[32mdbl\u001b[39m (4): X2, X3, X8, X9\n",
      "\n",
      "\n",
      "\u001b[36mℹ\u001b[39m Use \u001b[30m\u001b[47m\u001b[30m\u001b[47m`spec()`\u001b[47m\u001b[30m\u001b[49m\u001b[39m to retrieve the full column specification for this data.\n",
      "\u001b[36mℹ\u001b[39m Specify the column types or set \u001b[30m\u001b[47m\u001b[30m\u001b[47m`show_col_types = FALSE`\u001b[47m\u001b[30m\u001b[49m\u001b[39m to quiet this message.\n",
      "\n",
      "\u001b[1m\u001b[1mRows: \u001b[1m\u001b[22m\u001b[34m\u001b[34m135\u001b[34m\u001b[39m \u001b[1m\u001b[1mColumns: \u001b[1m\u001b[22m\u001b[34m\u001b[34m13\u001b[34m\u001b[39m\n",
      "\n",
      "\u001b[36m──\u001b[39m \u001b[1m\u001b[1mColumn specification\u001b[1m\u001b[22m \u001b[36m────────────────────────────────────────────────────────\u001b[39m\n",
      "\u001b[1mDelimiter:\u001b[22m \"\\t\"\n",
      "\u001b[31mchr\u001b[39m (9): X1, X4, X5, X6, X7, X10, X11, X12, X13\n",
      "\u001b[32mdbl\u001b[39m (4): X2, X3, X8, X9\n",
      "\n",
      "\n",
      "\u001b[36mℹ\u001b[39m Use \u001b[30m\u001b[47m\u001b[30m\u001b[47m`spec()`\u001b[47m\u001b[30m\u001b[49m\u001b[39m to retrieve the full column specification for this data.\n",
      "\u001b[36mℹ\u001b[39m Specify the column types or set \u001b[30m\u001b[47m\u001b[30m\u001b[47m`show_col_types = FALSE`\u001b[47m\u001b[30m\u001b[49m\u001b[39m to quiet this message.\n",
      "\n",
      "\u001b[1m\u001b[1mRows: \u001b[1m\u001b[22m\u001b[34m\u001b[34m126\u001b[34m\u001b[39m \u001b[1m\u001b[1mColumns: \u001b[1m\u001b[22m\u001b[34m\u001b[34m13\u001b[34m\u001b[39m\n",
      "\n",
      "\u001b[36m──\u001b[39m \u001b[1m\u001b[1mColumn specification\u001b[1m\u001b[22m \u001b[36m────────────────────────────────────────────────────────\u001b[39m\n",
      "\u001b[1mDelimiter:\u001b[22m \"\\t\"\n",
      "\u001b[31mchr\u001b[39m (9): X1, X4, X5, X6, X7, X10, X11, X12, X13\n",
      "\u001b[32mdbl\u001b[39m (4): X2, X3, X8, X9\n",
      "\n",
      "\n",
      "\u001b[36mℹ\u001b[39m Use \u001b[30m\u001b[47m\u001b[30m\u001b[47m`spec()`\u001b[47m\u001b[30m\u001b[49m\u001b[39m to retrieve the full column specification for this data.\n",
      "\u001b[36mℹ\u001b[39m Specify the column types or set \u001b[30m\u001b[47m\u001b[30m\u001b[47m`show_col_types = FALSE`\u001b[47m\u001b[30m\u001b[49m\u001b[39m to quiet this message.\n",
      "\n",
      "\u001b[1m\u001b[1mRows: \u001b[1m\u001b[22m\u001b[34m\u001b[34m785\u001b[34m\u001b[39m \u001b[1m\u001b[1mColumns: \u001b[1m\u001b[22m\u001b[34m\u001b[34m13\u001b[34m\u001b[39m\n",
      "\n",
      "\u001b[36m──\u001b[39m \u001b[1m\u001b[1mColumn specification\u001b[1m\u001b[22m \u001b[36m────────────────────────────────────────────────────────\u001b[39m\n",
      "\u001b[1mDelimiter:\u001b[22m \"\\t\"\n",
      "\u001b[31mchr\u001b[39m (9): X1, X4, X5, X6, X7, X10, X11, X12, X13\n",
      "\u001b[32mdbl\u001b[39m (4): X2, X3, X8, X9\n",
      "\n",
      "\n",
      "\u001b[36mℹ\u001b[39m Use \u001b[30m\u001b[47m\u001b[30m\u001b[47m`spec()`\u001b[47m\u001b[30m\u001b[49m\u001b[39m to retrieve the full column specification for this data.\n",
      "\u001b[36mℹ\u001b[39m Specify the column types or set \u001b[30m\u001b[47m\u001b[30m\u001b[47m`show_col_types = FALSE`\u001b[47m\u001b[30m\u001b[49m\u001b[39m to quiet this message.\n",
      "\n",
      "\u001b[1m\u001b[1mRows: \u001b[1m\u001b[22m\u001b[34m\u001b[34m259\u001b[34m\u001b[39m \u001b[1m\u001b[1mColumns: \u001b[1m\u001b[22m\u001b[34m\u001b[34m13\u001b[34m\u001b[39m\n",
      "\n",
      "\u001b[36m──\u001b[39m \u001b[1m\u001b[1mColumn specification\u001b[1m\u001b[22m \u001b[36m────────────────────────────────────────────────────────\u001b[39m\n",
      "\u001b[1mDelimiter:\u001b[22m \"\\t\"\n",
      "\u001b[31mchr\u001b[39m (9): X1, X4, X5, X6, X7, X10, X11, X12, X13\n",
      "\u001b[32mdbl\u001b[39m (4): X2, X3, X8, X9\n",
      "\n",
      "\n",
      "\u001b[36mℹ\u001b[39m Use \u001b[30m\u001b[47m\u001b[30m\u001b[47m`spec()`\u001b[47m\u001b[30m\u001b[49m\u001b[39m to retrieve the full column specification for this data.\n",
      "\u001b[36mℹ\u001b[39m Specify the column types or set \u001b[30m\u001b[47m\u001b[30m\u001b[47m`show_col_types = FALSE`\u001b[47m\u001b[30m\u001b[49m\u001b[39m to quiet this message.\n",
      "\n",
      "\u001b[1m\u001b[1mRows: \u001b[1m\u001b[22m\u001b[34m\u001b[34m1720\u001b[34m\u001b[39m \u001b[1m\u001b[1mColumns: \u001b[1m\u001b[22m\u001b[34m\u001b[34m4\u001b[34m\u001b[39m\n",
      "\n",
      "\u001b[36m──\u001b[39m \u001b[1m\u001b[1mColumn specification\u001b[1m\u001b[22m \u001b[36m────────────────────────────────────────────────────────\u001b[39m\n",
      "\u001b[1mDelimiter:\u001b[22m \"\\t\"\n",
      "\u001b[31mchr\u001b[39m (2): X1, X4\n",
      "\u001b[32mdbl\u001b[39m (2): X2, X3\n",
      "\n",
      "\n",
      "\u001b[36mℹ\u001b[39m Use \u001b[30m\u001b[47m\u001b[30m\u001b[47m`spec()`\u001b[47m\u001b[30m\u001b[49m\u001b[39m to retrieve the full column specification for this data.\n",
      "\u001b[36mℹ\u001b[39m Specify the column types or set \u001b[30m\u001b[47m\u001b[30m\u001b[47m`show_col_types = FALSE`\u001b[47m\u001b[30m\u001b[49m\u001b[39m to quiet this message.\n",
      "\n"
     ]
    }
   ],
   "source": [
    "\n",
    "cisfiles <- c(\"../analyses/2bRAD/mQTL_5x/snp-background-CDS.bed\", \"../analyses/2bRAD/mQTL_5x/snp-background-exon.bed\", \"../analyses/2bRAD/mQTL_5x/snp-background-gene.bed\", \"../analyses/2bRAD/mQTL_5x/snp-background-gene2kb.bed\", \"../analyses/2bRAD/mQTL_5x/snp-background-2kbflank-up.bed\", \"../analyses/2bRAD/mQTL_5x/snp-background-2kbflank-down.bed\", \"../analyses/2bRAD/mQTL_5x/snp-background-mRNA.bed\", \"../analyses/2bRAD/mQTL_5x/snp-background-TE.bed\", \"../analyses/2bRAD/mQTL_5x/snp-background-unknown.bed\")\n",
    "cis.features <- list()\n",
    "for (i in c(1:9)) {\n",
    "  cis.features[[i]] <- read_delim(cisfiles[i], delim = '\\t', col_names = FALSE) %>% as_tibble()}\n",
    "for (i in 1:8) {\n",
    "  cis.features[[i]] <- cis.features[[i]] %>%\n",
    "    setNames(c(\"contig.cis\",\"start.cis\",\"end.cis\",\"id.feat\",\"contig.feat\", \"source.feat\",\"feature\",\"start.feat\",\"end.feat\",\"unknown1\",\"strand\",\"unknown2\",\"attribute\")) %>%\n",
    "mutate(ID=str_extract(attribute, \"ID=(.*?);\"),\n",
    "       Parent=str_extract(attribute, \"Parent=(.*?);\"),\n",
    "       Name=str_extract(attribute, \"Name=(.*?);\"),\n",
    "       Alias=str_extract(attribute, \"Alias=(.*?);\"),\n",
    "       AED=str_extract(attribute, \"AED=(.*?);\"),\n",
    "       eAED=str_extract(attribute, \"eAED=(.*?);\"),\n",
    "       Note=str_extract(attribute, \"Note=(.*?);\"),\n",
    "       Ontology_term=str_extract(attribute, \"Ontology_term=(.*?);\"),\n",
    "       Dbxref=str_extract(attribute, \"Dbxref=(.*?);\"),\n",
    "       uniprotID=str_extract(attribute, \"SPID=(.*?);\")\n",
    "       ) %>%\n",
    "mutate_at(\"feature\", as.factor)\n",
    "}\n",
    "names(cis.features) <- c(\"cis.CDS\", \"cis.exon\", \"cis.gene\",\"cis.gene2kb\", \"cis.flank-up\", \"cis.flank-down\",\"cis.mRNA\", \"cis.TE\", \"cis.unknown\")\n",
    "cis.features[[\"cis.unknown\"]] <- \n",
    "  cis.features[[\"cis.unknown\"]] %>% \n",
    "  setNames(c(\"contig.cis\", \"start.cis\", \"end.cis\", \"score.cis\"))\n",
    "cis.features[[\"cis.CDS\"]] <- cis.features[[\"cis.CDS\"]] %>% mutate_at(\"unknown2\", as.character)\n",
    "cis.features[[\"cis.TE\"]] <- cis.features[[\"cis.TE\"]] %>% mutate_at(\"unknown1\", as.character)\n",
    "cis.features[[\"cis.gene2kb\"]]$feature <- \"gene2kb\"\n",
    "cis.features[[\"cis.flank-up\"]]$feature <- \"flank-up\"\n",
    "cis.features[[\"cis.flank-down\"]]$feature <- \"flank-down\"\n",
    "cis.features[[\"cis.unknown\"]]$feature <- \"unknown\"\n",
    "cis.features.df <- bind_rows(cis.features) \n",
    "#save cis loci feature df object to file, to use in notebook #12 \n",
    "save(cis.features.df, file=\"../analyses/2bRAD/mQTL_5x/snp-background.features.df\")"
   ]
  },
  {
   "cell_type": "code",
   "execution_count": 114,
   "metadata": {},
   "outputs": [
    {
     "name": "stdout",
     "output_type": "stream",
     "text": [
      "\n",
      "       CDS       exon flank-down   flank-up       gene    gene2kb       mRNA \n",
      "       171        202        126        135        785       1046        785 \n",
      "similarity    unknown \n",
      "       259       1720 \n",
      "\n",
      "       CDS       exon flank-down   flank-up       gene    gene2kb       mRNA \n",
      "      0.06       0.07       0.04       0.05       0.27       0.37       0.27 \n",
      "similarity    unknown \n",
      "      0.09       0.60 \n"
     ]
    }
   ],
   "source": [
    "cis.summary <- table(cis.features.df[c(\"feature\")]) #Note: \"similarity\" refers to transposable elements; also NO alternative splice variants are included. \n",
    "print(cis.summary)\n",
    "save(cis.summary, file=\"../analyses/2bRAD/mQTL_5x/snp-background_feature.summary\")\n",
    "print(round(table(cis.features.df[c(\"feature\")])/2860,2))"
   ]
  },
  {
   "cell_type": "code",
   "execution_count": 115,
   "metadata": {
    "kernel": "R"
   },
   "outputs": [],
   "source": [
    "cis.features[[\"cis.gene2kb\"]] %>%\n",
    "   mutate(uniprotID=str_remove(uniprotID, \"SPID=\")) %>% mutate(uniprotID=str_remove(uniprotID, \";\")) %>%\n",
    "  select(uniprotID) %>% na.omit() %>% as.vector() %>% unique() %>% write.table(file=\"../analyses/2bRAD/mQTL_5x/background_snp_genes2kb_uniprot.txt\",quote = F,row.names = F,col.names = F)"
   ]
  },
  {
   "cell_type": "markdown",
   "metadata": {},
   "source": [
    "## Cis meth sites"
   ]
  },
  {
   "cell_type": "code",
   "execution_count": 116,
   "metadata": {
    "kernel": "Bash"
   },
   "outputs": [
    {
     "name": "stdout",
     "output_type": "stream",
     "text": [
      "\n",
      "\n",
      "\n",
      "\n",
      "\n",
      "\n",
      "\n",
      "\n",
      "\n"
     ]
    }
   ],
   "source": [
    "js(\"bedtools intersect -wb -a ../analyses/2bRAD/mQTL_5x/meth_mbd_maf05_sites_cis.bed -b ../genome-features/Olurida_v081-20190709.gene.gff >  ../analyses/2bRAD/mQTL_5x/cis-meth-gene.bed\")\n",
    "js(\"bedtools intersect -wb -a ../analyses/2bRAD/mQTL_5x/meth_mbd_maf05_sites_cis.bed -b ../genome-features/Olurida_v081-20190709.gene.2kbslop.gff >  ../analyses/2bRAD/mQTL_5x/cis-meth-gene2kb.bed\")\n",
    "js(\"bedtools intersect -wb -a ../analyses/2bRAD/mQTL_5x/meth_mbd_maf05_sites_cis.bed -b ../genome-features/Olurida_v081-20190709.2kbflank-up.gff >  ../analyses/2bRAD/mQTL_5x/cis-meth-2kbflank-up.bed\")\n",
    "js(\"bedtools intersect -wb -a ../analyses/2bRAD/mQTL_5x/meth_mbd_maf05_sites_cis.bed -b ../genome-features/Olurida_v081-20190709.2kbflank-down.gff >  ../analyses/2bRAD/mQTL_5x/cis-meth-2kbflank-down.bed\")\n",
    "js(\"bedtools intersect -wb -a ../analyses/2bRAD/mQTL_5x/meth_mbd_maf05_sites_cis.bed -b ../genome-features/Olurida_v081-20190709.exon.gff >  ../analyses/2bRAD/mQTL_5x/cis-meth-exon.bed\")\n",
    "js(\"bedtools intersect -wb -a ../analyses/2bRAD/mQTL_5x/meth_mbd_maf05_sites_cis.bed -b ../genome-features/Olurida_v081-20190709.CDS.gff >  ../analyses/2bRAD/mQTL_5x/cis-meth-CDS.bed\")\n",
    "js(\"bedtools intersect -wb -a ../analyses/2bRAD/mQTL_5x/meth_mbd_maf05_sites_cis.bed -b ../genome-features/Olurida_v081-20190709.mRNA.gff >  ../analyses/2bRAD/mQTL_5x/cis-meth-mRNA.bed\")\n",
    "js(\"bedtools intersect -wb -a ../analyses/2bRAD/mQTL_5x/meth_mbd_maf05_sites_cis.bed -b ../genome-features/Olurida_v081_TE-Cg.gff >  ../analyses/2bRAD/mQTL_5x/cis-meth-TE.bed\")\n",
    "js(\"bedtools intersect -v -a ../analyses/2bRAD/mQTL_5x/meth_mbd_maf05_sites_cis.bed -b ../genome-features/Olurida_v081-20190709.gene.2kbslop.gff ../genome-features/Olurida_v081-20190709.exon.gff ../genome-features/Olurida_v081-20190709.CDS.gff ../genome-features/Olurida_v081-20190709.mRNA.gff ../genome-features/Olurida_v081_TE-Cg.gff >  ../analyses/2bRAD/mQTL_5x/cis-meth-unknown.bed\")\n"
   ]
  },
  {
   "cell_type": "code",
   "execution_count": 117,
   "metadata": {
    "kernel": "R",
    "scrolled": true
   },
   "outputs": [
    {
     "name": "stderr",
     "output_type": "stream",
     "text": [
      "\u001b[1m\u001b[1mRows: \u001b[1m\u001b[22m\u001b[34m\u001b[34m118\u001b[34m\u001b[39m \u001b[1m\u001b[1mColumns: \u001b[1m\u001b[22m\u001b[34m\u001b[34m12\u001b[34m\u001b[39m\n",
      "\n",
      "\u001b[36m──\u001b[39m \u001b[1m\u001b[1mColumn specification\u001b[1m\u001b[22m \u001b[36m────────────────────────────────────────────────────────\u001b[39m\n",
      "\u001b[1mDelimiter:\u001b[22m \"\\t\"\n",
      "\u001b[31mchr\u001b[39m (7): X1, X4, X5, X6, X9, X10, X12\n",
      "\u001b[32mdbl\u001b[39m (5): X2, X3, X7, X8, X11\n",
      "\n",
      "\n",
      "\u001b[36mℹ\u001b[39m Use \u001b[30m\u001b[47m\u001b[30m\u001b[47m`spec()`\u001b[47m\u001b[30m\u001b[49m\u001b[39m to retrieve the full column specification for this data.\n",
      "\u001b[36mℹ\u001b[39m Specify the column types or set \u001b[30m\u001b[47m\u001b[30m\u001b[47m`show_col_types = FALSE`\u001b[47m\u001b[30m\u001b[49m\u001b[39m to quiet this message.\n",
      "\n",
      "\u001b[1m\u001b[1mRows: \u001b[1m\u001b[22m\u001b[34m\u001b[34m121\u001b[34m\u001b[39m \u001b[1m\u001b[1mColumns: \u001b[1m\u001b[22m\u001b[34m\u001b[34m12\u001b[34m\u001b[39m\n",
      "\n",
      "\u001b[36m──\u001b[39m \u001b[1m\u001b[1mColumn specification\u001b[1m\u001b[22m \u001b[36m────────────────────────────────────────────────────────\u001b[39m\n",
      "\u001b[1mDelimiter:\u001b[22m \"\\t\"\n",
      "\u001b[31mchr\u001b[39m (8): X1, X4, X5, X6, X9, X10, X11, X12\n",
      "\u001b[32mdbl\u001b[39m (4): X2, X3, X7, X8\n",
      "\n",
      "\n",
      "\u001b[36mℹ\u001b[39m Use \u001b[30m\u001b[47m\u001b[30m\u001b[47m`spec()`\u001b[47m\u001b[30m\u001b[49m\u001b[39m to retrieve the full column specification for this data.\n",
      "\u001b[36mℹ\u001b[39m Specify the column types or set \u001b[30m\u001b[47m\u001b[30m\u001b[47m`show_col_types = FALSE`\u001b[47m\u001b[30m\u001b[49m\u001b[39m to quiet this message.\n",
      "\n",
      "\u001b[1m\u001b[1mRows: \u001b[1m\u001b[22m\u001b[34m\u001b[34m175\u001b[34m\u001b[39m \u001b[1m\u001b[1mColumns: \u001b[1m\u001b[22m\u001b[34m\u001b[34m12\u001b[34m\u001b[39m\n",
      "\n",
      "\u001b[36m──\u001b[39m \u001b[1m\u001b[1mColumn specification\u001b[1m\u001b[22m \u001b[36m────────────────────────────────────────────────────────\u001b[39m\n",
      "\u001b[1mDelimiter:\u001b[22m \"\\t\"\n",
      "\u001b[31mchr\u001b[39m (8): X1, X4, X5, X6, X9, X10, X11, X12\n",
      "\u001b[32mdbl\u001b[39m (4): X2, X3, X7, X8\n",
      "\n",
      "\n",
      "\u001b[36mℹ\u001b[39m Use \u001b[30m\u001b[47m\u001b[30m\u001b[47m`spec()`\u001b[47m\u001b[30m\u001b[49m\u001b[39m to retrieve the full column specification for this data.\n",
      "\u001b[36mℹ\u001b[39m Specify the column types or set \u001b[30m\u001b[47m\u001b[30m\u001b[47m`show_col_types = FALSE`\u001b[47m\u001b[30m\u001b[49m\u001b[39m to quiet this message.\n",
      "\n",
      "\u001b[1m\u001b[1mRows: \u001b[1m\u001b[22m\u001b[34m\u001b[34m190\u001b[34m\u001b[39m \u001b[1m\u001b[1mColumns: \u001b[1m\u001b[22m\u001b[34m\u001b[34m12\u001b[34m\u001b[39m\n",
      "\n",
      "\u001b[36m──\u001b[39m \u001b[1m\u001b[1mColumn specification\u001b[1m\u001b[22m \u001b[36m────────────────────────────────────────────────────────\u001b[39m\n",
      "\u001b[1mDelimiter:\u001b[22m \"\\t\"\n",
      "\u001b[31mchr\u001b[39m (8): X1, X4, X5, X6, X9, X10, X11, X12\n",
      "\u001b[32mdbl\u001b[39m (4): X2, X3, X7, X8\n",
      "\n",
      "\n",
      "\u001b[36mℹ\u001b[39m Use \u001b[30m\u001b[47m\u001b[30m\u001b[47m`spec()`\u001b[47m\u001b[30m\u001b[49m\u001b[39m to retrieve the full column specification for this data.\n",
      "\u001b[36mℹ\u001b[39m Specify the column types or set \u001b[30m\u001b[47m\u001b[30m\u001b[47m`show_col_types = FALSE`\u001b[47m\u001b[30m\u001b[49m\u001b[39m to quiet this message.\n",
      "\n",
      "\u001b[1m\u001b[1mRows: \u001b[1m\u001b[22m\u001b[34m\u001b[34m11\u001b[34m\u001b[39m \u001b[1m\u001b[1mColumns: \u001b[1m\u001b[22m\u001b[34m\u001b[34m12\u001b[34m\u001b[39m\n",
      "\n",
      "\u001b[36m──\u001b[39m \u001b[1m\u001b[1mColumn specification\u001b[1m\u001b[22m \u001b[36m────────────────────────────────────────────────────────\u001b[39m\n",
      "\u001b[1mDelimiter:\u001b[22m \"\\t\"\n",
      "\u001b[31mchr\u001b[39m (8): X1, X4, X5, X6, X9, X10, X11, X12\n",
      "\u001b[32mdbl\u001b[39m (4): X2, X3, X7, X8\n",
      "\n",
      "\n",
      "\u001b[36mℹ\u001b[39m Use \u001b[30m\u001b[47m\u001b[30m\u001b[47m`spec()`\u001b[47m\u001b[30m\u001b[49m\u001b[39m to retrieve the full column specification for this data.\n",
      "\u001b[36mℹ\u001b[39m Specify the column types or set \u001b[30m\u001b[47m\u001b[30m\u001b[47m`show_col_types = FALSE`\u001b[47m\u001b[30m\u001b[49m\u001b[39m to quiet this message.\n",
      "\n",
      "\u001b[1m\u001b[1mRows: \u001b[1m\u001b[22m\u001b[34m\u001b[34m4\u001b[34m\u001b[39m \u001b[1m\u001b[1mColumns: \u001b[1m\u001b[22m\u001b[34m\u001b[34m12\u001b[34m\u001b[39m\n",
      "\n",
      "\u001b[36m──\u001b[39m \u001b[1m\u001b[1mColumn specification\u001b[1m\u001b[22m \u001b[36m────────────────────────────────────────────────────────\u001b[39m\n",
      "\u001b[1mDelimiter:\u001b[22m \"\\t\"\n",
      "\u001b[31mchr\u001b[39m (8): X1, X4, X5, X6, X9, X10, X11, X12\n",
      "\u001b[32mdbl\u001b[39m (4): X2, X3, X7, X8\n",
      "\n",
      "\n",
      "\u001b[36mℹ\u001b[39m Use \u001b[30m\u001b[47m\u001b[30m\u001b[47m`spec()`\u001b[47m\u001b[30m\u001b[49m\u001b[39m to retrieve the full column specification for this data.\n",
      "\u001b[36mℹ\u001b[39m Specify the column types or set \u001b[30m\u001b[47m\u001b[30m\u001b[47m`show_col_types = FALSE`\u001b[47m\u001b[30m\u001b[49m\u001b[39m to quiet this message.\n",
      "\n",
      "\u001b[1m\u001b[1mRows: \u001b[1m\u001b[22m\u001b[34m\u001b[34m175\u001b[34m\u001b[39m \u001b[1m\u001b[1mColumns: \u001b[1m\u001b[22m\u001b[34m\u001b[34m12\u001b[34m\u001b[39m\n",
      "\n",
      "\u001b[36m──\u001b[39m \u001b[1m\u001b[1mColumn specification\u001b[1m\u001b[22m \u001b[36m────────────────────────────────────────────────────────\u001b[39m\n",
      "\u001b[1mDelimiter:\u001b[22m \"\\t\"\n",
      "\u001b[31mchr\u001b[39m (8): X1, X4, X5, X6, X9, X10, X11, X12\n",
      "\u001b[32mdbl\u001b[39m (4): X2, X3, X7, X8\n",
      "\n",
      "\n",
      "\u001b[36mℹ\u001b[39m Use \u001b[30m\u001b[47m\u001b[30m\u001b[47m`spec()`\u001b[47m\u001b[30m\u001b[49m\u001b[39m to retrieve the full column specification for this data.\n",
      "\u001b[36mℹ\u001b[39m Specify the column types or set \u001b[30m\u001b[47m\u001b[30m\u001b[47m`show_col_types = FALSE`\u001b[47m\u001b[30m\u001b[49m\u001b[39m to quiet this message.\n",
      "\n",
      "\u001b[1m\u001b[1mRows: \u001b[1m\u001b[22m\u001b[34m\u001b[34m9\u001b[34m\u001b[39m \u001b[1m\u001b[1mColumns: \u001b[1m\u001b[22m\u001b[34m\u001b[34m12\u001b[34m\u001b[39m\n",
      "\n",
      "\u001b[36m──\u001b[39m \u001b[1m\u001b[1mColumn specification\u001b[1m\u001b[22m \u001b[36m────────────────────────────────────────────────────────\u001b[39m\n",
      "\u001b[1mDelimiter:\u001b[22m \"\\t\"\n",
      "\u001b[31mchr\u001b[39m (8): X1, X4, X5, X6, X9, X10, X11, X12\n",
      "\u001b[32mdbl\u001b[39m (4): X2, X3, X7, X8\n",
      "\n",
      "\n",
      "\u001b[36mℹ\u001b[39m Use \u001b[30m\u001b[47m\u001b[30m\u001b[47m`spec()`\u001b[47m\u001b[30m\u001b[49m\u001b[39m to retrieve the full column specification for this data.\n",
      "\u001b[36mℹ\u001b[39m Specify the column types or set \u001b[30m\u001b[47m\u001b[30m\u001b[47m`show_col_types = FALSE`\u001b[47m\u001b[30m\u001b[49m\u001b[39m to quiet this message.\n",
      "\n",
      "\u001b[1m\u001b[1mRows: \u001b[1m\u001b[22m\u001b[34m\u001b[34m68\u001b[34m\u001b[39m \u001b[1m\u001b[1mColumns: \u001b[1m\u001b[22m\u001b[34m\u001b[34m3\u001b[34m\u001b[39m\n",
      "\n",
      "\u001b[36m──\u001b[39m \u001b[1m\u001b[1mColumn specification\u001b[1m\u001b[22m \u001b[36m────────────────────────────────────────────────────────\u001b[39m\n",
      "\u001b[1mDelimiter:\u001b[22m \"\\t\"\n",
      "\u001b[31mchr\u001b[39m (1): X1\n",
      "\u001b[32mdbl\u001b[39m (2): X2, X3\n",
      "\n",
      "\n",
      "\u001b[36mℹ\u001b[39m Use \u001b[30m\u001b[47m\u001b[30m\u001b[47m`spec()`\u001b[47m\u001b[30m\u001b[49m\u001b[39m to retrieve the full column specification for this data.\n",
      "\u001b[36mℹ\u001b[39m Specify the column types or set \u001b[30m\u001b[47m\u001b[30m\u001b[47m`show_col_types = FALSE`\u001b[47m\u001b[30m\u001b[49m\u001b[39m to quiet this message.\n",
      "\n"
     ]
    }
   ],
   "source": [
    "cisfiles <- c(\"../analyses/2bRAD/mQTL_5x/cis-meth-CDS.bed\", \"../analyses/2bRAD/mQTL_5x/cis-meth-exon.bed\", \"../analyses/2bRAD/mQTL_5x/cis-meth-gene.bed\", \"../analyses/2bRAD/mQTL_5x/cis-meth-gene2kb.bed\", \"../analyses/2bRAD/mQTL_5x/cis-meth-2kbflank-up.bed\", \"../analyses/2bRAD/mQTL_5x/cis-meth-2kbflank-down.bed\", \"../analyses/2bRAD/mQTL_5x/cis-meth-mRNA.bed\", \"../analyses/2bRAD/mQTL_5x/cis-meth-TE.bed\", \"../analyses/2bRAD/mQTL_5x/cis-meth-unknown.bed\")\n",
    "cis.features <- list()\n",
    "for (i in c(1:9)) {\n",
    "  cis.features[[i]] <- read_delim(cisfiles[i], delim = '\\t', col_names = FALSE) %>% as_tibble()}\n",
    "for (i in 1:8) {\n",
    "  cis.features[[i]] <- cis.features[[i]] %>%\n",
    "    setNames(c(\"contig.cis\",\"start.cis\",\"end.cis\",\"contig.feat\", \"source.feat\",\"feature\",\"start.feat\",\"end.feat\",\"unknown1\",\"strand\",\"unknown2\",\"attribute\")) %>%\n",
    "mutate(ID=str_extract(attribute, \"ID=(.*?);\"),\n",
    "       Parent=str_extract(attribute, \"Parent=(.*?);\"),\n",
    "       Name=str_extract(attribute, \"Name=(.*?);\"),\n",
    "       Alias=str_extract(attribute, \"Alias=(.*?);\"),\n",
    "       AED=str_extract(attribute, \"AED=(.*?);\"),\n",
    "       eAED=str_extract(attribute, \"eAED=(.*?);\"),\n",
    "       Note=str_extract(attribute, \"Note=(.*?);\"),\n",
    "       Ontology_term=str_extract(attribute, \"Ontology_term=(.*?);\"),\n",
    "       Dbxref=str_extract(attribute, \"Dbxref=(.*?);\"),\n",
    "       uniprotID=str_extract(attribute, \"SPID=(.*?);\")\n",
    "       ) %>%\n",
    "mutate_at(\"feature\", as.factor)\n",
    "}\n",
    "names(cis.features) <- c(\"cis.CDS\", \"cis.exon\", \"cis.gene\",\"cis.gene2kb\", \"cis.flank-up\", \"cis.flank-down\",\"cis.mRNA\", \"cis.TE\", \"cis.unknown\")\n",
    "cis.features[[\"cis.unknown\"]] <- \n",
    "  cis.features[[\"cis.unknown\"]] %>% \n",
    "  setNames(c(\"contig.cis\", \"start.cis\", \"end.cis\", \"score.cis\"))\n",
    "cis.features[[\"cis.CDS\"]] <- cis.features[[\"cis.CDS\"]] %>% mutate_at(\"unknown2\", as.character)\n",
    "cis.features[[\"cis.TE\"]] <- cis.features[[\"cis.TE\"]] %>% mutate_at(\"unknown1\", as.character)\n",
    "cis.features[[\"cis.gene2kb\"]]$feature <- \"gene2kb\"\n",
    "cis.features[[\"cis.flank-up\"]]$feature <- \"flank-up\"\n",
    "cis.features[[\"cis.flank-down\"]]$feature <- \"flank-down\"\n",
    "cis.features[[\"cis.unknown\"]]$feature <- \"unknown\"\n",
    "cis.features.df <- bind_rows(cis.features) \n",
    "#save cis loci feature df object to file, to use in notebook #12 \n",
    "save(cis.features.df, file=\"../analyses/2bRAD/mQTL_5x/cis-meth.features.df\")"
   ]
  },
  {
   "cell_type": "code",
   "execution_count": 118,
   "metadata": {},
   "outputs": [
    {
     "name": "stdout",
     "output_type": "stream",
     "text": [
      "\n",
      "       CDS       exon flank-down   flank-up       gene    gene2kb       mRNA \n",
      "       118        121          4         11        175        190        175 \n",
      "similarity    unknown \n",
      "         9         68 \n",
      "\n",
      "       CDS       exon flank-down   flank-up       gene    gene2kb       mRNA \n",
      "      0.49       0.50       0.02       0.05       0.73       0.79       0.73 \n",
      "similarity    unknown \n",
      "      0.04       0.28 \n"
     ]
    }
   ],
   "source": [
    "cis.summary <- table(cis.features.df[c(\"feature\")]) #Note: \"similarity\" refers to transposable elements; also NO alternative splice variants are included. \n",
    "print(cis.summary)\n",
    "save(cis.summary, file=\"../analyses/2bRAD/mQTL_5x/cis-meth_feature.summary\")\n",
    "print(round(table(cis.features.df[c(\"feature\")])/240,2))"
   ]
  },
  {
   "cell_type": "code",
   "execution_count": 119,
   "metadata": {
    "kernel": "R",
    "scrolled": true
   },
   "outputs": [],
   "source": [
    "cis.features[[\"cis.gene2kb\"]] %>%\n",
    "  mutate(uniprotID=str_remove(uniprotID, \"SPID=\")) %>% mutate(uniprotID=str_remove(uniprotID, \";\")) %>%\n",
    "  select(uniprotID) %>% na.omit() %>% as.vector() %>% unique() %>% write.table(file=\"../analyses/2bRAD/mQTL_5x/meqtl_cis-methP01_genes2kb_uniprot.txt\",quote = F,row.names = F,col.names = F)  "
   ]
  },
  {
   "cell_type": "code",
   "execution_count": 120,
   "metadata": {
    "kernel": "R"
   },
   "outputs": [
    {
     "data": {
      "text/html": [
       "<table class=\"dataframe\">\n",
       "<caption>A tibble: 109 x 2</caption>\n",
       "<thead>\n",
       "\t<tr><th scope=col>contig.cis</th><th scope=col>Note</th></tr>\n",
       "\t<tr><th scope=col>&lt;chr&gt;</th><th scope=col>&lt;chr&gt;</th></tr>\n",
       "</thead>\n",
       "<tbody>\n",
       "\t<tr><td>Contig51028</td><td>Note=Similar to TMEM67: Meckelin (Homo sapiens OX%3D9606);                                                                                            </td></tr>\n",
       "\t<tr><td>Contig29931</td><td>Note=Similar to HCK: Tyrosine-protein kinase HCK (Macaca fascicularis OX%3D9541);                                                                     </td></tr>\n",
       "\t<tr><td>Contig21828</td><td>Note=Similar to NCOA6: Nuclear receptor coactivator 6 (Homo sapiens OX%3D9606);                                                                       </td></tr>\n",
       "\t<tr><td>Contig25896</td><td>Note=Similar to EFCAB8: EF-hand calcium-binding domain-containing protein 8 (Homo sapiens OX%3D9606);                                                 </td></tr>\n",
       "\t<tr><td>Contig22083</td><td>Note=Protein of unknown function;                                                                                                                     </td></tr>\n",
       "\t<tr><td>Contig38940</td><td>Note=Similar to coq8a: Atypical kinase COQ8A%2C mitochondrial (Danio rerio OX%3D7955);                                                                </td></tr>\n",
       "\t<tr><td>Contig26603</td><td>Note=Similar to POP1: Ribonucleases P/MRP protein subunit POP1 (Homo sapiens OX%3D9606);                                                              </td></tr>\n",
       "\t<tr><td>Contig82836</td><td>Note=Protein of unknown function;                                                                                                                     </td></tr>\n",
       "\t<tr><td>Contig75   </td><td>Note=Similar to TOE1: Target of EGR1 protein 1 (Homo sapiens OX%3D9606);                                                                              </td></tr>\n",
       "\t<tr><td>Contig18103</td><td>Note=Similar to DENND1B: DENN domain-containing protein 1B (Homo sapiens OX%3D9606);                                                                  </td></tr>\n",
       "\t<tr><td>Contig18086</td><td>Note=Similar to PRICKLE2: Prickle-like protein 2 (Homo sapiens OX%3D9606);                                                                            </td></tr>\n",
       "\t<tr><td>Contig34055</td><td>Note=Similar to smarcb1a: SWI/SNF-related matrix-associated actin-dependent regulator of chromatin subfamily B member 1-A (Danio rerio OX%3D7955);    </td></tr>\n",
       "\t<tr><td>Contig34055</td><td>Note=Similar to smarcb1: SWI/SNF-related matrix-associated actin-dependent regulator of chromatin subfamily B member 1 (Xenopus tropicalis OX%3D8364);</td></tr>\n",
       "\t<tr><td>Contig34055</td><td>Note=Similar to SMARCB1: SWI/SNF-related matrix-associated actin-dependent regulator of chromatin subfamily B member 1 (Gallus gallus OX%3D9031);     </td></tr>\n",
       "\t<tr><td>Contig47777</td><td>Note=Similar to rnps1: RNA-binding protein with serine-rich domain 1 (Xenopus tropicalis OX%3D8364);                                                  </td></tr>\n",
       "\t<tr><td>Contig30249</td><td>Note=Protein of unknown function;                                                                                                                     </td></tr>\n",
       "\t<tr><td>Contig34958</td><td>Note=Similar to Slc35a2: UDP-galactose translocator (Mus musculus OX%3D10090);                                                                        </td></tr>\n",
       "\t<tr><td>Contig822  </td><td>Note=Similar to DUSP16: Dual specificity protein phosphatase 16 (Homo sapiens OX%3D9606);                                                             </td></tr>\n",
       "\t<tr><td>Contig50056</td><td>Note=Similar to FTCD: Formimidoyltransferase-cyclodeaminase (Sus scrofa OX%3D9823);                                                                   </td></tr>\n",
       "\t<tr><td>Contig31124</td><td>Note=Similar to Chdh: Choline dehydrogenase%2C mitochondrial (Mus musculus OX%3D10090);                                                               </td></tr>\n",
       "\t<tr><td>Contig18485</td><td>Note=Similar to RREB1: Ras-responsive element-binding protein 1 (Gallus gallus OX%3D9031);                                                            </td></tr>\n",
       "\t<tr><td>Contig27462</td><td>Note=Protein of unknown function;                                                                                                                     </td></tr>\n",
       "\t<tr><td>Contig27462</td><td>Note=Similar to jmjd6-a: Bifunctional arginine demethylase and lysyl-hydroxylase JMJD6-A (Xenopus laevis OX%3D8355);                                  </td></tr>\n",
       "\t<tr><td>Contig28540</td><td>Note=Similar to ACOX3: Peroxisomal acyl-coenzyme A oxidase 3 (Homo sapiens OX%3D9606);                                                                </td></tr>\n",
       "\t<tr><td>Contig77382</td><td>Note=Similar to Socs5: Suppressor of cytokine signaling 5 (Mus musculus OX%3D10090);                                                                  </td></tr>\n",
       "\t<tr><td>Contig18896</td><td>Note=Similar to Sodium channel protein 1 brain (Heterololigo bleekeri OX%3D1423826);                                                                  </td></tr>\n",
       "\t<tr><td>Contig217  </td><td>Note=Similar to slc36a4: Proton-coupled amino acid transporter 4 (Xenopus laevis OX%3D8355);                                                          </td></tr>\n",
       "\t<tr><td>Contig217  </td><td>Note=Protein of unknown function;                                                                                                                     </td></tr>\n",
       "\t<tr><td>Contig38347</td><td>Note=Similar to Tmem246: Transmembrane protein 246 (Rattus norvegicus OX%3D10116);                                                                    </td></tr>\n",
       "\t<tr><td>Contig38347</td><td>Note=Similar to ABCC10: Multidrug resistance-associated protein 7 (Homo sapiens OX%3D9606);                                                           </td></tr>\n",
       "\t<tr><td>...</td><td>...</td></tr>\n",
       "\t<tr><td>Contig17705</td><td>Note=Similar to Vps45: Vacuolar protein sorting-associated protein 45 (Rattus norvegicus OX%3D10116);                                                                       </td></tr>\n",
       "\t<tr><td>Contig50657</td><td>Note=Similar to KDM3B: Lysine-specific demethylase 3B (Homo sapiens OX%3D9606);                                                                                             </td></tr>\n",
       "\t<tr><td>Contig42692</td><td>Note=Protein of unknown function;                                                                                                                                           </td></tr>\n",
       "\t<tr><td>Contig37183</td><td>Note=Protein of unknown function;                                                                                                                                           </td></tr>\n",
       "\t<tr><td>Contig46   </td><td>Note=Protein of unknown function;                                                                                                                                           </td></tr>\n",
       "\t<tr><td>Contig24408</td><td>Note=Similar to KMT5B: Histone-lysine N-methyltransferase KMT5B (Bos taurus OX%3D9913);                                                                                     </td></tr>\n",
       "\t<tr><td>Contig52798</td><td>Note=Protein of unknown function;                                                                                                                                           </td></tr>\n",
       "\t<tr><td>Contig32498</td><td>Note=Similar to PCDH9: Protocadherin-9 (Homo sapiens OX%3D9606);                                                                                                            </td></tr>\n",
       "\t<tr><td>Contig15372</td><td>Note=Similar to ttc25: Tetratricopeptide repeat protein 25 (Danio rerio OX%3D7955);                                                                                         </td></tr>\n",
       "\t<tr><td>Contig29713</td><td>Note=Similar to POLE2: DNA polymerase epsilon subunit 2 (Homo sapiens OX%3D9606);                                                                                           </td></tr>\n",
       "\t<tr><td>Contig20509</td><td>Note=Protein of unknown function;                                                                                                                                           </td></tr>\n",
       "\t<tr><td>Contig44867</td><td>Note=Protein of unknown function;                                                                                                                                           </td></tr>\n",
       "\t<tr><td>Contig21828</td><td>Note=Similar to FAM49B: Protein FAM49B (Homo sapiens OX%3D9606);                                                                                                            </td></tr>\n",
       "\t<tr><td>Contig41116</td><td>Note=Similar to Cad87A: Cadherin-87A (Drosophila melanogaster OX%3D7227);                                                                                                   </td></tr>\n",
       "\t<tr><td>Contig32566</td><td>Note=Similar to HECTD1: E3 ubiquitin-protein ligase HECTD1 (Homo sapiens OX%3D9606);                                                                                        </td></tr>\n",
       "\t<tr><td>Contig37588</td><td>Note=Similar to AK6: Adenylate kinase isoenzyme 6 (Bos taurus OX%3D9913);                                                                                                   </td></tr>\n",
       "\t<tr><td>Contig49399</td><td>Note=Similar to GDPD5: Glycerophosphodiester phosphodiesterase domain-containing protein 5 (Homo sapiens OX%3D9606);                                                        </td></tr>\n",
       "\t<tr><td>Contig27944</td><td>Note=Similar to rsgI6: Anti-sigma-I factor RsgI6 (Clostridium thermocellum (strain ATCC 27405 / DSM 1237 / NBRC 103400 / NCIMB 10682 / NRRL B-4536 / VPI 7372) OX%3D203119);</td></tr>\n",
       "\t<tr><td>Contig32566</td><td>Note=Protein of unknown function;                                                                                                                                           </td></tr>\n",
       "\t<tr><td>Contig2037 </td><td>Note=Similar to Ctnna2: Catenin alpha-2 (Danio rerio OX%3D7955);                                                                                                            </td></tr>\n",
       "\t<tr><td>Contig2254 </td><td>Note=Similar to VVA0006: Riboflavin biosynthesis protein VVA0006 (Vibrio vulnificus (strain YJ016) OX%3D196600);                                                            </td></tr>\n",
       "\t<tr><td>Contig22514</td><td>Note=Similar to IPK1: Inositol-pentakisphosphate 2-kinase IPK1 (Oryza sativa subsp. japonica OX%3D39947);                                                                   </td></tr>\n",
       "\t<tr><td>Contig28951</td><td>Note=Similar to Homer1: Homer protein homolog 1 (Rattus norvegicus OX%3D10116);                                                                                             </td></tr>\n",
       "\t<tr><td>Contig16187</td><td>Note=Similar to ZNF425: Zinc finger protein 425 (Fragment) (Macaca fascicularis OX%3D9541);                                                                                 </td></tr>\n",
       "\t<tr><td>Contig45621</td><td>Note=Similar to CSH1: Mannosyl phosphorylinositol ceramide synthase CSH1 (Saccharomyces cerevisiae (strain ATCC 204508 / S288c) OX%3D559292);                               </td></tr>\n",
       "\t<tr><td>Contig51282</td><td>Note=Similar to ROS1: Proto-oncogene tyrosine-protein kinase ROS (Gallus gallus OX%3D9031);                                                                                 </td></tr>\n",
       "\t<tr><td>Contig24693</td><td>Note=Protein of unknown function;                                                                                                                                           </td></tr>\n",
       "\t<tr><td>Contig29033</td><td>Note=Similar to G2/mitotic-specific cyclin-B (Hydra viridissima OX%3D6082);                                                                                                 </td></tr>\n",
       "\t<tr><td>Contig21274</td><td>Note=Similar to CHST6: Carbohydrate sulfotransferase 6 (Homo sapiens OX%3D9606);                                                                                            </td></tr>\n",
       "\t<tr><td>Contig21274</td><td>Note=Similar to Ncapd2: Condensin complex subunit 1 (Mus musculus OX%3D10090);                                                                                              </td></tr>\n",
       "</tbody>\n",
       "</table>\n"
      ],
      "text/latex": [
       "A tibble: 109 x 2\n",
       "\\begin{tabular}{ll}\n",
       " contig.cis & Note\\\\\n",
       " <chr> & <chr>\\\\\n",
       "\\hline\n",
       "\t Contig51028 & Note=Similar to TMEM67: Meckelin (Homo sapiens OX\\%3D9606);                                                                                            \\\\\n",
       "\t Contig29931 & Note=Similar to HCK: Tyrosine-protein kinase HCK (Macaca fascicularis OX\\%3D9541);                                                                     \\\\\n",
       "\t Contig21828 & Note=Similar to NCOA6: Nuclear receptor coactivator 6 (Homo sapiens OX\\%3D9606);                                                                       \\\\\n",
       "\t Contig25896 & Note=Similar to EFCAB8: EF-hand calcium-binding domain-containing protein 8 (Homo sapiens OX\\%3D9606);                                                 \\\\\n",
       "\t Contig22083 & Note=Protein of unknown function;                                                                                                                     \\\\\n",
       "\t Contig38940 & Note=Similar to coq8a: Atypical kinase COQ8A\\%2C mitochondrial (Danio rerio OX\\%3D7955);                                                                \\\\\n",
       "\t Contig26603 & Note=Similar to POP1: Ribonucleases P/MRP protein subunit POP1 (Homo sapiens OX\\%3D9606);                                                              \\\\\n",
       "\t Contig82836 & Note=Protein of unknown function;                                                                                                                     \\\\\n",
       "\t Contig75    & Note=Similar to TOE1: Target of EGR1 protein 1 (Homo sapiens OX\\%3D9606);                                                                              \\\\\n",
       "\t Contig18103 & Note=Similar to DENND1B: DENN domain-containing protein 1B (Homo sapiens OX\\%3D9606);                                                                  \\\\\n",
       "\t Contig18086 & Note=Similar to PRICKLE2: Prickle-like protein 2 (Homo sapiens OX\\%3D9606);                                                                            \\\\\n",
       "\t Contig34055 & Note=Similar to smarcb1a: SWI/SNF-related matrix-associated actin-dependent regulator of chromatin subfamily B member 1-A (Danio rerio OX\\%3D7955);    \\\\\n",
       "\t Contig34055 & Note=Similar to smarcb1: SWI/SNF-related matrix-associated actin-dependent regulator of chromatin subfamily B member 1 (Xenopus tropicalis OX\\%3D8364);\\\\\n",
       "\t Contig34055 & Note=Similar to SMARCB1: SWI/SNF-related matrix-associated actin-dependent regulator of chromatin subfamily B member 1 (Gallus gallus OX\\%3D9031);     \\\\\n",
       "\t Contig47777 & Note=Similar to rnps1: RNA-binding protein with serine-rich domain 1 (Xenopus tropicalis OX\\%3D8364);                                                  \\\\\n",
       "\t Contig30249 & Note=Protein of unknown function;                                                                                                                     \\\\\n",
       "\t Contig34958 & Note=Similar to Slc35a2: UDP-galactose translocator (Mus musculus OX\\%3D10090);                                                                        \\\\\n",
       "\t Contig822   & Note=Similar to DUSP16: Dual specificity protein phosphatase 16 (Homo sapiens OX\\%3D9606);                                                             \\\\\n",
       "\t Contig50056 & Note=Similar to FTCD: Formimidoyltransferase-cyclodeaminase (Sus scrofa OX\\%3D9823);                                                                   \\\\\n",
       "\t Contig31124 & Note=Similar to Chdh: Choline dehydrogenase\\%2C mitochondrial (Mus musculus OX\\%3D10090);                                                               \\\\\n",
       "\t Contig18485 & Note=Similar to RREB1: Ras-responsive element-binding protein 1 (Gallus gallus OX\\%3D9031);                                                            \\\\\n",
       "\t Contig27462 & Note=Protein of unknown function;                                                                                                                     \\\\\n",
       "\t Contig27462 & Note=Similar to jmjd6-a: Bifunctional arginine demethylase and lysyl-hydroxylase JMJD6-A (Xenopus laevis OX\\%3D8355);                                  \\\\\n",
       "\t Contig28540 & Note=Similar to ACOX3: Peroxisomal acyl-coenzyme A oxidase 3 (Homo sapiens OX\\%3D9606);                                                                \\\\\n",
       "\t Contig77382 & Note=Similar to Socs5: Suppressor of cytokine signaling 5 (Mus musculus OX\\%3D10090);                                                                  \\\\\n",
       "\t Contig18896 & Note=Similar to Sodium channel protein 1 brain (Heterololigo bleekeri OX\\%3D1423826);                                                                  \\\\\n",
       "\t Contig217   & Note=Similar to slc36a4: Proton-coupled amino acid transporter 4 (Xenopus laevis OX\\%3D8355);                                                          \\\\\n",
       "\t Contig217   & Note=Protein of unknown function;                                                                                                                     \\\\\n",
       "\t Contig38347 & Note=Similar to Tmem246: Transmembrane protein 246 (Rattus norvegicus OX\\%3D10116);                                                                    \\\\\n",
       "\t Contig38347 & Note=Similar to ABCC10: Multidrug resistance-associated protein 7 (Homo sapiens OX\\%3D9606);                                                           \\\\\n",
       "\t ... & ...\\\\\n",
       "\t Contig17705 & Note=Similar to Vps45: Vacuolar protein sorting-associated protein 45 (Rattus norvegicus OX\\%3D10116);                                                                       \\\\\n",
       "\t Contig50657 & Note=Similar to KDM3B: Lysine-specific demethylase 3B (Homo sapiens OX\\%3D9606);                                                                                             \\\\\n",
       "\t Contig42692 & Note=Protein of unknown function;                                                                                                                                           \\\\\n",
       "\t Contig37183 & Note=Protein of unknown function;                                                                                                                                           \\\\\n",
       "\t Contig46    & Note=Protein of unknown function;                                                                                                                                           \\\\\n",
       "\t Contig24408 & Note=Similar to KMT5B: Histone-lysine N-methyltransferase KMT5B (Bos taurus OX\\%3D9913);                                                                                     \\\\\n",
       "\t Contig52798 & Note=Protein of unknown function;                                                                                                                                           \\\\\n",
       "\t Contig32498 & Note=Similar to PCDH9: Protocadherin-9 (Homo sapiens OX\\%3D9606);                                                                                                            \\\\\n",
       "\t Contig15372 & Note=Similar to ttc25: Tetratricopeptide repeat protein 25 (Danio rerio OX\\%3D7955);                                                                                         \\\\\n",
       "\t Contig29713 & Note=Similar to POLE2: DNA polymerase epsilon subunit 2 (Homo sapiens OX\\%3D9606);                                                                                           \\\\\n",
       "\t Contig20509 & Note=Protein of unknown function;                                                                                                                                           \\\\\n",
       "\t Contig44867 & Note=Protein of unknown function;                                                                                                                                           \\\\\n",
       "\t Contig21828 & Note=Similar to FAM49B: Protein FAM49B (Homo sapiens OX\\%3D9606);                                                                                                            \\\\\n",
       "\t Contig41116 & Note=Similar to Cad87A: Cadherin-87A (Drosophila melanogaster OX\\%3D7227);                                                                                                   \\\\\n",
       "\t Contig32566 & Note=Similar to HECTD1: E3 ubiquitin-protein ligase HECTD1 (Homo sapiens OX\\%3D9606);                                                                                        \\\\\n",
       "\t Contig37588 & Note=Similar to AK6: Adenylate kinase isoenzyme 6 (Bos taurus OX\\%3D9913);                                                                                                   \\\\\n",
       "\t Contig49399 & Note=Similar to GDPD5: Glycerophosphodiester phosphodiesterase domain-containing protein 5 (Homo sapiens OX\\%3D9606);                                                        \\\\\n",
       "\t Contig27944 & Note=Similar to rsgI6: Anti-sigma-I factor RsgI6 (Clostridium thermocellum (strain ATCC 27405 / DSM 1237 / NBRC 103400 / NCIMB 10682 / NRRL B-4536 / VPI 7372) OX\\%3D203119);\\\\\n",
       "\t Contig32566 & Note=Protein of unknown function;                                                                                                                                           \\\\\n",
       "\t Contig2037  & Note=Similar to Ctnna2: Catenin alpha-2 (Danio rerio OX\\%3D7955);                                                                                                            \\\\\n",
       "\t Contig2254  & Note=Similar to VVA0006: Riboflavin biosynthesis protein VVA0006 (Vibrio vulnificus (strain YJ016) OX\\%3D196600);                                                            \\\\\n",
       "\t Contig22514 & Note=Similar to IPK1: Inositol-pentakisphosphate 2-kinase IPK1 (Oryza sativa subsp. japonica OX\\%3D39947);                                                                   \\\\\n",
       "\t Contig28951 & Note=Similar to Homer1: Homer protein homolog 1 (Rattus norvegicus OX\\%3D10116);                                                                                             \\\\\n",
       "\t Contig16187 & Note=Similar to ZNF425: Zinc finger protein 425 (Fragment) (Macaca fascicularis OX\\%3D9541);                                                                                 \\\\\n",
       "\t Contig45621 & Note=Similar to CSH1: Mannosyl phosphorylinositol ceramide synthase CSH1 (Saccharomyces cerevisiae (strain ATCC 204508 / S288c) OX\\%3D559292);                               \\\\\n",
       "\t Contig51282 & Note=Similar to ROS1: Proto-oncogene tyrosine-protein kinase ROS (Gallus gallus OX\\%3D9031);                                                                                 \\\\\n",
       "\t Contig24693 & Note=Protein of unknown function;                                                                                                                                           \\\\\n",
       "\t Contig29033 & Note=Similar to G2/mitotic-specific cyclin-B (Hydra viridissima OX\\%3D6082);                                                                                                 \\\\\n",
       "\t Contig21274 & Note=Similar to CHST6: Carbohydrate sulfotransferase 6 (Homo sapiens OX\\%3D9606);                                                                                            \\\\\n",
       "\t Contig21274 & Note=Similar to Ncapd2: Condensin complex subunit 1 (Mus musculus OX\\%3D10090);                                                                                              \\\\\n",
       "\\end{tabular}\n"
      ],
      "text/markdown": [
       "\n",
       "A tibble: 109 x 2\n",
       "\n",
       "| contig.cis &lt;chr&gt; | Note &lt;chr&gt; |\n",
       "|---|---|\n",
       "| Contig51028 | Note=Similar to TMEM67: Meckelin (Homo sapiens OX%3D9606);                                                                                             |\n",
       "| Contig29931 | Note=Similar to HCK: Tyrosine-protein kinase HCK (Macaca fascicularis OX%3D9541);                                                                      |\n",
       "| Contig21828 | Note=Similar to NCOA6: Nuclear receptor coactivator 6 (Homo sapiens OX%3D9606);                                                                        |\n",
       "| Contig25896 | Note=Similar to EFCAB8: EF-hand calcium-binding domain-containing protein 8 (Homo sapiens OX%3D9606);                                                  |\n",
       "| Contig22083 | Note=Protein of unknown function;                                                                                                                      |\n",
       "| Contig38940 | Note=Similar to coq8a: Atypical kinase COQ8A%2C mitochondrial (Danio rerio OX%3D7955);                                                                 |\n",
       "| Contig26603 | Note=Similar to POP1: Ribonucleases P/MRP protein subunit POP1 (Homo sapiens OX%3D9606);                                                               |\n",
       "| Contig82836 | Note=Protein of unknown function;                                                                                                                      |\n",
       "| Contig75    | Note=Similar to TOE1: Target of EGR1 protein 1 (Homo sapiens OX%3D9606);                                                                               |\n",
       "| Contig18103 | Note=Similar to DENND1B: DENN domain-containing protein 1B (Homo sapiens OX%3D9606);                                                                   |\n",
       "| Contig18086 | Note=Similar to PRICKLE2: Prickle-like protein 2 (Homo sapiens OX%3D9606);                                                                             |\n",
       "| Contig34055 | Note=Similar to smarcb1a: SWI/SNF-related matrix-associated actin-dependent regulator of chromatin subfamily B member 1-A (Danio rerio OX%3D7955);     |\n",
       "| Contig34055 | Note=Similar to smarcb1: SWI/SNF-related matrix-associated actin-dependent regulator of chromatin subfamily B member 1 (Xenopus tropicalis OX%3D8364); |\n",
       "| Contig34055 | Note=Similar to SMARCB1: SWI/SNF-related matrix-associated actin-dependent regulator of chromatin subfamily B member 1 (Gallus gallus OX%3D9031);      |\n",
       "| Contig47777 | Note=Similar to rnps1: RNA-binding protein with serine-rich domain 1 (Xenopus tropicalis OX%3D8364);                                                   |\n",
       "| Contig30249 | Note=Protein of unknown function;                                                                                                                      |\n",
       "| Contig34958 | Note=Similar to Slc35a2: UDP-galactose translocator (Mus musculus OX%3D10090);                                                                         |\n",
       "| Contig822   | Note=Similar to DUSP16: Dual specificity protein phosphatase 16 (Homo sapiens OX%3D9606);                                                              |\n",
       "| Contig50056 | Note=Similar to FTCD: Formimidoyltransferase-cyclodeaminase (Sus scrofa OX%3D9823);                                                                    |\n",
       "| Contig31124 | Note=Similar to Chdh: Choline dehydrogenase%2C mitochondrial (Mus musculus OX%3D10090);                                                                |\n",
       "| Contig18485 | Note=Similar to RREB1: Ras-responsive element-binding protein 1 (Gallus gallus OX%3D9031);                                                             |\n",
       "| Contig27462 | Note=Protein of unknown function;                                                                                                                      |\n",
       "| Contig27462 | Note=Similar to jmjd6-a: Bifunctional arginine demethylase and lysyl-hydroxylase JMJD6-A (Xenopus laevis OX%3D8355);                                   |\n",
       "| Contig28540 | Note=Similar to ACOX3: Peroxisomal acyl-coenzyme A oxidase 3 (Homo sapiens OX%3D9606);                                                                 |\n",
       "| Contig77382 | Note=Similar to Socs5: Suppressor of cytokine signaling 5 (Mus musculus OX%3D10090);                                                                   |\n",
       "| Contig18896 | Note=Similar to Sodium channel protein 1 brain (Heterololigo bleekeri OX%3D1423826);                                                                   |\n",
       "| Contig217   | Note=Similar to slc36a4: Proton-coupled amino acid transporter 4 (Xenopus laevis OX%3D8355);                                                           |\n",
       "| Contig217   | Note=Protein of unknown function;                                                                                                                      |\n",
       "| Contig38347 | Note=Similar to Tmem246: Transmembrane protein 246 (Rattus norvegicus OX%3D10116);                                                                     |\n",
       "| Contig38347 | Note=Similar to ABCC10: Multidrug resistance-associated protein 7 (Homo sapiens OX%3D9606);                                                            |\n",
       "| ... | ... |\n",
       "| Contig17705 | Note=Similar to Vps45: Vacuolar protein sorting-associated protein 45 (Rattus norvegicus OX%3D10116);                                                                        |\n",
       "| Contig50657 | Note=Similar to KDM3B: Lysine-specific demethylase 3B (Homo sapiens OX%3D9606);                                                                                              |\n",
       "| Contig42692 | Note=Protein of unknown function;                                                                                                                                            |\n",
       "| Contig37183 | Note=Protein of unknown function;                                                                                                                                            |\n",
       "| Contig46    | Note=Protein of unknown function;                                                                                                                                            |\n",
       "| Contig24408 | Note=Similar to KMT5B: Histone-lysine N-methyltransferase KMT5B (Bos taurus OX%3D9913);                                                                                      |\n",
       "| Contig52798 | Note=Protein of unknown function;                                                                                                                                            |\n",
       "| Contig32498 | Note=Similar to PCDH9: Protocadherin-9 (Homo sapiens OX%3D9606);                                                                                                             |\n",
       "| Contig15372 | Note=Similar to ttc25: Tetratricopeptide repeat protein 25 (Danio rerio OX%3D7955);                                                                                          |\n",
       "| Contig29713 | Note=Similar to POLE2: DNA polymerase epsilon subunit 2 (Homo sapiens OX%3D9606);                                                                                            |\n",
       "| Contig20509 | Note=Protein of unknown function;                                                                                                                                            |\n",
       "| Contig44867 | Note=Protein of unknown function;                                                                                                                                            |\n",
       "| Contig21828 | Note=Similar to FAM49B: Protein FAM49B (Homo sapiens OX%3D9606);                                                                                                             |\n",
       "| Contig41116 | Note=Similar to Cad87A: Cadherin-87A (Drosophila melanogaster OX%3D7227);                                                                                                    |\n",
       "| Contig32566 | Note=Similar to HECTD1: E3 ubiquitin-protein ligase HECTD1 (Homo sapiens OX%3D9606);                                                                                         |\n",
       "| Contig37588 | Note=Similar to AK6: Adenylate kinase isoenzyme 6 (Bos taurus OX%3D9913);                                                                                                    |\n",
       "| Contig49399 | Note=Similar to GDPD5: Glycerophosphodiester phosphodiesterase domain-containing protein 5 (Homo sapiens OX%3D9606);                                                         |\n",
       "| Contig27944 | Note=Similar to rsgI6: Anti-sigma-I factor RsgI6 (Clostridium thermocellum (strain ATCC 27405 / DSM 1237 / NBRC 103400 / NCIMB 10682 / NRRL B-4536 / VPI 7372) OX%3D203119); |\n",
       "| Contig32566 | Note=Protein of unknown function;                                                                                                                                            |\n",
       "| Contig2037  | Note=Similar to Ctnna2: Catenin alpha-2 (Danio rerio OX%3D7955);                                                                                                             |\n",
       "| Contig2254  | Note=Similar to VVA0006: Riboflavin biosynthesis protein VVA0006 (Vibrio vulnificus (strain YJ016) OX%3D196600);                                                             |\n",
       "| Contig22514 | Note=Similar to IPK1: Inositol-pentakisphosphate 2-kinase IPK1 (Oryza sativa subsp. japonica OX%3D39947);                                                                    |\n",
       "| Contig28951 | Note=Similar to Homer1: Homer protein homolog 1 (Rattus norvegicus OX%3D10116);                                                                                              |\n",
       "| Contig16187 | Note=Similar to ZNF425: Zinc finger protein 425 (Fragment) (Macaca fascicularis OX%3D9541);                                                                                  |\n",
       "| Contig45621 | Note=Similar to CSH1: Mannosyl phosphorylinositol ceramide synthase CSH1 (Saccharomyces cerevisiae (strain ATCC 204508 / S288c) OX%3D559292);                                |\n",
       "| Contig51282 | Note=Similar to ROS1: Proto-oncogene tyrosine-protein kinase ROS (Gallus gallus OX%3D9031);                                                                                  |\n",
       "| Contig24693 | Note=Protein of unknown function;                                                                                                                                            |\n",
       "| Contig29033 | Note=Similar to G2/mitotic-specific cyclin-B (Hydra viridissima OX%3D6082);                                                                                                  |\n",
       "| Contig21274 | Note=Similar to CHST6: Carbohydrate sulfotransferase 6 (Homo sapiens OX%3D9606);                                                                                             |\n",
       "| Contig21274 | Note=Similar to Ncapd2: Condensin complex subunit 1 (Mus musculus OX%3D10090);                                                                                               |\n",
       "\n"
      ],
      "text/plain": [
       "    contig.cis \n",
       "1   Contig51028\n",
       "2   Contig29931\n",
       "3   Contig21828\n",
       "4   Contig25896\n",
       "5   Contig22083\n",
       "6   Contig38940\n",
       "7   Contig26603\n",
       "8   Contig82836\n",
       "9   Contig75   \n",
       "10  Contig18103\n",
       "11  Contig18086\n",
       "12  Contig34055\n",
       "13  Contig34055\n",
       "14  Contig34055\n",
       "15  Contig47777\n",
       "16  Contig30249\n",
       "17  Contig34958\n",
       "18  Contig822  \n",
       "19  Contig50056\n",
       "20  Contig31124\n",
       "21  Contig18485\n",
       "22  Contig27462\n",
       "23  Contig27462\n",
       "24  Contig28540\n",
       "25  Contig77382\n",
       "26  Contig18896\n",
       "27  Contig217  \n",
       "28  Contig217  \n",
       "29  Contig38347\n",
       "30  Contig38347\n",
       "... ...        \n",
       "80  Contig17705\n",
       "81  Contig50657\n",
       "82  Contig42692\n",
       "83  Contig37183\n",
       "84  Contig46   \n",
       "85  Contig24408\n",
       "86  Contig52798\n",
       "87  Contig32498\n",
       "88  Contig15372\n",
       "89  Contig29713\n",
       "90  Contig20509\n",
       "91  Contig44867\n",
       "92  Contig21828\n",
       "93  Contig41116\n",
       "94  Contig32566\n",
       "95  Contig37588\n",
       "96  Contig49399\n",
       "97  Contig27944\n",
       "98  Contig32566\n",
       "99  Contig2037 \n",
       "100 Contig2254 \n",
       "101 Contig22514\n",
       "102 Contig28951\n",
       "103 Contig16187\n",
       "104 Contig45621\n",
       "105 Contig51282\n",
       "106 Contig24693\n",
       "107 Contig29033\n",
       "108 Contig21274\n",
       "109 Contig21274\n",
       "    Note                                                                                                                                                                        \n",
       "1   Note=Similar to TMEM67: Meckelin (Homo sapiens OX%3D9606);                                                                                                                  \n",
       "2   Note=Similar to HCK: Tyrosine-protein kinase HCK (Macaca fascicularis OX%3D9541);                                                                                           \n",
       "3   Note=Similar to NCOA6: Nuclear receptor coactivator 6 (Homo sapiens OX%3D9606);                                                                                             \n",
       "4   Note=Similar to EFCAB8: EF-hand calcium-binding domain-containing protein 8 (Homo sapiens OX%3D9606);                                                                       \n",
       "5   Note=Protein of unknown function;                                                                                                                                           \n",
       "6   Note=Similar to coq8a: Atypical kinase COQ8A%2C mitochondrial (Danio rerio OX%3D7955);                                                                                      \n",
       "7   Note=Similar to POP1: Ribonucleases P/MRP protein subunit POP1 (Homo sapiens OX%3D9606);                                                                                    \n",
       "8   Note=Protein of unknown function;                                                                                                                                           \n",
       "9   Note=Similar to TOE1: Target of EGR1 protein 1 (Homo sapiens OX%3D9606);                                                                                                    \n",
       "10  Note=Similar to DENND1B: DENN domain-containing protein 1B (Homo sapiens OX%3D9606);                                                                                        \n",
       "11  Note=Similar to PRICKLE2: Prickle-like protein 2 (Homo sapiens OX%3D9606);                                                                                                  \n",
       "12  Note=Similar to smarcb1a: SWI/SNF-related matrix-associated actin-dependent regulator of chromatin subfamily B member 1-A (Danio rerio OX%3D7955);                          \n",
       "13  Note=Similar to smarcb1: SWI/SNF-related matrix-associated actin-dependent regulator of chromatin subfamily B member 1 (Xenopus tropicalis OX%3D8364);                      \n",
       "14  Note=Similar to SMARCB1: SWI/SNF-related matrix-associated actin-dependent regulator of chromatin subfamily B member 1 (Gallus gallus OX%3D9031);                           \n",
       "15  Note=Similar to rnps1: RNA-binding protein with serine-rich domain 1 (Xenopus tropicalis OX%3D8364);                                                                        \n",
       "16  Note=Protein of unknown function;                                                                                                                                           \n",
       "17  Note=Similar to Slc35a2: UDP-galactose translocator (Mus musculus OX%3D10090);                                                                                              \n",
       "18  Note=Similar to DUSP16: Dual specificity protein phosphatase 16 (Homo sapiens OX%3D9606);                                                                                   \n",
       "19  Note=Similar to FTCD: Formimidoyltransferase-cyclodeaminase (Sus scrofa OX%3D9823);                                                                                         \n",
       "20  Note=Similar to Chdh: Choline dehydrogenase%2C mitochondrial (Mus musculus OX%3D10090);                                                                                     \n",
       "21  Note=Similar to RREB1: Ras-responsive element-binding protein 1 (Gallus gallus OX%3D9031);                                                                                  \n",
       "22  Note=Protein of unknown function;                                                                                                                                           \n",
       "23  Note=Similar to jmjd6-a: Bifunctional arginine demethylase and lysyl-hydroxylase JMJD6-A (Xenopus laevis OX%3D8355);                                                        \n",
       "24  Note=Similar to ACOX3: Peroxisomal acyl-coenzyme A oxidase 3 (Homo sapiens OX%3D9606);                                                                                      \n",
       "25  Note=Similar to Socs5: Suppressor of cytokine signaling 5 (Mus musculus OX%3D10090);                                                                                        \n",
       "26  Note=Similar to Sodium channel protein 1 brain (Heterololigo bleekeri OX%3D1423826);                                                                                        \n",
       "27  Note=Similar to slc36a4: Proton-coupled amino acid transporter 4 (Xenopus laevis OX%3D8355);                                                                                \n",
       "28  Note=Protein of unknown function;                                                                                                                                           \n",
       "29  Note=Similar to Tmem246: Transmembrane protein 246 (Rattus norvegicus OX%3D10116);                                                                                          \n",
       "30  Note=Similar to ABCC10: Multidrug resistance-associated protein 7 (Homo sapiens OX%3D9606);                                                                                 \n",
       "... ...                                                                                                                                                                         \n",
       "80  Note=Similar to Vps45: Vacuolar protein sorting-associated protein 45 (Rattus norvegicus OX%3D10116);                                                                       \n",
       "81  Note=Similar to KDM3B: Lysine-specific demethylase 3B (Homo sapiens OX%3D9606);                                                                                             \n",
       "82  Note=Protein of unknown function;                                                                                                                                           \n",
       "83  Note=Protein of unknown function;                                                                                                                                           \n",
       "84  Note=Protein of unknown function;                                                                                                                                           \n",
       "85  Note=Similar to KMT5B: Histone-lysine N-methyltransferase KMT5B (Bos taurus OX%3D9913);                                                                                     \n",
       "86  Note=Protein of unknown function;                                                                                                                                           \n",
       "87  Note=Similar to PCDH9: Protocadherin-9 (Homo sapiens OX%3D9606);                                                                                                            \n",
       "88  Note=Similar to ttc25: Tetratricopeptide repeat protein 25 (Danio rerio OX%3D7955);                                                                                         \n",
       "89  Note=Similar to POLE2: DNA polymerase epsilon subunit 2 (Homo sapiens OX%3D9606);                                                                                           \n",
       "90  Note=Protein of unknown function;                                                                                                                                           \n",
       "91  Note=Protein of unknown function;                                                                                                                                           \n",
       "92  Note=Similar to FAM49B: Protein FAM49B (Homo sapiens OX%3D9606);                                                                                                            \n",
       "93  Note=Similar to Cad87A: Cadherin-87A (Drosophila melanogaster OX%3D7227);                                                                                                   \n",
       "94  Note=Similar to HECTD1: E3 ubiquitin-protein ligase HECTD1 (Homo sapiens OX%3D9606);                                                                                        \n",
       "95  Note=Similar to AK6: Adenylate kinase isoenzyme 6 (Bos taurus OX%3D9913);                                                                                                   \n",
       "96  Note=Similar to GDPD5: Glycerophosphodiester phosphodiesterase domain-containing protein 5 (Homo sapiens OX%3D9606);                                                        \n",
       "97  Note=Similar to rsgI6: Anti-sigma-I factor RsgI6 (Clostridium thermocellum (strain ATCC 27405 / DSM 1237 / NBRC 103400 / NCIMB 10682 / NRRL B-4536 / VPI 7372) OX%3D203119);\n",
       "98  Note=Protein of unknown function;                                                                                                                                           \n",
       "99  Note=Similar to Ctnna2: Catenin alpha-2 (Danio rerio OX%3D7955);                                                                                                            \n",
       "100 Note=Similar to VVA0006: Riboflavin biosynthesis protein VVA0006 (Vibrio vulnificus (strain YJ016) OX%3D196600);                                                            \n",
       "101 Note=Similar to IPK1: Inositol-pentakisphosphate 2-kinase IPK1 (Oryza sativa subsp. japonica OX%3D39947);                                                                   \n",
       "102 Note=Similar to Homer1: Homer protein homolog 1 (Rattus norvegicus OX%3D10116);                                                                                             \n",
       "103 Note=Similar to ZNF425: Zinc finger protein 425 (Fragment) (Macaca fascicularis OX%3D9541);                                                                                 \n",
       "104 Note=Similar to CSH1: Mannosyl phosphorylinositol ceramide synthase CSH1 (Saccharomyces cerevisiae (strain ATCC 204508 / S288c) OX%3D559292);                               \n",
       "105 Note=Similar to ROS1: Proto-oncogene tyrosine-protein kinase ROS (Gallus gallus OX%3D9031);                                                                                 \n",
       "106 Note=Protein of unknown function;                                                                                                                                           \n",
       "107 Note=Similar to G2/mitotic-specific cyclin-B (Hydra viridissima OX%3D6082);                                                                                                 \n",
       "108 Note=Similar to CHST6: Carbohydrate sulfotransferase 6 (Homo sapiens OX%3D9606);                                                                                            \n",
       "109 Note=Similar to Ncapd2: Condensin complex subunit 1 (Mus musculus OX%3D10090);                                                                                              "
      ]
     },
     "metadata": {},
     "output_type": "display_data"
    }
   ],
   "source": [
    "unique(cis.features[[\"cis.gene2kb\"]][,c(\"contig.cis\",\"Note\")])"
   ]
  },
  {
   "cell_type": "markdown",
   "metadata": {
    "kernel": "R"
   },
   "source": [
    "## Cis-meth DAVID results  \n",
    "New 5x: 82 david ids  \n",
    "6 BP (DNA repair, transcription, DNA templated (14 genes), ATP-dependent chromatin remodeling, cell differentiation)  \n",
    "7 CC (nucleus, Golgi aparatus, BAF-type complex, Z disk) \n",
    "interpro: SNF5, SWI/SNF chromatin-remodeling complex, component hSNF5; spectrin repeat  \n",
    "Old: 42 david ids  \n",
    "interpro:zing finger region:C2H2 types , MF: protein binding, MF metal ion binding, BP: actin filament capping, BP : ox-reduct"
   ]
  },
  {
   "cell_type": "markdown",
   "metadata": {},
   "source": [
    "### cis-mQTL cpg-snp (not done 5x yet)"
   ]
  },
  {
   "cell_type": "code",
   "execution_count": 5,
   "metadata": {},
   "outputs": [
    {
     "name": "stdout",
     "output_type": "stream",
     "text": [
      "\n",
      "6 ../analyses/2bRAD/mQTL/cis-meth-cpgsnp.bed\n"
     ]
    }
   ],
   "source": [
    "# how many cis-meth in Cpg-snp\n",
    "js(\"bedtools window -w 350 -u -a ../analyses/2bRAD/mQTL/meth_mbd_maf05_sites_cis.bed -b ../analyses/2bRAD/MethGen/cpgsnps.bed  >  ../analyses/2bRAD/mQTL/cis-meth-cpgsnp.bed\")\n",
    "js(\"wc -l ../analyses/2bRAD/mQTL/cis-meth-cpgsnp.bed\")"
   ]
  },
  {
   "cell_type": "code",
   "execution_count": 49,
   "metadata": {},
   "outputs": [
    {
     "name": "stdout",
     "output_type": "stream",
     "text": [
      "\n",
      "22 ../analyses/2bRAD/mQTL/background-cismeth-cpgsnp.bed\n"
     ]
    }
   ],
   "source": [
    "# how many background cis meth in Cpg-snp\n",
    "js(\"bedtools window -w 350 -u -a ../analyses/2bRAD/mQTL/snpBmethA_50kb.txt -b ../analyses/2bRAD/MethGen/cpgsnps.bed  >  ../analyses/2bRAD/mQTL/background-cismeth-cpgsnp.bed\")\n",
    "js(\"wc -l ../analyses/2bRAD/mQTL/background-cismeth-cpgsnp.bed\")"
   ]
  },
  {
   "cell_type": "code",
   "execution_count": 4,
   "metadata": {},
   "outputs": [
    {
     "name": "stdout",
     "output_type": "stream",
     "text": [
      "\n",
      "15 ../analyses/2bRAD/mQTL/cis-meth-noncpgsnp.bed\n"
     ]
    }
   ],
   "source": [
    "# how many cis-meth near non-cpg snp\n",
    "js(\"bedtools window -w 350 -u -a ../analyses/2bRAD/mQTL/meth_mbd_maf05_sites_cis.bed -b  ../analyses/2bRAD/Inputs/non-cpgsnps.bed  >  ../analyses/2bRAD/mQTL/cis-meth-noncpgsnp.bed\")\n",
    "js(\"wc -l ../analyses/2bRAD/mQTL/cis-meth-noncpgsnp.bed\")"
   ]
  },
  {
   "cell_type": "code",
   "execution_count": 6,
   "metadata": {},
   "outputs": [
    {
     "name": "stdout",
     "output_type": "stream",
     "text": [
      "\n",
      "107 ../analyses/2bRAD/mQTL/background-cismeth-noncpgsnp.bed\n"
     ]
    }
   ],
   "source": [
    "# how many background cis meth near nonCpg-snp\n",
    "js(\"bedtools window -w 350 -u -a ../analyses/2bRAD/mQTL/snpBmethA_50kb.txt -b ../analyses/2bRAD/Inputs/non-cpgsnps.bed  >  ../analyses/2bRAD/mQTL/background-cismeth-noncpgsnp.bed\")\n",
    "js(\"wc -l ../analyses/2bRAD/mQTL/background-cismeth-noncpgsnp.bed\")"
   ]
  },
  {
   "cell_type": "markdown",
   "metadata": {},
   "source": [
    "### 6 cis-meth sites have cpg-snps (27% out of cismeth background near cpgsnp), not enriched  "
   ]
  },
  {
   "cell_type": "code",
   "execution_count": 7,
   "metadata": {},
   "outputs": [
    {
     "data": {
      "text/plain": [
       "\n",
       "\tFisher's Exact Test for Count Data\n",
       "\n",
       "data:  Matriz\n",
       "p-value = 0.1997\n",
       "alternative hypothesis: true odds ratio is not equal to 1\n",
       "95 percent confidence interval:\n",
       " 0.6301577 7.4760840\n",
       "sample estimates:\n",
       "odds ratio \n",
       "  2.282473 \n"
      ]
     },
     "metadata": {},
     "output_type": "display_data"
    }
   ],
   "source": [
    "Input=(\"\n",
    "mqtl    cpgsnp noncpgsnp\n",
    "cismeth   6      15\n",
    "noncismeth 16    92\n",
    "\")\n",
    "Matriz = as.matrix(read.table(textConnection(Input),\n",
    "                   header=TRUE, \n",
    "                   row.names=1))\n",
    "fisher.test(Matriz,alternative = \"two.sided\")"
   ]
  },
  {
   "cell_type": "code",
   "execution_count": 8,
   "metadata": {},
   "outputs": [
    {
     "data": {
      "text/html": [
       "<table class=\"dataframe\">\n",
       "<caption>A matrix: 2 x 2 of type int</caption>\n",
       "<thead>\n",
       "\t<tr><th></th><th scope=col>cpgsnp</th><th scope=col>noncpgsnp</th></tr>\n",
       "</thead>\n",
       "<tbody>\n",
       "\t<tr><th scope=row>cismeth</th><td> 6</td><td>15</td></tr>\n",
       "\t<tr><th scope=row>noncismeth</th><td>16</td><td>92</td></tr>\n",
       "</tbody>\n",
       "</table>\n"
      ],
      "text/latex": [
       "A matrix: 2 x 2 of type int\n",
       "\\begin{tabular}{r|ll}\n",
       "  & cpgsnp & noncpgsnp\\\\\n",
       "\\hline\n",
       "\tcismeth &  6 & 15\\\\\n",
       "\tnoncismeth & 16 & 92\\\\\n",
       "\\end{tabular}\n"
      ],
      "text/markdown": [
       "\n",
       "A matrix: 2 x 2 of type int\n",
       "\n",
       "| <!--/--> | cpgsnp | noncpgsnp |\n",
       "|---|---|---|\n",
       "| cismeth |  6 | 15 |\n",
       "| noncismeth | 16 | 92 |\n",
       "\n"
      ],
      "text/plain": [
       "           cpgsnp noncpgsnp\n",
       "cismeth     6     15       \n",
       "noncismeth 16     92       "
      ]
     },
     "metadata": {},
     "output_type": "display_data"
    }
   ],
   "source": [
    "Matriz"
   ]
  },
  {
   "cell_type": "code",
   "execution_count": 62,
   "metadata": {},
   "outputs": [
    {
     "name": "stderr",
     "output_type": "stream",
     "text": [
      "Warning message in chisq.test(Matriz):\n",
      "“Chi-squared approximation may be incorrect”\n"
     ]
    },
    {
     "data": {
      "text/html": [
       "<table class=\"dataframe\">\n",
       "<caption>A matrix: 2 × 2 of type dbl</caption>\n",
       "<thead>\n",
       "\t<tr><th></th><th scope=col>cpgsnp</th><th scope=col>noncpgsnp</th></tr>\n",
       "</thead>\n",
       "<tbody>\n",
       "\t<tr><th scope=row>cismeth</th><td> 1.764082</td><td> 119.2359</td></tr>\n",
       "\t<tr><th scope=row>noncismeth</th><td>20.235918</td><td>1367.7641</td></tr>\n",
       "</tbody>\n",
       "</table>\n"
      ],
      "text/latex": [
       "A matrix: 2 × 2 of type dbl\n",
       "\\begin{tabular}{r|ll}\n",
       "  & cpgsnp & noncpgsnp\\\\\n",
       "\\hline\n",
       "\tcismeth &  1.764082 &  119.2359\\\\\n",
       "\tnoncismeth & 20.235918 & 1367.7641\\\\\n",
       "\\end{tabular}\n"
      ],
      "text/markdown": [
       "\n",
       "A matrix: 2 × 2 of type dbl\n",
       "\n",
       "| <!--/--> | cpgsnp | noncpgsnp |\n",
       "|---|---|---|\n",
       "| cismeth |  1.764082 |  119.2359 |\n",
       "| noncismeth | 20.235918 | 1367.7641 |\n",
       "\n"
      ],
      "text/plain": [
       "           cpgsnp    noncpgsnp\n",
       "cismeth     1.764082  119.2359\n",
       "noncismeth 20.235918 1367.7641"
      ]
     },
     "metadata": {},
     "output_type": "display_data"
    }
   ],
   "source": [
    "chisq.test(Matriz)$expected"
   ]
  },
  {
   "cell_type": "markdown",
   "metadata": {},
   "source": [
    "## Cis SNPs"
   ]
  },
  {
   "cell_type": "markdown",
   "metadata": {
    "kernel": "Bash"
   },
   "source": [
    "### Identify cis snps in each feature with Bedtools (done)"
   ]
  },
  {
   "cell_type": "code",
   "execution_count": 17,
   "metadata": {
    "kernel": "R"
   },
   "outputs": [],
   "source": [
    "# get sig cis snp sites\n",
    "sig_snp_cis <- as.character(unique(meS$cis$eqtls$snps))"
   ]
  },
  {
   "cell_type": "code",
   "execution_count": 18,
   "metadata": {
    "kernel": "R"
   },
   "outputs": [
    {
     "data": {
      "text/html": [
       "176"
      ],
      "text/latex": [
       "176"
      ],
      "text/markdown": [
       "176"
      ],
      "text/plain": [
       "[1] 176"
      ]
     },
     "metadata": {},
     "output_type": "display_data"
    }
   ],
   "source": [
    "length(sig_snp_cis)"
   ]
  },
  {
   "cell_type": "code",
   "execution_count": 19,
   "metadata": {
    "kernel": "R"
   },
   "outputs": [],
   "source": [
    "chr <- sapply(strsplit(sig_snp_cis,\"_\"), `[`, 1)\n",
    "start <- sapply(strsplit(sig_snp_cis,\"_\"), `[`, 2)\n",
    "end <- start\n",
    "bed <- cbind(chr,start,end)\n",
    "write.table(bed,\"../analyses/2bRAD/mQTL_5x/snp_mbd_maf05_sites_cisP01.bed\",row.names = F, col.names = F,quote = F, sep = \"\\t\")"
   ]
  },
  {
   "cell_type": "code",
   "execution_count": 20,
   "metadata": {
    "kernel": "Bash"
   },
   "outputs": [
    {
     "name": "stdout",
     "output_type": "stream",
     "text": [
      "\n",
      "\n",
      "\n",
      "\n",
      "\n",
      "\n",
      "\n",
      "\n",
      "\n"
     ]
    }
   ],
   "source": [
    "js(\"bedtools intersect -wb -a ../analyses/2bRAD/mQTL_5x/snp_mbd_maf05_sites_cisP01.bed -b ../genome-features/Olurida_v081-20190709.gene.gff >  ../analyses/2bRAD/mQTL_5x/cis-snp-gene.bed\")\n",
    "js(\"bedtools intersect -wb -a ../analyses/2bRAD/mQTL_5x/snp_mbd_maf05_sites_cisP01.bed -b ../genome-features/Olurida_v081-20190709.gene.2kbslop.gff >  ../analyses/2bRAD/mQTL_5x/cis-snp-gene2kb.bed\")\n",
    "js(\"bedtools intersect -wb -a ../analyses/2bRAD/mQTL_5x/snp_mbd_maf05_sites_cisP01.bed -b ../genome-features/Olurida_v081-20190709.2kbflank-up.gff >  ../analyses/2bRAD/mQTL_5x/cis-snp-2kbflank-up.bed\")\n",
    "js(\"bedtools intersect -wb -a ../analyses/2bRAD/mQTL_5x/snp_mbd_maf05_sites_cisP01.bed -b ../genome-features/Olurida_v081-20190709.2kbflank-down.gff >  ../analyses/2bRAD/mQTL_5x/cis-snp-2kbflank-down.bed\")\n",
    "js(\"bedtools intersect -wb -a ../analyses/2bRAD/mQTL_5x/snp_mbd_maf05_sites_cisP01.bed -b ../genome-features/Olurida_v081-20190709.exon.gff >  ../analyses/2bRAD/mQTL_5x/cis-snp-exon.bed\")\n",
    "js(\"bedtools intersect -wb -a ../analyses/2bRAD/mQTL_5x/snp_mbd_maf05_sites_cisP01.bed -b ../genome-features/Olurida_v081-20190709.CDS.gff >  ../analyses/2bRAD/mQTL_5x/cis-snp-CDS.bed\")\n",
    "js(\"bedtools intersect -wb -a ../analyses/2bRAD/mQTL_5x/snp_mbd_maf05_sites_cisP01.bed -b ../genome-features/Olurida_v081-20190709.mRNA.gff >  ../analyses/2bRAD/mQTL_5x/cis-snp-mRNA.bed\")\n",
    "js(\"bedtools intersect -wb -a ../analyses/2bRAD/mQTL_5x/snp_mbd_maf05_sites_cisP01.bed -b ../genome-features/Olurida_v081_TE-Cg.gff >  ../analyses/2bRAD/mQTL_5x/cis-snp-TE.bed\")\n",
    "js(\"bedtools intersect -v -a ../analyses/2bRAD/mQTL_5x/snp_mbd_maf05_sites_cisP01.bed -b ../genome-features/Olurida_v081-20190709.gene.2kbslop.gff ../genome-features/Olurida_v081-20190709.exon.gff ../genome-features/Olurida_v081-20190709.CDS.gff ../genome-features/Olurida_v081-20190709.mRNA.gff ../genome-features/Olurida_v081_TE-Cg.gff >  ../analyses/2bRAD/mQTL_5x/cis-snp-unknown.bed\")"
   ]
  },
  {
   "cell_type": "code",
   "execution_count": 21,
   "metadata": {
    "kernel": "R",
    "scrolled": true
   },
   "outputs": [
    {
     "name": "stderr",
     "output_type": "stream",
     "text": [
      "\u001b[1m\u001b[1mRows: \u001b[1m\u001b[22m\u001b[34m\u001b[34m19\u001b[34m\u001b[39m \u001b[1m\u001b[1mColumns: \u001b[1m\u001b[22m\u001b[34m\u001b[34m12\u001b[34m\u001b[39m\n",
      "\n",
      "\u001b[36m──\u001b[39m \u001b[1m\u001b[1mColumn specification\u001b[1m\u001b[22m \u001b[36m────────────────────────────────────────────────────────\u001b[39m\n",
      "\u001b[1mDelimiter:\u001b[22m \"\\t\"\n",
      "\u001b[31mchr\u001b[39m (7): X1, X4, X5, X6, X9, X10, X12\n",
      "\u001b[32mdbl\u001b[39m (5): X2, X3, X7, X8, X11\n",
      "\n",
      "\n",
      "\u001b[36mℹ\u001b[39m Use \u001b[30m\u001b[47m\u001b[30m\u001b[47m`spec()`\u001b[47m\u001b[30m\u001b[49m\u001b[39m to retrieve the full column specification for this data.\n",
      "\u001b[36mℹ\u001b[39m Specify the column types or set \u001b[30m\u001b[47m\u001b[30m\u001b[47m`show_col_types = FALSE`\u001b[47m\u001b[30m\u001b[49m\u001b[39m to quiet this message.\n",
      "\n",
      "\u001b[1m\u001b[1mRows: \u001b[1m\u001b[22m\u001b[34m\u001b[34m22\u001b[34m\u001b[39m \u001b[1m\u001b[1mColumns: \u001b[1m\u001b[22m\u001b[34m\u001b[34m12\u001b[34m\u001b[39m\n",
      "\n",
      "\u001b[36m──\u001b[39m \u001b[1m\u001b[1mColumn specification\u001b[1m\u001b[22m \u001b[36m────────────────────────────────────────────────────────\u001b[39m\n",
      "\u001b[1mDelimiter:\u001b[22m \"\\t\"\n",
      "\u001b[31mchr\u001b[39m (8): X1, X4, X5, X6, X9, X10, X11, X12\n",
      "\u001b[32mdbl\u001b[39m (4): X2, X3, X7, X8\n",
      "\n",
      "\n",
      "\u001b[36mℹ\u001b[39m Use \u001b[30m\u001b[47m\u001b[30m\u001b[47m`spec()`\u001b[47m\u001b[30m\u001b[49m\u001b[39m to retrieve the full column specification for this data.\n",
      "\u001b[36mℹ\u001b[39m Specify the column types or set \u001b[30m\u001b[47m\u001b[30m\u001b[47m`show_col_types = FALSE`\u001b[47m\u001b[30m\u001b[49m\u001b[39m to quiet this message.\n",
      "\n",
      "\u001b[1m\u001b[1mRows: \u001b[1m\u001b[22m\u001b[34m\u001b[34m95\u001b[34m\u001b[39m \u001b[1m\u001b[1mColumns: \u001b[1m\u001b[22m\u001b[34m\u001b[34m12\u001b[34m\u001b[39m\n",
      "\n",
      "\u001b[36m──\u001b[39m \u001b[1m\u001b[1mColumn specification\u001b[1m\u001b[22m \u001b[36m────────────────────────────────────────────────────────\u001b[39m\n",
      "\u001b[1mDelimiter:\u001b[22m \"\\t\"\n",
      "\u001b[31mchr\u001b[39m (8): X1, X4, X5, X6, X9, X10, X11, X12\n",
      "\u001b[32mdbl\u001b[39m (4): X2, X3, X7, X8\n",
      "\n",
      "\n",
      "\u001b[36mℹ\u001b[39m Use \u001b[30m\u001b[47m\u001b[30m\u001b[47m`spec()`\u001b[47m\u001b[30m\u001b[49m\u001b[39m to retrieve the full column specification for this data.\n",
      "\u001b[36mℹ\u001b[39m Specify the column types or set \u001b[30m\u001b[47m\u001b[30m\u001b[47m`show_col_types = FALSE`\u001b[47m\u001b[30m\u001b[49m\u001b[39m to quiet this message.\n",
      "\n",
      "\u001b[1m\u001b[1mRows: \u001b[1m\u001b[22m\u001b[34m\u001b[34m126\u001b[34m\u001b[39m \u001b[1m\u001b[1mColumns: \u001b[1m\u001b[22m\u001b[34m\u001b[34m12\u001b[34m\u001b[39m\n",
      "\n",
      "\u001b[36m──\u001b[39m \u001b[1m\u001b[1mColumn specification\u001b[1m\u001b[22m \u001b[36m────────────────────────────────────────────────────────\u001b[39m\n",
      "\u001b[1mDelimiter:\u001b[22m \"\\t\"\n",
      "\u001b[31mchr\u001b[39m (8): X1, X4, X5, X6, X9, X10, X11, X12\n",
      "\u001b[32mdbl\u001b[39m (4): X2, X3, X7, X8\n",
      "\n",
      "\n",
      "\u001b[36mℹ\u001b[39m Use \u001b[30m\u001b[47m\u001b[30m\u001b[47m`spec()`\u001b[47m\u001b[30m\u001b[49m\u001b[39m to retrieve the full column specification for this data.\n",
      "\u001b[36mℹ\u001b[39m Specify the column types or set \u001b[30m\u001b[47m\u001b[30m\u001b[47m`show_col_types = FALSE`\u001b[47m\u001b[30m\u001b[49m\u001b[39m to quiet this message.\n",
      "\n",
      "\u001b[1m\u001b[1mRows: \u001b[1m\u001b[22m\u001b[34m\u001b[34m13\u001b[34m\u001b[39m \u001b[1m\u001b[1mColumns: \u001b[1m\u001b[22m\u001b[34m\u001b[34m12\u001b[34m\u001b[39m\n",
      "\n",
      "\u001b[36m──\u001b[39m \u001b[1m\u001b[1mColumn specification\u001b[1m\u001b[22m \u001b[36m────────────────────────────────────────────────────────\u001b[39m\n",
      "\u001b[1mDelimiter:\u001b[22m \"\\t\"\n",
      "\u001b[31mchr\u001b[39m (8): X1, X4, X5, X6, X9, X10, X11, X12\n",
      "\u001b[32mdbl\u001b[39m (4): X2, X3, X7, X8\n",
      "\n",
      "\n",
      "\u001b[36mℹ\u001b[39m Use \u001b[30m\u001b[47m\u001b[30m\u001b[47m`spec()`\u001b[47m\u001b[30m\u001b[49m\u001b[39m to retrieve the full column specification for this data.\n",
      "\u001b[36mℹ\u001b[39m Specify the column types or set \u001b[30m\u001b[47m\u001b[30m\u001b[47m`show_col_types = FALSE`\u001b[47m\u001b[30m\u001b[49m\u001b[39m to quiet this message.\n",
      "\n",
      "\u001b[1m\u001b[1mRows: \u001b[1m\u001b[22m\u001b[34m\u001b[34m18\u001b[34m\u001b[39m \u001b[1m\u001b[1mColumns: \u001b[1m\u001b[22m\u001b[34m\u001b[34m12\u001b[34m\u001b[39m\n",
      "\n",
      "\u001b[36m──\u001b[39m \u001b[1m\u001b[1mColumn specification\u001b[1m\u001b[22m \u001b[36m────────────────────────────────────────────────────────\u001b[39m\n",
      "\u001b[1mDelimiter:\u001b[22m \"\\t\"\n",
      "\u001b[31mchr\u001b[39m (8): X1, X4, X5, X6, X9, X10, X11, X12\n",
      "\u001b[32mdbl\u001b[39m (4): X2, X3, X7, X8\n",
      "\n",
      "\n",
      "\u001b[36mℹ\u001b[39m Use \u001b[30m\u001b[47m\u001b[30m\u001b[47m`spec()`\u001b[47m\u001b[30m\u001b[49m\u001b[39m to retrieve the full column specification for this data.\n",
      "\u001b[36mℹ\u001b[39m Specify the column types or set \u001b[30m\u001b[47m\u001b[30m\u001b[47m`show_col_types = FALSE`\u001b[47m\u001b[30m\u001b[49m\u001b[39m to quiet this message.\n",
      "\n",
      "\u001b[1m\u001b[1mRows: \u001b[1m\u001b[22m\u001b[34m\u001b[34m95\u001b[34m\u001b[39m \u001b[1m\u001b[1mColumns: \u001b[1m\u001b[22m\u001b[34m\u001b[34m12\u001b[34m\u001b[39m\n",
      "\n",
      "\u001b[36m──\u001b[39m \u001b[1m\u001b[1mColumn specification\u001b[1m\u001b[22m \u001b[36m────────────────────────────────────────────────────────\u001b[39m\n",
      "\u001b[1mDelimiter:\u001b[22m \"\\t\"\n",
      "\u001b[31mchr\u001b[39m (8): X1, X4, X5, X6, X9, X10, X11, X12\n",
      "\u001b[32mdbl\u001b[39m (4): X2, X3, X7, X8\n",
      "\n",
      "\n",
      "\u001b[36mℹ\u001b[39m Use \u001b[30m\u001b[47m\u001b[30m\u001b[47m`spec()`\u001b[47m\u001b[30m\u001b[49m\u001b[39m to retrieve the full column specification for this data.\n",
      "\u001b[36mℹ\u001b[39m Specify the column types or set \u001b[30m\u001b[47m\u001b[30m\u001b[47m`show_col_types = FALSE`\u001b[47m\u001b[30m\u001b[49m\u001b[39m to quiet this message.\n",
      "\n",
      "\u001b[1m\u001b[1mRows: \u001b[1m\u001b[22m\u001b[34m\u001b[34m8\u001b[34m\u001b[39m \u001b[1m\u001b[1mColumns: \u001b[1m\u001b[22m\u001b[34m\u001b[34m12\u001b[34m\u001b[39m\n",
      "\n",
      "\u001b[36m──\u001b[39m \u001b[1m\u001b[1mColumn specification\u001b[1m\u001b[22m \u001b[36m────────────────────────────────────────────────────────\u001b[39m\n",
      "\u001b[1mDelimiter:\u001b[22m \"\\t\"\n",
      "\u001b[31mchr\u001b[39m (7): X1, X4, X5, X6, X10, X11, X12\n",
      "\u001b[32mdbl\u001b[39m (5): X2, X3, X7, X8, X9\n",
      "\n",
      "\n",
      "\u001b[36mℹ\u001b[39m Use \u001b[30m\u001b[47m\u001b[30m\u001b[47m`spec()`\u001b[47m\u001b[30m\u001b[49m\u001b[39m to retrieve the full column specification for this data.\n",
      "\u001b[36mℹ\u001b[39m Specify the column types or set \u001b[30m\u001b[47m\u001b[30m\u001b[47m`show_col_types = FALSE`\u001b[47m\u001b[30m\u001b[49m\u001b[39m to quiet this message.\n",
      "\n",
      "\u001b[1m\u001b[1mRows: \u001b[1m\u001b[22m\u001b[34m\u001b[34m60\u001b[34m\u001b[39m \u001b[1m\u001b[1mColumns: \u001b[1m\u001b[22m\u001b[34m\u001b[34m3\u001b[34m\u001b[39m\n",
      "\n",
      "\u001b[36m──\u001b[39m \u001b[1m\u001b[1mColumn specification\u001b[1m\u001b[22m \u001b[36m────────────────────────────────────────────────────────\u001b[39m\n",
      "\u001b[1mDelimiter:\u001b[22m \"\\t\"\n",
      "\u001b[31mchr\u001b[39m (1): X1\n",
      "\u001b[32mdbl\u001b[39m (2): X2, X3\n",
      "\n",
      "\n",
      "\u001b[36mℹ\u001b[39m Use \u001b[30m\u001b[47m\u001b[30m\u001b[47m`spec()`\u001b[47m\u001b[30m\u001b[49m\u001b[39m to retrieve the full column specification for this data.\n",
      "\u001b[36mℹ\u001b[39m Specify the column types or set \u001b[30m\u001b[47m\u001b[30m\u001b[47m`show_col_types = FALSE`\u001b[47m\u001b[30m\u001b[49m\u001b[39m to quiet this message.\n",
      "\n"
     ]
    }
   ],
   "source": [
    "cisfiles <- c(\"../analyses/2bRAD/mQTL_5x/cis-snp-CDS.bed\", \"../analyses/2bRAD/mQTL_5x/cis-snp-exon.bed\", \"../analyses/2bRAD/mQTL_5x/cis-snp-gene.bed\", \"../analyses/2bRAD/mQTL_5x/cis-snp-gene2kb.bed\", \"../analyses/2bRAD/mQTL_5x/cis-snp-2kbflank-up.bed\", \"../analyses/2bRAD/mQTL_5x/cis-snp-2kbflank-down.bed\", \"../analyses/2bRAD/mQTL_5x/cis-snp-mRNA.bed\", \"../analyses/2bRAD/mQTL_5x/cis-snp-TE.bed\", \"../analyses/2bRAD/mQTL_5x/cis-snp-unknown.bed\")\n",
    "cis.features <- list()\n",
    "for (i in c(1:9)) {\n",
    "  cis.features[[i]] <- read_delim(cisfiles[i], delim = '\\t', col_names = FALSE) %>% as_tibble()}\n",
    "for (i in 1:8) {\n",
    "  cis.features[[i]] <- cis.features[[i]] %>%\n",
    "    setNames(c(\"contig.cis\",\"start.cis\",\"end.cis\",\"contig.feat\", \"source.feat\",\"feature\",\"start.feat\",\"end.feat\",\"unknown1\",\"strand\",\"unknown2\",\"attribute\")) %>%\n",
    "mutate(ID=str_extract(attribute, \"ID=(.*?);\"),\n",
    "       Parent=str_extract(attribute, \"Parent=(.*?);\"),\n",
    "       Name=str_extract(attribute, \"Name=(.*?);\"),\n",
    "       Alias=str_extract(attribute, \"Alias=(.*?);\"),\n",
    "       AED=str_extract(attribute, \"AED=(.*?);\"),\n",
    "       eAED=str_extract(attribute, \"eAED=(.*?);\"),\n",
    "       Note=str_extract(attribute, \"Note=(.*?);\"),\n",
    "       Ontology_term=str_extract(attribute, \"Ontology_term=(.*?);\"),\n",
    "       Dbxref=str_extract(attribute, \"Dbxref=(.*?);\"),\n",
    "       uniprotID=str_extract(attribute, \"SPID=(.*?);\")\n",
    "       ) %>%\n",
    "mutate_at(\"feature\", as.factor)\n",
    "}\n",
    "names(cis.features) <- c(\"cis.CDS\", \"cis.exon\", \"cis.gene\",\"cis.gene2kb\", \"cis.flank-up\", \"cis.flank-down\",\"cis.mRNA\", \"cis.TE\", \"cis.unknown\")\n",
    "cis.features[[\"cis.unknown\"]] <- \n",
    "  cis.features[[\"cis.unknown\"]] %>% \n",
    "  setNames(c(\"contig.cis\", \"start.cis\", \"end.cis\", \"score.cis\"))\n",
    "cis.features[[\"cis.CDS\"]] <- cis.features[[\"cis.CDS\"]] %>% mutate_at(\"unknown2\", as.character)\n",
    "cis.features[[\"cis.TE\"]] <- cis.features[[\"cis.TE\"]] %>% mutate_at(\"unknown1\", as.character)\n",
    "cis.features[[\"cis.gene2kb\"]]$feature <- \"gene2kb\"\n",
    "cis.features[[\"cis.flank-up\"]]$feature <- \"flank-up\"\n",
    "cis.features[[\"cis.flank-down\"]]$feature <- \"flank-down\"\n",
    "cis.features[[\"cis.unknown\"]]$feature <- \"unknown\"\n",
    "cis.features.df <- bind_rows(cis.features) \n",
    "#save cis loci feature df object to file, to use in notebook #12 \n",
    "save(cis.features.df, file=\"../analyses/2bRAD/mQTL_5x/cis-snp.features.df\")"
   ]
  },
  {
   "cell_type": "code",
   "execution_count": 22,
   "metadata": {},
   "outputs": [
    {
     "name": "stdout",
     "output_type": "stream",
     "text": [
      "\n",
      "       CDS       exon flank-down   flank-up       gene    gene2kb       mRNA \n",
      "        19         22         18         13         95        126         95 \n",
      "similarity    unknown \n",
      "         8         60 \n",
      "\n",
      "       CDS       exon flank-down   flank-up       gene    gene2kb       mRNA \n",
      "      0.11       0.12       0.10       0.07       0.54       0.72       0.54 \n",
      "similarity    unknown \n",
      "      0.05       0.34 \n"
     ]
    }
   ],
   "source": [
    "cis.summary <- table(cis.features.df[c(\"feature\")]) #Note: \"similarity\" refers to transposable elements; also NO alternative splice variants are included. \n",
    "print(cis.summary)\n",
    "save(cis.summary, file=\"../analyses/2bRAD/mQTL_5x/cis-snp_feature.summary\")\n",
    "print(round(table(cis.features.df[c(\"feature\")])/176,2))"
   ]
  },
  {
   "cell_type": "code",
   "execution_count": 23,
   "metadata": {
    "kernel": "R",
    "scrolled": true
   },
   "outputs": [],
   "source": [
    "cis.features[[\"cis.gene2kb\"]] %>%\n",
    "  mutate(uniprotID=str_remove(uniprotID, \"SPID=\")) %>% mutate(uniprotID=str_remove(uniprotID, \";\")) %>%\n",
    "  select(uniprotID) %>% na.omit() %>% as.vector() %>% unique() %>% write.table(file=\"../analyses/2bRAD/mQTL_5x/meqtl_cis-snpP01_genes2kb_uniprot.txt\",quote = F,row.names = F,col.names = F)  "
   ]
  },
  {
   "cell_type": "markdown",
   "metadata": {
    "kernel": "R"
   },
   "source": [
    "### Cis snp DAVID results  \n",
    "35 genes,796  in background"
   ]
  },
  {
   "cell_type": "markdown",
   "metadata": {
    "kernel": "R"
   },
   "source": [
    "BP: protein ubiquination \n",
    "BP: DNA replication   \n",
    "MF: ATPase binding  \n",
    "BP DNA repair  \n",
    "17 cpg-snps are sig cis out of 59 cis cpg-snps"
   ]
  },
  {
   "cell_type": "code",
   "execution_count": 57,
   "metadata": {},
   "outputs": [
    {
     "name": "stdout",
     "output_type": "stream",
     "text": [
      "\n",
      "17 ../analyses/2bRAD/mQTL/cis-snp-cpgsnp.bed\n"
     ]
    }
   ],
   "source": [
    "# how many cis-snps in Cpg-snp\n",
    "js(\"bedtools intersect -f 0.9 -u -a ../analyses/2bRAD/mQTL/snp_mbd_maf05_sites_cis.bed -b ../analyses/2bRAD/MethGen/cpgsnps.bed  >  ../analyses/2bRAD/mQTL/cis-snp-cpgsnp.bed\")\n",
    "js(\"wc -l ../analyses/2bRAD/mQTL/cis-snp-cpgsnp.bed\")"
   ]
  },
  {
   "cell_type": "markdown",
   "metadata": {},
   "source": [
    "17"
   ]
  },
  {
   "cell_type": "code",
   "execution_count": 21,
   "metadata": {},
   "outputs": [
    {
     "name": "stdout",
     "output_type": "stream",
     "text": [
      "\n",
      "59 ../analyses/2bRAD/mQTL/background-cissnp-cpgsnp.bed\n"
     ]
    }
   ],
   "source": [
    "# how many background cis snp in Cpg-snp\n",
    "js(\"bedtools intersect -f 0.9 -u -a ../analyses/2bRAD/mQTL/snpAmethB_50kb.txt -b ../analyses/2bRAD/MethGen/cpgsnps.bed  >  ../analyses/2bRAD/mQTL/background-cissnp-cpgsnp.bed\")\n",
    "js(\"wc -l ../analyses/2bRAD/mQTL/background-cissnp-cpgsnp.bed\")"
   ]
  },
  {
   "cell_type": "code",
   "execution_count": 19,
   "metadata": {},
   "outputs": [
    {
     "name": "stdout",
     "output_type": "stream",
     "text": [
      "\n",
      "651 ../analyses/2bRAD/mQTL/allsnps-cpgsnp.bed\n"
     ]
    }
   ],
   "source": [
    "# how many of all snps are in a cpg-snp\n",
    "js(\"bedtools intersect -u -f 0.9 -a ../analyses/2bRAD/Inputs/HCSS_Afilt32m70_01_pp90.BED -b ../analyses/2bRAD/MethGen/cpgsnps.bed  >  ../analyses/2bRAD/mQTL/allsnps-cpgsnp.bed\")\n",
    "js(\"wc -l ../analyses/2bRAD/mQTL/allsnps-cpgsnp.bed\")\n"
   ]
  },
  {
   "cell_type": "code",
   "execution_count": null,
   "metadata": {},
   "outputs": [],
   "source": [
    " "
   ]
  },
  {
   "cell_type": "markdown",
   "metadata": {},
   "source": [
    "### 17 cis-snps are cpg-snps, not enriched  "
   ]
  },
  {
   "cell_type": "code",
   "execution_count": 22,
   "metadata": {},
   "outputs": [
    {
     "data": {
      "text/plain": [
       "\n",
       "\tFisher's Exact Test for Count Data\n",
       "\n",
       "data:  Matriz\n",
       "p-value = 0.8731\n",
       "alternative hypothesis: true odds ratio is not equal to 1\n",
       "95 percent confidence interval:\n",
       " 0.5437395 2.0744597\n",
       "sample estimates:\n",
       "odds ratio \n",
       "  1.080826 \n"
      ]
     },
     "metadata": {},
     "output_type": "display_data"
    }
   ],
   "source": [
    "Input=(\"\n",
    "mqtl    cpgsnp noncpgsnp\n",
    "cissnp   17      79\n",
    "noncissnp 42    211\n",
    "\")\n",
    "Matriz = as.matrix(read.table(textConnection(Input),\n",
    "                   header=TRUE, \n",
    "                   row.names=1))\n",
    "fisher.test(Matriz,alternative = \"two.sided\")"
   ]
  },
  {
   "cell_type": "code",
   "execution_count": 23,
   "metadata": {},
   "outputs": [
    {
     "data": {
      "text/plain": [
       "\n",
       "\tPearson's Chi-squared test with Yates' continuity correction\n",
       "\n",
       "data:  Matriz\n",
       "X-squared = 0.0074998, df = 1, p-value = 0.931\n"
      ]
     },
     "metadata": {},
     "output_type": "display_data"
    }
   ],
   "source": [
    "chisq.test(Matriz)"
   ]
  },
  {
   "cell_type": "code",
   "execution_count": 24,
   "metadata": {},
   "outputs": [
    {
     "name": "stdout",
     "output_type": "stream",
     "text": [
      "\n",
      "369 ../analyses/2bRAD/mQTL/background-snp-cpgsnp.bed\n"
     ]
    }
   ],
   "source": [
    "# how many background snps in Cpg-snp\n",
    "js(\"bedtools intersect -f 0.9 -u -a ../analyses/2bRAD/mQTL/snppos_mqtl_05_m2pop.BED -b ../analyses/2bRAD/MethGen/cpgsnps.bed  >  ../analyses/2bRAD/mQTL/background-snp-cpgsnp.bed\")\n",
    "js(\"wc -l ../analyses/2bRAD/mQTL/background-snp-cpgsnp.bed\")"
   ]
  },
  {
   "cell_type": "markdown",
   "metadata": {
    "kernel": "R"
   },
   "source": [
    "## Trans enrichment"
   ]
  },
  {
   "cell_type": "code",
   "execution_count": 85,
   "metadata": {
    "kernel": "R"
   },
   "outputs": [],
   "source": [
    "# get sig SNPs\n",
    "sig_snp_trans <- as.character(unique(meS$trans$eqtls$snps[which(meS$trans$eqtls$FDR <0.05)]))"
   ]
  },
  {
   "cell_type": "code",
   "execution_count": 86,
   "metadata": {
    "kernel": "R"
   },
   "outputs": [
    {
     "data": {
      "text/html": [
       "501"
      ],
      "text/latex": [
       "501"
      ],
      "text/markdown": [
       "501"
      ],
      "text/plain": [
       "[1] 501"
      ]
     },
     "metadata": {},
     "output_type": "display_data"
    }
   ],
   "source": [
    "length(sig_snp_trans)"
   ]
  },
  {
   "cell_type": "code",
   "execution_count": 87,
   "metadata": {
    "kernel": "R"
   },
   "outputs": [],
   "source": [
    "chr <- sapply(strsplit(sig_snp_trans,\"_\"), `[`, 1)\n",
    "start <- sapply(strsplit(sig_snp_trans,\"_\"), `[`, 2)\n",
    "end <- start\n",
    "bed <- cbind(chr,start,end)\n",
    "write.table(bed,\"../analyses/2bRAD/mQTL/snps_mbd_maf05_sites_transF05.bed\",row.names = F, col.names = F,quote = F, sep = \"\\t\")"
   ]
  },
  {
   "cell_type": "markdown",
   "metadata": {
    "kernel": "Bash"
   },
   "source": [
    "### Identify trans snps in each feature with Bedtools"
   ]
  },
  {
   "cell_type": "code",
   "execution_count": 89,
   "metadata": {
    "kernel": "Bash"
   },
   "outputs": [
    {
     "name": "stdout",
     "output_type": "stream",
     "text": [
      "\n",
      "\n",
      "\n",
      "\n",
      "\n",
      "\n",
      "\n",
      "\n",
      "\n"
     ]
    }
   ],
   "source": [
    "\n",
    "js(\"bedtools intersect -wb -a ../analyses/2bRAD/mQTL/snps_mbd_maf05_sites_transF05.bed -b ../genome-features/Olurida_v081-20190709.gene.gff >  ../analyses/2bRAD/mQTL/transF05-snp-gene.bed\")\n",
    "js(\"bedtools intersect -wb -a ../analyses/2bRAD/mQTL/snps_mbd_maf05_sites_transF05.bed -b ../genome-features/Olurida_v081-20190709.gene.2kbslop.gff >  ../analyses/2bRAD/mQTL/transF05-snp-gene2kb.bed\")\n",
    "js(\"bedtools intersect -wb -a ../analyses/2bRAD/mQTL/snps_mbd_maf05_sites_transF05.bed -b ../genome-features/Olurida_v081-20190709.2kbflank-up.gff >  ../analyses/2bRAD/mQTL/transF05-snp-2kbflank-up.bed\")\n",
    "js(\"bedtools intersect -wb -a ../analyses/2bRAD/mQTL/snps_mbd_maf05_sites_transF05.bed -b ../genome-features/Olurida_v081-20190709.2kbflank-down.gff >  ../analyses/2bRAD/mQTL/transF05-snp-2kbflank-down.bed\")\n",
    "js(\"bedtools intersect -wb -a ../analyses/2bRAD/mQTL/snps_mbd_maf05_sites_transF05.bed -b ../genome-features/Olurida_v081-20190709.exon.gff >  ../analyses/2bRAD/mQTL/transF05-snp-exon.bed\")\n",
    "js(\"bedtools intersect -wb -a ../analyses/2bRAD/mQTL/snps_mbd_maf05_sites_transF05.bed -b ../genome-features/Olurida_v081-20190709.CDS.gff >  ../analyses/2bRAD/mQTL/transF05-snp-CDS.bed\")\n",
    "js(\"bedtools intersect -wb -a ../analyses/2bRAD/mQTL/snps_mbd_maf05_sites_transF05.bed -b ../genome-features/Olurida_v081-20190709.mRNA.gff >  ../analyses/2bRAD/mQTL/transF05-snp-mRNA.bed\")\n",
    "js(\"bedtools intersect -wb -a ../analyses/2bRAD/mQTL/snps_mbd_maf05_sites_transF05.bed -b ../genome-features/Olurida_v081_TE-Cg.gff >  ../analyses/2bRAD/mQTL/transF05-snp-TE.bed\")\n",
    "js(\"bedtools intersect -v -a ../analyses/2bRAD/mQTL/snps_mbd_maf05_sites_transF05.bed -b ../genome-features/Olurida_v081-20190709.gene.2kbslop.gff ../genome-features/Olurida_v081-20190709.exon.gff ../genome-features/Olurida_v081-20190709.CDS.gff ../genome-features/Olurida_v081-20190709.mRNA.gff ../genome-features/Olurida_v081_TE-Cg.gff >  ../analyses/2bRAD/mQTL/transF05-snp-unknown.bed\")"
   ]
  },
  {
   "cell_type": "code",
   "execution_count": 90,
   "metadata": {
    "kernel": "R",
    "scrolled": true
   },
   "outputs": [
    {
     "name": "stderr",
     "output_type": "stream",
     "text": [
      "\n",
      "\u001b[36m──\u001b[39m \u001b[1m\u001b[1mColumn specification\u001b[1m\u001b[22m \u001b[36m────────────────────────────────────────────────────────\u001b[39m\n",
      "cols(\n",
      "  X1 = \u001b[31mcol_character()\u001b[39m,\n",
      "  X2 = \u001b[32mcol_double()\u001b[39m,\n",
      "  X3 = \u001b[32mcol_double()\u001b[39m,\n",
      "  X4 = \u001b[31mcol_character()\u001b[39m,\n",
      "  X5 = \u001b[31mcol_character()\u001b[39m,\n",
      "  X6 = \u001b[31mcol_character()\u001b[39m,\n",
      "  X7 = \u001b[32mcol_double()\u001b[39m,\n",
      "  X8 = \u001b[32mcol_double()\u001b[39m,\n",
      "  X9 = \u001b[31mcol_character()\u001b[39m,\n",
      "  X10 = \u001b[31mcol_character()\u001b[39m,\n",
      "  X11 = \u001b[32mcol_double()\u001b[39m,\n",
      "  X12 = \u001b[31mcol_character()\u001b[39m\n",
      ")\n",
      "\n",
      "\n",
      "\n",
      "\u001b[36m──\u001b[39m \u001b[1m\u001b[1mColumn specification\u001b[1m\u001b[22m \u001b[36m────────────────────────────────────────────────────────\u001b[39m\n",
      "cols(\n",
      "  X1 = \u001b[31mcol_character()\u001b[39m,\n",
      "  X2 = \u001b[32mcol_double()\u001b[39m,\n",
      "  X3 = \u001b[32mcol_double()\u001b[39m,\n",
      "  X4 = \u001b[31mcol_character()\u001b[39m,\n",
      "  X5 = \u001b[31mcol_character()\u001b[39m,\n",
      "  X6 = \u001b[31mcol_character()\u001b[39m,\n",
      "  X7 = \u001b[32mcol_double()\u001b[39m,\n",
      "  X8 = \u001b[32mcol_double()\u001b[39m,\n",
      "  X9 = \u001b[31mcol_character()\u001b[39m,\n",
      "  X10 = \u001b[31mcol_character()\u001b[39m,\n",
      "  X11 = \u001b[31mcol_character()\u001b[39m,\n",
      "  X12 = \u001b[31mcol_character()\u001b[39m\n",
      ")\n",
      "\n",
      "\n",
      "\n",
      "\u001b[36m──\u001b[39m \u001b[1m\u001b[1mColumn specification\u001b[1m\u001b[22m \u001b[36m────────────────────────────────────────────────────────\u001b[39m\n",
      "cols(\n",
      "  X1 = \u001b[31mcol_character()\u001b[39m,\n",
      "  X2 = \u001b[32mcol_double()\u001b[39m,\n",
      "  X3 = \u001b[32mcol_double()\u001b[39m,\n",
      "  X4 = \u001b[31mcol_character()\u001b[39m,\n",
      "  X5 = \u001b[31mcol_character()\u001b[39m,\n",
      "  X6 = \u001b[31mcol_character()\u001b[39m,\n",
      "  X7 = \u001b[32mcol_double()\u001b[39m,\n",
      "  X8 = \u001b[32mcol_double()\u001b[39m,\n",
      "  X9 = \u001b[31mcol_character()\u001b[39m,\n",
      "  X10 = \u001b[31mcol_character()\u001b[39m,\n",
      "  X11 = \u001b[31mcol_character()\u001b[39m,\n",
      "  X12 = \u001b[31mcol_character()\u001b[39m\n",
      ")\n",
      "\n",
      "\n",
      "\n",
      "\u001b[36m──\u001b[39m \u001b[1m\u001b[1mColumn specification\u001b[1m\u001b[22m \u001b[36m────────────────────────────────────────────────────────\u001b[39m\n",
      "cols(\n",
      "  X1 = \u001b[31mcol_character()\u001b[39m,\n",
      "  X2 = \u001b[32mcol_double()\u001b[39m,\n",
      "  X3 = \u001b[32mcol_double()\u001b[39m,\n",
      "  X4 = \u001b[31mcol_character()\u001b[39m,\n",
      "  X5 = \u001b[31mcol_character()\u001b[39m,\n",
      "  X6 = \u001b[31mcol_character()\u001b[39m,\n",
      "  X7 = \u001b[32mcol_double()\u001b[39m,\n",
      "  X8 = \u001b[32mcol_double()\u001b[39m,\n",
      "  X9 = \u001b[31mcol_character()\u001b[39m,\n",
      "  X10 = \u001b[31mcol_character()\u001b[39m,\n",
      "  X11 = \u001b[31mcol_character()\u001b[39m,\n",
      "  X12 = \u001b[31mcol_character()\u001b[39m\n",
      ")\n",
      "\n",
      "\n",
      "\n",
      "\u001b[36m──\u001b[39m \u001b[1m\u001b[1mColumn specification\u001b[1m\u001b[22m \u001b[36m────────────────────────────────────────────────────────\u001b[39m\n",
      "cols(\n",
      "  X1 = \u001b[31mcol_character()\u001b[39m,\n",
      "  X2 = \u001b[32mcol_double()\u001b[39m,\n",
      "  X3 = \u001b[32mcol_double()\u001b[39m,\n",
      "  X4 = \u001b[31mcol_character()\u001b[39m,\n",
      "  X5 = \u001b[31mcol_character()\u001b[39m,\n",
      "  X6 = \u001b[31mcol_character()\u001b[39m,\n",
      "  X7 = \u001b[32mcol_double()\u001b[39m,\n",
      "  X8 = \u001b[32mcol_double()\u001b[39m,\n",
      "  X9 = \u001b[31mcol_character()\u001b[39m,\n",
      "  X10 = \u001b[31mcol_character()\u001b[39m,\n",
      "  X11 = \u001b[31mcol_character()\u001b[39m,\n",
      "  X12 = \u001b[31mcol_character()\u001b[39m\n",
      ")\n",
      "\n",
      "\n",
      "\n",
      "\u001b[36m──\u001b[39m \u001b[1m\u001b[1mColumn specification\u001b[1m\u001b[22m \u001b[36m────────────────────────────────────────────────────────\u001b[39m\n",
      "cols(\n",
      "  X1 = \u001b[31mcol_character()\u001b[39m,\n",
      "  X2 = \u001b[32mcol_double()\u001b[39m,\n",
      "  X3 = \u001b[32mcol_double()\u001b[39m,\n",
      "  X4 = \u001b[31mcol_character()\u001b[39m,\n",
      "  X5 = \u001b[31mcol_character()\u001b[39m,\n",
      "  X6 = \u001b[31mcol_character()\u001b[39m,\n",
      "  X7 = \u001b[32mcol_double()\u001b[39m,\n",
      "  X8 = \u001b[32mcol_double()\u001b[39m,\n",
      "  X9 = \u001b[31mcol_character()\u001b[39m,\n",
      "  X10 = \u001b[31mcol_character()\u001b[39m,\n",
      "  X11 = \u001b[31mcol_character()\u001b[39m,\n",
      "  X12 = \u001b[31mcol_character()\u001b[39m\n",
      ")\n",
      "\n",
      "\n",
      "\n",
      "\u001b[36m──\u001b[39m \u001b[1m\u001b[1mColumn specification\u001b[1m\u001b[22m \u001b[36m────────────────────────────────────────────────────────\u001b[39m\n",
      "cols(\n",
      "  X1 = \u001b[31mcol_character()\u001b[39m,\n",
      "  X2 = \u001b[32mcol_double()\u001b[39m,\n",
      "  X3 = \u001b[32mcol_double()\u001b[39m,\n",
      "  X4 = \u001b[31mcol_character()\u001b[39m,\n",
      "  X5 = \u001b[31mcol_character()\u001b[39m,\n",
      "  X6 = \u001b[31mcol_character()\u001b[39m,\n",
      "  X7 = \u001b[32mcol_double()\u001b[39m,\n",
      "  X8 = \u001b[32mcol_double()\u001b[39m,\n",
      "  X9 = \u001b[31mcol_character()\u001b[39m,\n",
      "  X10 = \u001b[31mcol_character()\u001b[39m,\n",
      "  X11 = \u001b[31mcol_character()\u001b[39m,\n",
      "  X12 = \u001b[31mcol_character()\u001b[39m\n",
      ")\n",
      "\n",
      "\n",
      "\n",
      "\u001b[36m──\u001b[39m \u001b[1m\u001b[1mColumn specification\u001b[1m\u001b[22m \u001b[36m────────────────────────────────────────────────────────\u001b[39m\n",
      "cols(\n",
      "  X1 = \u001b[31mcol_character()\u001b[39m,\n",
      "  X2 = \u001b[32mcol_double()\u001b[39m,\n",
      "  X3 = \u001b[32mcol_double()\u001b[39m,\n",
      "  X4 = \u001b[31mcol_character()\u001b[39m,\n",
      "  X5 = \u001b[31mcol_character()\u001b[39m,\n",
      "  X6 = \u001b[31mcol_character()\u001b[39m,\n",
      "  X7 = \u001b[32mcol_double()\u001b[39m,\n",
      "  X8 = \u001b[32mcol_double()\u001b[39m,\n",
      "  X9 = \u001b[31mcol_character()\u001b[39m,\n",
      "  X10 = \u001b[31mcol_character()\u001b[39m,\n",
      "  X11 = \u001b[31mcol_character()\u001b[39m,\n",
      "  X12 = \u001b[31mcol_character()\u001b[39m\n",
      ")\n",
      "\n",
      "\n",
      "\n",
      "\u001b[36m──\u001b[39m \u001b[1m\u001b[1mColumn specification\u001b[1m\u001b[22m \u001b[36m────────────────────────────────────────────────────────\u001b[39m\n",
      "cols(\n",
      "  X1 = \u001b[31mcol_character()\u001b[39m,\n",
      "  X2 = \u001b[32mcol_double()\u001b[39m,\n",
      "  X3 = \u001b[32mcol_double()\u001b[39m\n",
      ")\n",
      "\n",
      "\n"
     ]
    }
   ],
   "source": [
    "\n",
    "trans01files <- c(\"../analyses/2bRAD/mQTL/transF05-snp-CDS.bed\", \"../analyses/2bRAD/mQTL/transF05-snp-exon.bed\", \"../analyses/2bRAD/mQTL/transF05-snp-gene.bed\", \"../analyses/2bRAD/mQTL/transF05-snp-gene2kb.bed\", \"../analyses/2bRAD/mQTL/transF05-snp-2kbflank-up.bed\", \"../analyses/2bRAD/mQTL/transF05-snp-2kbflank-down.bed\", \"../analyses/2bRAD/mQTL/transF05-snp-mRNA.bed\", \"../analyses/2bRAD/mQTL/transF05-snp-TE.bed\", \"../analyses/2bRAD/mQTL/transF05-snp-unknown.bed\")\n",
    "trans01.features <- list()\n",
    "for (i in c(1:9)) {\n",
    "  trans01.features[[i]] <- read_delim(trans01files[i], delim = '\\t', col_names = FALSE) %>% as_tibble()}\n",
    "for (i in 1:8) {\n",
    "  trans01.features[[i]] <- trans01.features[[i]] %>%\n",
    "    setNames(c(\"contig.trans01\",\"start.trans01\",\"end.trans01\",\"contig.feat\", \"source.feat\",\"feature\",\"start.feat\",\"end.feat\",\"unknown1\",\"strand\",\"unknown2\",\"attribute\")) %>%\n",
    "mutate(ID=str_extract(attribute, \"ID=(.*?);\"),\n",
    "       Parent=str_extract(attribute, \"Parent=(.*?);\"),\n",
    "       Name=str_extract(attribute, \"Name=(.*?);\"),\n",
    "       Alias=str_extract(attribute, \"Alias=(.*?);\"),\n",
    "       AED=str_extract(attribute, \"AED=(.*?);\"),\n",
    "       eAED=str_extract(attribute, \"eAED=(.*?);\"),\n",
    "       Note=str_extract(attribute, \"Note=(.*?);\"),\n",
    "       Ontology_term=str_extract(attribute, \"Ontology_term=(.*?);\"),\n",
    "       Dbxref=str_extract(attribute, \"Dbxref=(.*?);\"),\n",
    "       uniprotID=str_extract(attribute, \"SPID=(.*?);\")\n",
    "       ) %>%\n",
    "mutate_at(\"feature\", as.factor)\n",
    "}\n",
    "names(trans01.features) <- c(\"trans01.CDS\", \"trans01.exon\", \"trans01.gene\",\"trans01.gene2kb\", \"trans01.flank-up\", \"trans01.flank-down\",\"trans01.mRNA\", \"trans01.TE\", \"trans01.unknown\")\n",
    "trans01.features[[\"trans01.unknown\"]] <- \n",
    "  trans01.features[[\"trans01.unknown\"]] %>% \n",
    "  setNames(c(\"contig.trans01\", \"start.trans01\", \"end.trans01\", \"score.trans01\"))\n",
    "trans01.features[[\"trans01.CDS\"]] <- trans01.features[[\"trans01.CDS\"]] %>% mutate_at(\"unknown2\", as.character)\n",
    "trans01.features[[\"trans01.TE\"]] <- trans01.features[[\"trans01.TE\"]] %>% mutate_at(\"unknown1\", as.character)\n",
    "trans01.features[[\"trans01.gene2kb\"]]$feature <- \"gene2kb\"\n",
    "trans01.features[[\"trans01.flank-up\"]]$feature <- \"flank-up\"\n",
    "trans01.features[[\"trans01.flank-down\"]]$feature <- \"flank-down\"\n",
    "trans01.features[[\"trans01.unknown\"]]$feature <- \"unknown\"\n",
    "trans01.features.df <- bind_rows(trans01.features) \n",
    "#trans01.features[[3]] %>% left_join(uniprot, by=c(\"contig.feat\",\"start.feat\", \"end.feat\")) \n",
    "#save trans01 loci feature df object to file, to use in notebook #12 \n",
    "save(trans01.features.df, file=\"../analyses/2bRAD/mQTL/transF05_snp.features.df\")"
   ]
  },
  {
   "cell_type": "code",
   "execution_count": 92,
   "metadata": {
    "kernel": "R"
   },
   "outputs": [
    {
     "name": "stdout",
     "output_type": "stream",
     "text": [
      "\n",
      "       CDS       exon flank-down   flank-up       gene    gene2kb       mRNA \n",
      "        24         33         20         28        129        177        129 \n",
      "similarity    unknown \n",
      "        51        299 \n",
      "\n",
      "       CDS       exon flank-down   flank-up       gene    gene2kb       mRNA \n",
      "      0.05       0.07       0.04       0.06       0.26       0.35       0.26 \n",
      "similarity    unknown \n",
      "      0.10       0.60 \n"
     ]
    }
   ],
   "source": [
    "\n",
    "print(trans01.summary <- table(trans01.features.df[c(\"feature\")]))#Note: \"similarity\" refers to transposable elements; also NO alternative splice variants are included. \n",
    "print(round(table(trans01.features.df[c(\"feature\")])/501,2))\n",
    "save(trans01.summary, file=\"../analyses/2bRAD/mQTL/transF05_snp_feature.summary\")"
   ]
  },
  {
   "cell_type": "code",
   "execution_count": 93,
   "metadata": {
    "kernel": "R",
    "scrolled": true
   },
   "outputs": [],
   "source": [
    "trans01.features[[\"trans01.gene2kb\"]] %>%\n",
    "   mutate(uniprotID=str_remove(uniprotID, \"SPID=\")) %>% mutate(uniprotID=str_remove(uniprotID, \";\")) %>%\n",
    "  select(uniprotID) %>% na.omit() %>% as.vector() %>% unique() %>% write.table(file=\"../analyses/2bRAD/mQTL/transF05_snps_genes2kb_uniprot.txt\",quote = F,row.names = F,col.names = F)"
   ]
  },
  {
   "cell_type": "code",
   "execution_count": 95,
   "metadata": {
    "kernel": "Bash"
   },
   "outputs": [
    {
     "name": "stdout",
     "output_type": "stream",
     "text": [
      "87 ../analyses/2bRAD/mQTL/transF05_snps_genes2kb_uniprot.txt\n"
     ]
    }
   ],
   "source": [
    "js(\"wc -l ../analyses/2bRAD/mQTL/transF05_snps_genes2kb_uniprot.txt\")"
   ]
  },
  {
   "cell_type": "markdown",
   "metadata": {
    "kernel": "R"
   },
   "source": [
    "### Trans snp DAVID results  \n",
    "87 genes, 796 in background  "
   ]
  },
  {
   "cell_type": "markdown",
   "metadata": {
    "kernel": "R"
   },
   "source": [
    "MF: ATPase binding\n",
    "UP: disulfide bond"
   ]
  },
  {
   "cell_type": "markdown",
   "metadata": {
    "kernel": "R"
   },
   "source": [
    "#### Enrichment of methylation sites with a trans snp"
   ]
  },
  {
   "cell_type": "code",
   "execution_count": 96,
   "metadata": {
    "kernel": "R"
   },
   "outputs": [],
   "source": [
    "# get sig SNPs\n",
    "sig_meth_trans <- as.character(unique(meS$trans$eqtls$gene[which(meS$trans$eqtls$FDR <0.05)]))"
   ]
  },
  {
   "cell_type": "code",
   "execution_count": 97,
   "metadata": {
    "kernel": "R"
   },
   "outputs": [
    {
     "data": {
      "text/html": [
       "362"
      ],
      "text/latex": [
       "362"
      ],
      "text/markdown": [
       "362"
      ],
      "text/plain": [
       "[1] 362"
      ]
     },
     "metadata": {},
     "output_type": "display_data"
    }
   ],
   "source": [
    "length(sig_meth_trans)"
   ]
  },
  {
   "cell_type": "code",
   "execution_count": 98,
   "metadata": {
    "kernel": "R"
   },
   "outputs": [],
   "source": [
    "chr <- sapply(strsplit(sig_meth_trans,\"_\"), `[`, 1)\n",
    "start <- sapply(strsplit(sig_meth_trans,\"_\"), `[`, 2)\n",
    "end <- start\n",
    "bed <- cbind(chr,start,end)\n",
    "write.table(bed,\"../analyses/2bRAD/mQTL/meth_mbd_maf05_sites_transF05.bed\",row.names = F, col.names = F,quote = F, sep = \"\\t\")"
   ]
  },
  {
   "cell_type": "markdown",
   "metadata": {
    "kernel": "Bash"
   },
   "source": [
    "### Identify trans meth sites in each feature with Bedtools"
   ]
  },
  {
   "cell_type": "code",
   "execution_count": 99,
   "metadata": {
    "kernel": "Bash"
   },
   "outputs": [
    {
     "name": "stdout",
     "output_type": "stream",
     "text": [
      "\n",
      "\n",
      "\n",
      "\n",
      "\n",
      "\n",
      "\n",
      "\n",
      "\n"
     ]
    }
   ],
   "source": [
    "\n",
    "js(\"bedtools intersect -wb -a ../analyses/2bRAD/mQTL/meth_mbd_maf05_sites_transF05.bed -b ../genome-features/Olurida_v081-20190709.gene.gff >  ../analyses/2bRAD/mQTL/methtransF05-gene.bed\")\n",
    "js(\"bedtools intersect -wb -a ../analyses/2bRAD/mQTL/meth_mbd_maf05_sites_transF05.bed -b ../genome-features/Olurida_v081-20190709.gene.2kbslop.gff >  ../analyses/2bRAD/mQTL/methtransF05-gene2kb.bed\")\n",
    "js(\"bedtools intersect -wb -a ../analyses/2bRAD/mQTL/meth_mbd_maf05_sites_transF05.bed -b ../genome-features/Olurida_v081-20190709.2kbflank-up.gff >  ../analyses/2bRAD/mQTL/methtransF05-2kbflank-up.bed\")\n",
    "js(\"bedtools intersect -wb -a ../analyses/2bRAD/mQTL/meth_mbd_maf05_sites_transF05.bed -b ../genome-features/Olurida_v081-20190709.2kbflank-down.gff >  ../analyses/2bRAD/mQTL/methtransF05-2kbflank-down.bed\")\n",
    "js(\"bedtools intersect -wb -a ../analyses/2bRAD/mQTL/meth_mbd_maf05_sites_transF05.bed -b ../genome-features/Olurida_v081-20190709.exon.gff >  ../analyses/2bRAD/mQTL/methtransF05-exon.bed\")\n",
    "js(\"bedtools intersect -wb -a ../analyses/2bRAD/mQTL/meth_mbd_maf05_sites_transF05.bed -b ../genome-features/Olurida_v081-20190709.CDS.gff >  ../analyses/2bRAD/mQTL/methtransF05-CDS.bed\")\n",
    "js(\"bedtools intersect -wb -a ../analyses/2bRAD/mQTL/meth_mbd_maf05_sites_transF05.bed -b ../genome-features/Olurida_v081-20190709.mRNA.gff >  ../analyses/2bRAD/mQTL/methtransF05-mRNA.bed\")\n",
    "js(\"bedtools intersect -wb -a ../analyses/2bRAD/mQTL/meth_mbd_maf05_sites_transF05.bed -b ../genome-features/Olurida_v081_TE-Cg.gff >  ../analyses/2bRAD/mQTL/methtransF05-TE.bed\")\n",
    "js(\"bedtools intersect -v -a ../analyses/2bRAD/mQTL/meth_mbd_maf05_sites_transF05.bed -b ../genome-features/Olurida_v081-20190709.gene.2kbslop.gff ../genome-features/Olurida_v081-20190709.exon.gff ../genome-features/Olurida_v081-20190709.CDS.gff ../genome-features/Olurida_v081-20190709.mRNA.gff ../genome-features/Olurida_v081_TE-Cg.gff >  ../analyses/2bRAD/mQTL/methtransF05-unknown.bed\")"
   ]
  },
  {
   "cell_type": "code",
   "execution_count": 100,
   "metadata": {
    "kernel": "R",
    "scrolled": true
   },
   "outputs": [
    {
     "name": "stderr",
     "output_type": "stream",
     "text": [
      "\n",
      "\u001b[36m──\u001b[39m \u001b[1m\u001b[1mColumn specification\u001b[1m\u001b[22m \u001b[36m────────────────────────────────────────────────────────\u001b[39m\n",
      "cols(\n",
      "  X1 = \u001b[31mcol_character()\u001b[39m,\n",
      "  X2 = \u001b[32mcol_double()\u001b[39m,\n",
      "  X3 = \u001b[32mcol_double()\u001b[39m,\n",
      "  X4 = \u001b[31mcol_character()\u001b[39m,\n",
      "  X5 = \u001b[31mcol_character()\u001b[39m,\n",
      "  X6 = \u001b[31mcol_character()\u001b[39m,\n",
      "  X7 = \u001b[32mcol_double()\u001b[39m,\n",
      "  X8 = \u001b[32mcol_double()\u001b[39m,\n",
      "  X9 = \u001b[31mcol_character()\u001b[39m,\n",
      "  X10 = \u001b[31mcol_character()\u001b[39m,\n",
      "  X11 = \u001b[32mcol_double()\u001b[39m,\n",
      "  X12 = \u001b[31mcol_character()\u001b[39m\n",
      ")\n",
      "\n",
      "\n",
      "\n",
      "\u001b[36m──\u001b[39m \u001b[1m\u001b[1mColumn specification\u001b[1m\u001b[22m \u001b[36m────────────────────────────────────────────────────────\u001b[39m\n",
      "cols(\n",
      "  X1 = \u001b[31mcol_character()\u001b[39m,\n",
      "  X2 = \u001b[32mcol_double()\u001b[39m,\n",
      "  X3 = \u001b[32mcol_double()\u001b[39m,\n",
      "  X4 = \u001b[31mcol_character()\u001b[39m,\n",
      "  X5 = \u001b[31mcol_character()\u001b[39m,\n",
      "  X6 = \u001b[31mcol_character()\u001b[39m,\n",
      "  X7 = \u001b[32mcol_double()\u001b[39m,\n",
      "  X8 = \u001b[32mcol_double()\u001b[39m,\n",
      "  X9 = \u001b[31mcol_character()\u001b[39m,\n",
      "  X10 = \u001b[31mcol_character()\u001b[39m,\n",
      "  X11 = \u001b[31mcol_character()\u001b[39m,\n",
      "  X12 = \u001b[31mcol_character()\u001b[39m\n",
      ")\n",
      "\n",
      "\n",
      "\n",
      "\u001b[36m──\u001b[39m \u001b[1m\u001b[1mColumn specification\u001b[1m\u001b[22m \u001b[36m────────────────────────────────────────────────────────\u001b[39m\n",
      "cols(\n",
      "  X1 = \u001b[31mcol_character()\u001b[39m,\n",
      "  X2 = \u001b[32mcol_double()\u001b[39m,\n",
      "  X3 = \u001b[32mcol_double()\u001b[39m,\n",
      "  X4 = \u001b[31mcol_character()\u001b[39m,\n",
      "  X5 = \u001b[31mcol_character()\u001b[39m,\n",
      "  X6 = \u001b[31mcol_character()\u001b[39m,\n",
      "  X7 = \u001b[32mcol_double()\u001b[39m,\n",
      "  X8 = \u001b[32mcol_double()\u001b[39m,\n",
      "  X9 = \u001b[31mcol_character()\u001b[39m,\n",
      "  X10 = \u001b[31mcol_character()\u001b[39m,\n",
      "  X11 = \u001b[31mcol_character()\u001b[39m,\n",
      "  X12 = \u001b[31mcol_character()\u001b[39m\n",
      ")\n",
      "\n",
      "\n",
      "\n",
      "\u001b[36m──\u001b[39m \u001b[1m\u001b[1mColumn specification\u001b[1m\u001b[22m \u001b[36m────────────────────────────────────────────────────────\u001b[39m\n",
      "cols(\n",
      "  X1 = \u001b[31mcol_character()\u001b[39m,\n",
      "  X2 = \u001b[32mcol_double()\u001b[39m,\n",
      "  X3 = \u001b[32mcol_double()\u001b[39m,\n",
      "  X4 = \u001b[31mcol_character()\u001b[39m,\n",
      "  X5 = \u001b[31mcol_character()\u001b[39m,\n",
      "  X6 = \u001b[31mcol_character()\u001b[39m,\n",
      "  X7 = \u001b[32mcol_double()\u001b[39m,\n",
      "  X8 = \u001b[32mcol_double()\u001b[39m,\n",
      "  X9 = \u001b[31mcol_character()\u001b[39m,\n",
      "  X10 = \u001b[31mcol_character()\u001b[39m,\n",
      "  X11 = \u001b[31mcol_character()\u001b[39m,\n",
      "  X12 = \u001b[31mcol_character()\u001b[39m\n",
      ")\n",
      "\n",
      "\n",
      "\n",
      "\u001b[36m──\u001b[39m \u001b[1m\u001b[1mColumn specification\u001b[1m\u001b[22m \u001b[36m────────────────────────────────────────────────────────\u001b[39m\n",
      "cols(\n",
      "  X1 = \u001b[31mcol_character()\u001b[39m,\n",
      "  X2 = \u001b[32mcol_double()\u001b[39m,\n",
      "  X3 = \u001b[32mcol_double()\u001b[39m,\n",
      "  X4 = \u001b[31mcol_character()\u001b[39m,\n",
      "  X5 = \u001b[31mcol_character()\u001b[39m,\n",
      "  X6 = \u001b[31mcol_character()\u001b[39m,\n",
      "  X7 = \u001b[32mcol_double()\u001b[39m,\n",
      "  X8 = \u001b[32mcol_double()\u001b[39m,\n",
      "  X9 = \u001b[31mcol_character()\u001b[39m,\n",
      "  X10 = \u001b[31mcol_character()\u001b[39m,\n",
      "  X11 = \u001b[31mcol_character()\u001b[39m,\n",
      "  X12 = \u001b[31mcol_character()\u001b[39m\n",
      ")\n",
      "\n",
      "\n",
      "\n",
      "\u001b[36m──\u001b[39m \u001b[1m\u001b[1mColumn specification\u001b[1m\u001b[22m \u001b[36m────────────────────────────────────────────────────────\u001b[39m\n",
      "cols(\n",
      "  X1 = \u001b[31mcol_character()\u001b[39m,\n",
      "  X2 = \u001b[32mcol_double()\u001b[39m,\n",
      "  X3 = \u001b[32mcol_double()\u001b[39m,\n",
      "  X4 = \u001b[31mcol_character()\u001b[39m,\n",
      "  X5 = \u001b[31mcol_character()\u001b[39m,\n",
      "  X6 = \u001b[31mcol_character()\u001b[39m,\n",
      "  X7 = \u001b[32mcol_double()\u001b[39m,\n",
      "  X8 = \u001b[32mcol_double()\u001b[39m,\n",
      "  X9 = \u001b[31mcol_character()\u001b[39m,\n",
      "  X10 = \u001b[31mcol_character()\u001b[39m,\n",
      "  X11 = \u001b[31mcol_character()\u001b[39m,\n",
      "  X12 = \u001b[31mcol_character()\u001b[39m\n",
      ")\n",
      "\n",
      "\n",
      "\n",
      "\u001b[36m──\u001b[39m \u001b[1m\u001b[1mColumn specification\u001b[1m\u001b[22m \u001b[36m────────────────────────────────────────────────────────\u001b[39m\n",
      "cols(\n",
      "  X1 = \u001b[31mcol_character()\u001b[39m,\n",
      "  X2 = \u001b[32mcol_double()\u001b[39m,\n",
      "  X3 = \u001b[32mcol_double()\u001b[39m,\n",
      "  X4 = \u001b[31mcol_character()\u001b[39m,\n",
      "  X5 = \u001b[31mcol_character()\u001b[39m,\n",
      "  X6 = \u001b[31mcol_character()\u001b[39m,\n",
      "  X7 = \u001b[32mcol_double()\u001b[39m,\n",
      "  X8 = \u001b[32mcol_double()\u001b[39m,\n",
      "  X9 = \u001b[31mcol_character()\u001b[39m,\n",
      "  X10 = \u001b[31mcol_character()\u001b[39m,\n",
      "  X11 = \u001b[31mcol_character()\u001b[39m,\n",
      "  X12 = \u001b[31mcol_character()\u001b[39m\n",
      ")\n",
      "\n",
      "\n",
      "\n",
      "\u001b[36m──\u001b[39m \u001b[1m\u001b[1mColumn specification\u001b[1m\u001b[22m \u001b[36m────────────────────────────────────────────────────────\u001b[39m\n",
      "cols(\n",
      "  X1 = \u001b[31mcol_character()\u001b[39m,\n",
      "  X2 = \u001b[32mcol_double()\u001b[39m,\n",
      "  X3 = \u001b[32mcol_double()\u001b[39m,\n",
      "  X4 = \u001b[31mcol_character()\u001b[39m,\n",
      "  X5 = \u001b[31mcol_character()\u001b[39m,\n",
      "  X6 = \u001b[31mcol_character()\u001b[39m,\n",
      "  X7 = \u001b[32mcol_double()\u001b[39m,\n",
      "  X8 = \u001b[32mcol_double()\u001b[39m,\n",
      "  X9 = \u001b[32mcol_double()\u001b[39m,\n",
      "  X10 = \u001b[31mcol_character()\u001b[39m,\n",
      "  X11 = \u001b[31mcol_character()\u001b[39m,\n",
      "  X12 = \u001b[31mcol_character()\u001b[39m\n",
      ")\n",
      "\n",
      "\n",
      "\n",
      "\u001b[36m──\u001b[39m \u001b[1m\u001b[1mColumn specification\u001b[1m\u001b[22m \u001b[36m────────────────────────────────────────────────────────\u001b[39m\n",
      "cols(\n",
      "  X1 = \u001b[31mcol_character()\u001b[39m,\n",
      "  X2 = \u001b[32mcol_double()\u001b[39m,\n",
      "  X3 = \u001b[32mcol_double()\u001b[39m\n",
      ")\n",
      "\n",
      "\n"
     ]
    }
   ],
   "source": [
    "\n",
    "trans01files <- c(\"../analyses/2bRAD/mQTL/methtransF05-CDS.bed\", \"../analyses/2bRAD/mQTL/methtransF05-exon.bed\", \"../analyses/2bRAD/mQTL/methtransF05-gene.bed\", \"../analyses/2bRAD/mQTL/methtransF05-gene2kb.bed\", \"../analyses/2bRAD/mQTL/methtransF05-2kbflank-up.bed\", \"../analyses/2bRAD/mQTL/methtransF05-2kbflank-down.bed\", \"../analyses/2bRAD/mQTL/methtransF05-mRNA.bed\", \"../analyses/2bRAD/mQTL/methtransF05-TE.bed\", \"../analyses/2bRAD/mQTL/methtransF05-unknown.bed\")\n",
    "methtrans01.features <- list()\n",
    "for (i in c(1:9)) {\n",
    "  methtrans01.features[[i]] <- read_delim(trans01files[i], delim = '\\t', col_names = FALSE) %>% as_tibble()}\n",
    "for (i in 1:8) {\n",
    "  methtrans01.features[[i]] <- methtrans01.features[[i]] %>%\n",
    "    setNames(c(\"contig.trans01\",\"start.trans01\",\"end.trans01\",\"contig.feat\", \"source.feat\",\"feature\",\"start.feat\",\"end.feat\",\"unknown1\",\"strand\",\"unknown2\",\"attribute\")) %>%\n",
    "mutate(ID=str_extract(attribute, \"ID=(.*?);\"),\n",
    "       Parent=str_extract(attribute, \"Parent=(.*?);\"),\n",
    "       Name=str_extract(attribute, \"Name=(.*?);\"),\n",
    "       Alias=str_extract(attribute, \"Alias=(.*?);\"),\n",
    "       AED=str_extract(attribute, \"AED=(.*?);\"),\n",
    "       eAED=str_extract(attribute, \"eAED=(.*?);\"),\n",
    "       Note=str_extract(attribute, \"Note=(.*?);\"),\n",
    "       Ontology_term=str_extract(attribute, \"Ontology_term=(.*?);\"),\n",
    "       Dbxref=str_extract(attribute, \"Dbxref=(.*?);\"),\n",
    "       uniprotID=str_extract(attribute, \"SPID=(.*?);\")\n",
    "       ) %>%\n",
    "mutate_at(\"feature\", as.factor)\n",
    "}\n",
    "names(methtrans01.features) <- c(\"trans01.CDS\", \"trans01.exon\", \"trans01.gene\",\"trans01.gene2kb\", \"trans01.flank-up\", \"trans01.flank-down\",\"trans01.mRNA\", \"trans01.TE\", \"trans01.unknown\")\n",
    "methtrans01.features[[\"trans01.unknown\"]] <- \n",
    "  methtrans01.features[[\"trans01.unknown\"]] %>% \n",
    "  setNames(c(\"contig.trans01\", \"start.trans01\", \"end.trans01\", \"score.trans01\"))\n",
    "methtrans01.features[[\"trans01.CDS\"]] <- methtrans01.features[[\"trans01.CDS\"]] %>% mutate_at(\"unknown2\", as.character)\n",
    "methtrans01.features[[\"trans01.TE\"]] <- methtrans01.features[[\"trans01.TE\"]] %>% mutate_at(\"unknown1\", as.character)\n",
    "methtrans01.features[[\"trans01.gene2kb\"]]$feature <- \"gene2kb\"\n",
    "methtrans01.features[[\"trans01.flank-up\"]]$feature <- \"flank-up\"\n",
    "methtrans01.features[[\"trans01.flank-down\"]]$feature <- \"flank-down\"\n",
    "methtrans01.features[[\"trans01.unknown\"]]$feature <- \"unknown\"\n",
    "methtrans01.features.df <- bind_rows(methtrans01.features) \n",
    "#methtrans01.features[[3]] %>% left_join(uniprot, by=c(\"contig.feat\",\"start.feat\", \"end.feat\")) \n",
    "#save trans01 loci feature df object to file, to use in notebook #12 \n",
    "save(methtrans01.features.df, file=\"../analyses/2bRAD/mQTL/methtransF05.features.df\")"
   ]
  },
  {
   "cell_type": "code",
   "execution_count": 101,
   "metadata": {
    "kernel": "R"
   },
   "outputs": [
    {
     "name": "stdout",
     "output_type": "stream",
     "text": [
      "\n",
      "       CDS       exon flank-down   flank-up       gene    gene2kb       mRNA \n",
      "       162        174         11         11        204        226        204 \n",
      "similarity    unknown \n",
      "        15        137 \n",
      "\n",
      "       CDS       exon flank-down   flank-up       gene    gene2kb       mRNA \n",
      "      0.45       0.48       0.03       0.03       0.56       0.62       0.56 \n",
      "similarity    unknown \n",
      "      0.04       0.38 \n"
     ]
    }
   ],
   "source": [
    "\n",
    "print(methtrans01.summary <- table(methtrans01.features.df[c(\"feature\")]))#Note: \"similarity\" refers to transposable elements; also NO alternative splice variants are included. \n",
    "print(round(table(methtrans01.features.df[c(\"feature\")])/362,2))\n",
    "save(methtrans01.summary, file=\"../analyses/2bRAD/mQTL/methtransF05_feature.summary\")"
   ]
  },
  {
   "cell_type": "code",
   "execution_count": null,
   "metadata": {},
   "outputs": [],
   "source": []
  },
  {
   "cell_type": "code",
   "execution_count": 103,
   "metadata": {
    "kernel": "R",
    "scrolled": true
   },
   "outputs": [],
   "source": [
    "\n",
    "methtrans01.features[[\"trans01.gene2kb\"]] %>%\n",
    "   mutate(uniprotID=str_remove(uniprotID, \"SPID=\")) %>% mutate(uniprotID=str_remove(uniprotID, \";\")) %>%\n",
    "  select(uniprotID) %>% na.omit() %>% as.vector() %>% unique() %>% write.table(file=\"../analyses/2bRAD/mQTL/methtransF05_genes2kb_uniprot.txt\",quote = F,row.names = F,col.names = F)"
   ]
  },
  {
   "cell_type": "code",
   "execution_count": 104,
   "metadata": {
    "kernel": "Bash"
   },
   "outputs": [
    {
     "name": "stdout",
     "output_type": "stream",
     "text": [
      "155 ../analyses/2bRAD/mQTL/methtransF05_genes2kb_uniprot.txt\n"
     ]
    }
   ],
   "source": [
    "js(\"wc -l ../analyses/2bRAD/mQTL/methtransF05_genes2kb_uniprot.txt\")"
   ]
  },
  {
   "cell_type": "markdown",
   "metadata": {
    "kernel": "R"
   },
   "source": [
    "### Trans meth DAVID results  \n",
    "155 genes, 2367 in background"
   ]
  },
  {
   "cell_type": "code",
   "execution_count": 24,
   "metadata": {},
   "outputs": [
    {
     "data": {
      "text/html": [
       "<table class=\"dataframe\">\n",
       "<caption>A data.frame: 2 × 6</caption>\n",
       "<thead>\n",
       "\t<tr><th></th><th scope=col>snps</th><th scope=col>gene</th><th scope=col>statistic</th><th scope=col>pvalue</th><th scope=col>FDR</th><th scope=col>beta</th></tr>\n",
       "\t<tr><th></th><th scope=col>&lt;fct&gt;</th><th scope=col>&lt;fct&gt;</th><th scope=col>&lt;dbl&gt;</th><th scope=col>&lt;dbl&gt;</th><th scope=col>&lt;dbl&gt;</th><th scope=col>&lt;dbl&gt;</th></tr>\n",
       "</thead>\n",
       "<tbody>\n",
       "\t<tr><th scope=row>542</th><td>Contig647_25180</td><td>Contig117248_9019_9019 </td><td>-13.80867</td><td>3.814750e-09</td><td>0.0006596418</td><td>-1.760032</td></tr>\n",
       "\t<tr><th scope=row>617</th><td>Contig647_25180</td><td>Contig63502_10530_10530</td><td>-12.78051</td><td>9.779209e-09</td><td>0.0014906521</td><td>-1.710748</td></tr>\n",
       "</tbody>\n",
       "</table>\n"
      ],
      "text/latex": [
       "A data.frame: 2 × 6\n",
       "\\begin{tabular}{r|llllll}\n",
       "  & snps & gene & statistic & pvalue & FDR & beta\\\\\n",
       "  & <fct> & <fct> & <dbl> & <dbl> & <dbl> & <dbl>\\\\\n",
       "\\hline\n",
       "\t542 & Contig647\\_25180 & Contig117248\\_9019\\_9019  & -13.80867 & 3.814750e-09 & 0.0006596418 & -1.760032\\\\\n",
       "\t617 & Contig647\\_25180 & Contig63502\\_10530\\_10530 & -12.78051 & 9.779209e-09 & 0.0014906521 & -1.710748\\\\\n",
       "\\end{tabular}\n"
      ],
      "text/markdown": [
       "\n",
       "A data.frame: 2 × 6\n",
       "\n",
       "| <!--/--> | snps &lt;fct&gt; | gene &lt;fct&gt; | statistic &lt;dbl&gt; | pvalue &lt;dbl&gt; | FDR &lt;dbl&gt; | beta &lt;dbl&gt; |\n",
       "|---|---|---|---|---|---|---|\n",
       "| 542 | Contig647_25180 | Contig117248_9019_9019  | -13.80867 | 3.814750e-09 | 0.0006596418 | -1.760032 |\n",
       "| 617 | Contig647_25180 | Contig63502_10530_10530 | -12.78051 | 9.779209e-09 | 0.0014906521 | -1.710748 |\n",
       "\n"
      ],
      "text/plain": [
       "    snps            gene                    statistic pvalue       FDR         \n",
       "542 Contig647_25180 Contig117248_9019_9019  -13.80867 3.814750e-09 0.0006596418\n",
       "617 Contig647_25180 Contig63502_10530_10530 -12.78051 9.779209e-09 0.0014906521\n",
       "    beta     \n",
       "542 -1.760032\n",
       "617 -1.710748"
      ]
     },
     "metadata": {},
     "output_type": "display_data"
    }
   ],
   "source": [
    "meS$trans$eqtls[which(meS$trans$eqtls$snps == \"Contig647_25180\" & meS$trans$eqtls$FDR < 0.05),]"
   ]
  },
  {
   "cell_type": "code",
   "execution_count": 26,
   "metadata": {
    "kernel": "R"
   },
   "outputs": [
    {
     "name": "stderr",
     "output_type": "stream",
     "text": [
      "`stat_bindot()` using `bins = 30`. Pick better value with `binwidth`.\n",
      "\n",
      "Warning message:\n",
      "“Removed 57 rows containing non-finite values (stat_bindot).”\n",
      "Warning message:\n",
      "“Removed 57 rows containing non-finite values (stat_boxplot).”\n"
     ]
    },
    {
     "data": {
      "image/png": "[encoded data removed]",
      "text/plain": [
       "plot without title"
      ]
     },
     "metadata": {
      "image/png": {
       "height": 420,
       "width": 420
      }
     },
     "output_type": "display_data"
    }
   ],
   "source": [
    "loci = \"Contig63502_10530_10530\"\n",
    "m <- perc_meth %>% filter(site==loci)\n",
    "s <- meS$trans$eqtls[which(meS$trans$eqtls$gene == loci & meS$trans$eqtls$FDR < 0.05),]$snps\n",
    "\n",
    "g <- as.data.frame(t(geno[geno$id %in% s,]),stringsAsFactors = F)\n",
    "colnames(g) <- g[1,]\n",
    "g$sample <- rownames(g)\n",
    "g <- g[-1,]\n",
    "merge(m,g) %>% tidyr::gather(\"id\",\"value\",9:ncol(merge(m,g))) %>%\n",
    "ggplot(., aes(value, percMeth,colour=population)) + \n",
    "        geom_dotplot(binaxis='y', stackdir='center',dotsize=0.6) +\n",
    "        geom_boxplot(outlier.size=0, alpha=0.6, fill=\"grey\") +\n",
    "        facet_wrap(~id) + theme_bw()"
   ]
  },
  {
   "cell_type": "code",
   "execution_count": 2,
   "metadata": {},
   "outputs": [
    {
     "name": "stdout",
     "output_type": "stream",
     "text": [
      "\n",
      "0 ../analyses/2bRAD/mQTL/trans-meth-cpgsnp.bed\n"
     ]
    }
   ],
   "source": [
    "# how many trans-meth in Cpg-snp\n",
    "js(\"bedtools window -w 350 -u -a ../analyses/2bRAD/mQTL/meth_mbd_maf05_sites_transF05.bed -b ../analyses/2bRAD/MethGen/cpgsnps.bed  >  ../analyses/2bRAD/mQTL/trans-meth-cpgsnp.bed\")\n",
    "js(\"wc -l ../analyses/2bRAD/mQTL/trans-meth-cpgsnp.bed\")"
   ]
  },
  {
   "cell_type": "code",
   "execution_count": 7,
   "metadata": {},
   "outputs": [
    {
     "name": "stdout",
     "output_type": "stream",
     "text": [
      "\n",
      "43 ../analyses/2bRAD/mQTL/background-meth-cpgsnp.bed\n"
     ]
    }
   ],
   "source": [
    "# how many background meth in Cpg-snp\n",
    "js(\"bedtools window -w 350 -u -a ../analyses/2bRAD/mQTL/meth_allsites_mbd.bed -b ../analyses/2bRAD/MethGen/cpgsnps.bed  >  ../analyses/2bRAD/mQTL/background-meth-cpgsnp.bed\")\n",
    "js(\"wc -l ../analyses/2bRAD/mQTL/background-meth-cpgsnp.bed\")"
   ]
  },
  {
   "cell_type": "code",
   "execution_count": 9,
   "metadata": {},
   "outputs": [
    {
     "name": "stdout",
     "output_type": "stream",
     "text": [
      "\n",
      "1 ../analyses/2bRAD/mQTL/trans-meth-noncpgsnp.bed\n"
     ]
    }
   ],
   "source": [
    "# how many trans-meth in nonCpg-snp\n",
    "js(\"bedtools window -w 350 -u -a ../analyses/2bRAD/mQTL/meth_mbd_maf05_sites_transF05.bed -b ../analyses/2bRAD/Inputs/non-cpgsnps.bed   >  ../analyses/2bRAD/mQTL/trans-meth-noncpgsnp.bed\")\n",
    "js(\"wc -l ../analyses/2bRAD/mQTL/trans-meth-noncpgsnp.bed\")"
   ]
  },
  {
   "cell_type": "code",
   "execution_count": 51,
   "metadata": {},
   "outputs": [
    {
     "name": "stdout",
     "output_type": "stream",
     "text": [
      "\n",
      "164 ../analyses/2bRAD/mQTL/background-meth-noncpgsnp.bed\n"
     ]
    }
   ],
   "source": [
    "# how many background meth in non Cpg-snp\n",
    "js(\"bedtools window -w 350 -u -a ../analyses/2bRAD/mQTL/meth_allsites_mbd.bed -b ../analyses/2bRAD/Inputs/non-cpgsnps.bed  >  ../analyses/2bRAD/mQTL/background-meth-noncpgsnp.bed\")\n",
    "js(\"wc -l ../analyses/2bRAD/mQTL/background-meth-noncpgsnp.bed\")"
   ]
  },
  {
   "cell_type": "markdown",
   "metadata": {
    "kernel": "R"
   },
   "source": [
    "### 0 trans-meth sites are near cpg-snps, cpg snps enriched in cis meth relative to trans meth"
   ]
  },
  {
   "cell_type": "code",
   "execution_count": 10,
   "metadata": {
    "kernel": "Bash"
   },
   "outputs": [],
   "source": [
    "Input=(\"\n",
    "mqtl    cpgsnp noncpgsnp\n",
    "transm   0      1\n",
    "nontransm 43    163\n",
    "\")"
   ]
  },
  {
   "cell_type": "code",
   "execution_count": 11,
   "metadata": {},
   "outputs": [
    {
     "data": {
      "text/plain": [
       "\n",
       "\tFisher's Exact Test for Count Data\n",
       "\n",
       "data:  Matriz\n",
       "p-value = 1\n",
       "alternative hypothesis: true odds ratio is not equal to 1\n",
       "95 percent confidence interval:\n",
       "   0.0000 148.4016\n",
       "sample estimates:\n",
       "odds ratio \n",
       "         0 \n"
      ]
     },
     "metadata": {},
     "output_type": "display_data"
    }
   ],
   "source": [
    "Matriz = as.matrix(read.table(textConnection(Input),\n",
    "                   header=TRUE, \n",
    "                   row.names=1))\n",
    "fisher.test(Matriz,alternative = \"two.sided\")"
   ]
  },
  {
   "cell_type": "markdown",
   "metadata": {},
   "source": [
    "### meth sites near cis-mqtls enriched for cpg-snps over meth sites near trans-mqtls"
   ]
  },
  {
   "cell_type": "code",
   "execution_count": 12,
   "metadata": {
    "kernel": "Bash"
   },
   "outputs": [],
   "source": [
    "Input=(\"\n",
    "cpgsnp  cis  trans \n",
    "mqtl   6      0\n",
    "nonmqtl  16    43\n",
    "\")"
   ]
  },
  {
   "cell_type": "code",
   "execution_count": 13,
   "metadata": {},
   "outputs": [
    {
     "data": {
      "text/plain": [
       "\n",
       "\tFisher's Exact Test for Count Data\n",
       "\n",
       "data:  Matriz\n",
       "p-value = 0.0009033\n",
       "alternative hypothesis: true odds ratio is not equal to 1\n",
       "95 percent confidence interval:\n",
       " 2.727558      Inf\n",
       "sample estimates:\n",
       "odds ratio \n",
       "       Inf \n"
      ]
     },
     "metadata": {},
     "output_type": "display_data"
    }
   ],
   "source": [
    "Matriz = as.matrix(read.table(textConnection(Input),\n",
    "                   header=TRUE, \n",
    "                   row.names=1))\n",
    "fisher.test(Matriz,alternative = \"two.sided\")"
   ]
  },
  {
   "cell_type": "markdown",
   "metadata": {},
   "source": [
    "### cis vs trans near a CpG-SNP "
   ]
  },
  {
   "cell_type": "code",
   "execution_count": 6,
   "metadata": {},
   "outputs": [
    {
     "data": {
      "text/plain": [
       "\n",
       "\tFisher's Exact Test for Count Data\n",
       "\n",
       "data:  Matriz\n",
       "p-value = 0.0009033\n",
       "alternative hypothesis: true odds ratio is not equal to 1\n",
       "95 percent confidence interval:\n",
       " 2.727558      Inf\n",
       "sample estimates:\n",
       "odds ratio \n",
       "       Inf \n"
      ]
     },
     "metadata": {},
     "output_type": "display_data"
    }
   ],
   "source": [
    "Input=(\"\n",
    "loc    cis trans\n",
    "mqtl   6     0\n",
    "nomqtl 16    43\n",
    "\")\n",
    "Matriz = as.matrix(read.table(textConnection(Input),\n",
    "                   header=TRUE, \n",
    "                   row.names=1))\n",
    "fisher.test(Matriz,alternative = \"two.sided\")"
   ]
  },
  {
   "cell_type": "code",
   "execution_count": 7,
   "metadata": {},
   "outputs": [
    {
     "data": {
      "text/html": [
       "<table class=\"dataframe\">\n",
       "<caption>A matrix: 2 × 2 of type int</caption>\n",
       "<thead>\n",
       "\t<tr><th></th><th scope=col>cis</th><th scope=col>trans</th></tr>\n",
       "</thead>\n",
       "<tbody>\n",
       "\t<tr><th scope=row>mqtl</th><td> 6</td><td> 0</td></tr>\n",
       "\t<tr><th scope=row>nomqtl</th><td>16</td><td>43</td></tr>\n",
       "</tbody>\n",
       "</table>\n"
      ],
      "text/latex": [
       "A matrix: 2 × 2 of type int\n",
       "\\begin{tabular}{r|ll}\n",
       "  & cis & trans\\\\\n",
       "\\hline\n",
       "\tmqtl &  6 &  0\\\\\n",
       "\tnomqtl & 16 & 43\\\\\n",
       "\\end{tabular}\n"
      ],
      "text/markdown": [
       "\n",
       "A matrix: 2 × 2 of type int\n",
       "\n",
       "| <!--/--> | cis | trans |\n",
       "|---|---|---|\n",
       "| mqtl |  6 |  0 |\n",
       "| nomqtl | 16 | 43 |\n",
       "\n"
      ],
      "text/plain": [
       "       cis trans\n",
       "mqtl    6   0   \n",
       "nomqtl 16  43   "
      ]
     },
     "metadata": {},
     "output_type": "display_data"
    }
   ],
   "source": [
    "Matriz"
   ]
  },
  {
   "cell_type": "markdown",
   "metadata": {},
   "source": [
    "### tested meth sites with a cpg-snp"
   ]
  },
  {
   "cell_type": "code",
   "execution_count": 11,
   "metadata": {},
   "outputs": [
    {
     "data": {
      "text/plain": [
       "\n",
       "\tFisher's Exact Test for Count Data\n",
       "\n",
       "data:  Matriz\n",
       "p-value = 1.4e-14\n",
       "alternative hypothesis: true odds ratio is not equal to 1\n",
       "95 percent confidence interval:\n",
       "  6.585298 19.863602\n",
       "sample estimates:\n",
       "odds ratio \n",
       "  11.58959 \n"
      ]
     },
     "metadata": {},
     "output_type": "display_data"
    }
   ],
   "source": [
    "#shouls all add up to 33738\n",
    "cis.cpg = 22\n",
    "trans.cpg = 43\n",
    "\n",
    "Input=(\"\n",
    "loc    cis trans\n",
    "cpg    22     43\n",
    "npcpg  1487    33695\n",
    "\")\n",
    "\n",
    "Matriz = as.matrix(read.table(textConnection(Input),\n",
    "                   header=TRUE, \n",
    "                   row.names=1))\n",
    "fisher.test(Matriz,alternative = \"two.sided\")"
   ]
  },
  {
   "cell_type": "code",
   "execution_count": 12,
   "metadata": {},
   "outputs": [
    {
     "data": {
      "text/html": [
       "<table class=\"dataframe\">\n",
       "<caption>A matrix: 2 × 2 of type int</caption>\n",
       "<thead>\n",
       "\t<tr><th></th><th scope=col>cis</th><th scope=col>trans</th></tr>\n",
       "</thead>\n",
       "<tbody>\n",
       "\t<tr><th scope=row>cpg</th><td>  22</td><td>   43</td></tr>\n",
       "\t<tr><th scope=row>npcpg</th><td>1487</td><td>33695</td></tr>\n",
       "</tbody>\n",
       "</table>\n"
      ],
      "text/latex": [
       "A matrix: 2 × 2 of type int\n",
       "\\begin{tabular}{r|ll}\n",
       "  & cis & trans\\\\\n",
       "\\hline\n",
       "\tcpg &   22 &    43\\\\\n",
       "\tnpcpg & 1487 & 33695\\\\\n",
       "\\end{tabular}\n"
      ],
      "text/markdown": [
       "\n",
       "A matrix: 2 × 2 of type int\n",
       "\n",
       "| <!--/--> | cis | trans |\n",
       "|---|---|---|\n",
       "| cpg |   22 |    43 |\n",
       "| npcpg | 1487 | 33695 |\n",
       "\n"
      ],
      "text/plain": [
       "      cis  trans\n",
       "cpg     22    43\n",
       "npcpg 1487 33695"
      ]
     },
     "metadata": {},
     "output_type": "display_data"
    }
   ],
   "source": [
    "Matriz"
   ]
  },
  {
   "cell_type": "markdown",
   "metadata": {},
   "source": [
    "### unique meth sites with a mQTL"
   ]
  },
  {
   "cell_type": "code",
   "execution_count": 22,
   "metadata": {},
   "outputs": [
    {
     "data": {
      "text/plain": [
       "\n",
       "\tFisher's Exact Test for Count Data\n",
       "\n",
       "data:  Matriz\n",
       "p-value < 2.2e-16\n",
       "alternative hypothesis: true odds ratio is not equal to 1\n",
       "95 percent confidence interval:\n",
       " 6.172463 9.558390\n",
       "sample estimates:\n",
       "odds ratio \n",
       "  7.703465 \n"
      ]
     },
     "metadata": {},
     "output_type": "display_data"
    }
   ],
   "source": [
    "Input=(\"\n",
    "loc    mQTL nomQTL\n",
    "cis 121     1388\n",
    "trans 362    31988\n",
    "\")\n",
    "Matriz = as.matrix(read.table(textConnection(Input),\n",
    "                   header=TRUE, \n",
    "                   row.names=1))\n",
    "fisher.test(Matriz,alternative = \"two.sided\")"
   ]
  },
  {
   "cell_type": "code",
   "execution_count": 23,
   "metadata": {},
   "outputs": [
    {
     "data": {
      "text/html": [
       "<table class=\"dataframe\">\n",
       "<caption>A matrix: 2 × 2 of type int</caption>\n",
       "<thead>\n",
       "\t<tr><th></th><th scope=col>mQTL</th><th scope=col>nomQTL</th></tr>\n",
       "</thead>\n",
       "<tbody>\n",
       "\t<tr><th scope=row>cis</th><td>121</td><td> 1388</td></tr>\n",
       "\t<tr><th scope=row>trans</th><td>362</td><td>31988</td></tr>\n",
       "</tbody>\n",
       "</table>\n"
      ],
      "text/latex": [
       "A matrix: 2 × 2 of type int\n",
       "\\begin{tabular}{r|ll}\n",
       "  & mQTL & nomQTL\\\\\n",
       "\\hline\n",
       "\tcis & 121 &  1388\\\\\n",
       "\ttrans & 362 & 31988\\\\\n",
       "\\end{tabular}\n"
      ],
      "text/markdown": [
       "\n",
       "A matrix: 2 × 2 of type int\n",
       "\n",
       "| <!--/--> | mQTL | nomQTL |\n",
       "|---|---|---|\n",
       "| cis | 121 |  1388 |\n",
       "| trans | 362 | 31988 |\n",
       "\n"
      ],
      "text/plain": [
       "      mQTL nomQTL\n",
       "cis   121   1388 \n",
       "trans 362  31988 "
      ]
     },
     "metadata": {},
     "output_type": "display_data"
    }
   ],
   "source": [
    "Matriz"
   ]
  },
  {
   "cell_type": "markdown",
   "metadata": {
    "kernel": "R"
   },
   "source": []
  },
  {
   "cell_type": "markdown",
   "metadata": {
    "kernel": "R"
   },
   "source": [
    "## methQTLs and DML/DMG overlap \n",
    "* What percent of local methQTLs near a DML vs non local mQTLS ? : 14.9% v 10.5%, not significant"
   ]
  },
  {
   "cell_type": "code",
   "execution_count": 13,
   "metadata": {},
   "outputs": [
    {
     "name": "stdout",
     "output_type": "stream",
     "text": [
      "\n",
      "18 ../analyses/2bRAD/mQTL/cis-meth-DMLs-350bp.bed\n"
     ]
    }
   ],
   "source": [
    "# how many DMLs near a local methQTL meth site\n",
    "js(\"bedtools window -w 350 -u -a ../analyses/2bRAD/mQTL/meth_mbd_maf05_sites_cis.bed -b ../analyses/DMLs/dml25_forIGV.bed > ../analyses/2bRAD/mQTL/cis-meth-DMLs-350bp.bed\")\n",
    "js(\"wc -l ../analyses/2bRAD/mQTL/cis-meth-DMLs-350bp.bed\")"
   ]
  },
  {
   "cell_type": "code",
   "execution_count": 14,
   "metadata": {},
   "outputs": [
    {
     "name": "stdout",
     "output_type": "stream",
     "text": [
      "\n",
      "139 ../analyses/2bRAD/mQTL/background-cismeth-DMLs-350bp.bed\n"
     ]
    }
   ],
   "source": [
    "# how many background cis meth \n",
    "js(\"bedtools window -w 350 -u -a ../analyses/2bRAD/mQTL/snpBmethA_50kb.txt -b ../analyses/DMLs/dml25_forIGV.bed  >  ../analyses/2bRAD/mQTL/background-cismeth-DMLs-350bp.bed\")\n",
    "js(\"wc -l ../analyses/2bRAD/mQTL/background-cismeth-DMLs-350bp.bed\")"
   ]
  },
  {
   "cell_type": "code",
   "execution_count": 16,
   "metadata": {},
   "outputs": [
    {
     "data": {
      "text/html": [
       "121"
      ],
      "text/latex": [
       "121"
      ],
      "text/markdown": [
       "121"
      ],
      "text/plain": [
       "[1] 121"
      ]
     },
     "metadata": {},
     "output_type": "display_data"
    },
    {
     "data": {
      "text/html": [
       "1026"
      ],
      "text/latex": [
       "1026"
      ],
      "text/markdown": [
       "1026"
      ],
      "text/plain": [
       "[1] 1026"
      ]
     },
     "metadata": {},
     "output_type": "display_data"
    }
   ],
   "source": [
    "139-18\n",
    "(1509-362)-121"
   ]
  },
  {
   "cell_type": "code",
   "execution_count": 17,
   "metadata": {},
   "outputs": [
    {
     "data": {
      "text/plain": [
       "\n",
       "\tFisher's Exact Test for Count Data\n",
       "\n",
       "data:  Matriz\n",
       "p-value = 0.1669\n",
       "alternative hypothesis: true odds ratio is not equal to 1\n",
       "95 percent confidence interval:\n",
       " 0.8155921 2.5645514\n",
       "sample estimates:\n",
       "odds ratio \n",
       "  1.481304 \n"
      ]
     },
     "metadata": {},
     "output_type": "display_data"
    }
   ],
   "source": [
    "Input=(\"\n",
    "loc    mQTL nonmQTL\n",
    "DML    18    121\n",
    "nonDML  103   1026\n",
    "\")\n",
    "Matriz = as.matrix(read.table(textConnection(Input),\n",
    "                   header=TRUE, \n",
    "                   row.names=1))\n",
    "fisher.test(Matriz,alternative = \"two.sided\")"
   ]
  },
  {
   "cell_type": "code",
   "execution_count": 18,
   "metadata": {},
   "outputs": [
    {
     "data": {
      "text/html": [
       "<table class=\"dataframe\">\n",
       "<caption>A matrix: 2 × 2 of type int</caption>\n",
       "<thead>\n",
       "\t<tr><th></th><th scope=col>mQTL</th><th scope=col>nonmQTL</th></tr>\n",
       "</thead>\n",
       "<tbody>\n",
       "\t<tr><th scope=row>DML</th><td> 18</td><td> 121</td></tr>\n",
       "\t<tr><th scope=row>nonDML</th><td>103</td><td>1026</td></tr>\n",
       "</tbody>\n",
       "</table>\n"
      ],
      "text/latex": [
       "A matrix: 2 × 2 of type int\n",
       "\\begin{tabular}{r|ll}\n",
       "  & mQTL & nonmQTL\\\\\n",
       "\\hline\n",
       "\tDML &  18 &  121\\\\\n",
       "\tnonDML & 103 & 1026\\\\\n",
       "\\end{tabular}\n"
      ],
      "text/markdown": [
       "\n",
       "A matrix: 2 × 2 of type int\n",
       "\n",
       "| <!--/--> | mQTL | nonmQTL |\n",
       "|---|---|---|\n",
       "| DML |  18 |  121 |\n",
       "| nonDML | 103 | 1026 |\n",
       "\n"
      ],
      "text/plain": [
       "       mQTL nonmQTL\n",
       "DML     18   121   \n",
       "nonDML 103  1026   "
      ]
     },
     "metadata": {},
     "output_type": "display_data"
    }
   ],
   "source": [
    "Matriz"
   ]
  },
  {
   "cell_type": "code",
   "execution_count": 19,
   "metadata": {},
   "outputs": [
    {
     "name": "stdout",
     "output_type": "stream",
     "text": [
      "Contig173\t13455\t13455\n",
      "Contig31124\t5961\t5961\n",
      "Contig173\t13500\t13500\n",
      "Contig18086\t7978\t7978\n",
      "Contig7105\t298\t298\n",
      "Contig24692\t5520\t5520\n",
      "Contig173\t13682\t13682\n",
      "Contig52148\t10814\t10814\n",
      "Contig18086\t7792\t7792\n",
      "Contig168159\t621\t621\n",
      "Contig82938\t2352\t2352\n",
      "Contig173\t13651\t13651\n",
      "Contig168159\t846\t846\n",
      "Contig168159\t859\t859\n",
      "Contig7105\t701\t701\n",
      "Contig39605\t22761\t22761\n",
      "Contig47538\t12037\t12037\n",
      "Contig18086\t7781\t7781\n"
     ]
    }
   ],
   "source": [
    "js(\"cat ../analyses/2bRAD/mQTL/cis-meth-DMLs-350bp.bed\")"
   ]
  },
  {
   "cell_type": "code",
   "execution_count": 21,
   "metadata": {},
   "outputs": [
    {
     "name": "stdout",
     "output_type": "stream",
     "text": [
      "Contig31124\t5961\t5961\tContig31124\tmaker\tgene\t1\t8078\t.\t+\t.\tID=OLUR_00022522;Name=OLUR_00022522;Alias=maker-Contig31124-snap-gene-0.2;Note=Similar to Chdh: Choline dehydrogenase%2C mitochondrial (Mus musculus OX%3D10090);Dbxref=CDD:cd01427,Gene3D:G3DSA:3.30.560.10,Gene3D:G3DSA:3.40.50.1000,Gene3D:G3DSA:3.50.50.60,InterPro:IPR000172,InterPro:IPR006439,InterPro:IPR007867,InterPro:IPR023214,InterPro:IPR036188,InterPro:IPR036412,MobiDBLite:mobidb-lite,Pfam:PF00732,Pfam:PF05199,Pfam:PF13419,ProSitePatterns:PS00623,ProSitePatterns:PS00624,SUPERFAMILY:SSF51905,SUPERFAMILY:SSF54373,SUPERFAMILY:SSF56784,TIGRFAM:TIGR01549;Ontology_term=GO:0016614,GO:0016787,GO:0050660,GO:0055114;SPID=Q8BJ64;\n",
      "Contig18086\t7978\t7978\tContig18086\tmaker\tgene\t1\t10669\t.\t+\t.\tID=OLUR_00020258;Name=OLUR_00020258;Alias=maker-Contig18086-snap-gene-0.2;Note=Similar to PRICKLE2: Prickle-like protein 2 (Homo sapiens OX%3D9606);Dbxref=CDD:cd09340,CDD:cd09418,CDD:cd09420,CDD:cd09827,Gene3D:G3DSA:2.10.110.10,InterPro:IPR001781,InterPro:IPR010442,InterPro:IPR033723,InterPro:IPR033726,InterPro:IPR033727,MobiDBLite:mobidb-lite,Pfam:PF00412,Pfam:PF06297,ProSitePatterns:PS00478,ProSiteProfiles:PS50023,ProSiteProfiles:PS51303,SMART:SM00132,SUPERFAMILY:SSF57716;Ontology_term=GO:0008270;SPID=Q7Z3G6;\n",
      "Contig52148\t10814\t10814\tContig52148\tmaker\tgene\t2810\t14690\t.\t+\t.\tID=OLUR_00015824;Name=OLUR_00015824;Alias=snap_masked-Contig52148-processed-gene-0.0;Note=Similar to TRIM2: Tripartite motif-containing protein 2 (Bos taurus OX%3D9913);Dbxref=CDD:cd00021,CDD:cd16587,Coils:Coil,Gene3D:G3DSA:2.120.10.30,Gene3D:G3DSA:2.60.40.10,Gene3D:G3DSA:3.30.40.10,Gene3D:G3DSA:3.30.40.200,InterPro:IPR000315,InterPro:IPR001258,InterPro:IPR001298,InterPro:IPR001841,InterPro:IPR011042,InterPro:IPR013017,InterPro:IPR013083,InterPro:IPR013783,InterPro:IPR014756,InterPro:IPR017868,InterPro:IPR017907,InterPro:IPR027370,Pfam:PF00630,Pfam:PF00643,Pfam:PF01436,Pfam:PF13445,ProSitePatterns:PS00518,ProSiteProfiles:PS50089,ProSiteProfiles:PS50119,ProSiteProfiles:PS50194,ProSiteProfiles:PS51125,SMART:SM00184,SMART:SM00557,SUPERFAMILY:SSF101898,SUPERFAMILY:SSF57845,SUPERFAMILY:SSF57850,SUPERFAMILY:SSF81296;Ontology_term=GO:0005515,GO:0005622,GO:0008270;SPID=A4IF63;\n",
      "Contig18086\t7792\t7792\tContig18086\tmaker\tgene\t1\t10669\t.\t+\t.\tID=OLUR_00020258;Name=OLUR_00020258;Alias=maker-Contig18086-snap-gene-0.2;Note=Similar to PRICKLE2: Prickle-like protein 2 (Homo sapiens OX%3D9606);Dbxref=CDD:cd09340,CDD:cd09418,CDD:cd09420,CDD:cd09827,Gene3D:G3DSA:2.10.110.10,InterPro:IPR001781,InterPro:IPR010442,InterPro:IPR033723,InterPro:IPR033726,InterPro:IPR033727,MobiDBLite:mobidb-lite,Pfam:PF00412,Pfam:PF06297,ProSitePatterns:PS00478,ProSiteProfiles:PS50023,ProSiteProfiles:PS51303,SMART:SM00132,SUPERFAMILY:SSF57716;Ontology_term=GO:0008270;SPID=Q7Z3G6;\n",
      "Contig39605\t22761\t22761\tContig39605\tmaker\tgene\t1\t28306\t.\t+\t.\tID=OLUR_00005140;Name=OLUR_00005140;Alias=maker-Contig39605-snap-gene-0.4;Note=Similar to CFAP47: Cilia- and flagella-associated protein 47 (Homo sapiens OX%3D9606);Dbxref=Gene3D:G3DSA:1.10.418.10,Gene3D:G3DSA:2.60.40.10,InterPro:IPR013783,InterPro:IPR036872,MobiDBLite:mobidb-lite,SUPERFAMILY:SSF47576;SPID=Q6ZTR5;\n",
      "Contig47538\t12037\t12037\tContig47538\tmaker\tgene\t2794\t12334\t.\t-\t.\tID=OLUR_00018284;Name=OLUR_00018284;Alias=maker-Contig47538-snap-gene-0.1;Note=Similar to KLHL3: Kelch-like protein 3 (Bos taurus OX%3D9913);Dbxref=CDD:cd14735,Gene3D:G3DSA:1.25.40.420,Gene3D:G3DSA:2.120.10.80,Gene3D:G3DSA:3.30.710.10,InterPro:IPR000210,InterPro:IPR006652,InterPro:IPR011333,InterPro:IPR011705,InterPro:IPR015915,InterPro:IPR017096,PIRSF:PIRSF037037,PRINTS:PR00501,Pfam:PF00651,Pfam:PF01344,Pfam:PF07707,ProSiteProfiles:PS50097,SMART:SM00225,SMART:SM00612,SMART:SM00875,SUPERFAMILY:SSF117281,SUPERFAMILY:SSF54695;Ontology_term=GO:0005515;SPID=F1MBP6;\n",
      "Contig18086\t7781\t7781\tContig18086\tmaker\tgene\t1\t10669\t.\t+\t.\tID=OLUR_00020258;Name=OLUR_00020258;Alias=maker-Contig18086-snap-gene-0.2;Note=Similar to PRICKLE2: Prickle-like protein 2 (Homo sapiens OX%3D9606);Dbxref=CDD:cd09340,CDD:cd09418,CDD:cd09420,CDD:cd09827,Gene3D:G3DSA:2.10.110.10,InterPro:IPR001781,InterPro:IPR010442,InterPro:IPR033723,InterPro:IPR033726,InterPro:IPR033727,MobiDBLite:mobidb-lite,Pfam:PF00412,Pfam:PF06297,ProSitePatterns:PS00478,ProSiteProfiles:PS50023,ProSiteProfiles:PS51303,SMART:SM00132,SUPERFAMILY:SSF57716;Ontology_term=GO:0008270;SPID=Q7Z3G6;\n"
     ]
    }
   ],
   "source": [
    "js(\"bedtools intersect -a ../analyses/2bRAD/mQTL/cis-meth-DMLs-350bp.bed -wb -b ../genome-features/Olurida_v081-20190709.gene.2kbslop.gff\")\n"
   ]
  },
  {
   "cell_type": "code",
   "execution_count": 38,
   "metadata": {},
   "outputs": [],
   "source": [
    "library(dplyr)\n",
    "library(ggplot2)"
   ]
  },
  {
   "cell_type": "code",
   "execution_count": 28,
   "metadata": {},
   "outputs": [],
   "source": [
    "geno <- read.table(\"../analyses/2bRAD/mQTL/MBD_HCSS_Afilt32m70_maf05_m2pop_format.tab\",header = T)"
   ]
  },
  {
   "cell_type": "code",
   "execution_count": 32,
   "metadata": {
    "kernel": "R"
   },
   "outputs": [],
   "source": [
    "geno %>% mutate_if(is.factor, as.character) -> geno"
   ]
  },
  {
   "cell_type": "code",
   "execution_count": 39,
   "metadata": {
    "kernel": "R"
   },
   "outputs": [
    {
     "name": "stderr",
     "output_type": "stream",
     "text": [
      "Bin width defaults to 1/30 of the range of the data. Pick better value with `binwidth`.\n",
      "\n",
      "Warning message:\n",
      "“Removed 1 rows containing non-finite values (stat_bindot).”\n",
      "Warning message:\n",
      "“Removed 1 rows containing non-finite values (stat_boxplot).”\n"
     ]
    },
    {
     "data": {
      "image/png": "[encoded data removed]",
      "text/plain": [
       "plot without title"
      ]
     },
     "metadata": {
      "image/png": {
       "height": 420,
       "width": 420
      }
     },
     "output_type": "display_data"
    }
   ],
   "source": [
    "loci = \"Contig31124_5961_5961\"\n",
    "m <- perc_meth %>% filter(site==loci)\n",
    "s <- meS$cis$eqtls[which(meS$cis$eqtls$gene == loci),]$snps\n",
    "\n",
    "g <- as.data.frame(t(geno[geno$id %in% s,]),stringsAsFactors = F)\n",
    "colnames(g) <- g[1,]\n",
    "g$sample <- rownames(g)\n",
    "g <- g[-1,]\n",
    "merge(m,g) %>% tidyr::gather(\"id\",\"value\",9:ncol(merge(m,g))) %>%\n",
    "ggplot(., aes(value, percMeth,colour=population)) + \n",
    "        geom_dotplot(binaxis='y', stackdir='center',dotsize=0.6) +\n",
    "        geom_boxplot(outlier.size=0, alpha=0.6, fill=\"grey\") +\n",
    "        facet_wrap(~id) + theme_bw() + ggtitle(paste0(loci,\" DML and cis-mQTL\"))"
   ]
  },
  {
   "cell_type": "code",
   "execution_count": 41,
   "metadata": {
    "kernel": "R"
   },
   "outputs": [
    {
     "name": "stderr",
     "output_type": "stream",
     "text": [
      "Bin width defaults to 1/30 of the range of the data. Pick better value with `binwidth`.\n",
      "\n"
     ]
    },
    {
     "data": {
      "image/png": "[encoded data removed]",
      "text/plain": [
       "plot without title"
      ]
     },
     "metadata": {
      "image/png": {
       "height": 420,
       "width": 420
      }
     },
     "output_type": "display_data"
    }
   ],
   "source": [
    "loci = \"Contig18086_7978_7978\"\n",
    "m <- perc_meth %>% filter(site==loci)\n",
    "s <- meS$cis$eqtls[which(meS$cis$eqtls$gene == loci),]$snps\n",
    "\n",
    "g <- as.data.frame(t(geno[geno$id %in% s,]),stringsAsFactors = F)\n",
    "colnames(g) <- g[1,]\n",
    "g$sample <- rownames(g)\n",
    "g <- g[-1,]\n",
    "merge(m,g) %>% tidyr::gather(\"id\",\"value\",9:ncol(merge(m,g))) %>%\n",
    "ggplot(., aes(value, percMeth,colour=population)) + \n",
    "        geom_dotplot(binaxis='y', stackdir='center',dotsize=0.6) +\n",
    "        geom_boxplot(outlier.size=0, alpha=0.6, fill=\"grey\") +\n",
    "        facet_wrap(~id) + theme_bw() + ggtitle(paste0(loci,\" DML and cis-mQTL\"))"
   ]
  },
  {
   "cell_type": "code",
   "execution_count": 43,
   "metadata": {
    "kernel": "R"
   },
   "outputs": [
    {
     "name": "stderr",
     "output_type": "stream",
     "text": [
      "Bin width defaults to 1/30 of the range of the data. Pick better value with `binwidth`.\n",
      "\n",
      "Warning message:\n",
      "“Removed 3 rows containing non-finite values (stat_bindot).”\n",
      "Warning message:\n",
      "“Removed 3 rows containing non-finite values (stat_boxplot).”\n"
     ]
    },
    {
     "data": {
      "image/png": "[encoded data removed]",
      "text/plain": [
       "plot without title"
      ]
     },
     "metadata": {
      "image/png": {
       "height": 420,
       "width": 420
      }
     },
     "output_type": "display_data"
    }
   ],
   "source": [
    "loci = \"Contig18086_7781_7781\"\n",
    "m <- perc_meth %>% filter(site==loci)\n",
    "s <- meS$cis$eqtls[which(meS$cis$eqtls$gene == loci),]$snps\n",
    "\n",
    "g <- as.data.frame(t(geno[geno$id %in% s,]),stringsAsFactors = F)\n",
    "colnames(g) <- g[1,]\n",
    "g$sample <- rownames(g)\n",
    "g <- g[-1,]\n",
    "merge(m,g) %>% tidyr::gather(\"id\",\"value\",9:ncol(merge(m,g))) %>%\n",
    "ggplot(., aes(value, percMeth,colour=population)) + \n",
    "        geom_dotplot(binaxis='y', stackdir='center',dotsize=0.6) +\n",
    "        geom_boxplot(outlier.size=0, alpha=0.6, fill=\"grey\") +\n",
    "        facet_wrap(~id) + theme_bw() + ggtitle(paste0(loci,\" DML and cis-mQTL\"))"
   ]
  },
  {
   "cell_type": "code",
   "execution_count": 42,
   "metadata": {
    "kernel": "R"
   },
   "outputs": [
    {
     "name": "stderr",
     "output_type": "stream",
     "text": [
      "Bin width defaults to 1/30 of the range of the data. Pick better value with `binwidth`.\n",
      "\n",
      "Warning message:\n",
      "“Removed 3 rows containing non-finite values (stat_bindot).”\n",
      "Warning message:\n",
      "“Removed 3 rows containing non-finite values (stat_boxplot).”\n"
     ]
    },
    {
     "data": {
      "image/png": "[encoded data removed]",
      "text/plain": [
       "plot without title"
      ]
     },
     "metadata": {
      "image/png": {
       "height": 420,
       "width": 420
      }
     },
     "output_type": "display_data"
    }
   ],
   "source": [
    "loci = \"Contig18086_7792_7792\"\n",
    "m <- perc_meth %>% filter(site==loci)\n",
    "s <- meS$cis$eqtls[which(meS$cis$eqtls$gene == loci),]$snps\n",
    "\n",
    "g <- as.data.frame(t(geno[geno$id %in% s,]),stringsAsFactors = F)\n",
    "colnames(g) <- g[1,]\n",
    "g$sample <- rownames(g)\n",
    "g <- g[-1,]\n",
    "merge(m,g) %>% tidyr::gather(\"id\",\"value\",9:ncol(merge(m,g))) %>%\n",
    "ggplot(., aes(value, percMeth,colour=population)) + \n",
    "        geom_dotplot(binaxis='y', stackdir='center',dotsize=0.6) +\n",
    "        geom_boxplot(outlier.size=0, alpha=0.6, fill=\"grey\") +\n",
    "        facet_wrap(~id) + theme_bw() + ggtitle(paste0(loci,\" DML and cis-mQTL\"))"
   ]
  },
  {
   "cell_type": "code",
   "execution_count": null,
   "metadata": {},
   "outputs": [],
   "source": [
    "Contig173\t13455\t13455\n",
    "Contig31124\t5961\t5961\n",
    "Contig173\t13500\t13500\n",
    "Contig168159\t621\t621\n",
    "Contig82938\t2352\t2352\n",
    "Contig39605\t22761\t22761"
   ]
  },
  {
   "cell_type": "code",
   "execution_count": 40,
   "metadata": {
    "kernel": "R"
   },
   "outputs": [
    {
     "name": "stderr",
     "output_type": "stream",
     "text": [
      "ERROR while rich displaying an object: Error: Faceting variables must have at least one value\n",
      "\n",
      "Traceback:\n",
      "1. FUN(X[[i]], ...)\n",
      "2. tryCatch(withCallingHandlers({\n",
      " .     if (!mime %in% names(repr::mime2repr)) \n",
      " .         stop(\"No repr_* for mimetype \", mime, \" in repr::mime2repr\")\n",
      " .     rpr <- repr::mime2repr[[mime]](obj)\n",
      " .     if (is.null(rpr)) \n",
      " .         return(NULL)\n",
      " .     prepare_content(is.raw(rpr), rpr)\n",
      " . }, error = error_handler), error = outer_handler)\n",
      "3. tryCatchList(expr, classes, parentenv, handlers)\n",
      "4. tryCatchOne(expr, names, parentenv, handlers[[1L]])\n",
      "5. doTryCatch(return(expr), name, parentenv, handler)\n",
      "6. withCallingHandlers({\n",
      " .     if (!mime %in% names(repr::mime2repr)) \n",
      " .         stop(\"No repr_* for mimetype \", mime, \" in repr::mime2repr\")\n",
      " .     rpr <- repr::mime2repr[[mime]](obj)\n",
      " .     if (is.null(rpr)) \n",
      " .         return(NULL)\n",
      " .     prepare_content(is.raw(rpr), rpr)\n",
      " . }, error = error_handler)\n",
      "7. repr::mime2repr[[mime]](obj)\n",
      "8. repr_text.default(obj)\n",
      "9. paste(capture.output(print(obj)), collapse = \"\\n\")\n",
      "10. capture.output(print(obj))\n",
      "11. evalVis(expr)\n",
      "12. withVisible(eval(expr, pf))\n",
      "13. eval(expr, pf)\n",
      "14. eval(expr, pf)\n",
      "15. print(obj)\n",
      "16. print.ggplot(obj)\n",
      "17. ggplot_build(x)\n",
      "18. ggplot_build.ggplot(x)\n",
      "19. layout$setup(data, plot$data, plot$plot_env)\n",
      "20. f(..., self = self)\n",
      "21. self$facet$compute_layout(data, self$facet_params)\n",
      "22. f(...)\n",
      "23. unrowname(combine_vars(data, params$plot_env, vars, drop = params$drop))\n",
      "24. is.data.frame(x)\n",
      "25. combine_vars(data, params$plot_env, vars, drop = params$drop)\n",
      "26. abort(\"Faceting variables must have at least one value\")\n",
      "27. signal_abort(cnd)\n"
     ]
    },
    {
     "data": {
      "image/png": "[encoded data removed]",
      "text/plain": [
       "plot without title"
      ]
     },
     "metadata": {
      "image/png": {
       "height": 420,
       "width": 420
      }
     },
     "output_type": "display_data"
    }
   ],
   "source": [
    "loci = \"Contig173_13455_13455\"\n",
    "m <- perc_meth %>% filter(site==loci)\n",
    "s <- meS$cis$eqtls[which(meS$cis$eqtls$gene == loci),]$snps\n",
    "\n",
    "g <- as.data.frame(t(geno[geno$id %in% s,]),stringsAsFactors = F)\n",
    "colnames(g) <- g[1,]\n",
    "g$sample <- rownames(g)\n",
    "g <- g[-1,]\n",
    "merge(m,g) %>% tidyr::gather(\"id\",\"value\",9:ncol(merge(m,g))) %>%\n",
    "ggplot(., aes(value, percMeth,colour=population)) + \n",
    "        geom_dotplot(binaxis='y', stackdir='center',dotsize=0.6) +\n",
    "        geom_boxplot(outlier.size=0, alpha=0.6, fill=\"grey\") +\n",
    "        facet_wrap(~id) + theme_bw() + ggtitle(paste0(loci,\" DML and cis-mQTL\"))"
   ]
  },
  {
   "cell_type": "code",
   "execution_count": 53,
   "metadata": {
    "kernel": "R"
   },
   "outputs": [
    {
     "name": "stderr",
     "output_type": "stream",
     "text": [
      "`stat_bindot()` using `bins = 30`. Pick better value with `binwidth`.\n",
      "\n",
      "Warning message:\n",
      "“Removed 1 rows containing non-finite values (stat_bindot).”\n",
      "Warning message:\n",
      "“Removed 1 rows containing non-finite values (stat_boxplot).”\n"
     ]
    },
    {
     "data": {
      "image/png": "[encoded data removed]",
      "text/plain": [
       "plot without title"
      ]
     },
     "metadata": {
      "image/png": {
       "height": 420,
       "width": 420
      }
     },
     "output_type": "display_data"
    }
   ],
   "source": [
    "loci = \"Contig173_13500_13500\"\n",
    "m <- perc_meth %>% filter(site==loci)\n",
    "s <- meS$cis$eqtls[which(meS$cis$eqtls$gene == loci),]$snps\n",
    "\n",
    "g <- as.data.frame(t(geno[geno$id %in% s,]),stringsAsFactors = F)\n",
    "colnames(g) <- g[1,]\n",
    "g$sample <- rownames(g)\n",
    "g <- g[-1,]\n",
    "merge(m,g) %>% tidyr::gather(\"id\",\"value\",9:ncol(merge(m,g))) %>%\n",
    "ggplot(., aes(value, percMeth,colour=population)) + \n",
    "        geom_dotplot(binaxis='y', stackdir='center',dotsize=0.6) +\n",
    "        geom_boxplot(outlier.size=0, alpha=0.6, fill=\"grey\") +\n",
    "        facet_wrap(~id) + theme_bw() + ggtitle(paste0(loci,\" DML and cis-mQTL\"))"
   ]
  },
  {
   "cell_type": "code",
   "execution_count": 54,
   "metadata": {
    "kernel": "R"
   },
   "outputs": [
    {
     "name": "stderr",
     "output_type": "stream",
     "text": [
      "`stat_bindot()` using `bins = 30`. Pick better value with `binwidth`.\n",
      "\n",
      "Warning message:\n",
      "“Removed 4 rows containing non-finite values (stat_bindot).”\n",
      "Warning message:\n",
      "“Removed 4 rows containing non-finite values (stat_boxplot).”\n"
     ]
    },
    {
     "data": {
      "image/png": "[encoded data removed]",
      "text/plain": [
       "plot without title"
      ]
     },
     "metadata": {
      "image/png": {
       "height": 420,
       "width": 420
      }
     },
     "output_type": "display_data"
    }
   ],
   "source": [
    "loci = \"Contig168159_621_621\"\n",
    "m <- perc_meth %>% filter(site==loci)\n",
    "s <- meS$cis$eqtls[which(meS$cis$eqtls$gene == loci),]$snps\n",
    "\n",
    "g <- as.data.frame(t(geno[geno$id %in% s,]),stringsAsFactors = F)\n",
    "colnames(g) <- g[1,]\n",
    "g$sample <- rownames(g)\n",
    "g <- g[-1,]\n",
    "merge(m,g) %>% tidyr::gather(\"id\",\"value\",9:ncol(merge(m,g))) %>%\n",
    "ggplot(., aes(value, percMeth,colour=population)) + \n",
    "        geom_dotplot(binaxis='y', stackdir='center',dotsize=0.6) +\n",
    "        geom_boxplot(outlier.size=0, alpha=0.6, fill=\"grey\") +\n",
    "        facet_wrap(~id) + theme_bw() + ggtitle(paste0(loci,\" DML and cis-mQTL\"))"
   ]
  },
  {
   "cell_type": "markdown",
   "metadata": {},
   "source": [
    "* What percent of DMLs overall are associated with a distant mqtl vs non overall dmls"
   ]
  },
  {
   "cell_type": "code",
   "execution_count": 22,
   "metadata": {},
   "outputs": [
    {
     "name": "stdout",
     "output_type": "stream",
     "text": [
      "\n",
      "2112 ../analyses/2bRAD/mQTL/background-meth-DML-350bp.bed\n"
     ]
    }
   ],
   "source": [
    "js(\"bedtools window -w 350 -u -a ../analyses/2bRAD/mQTL/meth_allsites_mbd.bed -b ../analyses/DMLs/dml25_forIGV.bed >  ../analyses/2bRAD/mQTL/background-meth-DML-350bp.bed\")\n",
    "js(\"wc -l ../analyses/2bRAD/mQTL/background-meth-DML-350bp.bed\")"
   ]
  },
  {
   "cell_type": "code",
   "execution_count": 23,
   "metadata": {},
   "outputs": [
    {
     "name": "stdout",
     "output_type": "stream",
     "text": [
      "\n",
      "12 ../analyses/2bRAD/mQTL/trans-meth-DMLs-350bp.bed\n"
     ]
    }
   ],
   "source": [
    "# how many DMLs near a distant methQTL meth site\n",
    "js(\"bedtools window -w 350 -u -a ../analyses/2bRAD/mQTL/meth_mbd_maf05_sites_transF05.bed -b ../analyses/DMLs/dml25_forIGV.bed > ../analyses/2bRAD/mQTL/trans-meth-DMLs-350bp.bed\")\n",
    "js(\"wc -l ../analyses/2bRAD/mQTL/trans-meth-DMLs-350bp.bed\")"
   ]
  },
  {
   "cell_type": "markdown",
   "metadata": {},
   "source": [
    "### are proportion of local mQTL with DML higher than distant mQTL with DML? yes (14.9% vs 3.3%)"
   ]
  },
  {
   "cell_type": "code",
   "execution_count": 14,
   "metadata": {},
   "outputs": [],
   "source": [
    "Input=(\"\n",
    "DML    local distant\n",
    "mQ     18      12\n",
    "nmQ  139   2112\n",
    "\")"
   ]
  },
  {
   "cell_type": "code",
   "execution_count": 15,
   "metadata": {},
   "outputs": [
    {
     "data": {
      "text/plain": [
       "\n",
       "\tFisher's Exact Test for Count Data\n",
       "\n",
       "data:  Matriz\n",
       "p-value = 1.965e-14\n",
       "alternative hypothesis: true odds ratio is not equal to 1\n",
       "95 percent confidence interval:\n",
       " 10.11296 52.78938\n",
       "sample estimates:\n",
       "odds ratio \n",
       "  22.69976 \n"
      ]
     },
     "metadata": {},
     "output_type": "display_data"
    }
   ],
   "source": [
    "\n",
    "Matriz = as.matrix(read.table(textConnection(Input),\n",
    "                   header=TRUE, \n",
    "                   row.names=1))\n",
    "fisher.test(Matriz,alternative = \"two.sided\")"
   ]
  },
  {
   "cell_type": "code",
   "execution_count": 26,
   "metadata": {},
   "outputs": [
    {
     "name": "stdout",
     "output_type": "stream",
     "text": [
      "Contig32656\t11956\t11956\n",
      "Contig48322\t769\t769\n",
      "Contig34596\t13436\t13436\n",
      "Contig152\t9299\t9299\n",
      "Contig158671\t1771\t1771\n",
      "Contig31171\t23860\t23860\n",
      "Contig128000\t3308\t3308\n",
      "Contig9165\t801\t801\n",
      "Contig857\t14584\t14584\n",
      "Contig62898\t1215\t1215\n",
      "Contig47816\t2372\t2372\n",
      "Contig17966\t14589\t14589\n"
     ]
    }
   ],
   "source": [
    "js(\"cat ../analyses/2bRAD/mQTL/trans-meth-DMLs-350bp.bed\")"
   ]
  },
  {
   "cell_type": "code",
   "execution_count": 27,
   "metadata": {},
   "outputs": [
    {
     "name": "stdout",
     "output_type": "stream",
     "text": [
      "Contig32656\t11956\t11956\tContig32656\tmaker\tgene\t3107\t13766\t.\t-\t.\tID=OLUR_00016774;Name=OLUR_00016774;Alias=maker-Contig32656-snap-gene-0.3;Note=Protein of unknown function;Dbxref=MobiDBLite:mobidb-lite;\n",
      "Contig34596\t13436\t13436\tContig34596\tmaker\tgene\t10571\t27315\t.\t+\t.\tID=OLUR_00006369;Name=OLUR_00006369;Alias=maker-Contig34596-snap-gene-0.4;Note=Protein of unknown function;Dbxref=MobiDBLite:mobidb-lite;\n",
      "Contig152\t9299\t9299\tContig152\tmaker\tgene\t4965\t37832\t.\t-\t.\tID=OLUR_00002517;Name=OLUR_00002517;Alias=snap_masked-Contig152-processed-gene-0.3;Note=Similar to ahctf1: Protein ELYS (Xenopus laevis OX%3D8355);Dbxref=Coils:Coil,InterPro:IPR025151,InterPro:IPR032040,MobiDBLite:mobidb-lite,Pfam:PF13934,Pfam:PF16687;SPID=Q5U249;\n",
      "Contig31171\t23860\t23860\tContig31171\tmaker\tgene\t1\t40835\t.\t-\t.\tID=OLUR_00000353;Name=OLUR_00000353;Alias=maker-Contig31171-snap-gene-0.6;Note=Similar to Crocc: Rootletin (Mus musculus OX%3D10090);Dbxref=Coils:Coil,Gene3D:G3DSA:1.20.5.340,MobiDBLite:mobidb-lite,Pfam:PF15035,SUPERFAMILY:SSF57997;SPID=Q8CJ40;\n",
      "Contig128000\t3308\t3308\tContig128000\tmaker\tgene\t1\t12648\t.\t+\t.\tID=OLUR_00017934;Name=OLUR_00017934;Alias=maker-Contig128000-snap-gene-0.2;Note=Protein of unknown function;Dbxref=Coils:Coil,MobiDBLite:mobidb-lite;\n",
      "Contig62898\t1215\t1215\tContig62898\tmaker\tgene\t1\t6160\t.\t-\t.\tID=OLUR_00025497;Name=OLUR_00025497;Alias=maker-Contig62898-snap-gene-0.1;Note=Similar to Suclg1: Succinate--CoA ligase [ADP/GDP-forming] subunit alpha%2C mitochondrial (Rattus norvegicus OX%3D10116);Dbxref=Gene3D:G3DSA:3.40.50.261,Gene3D:G3DSA:3.40.50.720,InterPro:IPR003781,InterPro:IPR005810,InterPro:IPR005811,InterPro:IPR016102,InterPro:IPR033847,InterPro:IPR036291,PRINTS:PR01798,Pfam:PF00549,Pfam:PF02629,ProSitePatterns:PS01216,SMART:SM00881,SUPERFAMILY:SSF51735,SUPERFAMILY:SSF52210,TIGRFAM:TIGR01019;Ontology_term=GO:0003824,GO:0048037;SPID=P13086;\n",
      "Contig47816\t2372\t2372\tContig47816\tmaker\tgene\t30\t4596\t.\t+\t.\tID=OLUR_00025764;Name=OLUR_00025764;Alias=snap_masked-Contig47816-processed-gene-0.0;Note=Protein of unknown function;Dbxref=MobiDBLite:mobidb-lite;\n",
      "Contig17966\t14589\t14589\tContig17966\tmaker\tgene\t13916\t28806\t.\t+\t.\tID=OLUR_00006618;Name=OLUR_00006618;Alias=maker-Contig17966-snap-gene-0.6;Note=Similar to Mon1a: Vacuolar fusion protein MON1 homolog A (Mus musculus OX%3D10090);Dbxref=Coils:Coil,InterPro:IPR004353,PRINTS:PR01546,Pfam:PF03164;SPID=Q6PDG8;\n"
     ]
    }
   ],
   "source": [
    "js(\"bedtools intersect -a ../analyses/2bRAD/mQTL/trans-meth-DMLs-350bp.bed -wb -b ../genome-features/Olurida_v081-20190709.gene.2kbslop.gff\")\n"
   ]
  },
  {
   "cell_type": "code",
   "execution_count": null,
   "metadata": {},
   "outputs": [],
   "source": []
  },
  {
   "cell_type": "code",
   "execution_count": null,
   "metadata": {},
   "outputs": [],
   "source": []
  },
  {
   "cell_type": "code",
   "execution_count": null,
   "metadata": {},
   "outputs": [],
   "source": []
  },
  {
   "cell_type": "code",
   "execution_count": null,
   "metadata": {
    "kernel": "R"
   },
   "outputs": [],
   "source": []
  }
 ],
 "metadata": {
  "kernelspec": {
   "display_name": "R oyster 4",
   "language": "R",
   "name": "ir4-oyster"
  },
  "language_info": {
   "codemirror_mode": "r",
   "file_extension": ".r",
   "mimetype": "text/x-r-source",
   "name": "R",
   "pygments_lexer": "r",
   "version": "4.1.1"
  },
  "sos": {
   "kernels": [
    [
     "Bash",
     "bash",
     "bash",
     "",
     "shell"
    ],
    [
     "R",
     "ir",
     "R",
     "#DCDCDA",
     "r"
    ],
    [
     "SoS",
     "sos",
     "",
     "",
     "sos"
    ]
   ],
   "panel": {
    "displayed": true,
    "height": 0
   },
   "version": "0.21.7"
  }
 },
 "nbformat": 4,
 "nbformat_minor": 4
}
