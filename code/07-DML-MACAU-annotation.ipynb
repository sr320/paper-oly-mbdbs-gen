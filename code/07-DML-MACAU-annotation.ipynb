{
 "cells": [
  {
   "cell_type": "markdown",
   "metadata": {},
   "source": [
    "## Use bedtools to see where DMLs and MACAU loci are located.\n",
    "\n",
    "DMLs between the Olympia oyster populations, Hood Canal and South Sound, were identified using MethylKit. File is: [analyses/dml25.bed](https://github.com/sr320/paper-oly-mbdbs-gen/blob/master/analyses/dml25.bed) \n",
    "\n",
    "MACAU was used to identify loci at which methylation is associated with a phenotype, in our case shell length, while controlling for relatedness. \n",
    "- Loci, all samples with 10x coverage: [analyses/macau-all10x.bed](https://github.com/sr320/paper-oly-mbdbs-gen/blob/master/analyses/macau-all10x.bed)\n",
    "- Loci, any samples with 10x coverage:[analyses/macau-any10x.bed](https://github.com/sr320/paper-oly-mbdbs-gen/blob/master/analyses/macau-any10x.bed)"
   ]
  },
  {
   "cell_type": "code",
   "execution_count": 1,
   "metadata": {},
   "outputs": [
    {
     "data": {
      "text/plain": [
       "'/Users/laura/Documents/roberts-lab/paper-oly-mbdbs-gen/code'"
      ]
     },
     "execution_count": 1,
     "metadata": {},
     "output_type": "execute_result"
    }
   ],
   "source": [
    "pwd"
   ]
  },
  {
   "cell_type": "markdown",
   "metadata": {},
   "source": [
    "### Make directory for BED output"
   ]
  },
  {
   "cell_type": "code",
   "execution_count": 2,
   "metadata": {},
   "outputs": [],
   "source": [
    "mkdir ../analyses/BEDtools/"
   ]
  },
  {
   "cell_type": "markdown",
   "metadata": {},
   "source": [
    "### Preview DML and MACAU loci bed files "
   ]
  },
  {
   "cell_type": "code",
   "execution_count": 3,
   "metadata": {},
   "outputs": [
    {
     "name": "stdout",
     "output_type": "stream",
     "text": [
      "Contig102998\t2220\t2222\t26\n",
      "Contig104531\t8145\t8147\t-37\n",
      "Contig109515\t3377\t3379\t54\n",
      "Contig1104\t15920\t15922\t29\n",
      "Contig128059\t154\t156\t-27\n",
      "Contig129435\t3172\t3174\t-26\n",
      "Contig1297\t49910\t49912\t25\n",
      "Contig131260\t1798\t1800\t-29\n",
      "Contig132309\t816\t818\t28\n",
      "Contig13829\t2520\t2522\t25\n",
      "      51 ../analyses/dml25.bed\n"
     ]
    }
   ],
   "source": [
    "DML = \"../analyses/dml25.bed\"\n",
    "!head {DML}\n",
    "!wc -l {DML}"
   ]
  },
  {
   "cell_type": "code",
   "execution_count": 4,
   "metadata": {},
   "outputs": [
    {
     "name": "stdout",
     "output_type": "stream",
     "text": [
      "Contig110278\t3989\t3989\n",
      "Contig110906\t429\t429\n",
      "Contig11177\t2433\t2433\n",
      "Contig112997\t5372\t5372\n",
      "Contig113403\t874\t874\n",
      "Contig120547\t984\t984\n",
      "Contig12795\t477\t477\n",
      "Contig132207\t6026\t6026\n",
      "Contig136499\t1267\t1267\n",
      "Contig141213\t6476\t6476\n",
      "      90 ../analyses/macau/macau-10x75perc.bed\n"
     ]
    }
   ],
   "source": [
    "macau75 = \"../analyses/macau/macau-10x75perc.bed\"\n",
    "!head {macau75}\n",
    "!wc -l {macau75}"
   ]
  },
  {
   "cell_type": "markdown",
   "metadata": {},
   "source": [
    "### Set file paths for feature files \n",
    "\n",
    "[Olurida_v081.gene.gff](https://github.com/sr320/paper-oly-mbdbs-gen/blob/master/genome-features/Olurida_v081.gene.gff) - genes    \n",
    "[Olurida_v081.CDS.gff](https://github.com/sr320/paper-oly-mbdbs-gen/blob/master/genome-features/Olurida_v081.CDS.gff) - Coding regions of genes    \n",
    "[Olurida_v081.exon.gff](https://github.com/sr320/paper-oly-mbdbs-gen/blob/master/genome-features/Olurida_v081.exon.gff) - Exons   \n",
    "[Olurida_v081.intron.bed](https://github.com/sr320/paper-oly-mbdbs-gen/blob/master/genome-features/Olurida_v081.intron.bed) - Introns    \n",
    "[Olurida_v081.mRNA.gff](https://github.com/sr320/paper-oly-mbdbs-gen/blob/master/genome-features/Olurida_v081.mRNA.gff) - mRNA    \n",
    "[Olurida_v081.three_prime_UTR.gff](https://github.com/sr320/paper-oly-mbdbs-gen/blob/master/genome-features/Olurida_v081.three_prime_UTR.gff) - 3' untranslated regions   \n",
    "[Olurida_v081.five_prime_UTR.gff](https://github.com/sr320/paper-oly-mbdbs-gen/blob/master/genome-features/Olurida_v081.five_prime_UTR.gff) - 5' untranslated regions   \n",
    "[Olurida_v081_TE-Cg.gff](https://github.com/sr320/paper-oly-mbdbs-gen/blob/master/genome-features/Olurida_v081_TE-Cg.gff) - Transposable elements  "
   ]
  },
  {
   "cell_type": "code",
   "execution_count": 7,
   "metadata": {},
   "outputs": [],
   "source": [
    "CDS = \"../genome-features/Olurida_v081.CDS.gff\"\n",
    "exon = \"../genome-features/Olurida_v081.exon.gff\"\n",
    "UTR5 = \"../genome-features/Olurida_v081.five_prime_UTR.gff\"\n",
    "gene = \"../genome-features/Olurida_v081.gene.gff\"\n",
    "intron = \"../genome-features/Olurida_v081.intron.bed\"\n",
    "mRNA = \"../genome-features/Olurida_v081.mRNA.gff\"\n",
    "UTR3 = \"../genome-features/Olurida_v081.three_prime_UTR.gff\"\n",
    "TE = \"../genome-features/Olurida_v081_TE-Cg.gff\"\n",
    "AllLoci = \"../analyses/macau/macau-all-loci.bed\""
   ]
  },
  {
   "cell_type": "code",
   "execution_count": 8,
   "metadata": {},
   "outputs": [
    {
     "name": "stdout",
     "output_type": "stream",
     "text": [
      "\r\n",
      "Tool:    bedtools intersect (aka intersectBed)\r\n",
      "Version: v2.29.0\r\n",
      "Summary: Report overlaps between two feature files.\r\n",
      "\r\n",
      "Usage:   bedtools intersect [OPTIONS] -a <bed/gff/vcf/bam> -b <bed/gff/vcf/bam>\r\n",
      "\r\n",
      "\tNote: -b may be followed with multiple databases and/or \r\n",
      "\twildcard (*) character(s). \r\n",
      "Options: \r\n",
      "\t-wa\tWrite the original entry in A for each overlap.\r\n",
      "\r\n",
      "\t-wb\tWrite the original entry in B for each overlap.\r\n",
      "\t\t- Useful for knowing _what_ A overlaps. Restricted by -f and -r.\r\n",
      "\r\n",
      "\t-loj\tPerform a \"left outer join\". That is, for each feature in A\r\n",
      "\t\treport each overlap with B.  If no overlaps are found, \r\n",
      "\t\treport a NULL feature for B.\r\n",
      "\r\n",
      "\t-wo\tWrite the original A and B entries plus the number of base\r\n",
      "\t\tpairs of overlap between the two features.\r\n",
      "\t\t- Overlaps restricted by -f and -r.\r\n",
      "\t\t  Only A features with overlap are reported.\r\n",
      "\r\n",
      "\t-wao\tWrite the original A and B entries plus the number of base\r\n",
      "\t\tpairs of overlap between the two features.\r\n",
      "\t\t- Overlapping features restricted by -f and -r.\r\n",
      "\t\t  However, A features w/o overlap are also reported\r\n",
      "\t\t  with a NULL B feature and overlap = 0.\r\n",
      "\r\n",
      "\t-u\tWrite the original A entry _once_ if _any_ overlaps found in B.\r\n",
      "\t\t- In other words, just report the fact >=1 hit was found.\r\n",
      "\t\t- Overlaps restricted by -f and -r.\r\n",
      "\r\n",
      "\t-c\tFor each entry in A, report the number of overlaps with B.\r\n",
      "\t\t- Reports 0 for A entries that have no overlap with B.\r\n",
      "\t\t- Overlaps restricted by -f, -F, -r, and -s.\r\n",
      "\r\n",
      "\t-C\tFor each entry in A, separately report the number of\r\n",
      "\t\t- overlaps with each B file on a distinct line.\r\n",
      "\t\t- Reports 0 for A entries that have no overlap with B.\r\n",
      "\t\t- Overlaps restricted by -f, -F, -r, and -s.\r\n",
      "\r\n",
      "\t-v\tOnly report those entries in A that have _no overlaps_ with B.\r\n",
      "\t\t- Similar to \"grep -v\" (an homage).\r\n",
      "\r\n",
      "\t-ubam\tWrite uncompressed BAM output. Default writes compressed BAM.\r\n",
      "\r\n",
      "\t-s\tRequire same strandedness.  That is, only report hits in B\r\n",
      "\t\tthat overlap A on the _same_ strand.\r\n",
      "\t\t- By default, overlaps are reported without respect to strand.\r\n",
      "\r\n",
      "\t-S\tRequire different strandedness.  That is, only report hits in B\r\n",
      "\t\tthat overlap A on the _opposite_ strand.\r\n",
      "\t\t- By default, overlaps are reported without respect to strand.\r\n",
      "\r\n",
      "\t-f\tMinimum overlap required as a fraction of A.\r\n",
      "\t\t- Default is 1E-9 (i.e., 1bp).\r\n",
      "\t\t- FLOAT (e.g. 0.50)\r\n",
      "\r\n",
      "\t-F\tMinimum overlap required as a fraction of B.\r\n",
      "\t\t- Default is 1E-9 (i.e., 1bp).\r\n",
      "\t\t- FLOAT (e.g. 0.50)\r\n",
      "\r\n",
      "\t-r\tRequire that the fraction overlap be reciprocal for A AND B.\r\n",
      "\t\t- In other words, if -f is 0.90 and -r is used, this requires\r\n",
      "\t\t  that B overlap 90% of A and A _also_ overlaps 90% of B.\r\n",
      "\r\n",
      "\t-e\tRequire that the minimum fraction be satisfied for A OR B.\r\n",
      "\t\t- In other words, if -e is used with -f 0.90 and -F 0.10 this requires\r\n",
      "\t\t  that either 90% of A is covered OR 10% of  B is covered.\r\n",
      "\t\t  Without -e, both fractions would have to be satisfied.\r\n",
      "\r\n",
      "\t-split\tTreat \"split\" BAM or BED12 entries as distinct BED intervals.\r\n",
      "\r\n",
      "\t-g\tProvide a genome file to enforce consistent chromosome sort order\r\n",
      "\t\tacross input files. Only applies when used with -sorted option.\r\n",
      "\r\n",
      "\t-nonamecheck\tFor sorted data, don't throw an error if the file has different naming conventions\r\n",
      "\t\t\tfor the same chromosome. ex. \"chr1\" vs \"chr01\".\r\n",
      "\r\n",
      "\t-sorted\tUse the \"chromsweep\" algorithm for sorted (-k1,1 -k2,2n) input.\r\n",
      "\r\n",
      "\t-names\tWhen using multiple databases, provide an alias for each that\r\n",
      "\t\twill appear instead of a fileId when also printing the DB record.\r\n",
      "\r\n",
      "\t-filenames\tWhen using multiple databases, show each complete filename\r\n",
      "\t\t\tinstead of a fileId when also printing the DB record.\r\n",
      "\r\n",
      "\t-sortout\tWhen using multiple databases, sort the output DB hits\r\n",
      "\t\t\tfor each record.\r\n",
      "\r\n",
      "\t-bed\tIf using BAM input, write output as BED.\r\n",
      "\r\n",
      "\t-header\tPrint the header from the A file prior to results.\r\n",
      "\r\n",
      "\t-nobuf\tDisable buffered output. Using this option will cause each line\r\n",
      "\t\tof output to be printed as it is generated, rather than saved\r\n",
      "\t\tin a buffer. This will make printing large output files \r\n",
      "\t\tnoticeably slower, but can be useful in conjunction with\r\n",
      "\t\tother software tools and scripts that need to process one\r\n",
      "\t\tline of bedtools output at a time.\r\n",
      "\r\n",
      "\t-iobuf\tSpecify amount of memory to use for input buffer.\r\n",
      "\t\tTakes an integer argument. Optional suffixes K/M/G supported.\r\n",
      "\t\tNote: currently has no effect with compressed files.\r\n",
      "\r\n",
      "Notes: \r\n",
      "\t(1) When a BAM file is used for the A file, the alignment is retained if overlaps exist,\r\n",
      "\tand excluded if an overlap cannot be found.  If multiple overlaps exist, they are not\r\n",
      "\treported, as we are only testing for one or more overlaps.\r\n",
      "\r\n",
      "\r\n",
      "\r\n",
      "\r\n",
      "***** ERROR: No input file given. Exiting. *****\r\n"
     ]
    }
   ],
   "source": [
    "! bedtools intersect \\"
   ]
  },
  {
   "cell_type": "markdown",
   "metadata": {},
   "source": [
    "Bedtool options to use:  \n",
    "`-u` - Write the original A entry _once_ if _any_ overlaps found in B, _i.e._ just report the fact >=1 hit was found  \n",
    "`-a` - File A  \n",
    "`-b` - File B  "
   ]
  },
  {
   "cell_type": "markdown",
   "metadata": {},
   "source": [
    "## 1. DMLs "
   ]
  },
  {
   "cell_type": "code",
   "execution_count": 9,
   "metadata": {},
   "outputs": [
    {
     "name": "stdout",
     "output_type": "stream",
     "text": [
      "Total methylated loci:\n",
      "  256043\n",
      "Loci differentially methylated between SS and HC populations:\n",
      "      51\n",
      "Loci that overlap with genes:\n",
      "      22\n",
      "Loci that overlap with exons:\n",
      "      20\n",
      "Loci that overlap with introns:\n",
      "       2\n",
      "Loci that overlap with coding sequences:\n",
      "      19\n",
      "Loci that overlap with 3' UTRs:\n",
      "       1\n",
      "Loci that overlap with 5' UTRs:\n",
      "       0\n",
      "Loci that overlap with mRNA:\n",
      "      22\n",
      "Loci that overlap with transposable elements:\n",
      "       3\n",
      "Loci that do not overlap with known features:\n",
      "      29\n"
     ]
    }
   ],
   "source": [
    "! echo \"Total methylated loci:\" \n",
    "! cat {AllLoci} | wc -l\n",
    "\n",
    "! echo \"Loci differentially methylated between SS and HC populations:\"\n",
    "! cat {DML} | wc -l \n",
    "\n",
    "!echo \"Loci that overlap with genes:\"\n",
    "! bedtools intersect \\\n",
    "-u \\\n",
    "-a {DML} \\\n",
    "-b {gene} | wc -l\n",
    "\n",
    "!echo \"Loci that overlap with exons:\"\n",
    "! bedtools intersect \\\n",
    "-u \\\n",
    "-a {DML} \\\n",
    "-b {exon} | wc -l\n",
    "\n",
    "!echo \"Loci that overlap with introns:\"\n",
    "! bedtools intersect \\\n",
    "-u \\\n",
    "-a {DML} \\\n",
    "-b {intron} | wc -l\n",
    "\n",
    "!echo \"Loci that overlap with coding sequences:\"\n",
    "! bedtools intersect \\\n",
    "-u \\\n",
    "-a {DML} \\\n",
    "-b {CDS} | wc -l\n",
    "\n",
    "!echo \"Loci that overlap with 3' UTRs:\"\n",
    "! bedtools intersect \\\n",
    "-u \\\n",
    "-a {DML} \\\n",
    "-b {UTR3} | wc -l\n",
    "\n",
    "!echo \"Loci that overlap with 5' UTRs:\"\n",
    "! bedtools intersect \\\n",
    "-u \\\n",
    "-a {DML} \\\n",
    "-b {UTR5} | wc -l\n",
    "\n",
    "!echo \"Loci that overlap with mRNA:\"\n",
    "! bedtools intersect \\\n",
    "-u \\\n",
    "-a {DML} \\\n",
    "-b {mRNA} | wc -l\n",
    "\n",
    "!echo \"Loci that overlap with transposable elements:\"\n",
    "! bedtools intersect \\\n",
    "-u \\\n",
    "-a {DML} \\\n",
    "-b {TE} | wc -l\n",
    "\n",
    "!echo \"Loci that do not overlap with known features:\"\n",
    "! bedtools intersect \\\n",
    "-v \\\n",
    "-a {DML} \\\n",
    "-b {mRNA} | wc -l"
   ]
  },
  {
   "cell_type": "markdown",
   "metadata": {},
   "source": [
    "### Save DML lists to file "
   ]
  },
  {
   "cell_type": "code",
   "execution_count": 10,
   "metadata": {},
   "outputs": [],
   "source": [
    "! bedtools intersect -wb -a {DML} -b {gene} >  ../analyses/BEDtools/DML-gene.txt\n",
    "! bedtools intersect -wb -a {DML} -b {exon} >  ../analyses/BEDtools/DML-exon.txt\n",
    "! bedtools intersect -wb -a {DML} -b {intron} >  ../analyses/BEDtools/DML-intron.txt\n",
    "! bedtools intersect -wb -a {DML} -b {CDS} >  ../analyses/BEDtools/DML-CDS.txt\n",
    "! bedtools intersect -wb -a {DML} -b {UTR3} >  ../analyses/BEDtools/DML-UTR3.txt\n",
    "! bedtools intersect -wb -a {DML} -b {mRNA} >  ../analyses/BEDtools/DML-mRNA.txt\n",
    "! bedtools intersect -wb -a {DML} -b {TE} >  ../analyses/BEDtools/DML-TE.txt\n",
    "! bedtools intersect -v -a {DML} -b {gene} {exon} {intron} {CDS} {UTR3} {UTR5} {mRNA} {TE} >  ../analyses/BEDtools/DML-intragenic.txt"
   ]
  },
  {
   "cell_type": "markdown",
   "metadata": {},
   "source": [
    "### Save background loci feature lists to files "
   ]
  },
  {
   "cell_type": "code",
   "execution_count": 16,
   "metadata": {},
   "outputs": [
    {
     "name": "stdout",
     "output_type": "stream",
     "text": [
      "genes\n",
      "   98741\n",
      "exon\n",
      "   74880\n",
      "intron\n",
      "   23983\n",
      "CDS\n",
      "   72939\n",
      "UTR3\n",
      "    1581\n",
      "UTR5\n",
      "     411\n",
      "mRNA\n",
      "   98741\n",
      "TE\n",
      "   15510\n",
      "intragenic\n",
      "  144501\n"
     ]
    }
   ],
   "source": [
    "! echo \"genes\" \n",
    "! bedtools intersect -u -a {AllLoci} -b {gene} | wc -l\n",
    "! echo \"exon\" \n",
    "! bedtools intersect -u -a {AllLoci} -b {exon} | wc -l\n",
    "! echo \"intron\" \n",
    "! bedtools intersect -u -a {AllLoci} -b {intron} | wc -l\n",
    "! echo \"CDS\" \n",
    "! bedtools intersect -u -a {AllLoci} -b {CDS} | wc -l\n",
    "! echo \"UTR3\" \n",
    "! bedtools intersect -u -a {AllLoci} -b {UTR3} | wc -l\n",
    "! echo \"UTR5\" \n",
    "! bedtools intersect -u -a {AllLoci} -b {UTR5} | wc -l\n",
    "! echo \"mRNA\"\n",
    "! bedtools intersect -u -a {AllLoci} -b {mRNA} | wc -l\n",
    "! echo \"TE\" \n",
    "! bedtools intersect -u -a {AllLoci} -b {TE} | wc -l\n",
    "! echo \"intragenic\" \n",
    "! bedtools intersect -v -a {AllLoci} -b {gene} {exon} {intron} {CDS} {UTR3} {UTR5} {mRNA} {TE} | wc -l"
   ]
  },
  {
   "cell_type": "code",
   "execution_count": 17,
   "metadata": {},
   "outputs": [],
   "source": [
    "! bedtools intersect -wb -a {AllLoci} -b {gene} >  ../analyses/BEDtools/AllLoci-gene.txt\n",
    "! bedtools intersect -wb -a {AllLoci} -b {exon} >  ../analyses/BEDtools/AllLoci-exon.txt\n",
    "! bedtools intersect -wb -a {AllLoci} -b {intron} >  ../analyses/BEDtools/AllLoci-intron.txt\n",
    "! bedtools intersect -wb -a {AllLoci} -b {CDS} >  ../analyses/BEDtools/AllLoci-CDS.txt\n",
    "! bedtools intersect -wb -a {AllLoci} -b {UTR3} >  ../analyses/BEDtools/AllLoci-UTR3.txt\n",
    "! bedtools intersect -wb -a {AllLoci} -b {UTR5} >  ../analyses/BEDtools/AllLoci-UTR5.txt\n",
    "! bedtools intersect -wb -a {AllLoci} -b {mRNA} >  ../analyses/BEDtools/AllLoci-mRNA.txt\n",
    "! bedtools intersect -wb -a {AllLoci} -b {TE} >  ../analyses/BEDtools/AllLoci-TE.txt\n",
    "! bedtools intersect -v -a {AllLoci} -b {gene} {exon} {intron} {CDS} {UTR3} {UTR5} {mRNA} {TE} >  ../analyses/BEDtools/AllLoci-intragenic.txt"
   ]
  },
  {
   "cell_type": "markdown",
   "metadata": {},
   "source": [
    "## 2. MACAU Loci "
   ]
  },
  {
   "cell_type": "code",
   "execution_count": 12,
   "metadata": {},
   "outputs": [
    {
     "name": "stdout",
     "output_type": "stream",
     "text": [
      "Total methylated loci:\n",
      "  256043\n",
      "Loci associated with shell length (MACAU):\n",
      "      90\n",
      "Loci that overlap with genes:\n",
      "      40\n",
      "Loci that overlap with exons:\n",
      "      36\n",
      "Loci that overlap with introns:\n",
      "       4\n",
      "Loci that overlap with coding sequences:\n",
      "      35\n",
      "Loci that overlap with 3' UTRs:\n",
      "       1\n",
      "Loci that overlap with 5' UTRs:\n",
      "       0\n",
      "Loci that overlap with mRNA:\n",
      "      40\n",
      "Loci that overlap with transposable elements:\n",
      "       1\n",
      "Loci that do not overlap with known features:\n",
      "      50\n"
     ]
    }
   ],
   "source": [
    "! echo \"Total methylated loci:\" \n",
    "! cat ../analyses/macau/macau-all-loci.bed | wc -l\n",
    "\n",
    "! echo \"Loci associated with shell length (MACAU):\"\n",
    "! cat {macau75} | wc -l \n",
    "\n",
    "!echo \"Loci that overlap with genes:\"\n",
    "! bedtools intersect \\\n",
    "-u \\\n",
    "-a {macau75} \\\n",
    "-b {gene} | wc -l\n",
    "\n",
    "!echo \"Loci that overlap with exons:\"\n",
    "! bedtools intersect \\\n",
    "-u \\\n",
    "-a {macau75} \\\n",
    "-b {exon} | wc -l\n",
    "\n",
    "!echo \"Loci that overlap with introns:\"\n",
    "! bedtools intersect \\\n",
    "-u \\\n",
    "-a {macau75} \\\n",
    "-b {intron} | wc -l\n",
    "\n",
    "!echo \"Loci that overlap with coding sequences:\"\n",
    "! bedtools intersect \\\n",
    "-u \\\n",
    "-a {macau75} \\\n",
    "-b {CDS} | wc -l\n",
    "\n",
    "!echo \"Loci that overlap with 3' UTRs:\"\n",
    "! bedtools intersect \\\n",
    "-u \\\n",
    "-a {macau75} \\\n",
    "-b {UTR3} | wc -l\n",
    "\n",
    "!echo \"Loci that overlap with 5' UTRs:\"\n",
    "! bedtools intersect \\\n",
    "-u \\\n",
    "-a {macau75} \\\n",
    "-b {UTR5} | wc -l\n",
    "\n",
    "!echo \"Loci that overlap with mRNA:\"\n",
    "! bedtools intersect \\\n",
    "-u \\\n",
    "-a {macau75} \\\n",
    "-b {mRNA} | wc -l\n",
    "\n",
    "!echo \"Loci that overlap with transposable elements:\"\n",
    "! bedtools intersect \\\n",
    "-u \\\n",
    "-a {macau75} \\\n",
    "-b {TE} | wc -l\n",
    "\n",
    "!echo \"Loci that do not overlap with known features:\"\n",
    "! bedtools intersect \\\n",
    "-v \\\n",
    "-a {macau75} \\\n",
    "-b {mRNA} | wc -l"
   ]
  },
  {
   "cell_type": "markdown",
   "metadata": {},
   "source": [
    "### Save macau lists to file "
   ]
  },
  {
   "cell_type": "code",
   "execution_count": 13,
   "metadata": {},
   "outputs": [],
   "source": [
    "! bedtools intersect -wb -a {macau75} -b {gene} >  ../analyses/BEDtools/macau75-gene.txt\n",
    "! bedtools intersect -wb -a {macau75} -b {exon} >  ../analyses/BEDtools/macau75-exon.txt\n",
    "! bedtools intersect -wb -a {macau75} -b {intron} >  ../analyses/BEDtools/macau75-intron.txt\n",
    "! bedtools intersect -wb -a {macau75} -b {CDS} >  ../analyses/BEDtools/macau75-CDS.txt\n",
    "! bedtools intersect -wb -a {macau75} -b {UTR3} >  ../analyses/BEDtools/macau75-UTR3.txt\n",
    "! bedtools intersect -wb -a {macau75} -b {mRNA} >  ../analyses/BEDtools/macau75-mRNA.txt\n",
    "! bedtools intersect -wb -a {macau75} -b {TE} >  ../analyses/BEDtools/macau75-TE.txt\n",
    "! bedtools intersect -v -a {macau75} -b {gene} {exon} {intron} {CDS} {UTR3} {UTR5} {mRNA} {TE} >  ../analyses/BEDtools/macau75-intragenic.txt"
   ]
  },
  {
   "cell_type": "markdown",
   "metadata": {},
   "source": [
    "## Merge with blastx annotations "
   ]
  },
  {
   "cell_type": "code",
   "execution_count": 6,
   "metadata": {},
   "outputs": [
    {
     "name": "stdout",
     "output_type": "stream",
     "text": [
      "  % Total    % Received % Xferd  Average Speed   Time    Time     Time  Current\n",
      "                                 Dload  Upload   Total   Spent    Left  Speed\n",
      "100 1037k  100 1037k    0     0  1383k      0 --:--:-- --:--:-- --:--:-- 1381k\n"
     ]
    }
   ],
   "source": [
    "! curl https://raw.githubusercontent.com/sr320/paper-oly-mbdbs-gen/master/analyses/Olgene_blastx_uniprot.05.tab \\\n",
    "    > ../data/Olgene_blastx_uniprot.05.tabmacau-all10x.bed"
   ]
  },
  {
   "cell_type": "code",
   "execution_count": 7,
   "metadata": {},
   "outputs": [],
   "source": [
    "#convert pipes to tab\n",
    "!tr '|' '\\t' < ../data/Olgene_blastx_uniprot.05.tab \\\n",
    "> ../data/Olgene_blastx_uniprot.05-20191122.tab"
   ]
  },
  {
   "cell_type": "code",
   "execution_count": 9,
   "metadata": {},
   "outputs": [],
   "source": [
    "#Reduce the number of columns using awk. Sort, and save as a new file.\n",
    "!awk -v OFS='\\t' '{print $1, $3, $13}' \\\n",
    "< ../data/Olgene_blastx_uniprot.05-20191122.tab | sort \\\n",
    "> ../data/Olgene_blastx_uniprot.05-20191122-sort.tab"
   ]
  },
  {
   "cell_type": "code",
   "execution_count": 10,
   "metadata": {},
   "outputs": [
    {
     "name": "stdout",
     "output_type": "stream",
     "text": [
      "Contig100018:1232-2375\tP31695\t2.23e-06\r\n",
      "Contig100073:8284-10076\tH2A0L8\t6.98e-24\r\n",
      "Contig100101:2158-2821\tO35796\t3.67e-28\r\n",
      "Contig100107:1089-2009\tQ2KMM2\t8.78e-15\r\n",
      "Contig100114:437-2094\tQ9V4M2\t1.41e-09\r\n",
      "Contig100163:2402-6678\tP23708\t2.55e-18\r\n",
      "Contig100166:542-2054\tG5EBR3\t2.08e-11\r\n",
      "Contig100170:472-1350\tQ5F3T9\t9.14e-42\r\n",
      "Contig100188:460-2761\tQ8TD26\t1.35e-18\r\n",
      "Contig100206:5719-12338\tQ2HJH1\t1.51e-14\r\n"
     ]
    }
   ],
   "source": [
    "! head ../data/Olgene_blastx_uniprot.05-20191122-sort.tab"
   ]
  },
  {
   "cell_type": "code",
   "execution_count": 70,
   "metadata": {},
   "outputs": [],
   "source": [
    "#Uniprot codes have \".1\" appended, so those need to be removed.\n",
    "#Isolate the contig column name with cut\n",
    "#Flip order of characters with rev\n",
    "#Delete last three characters with cut -c\n",
    "#Flip order of characters with rev\n",
    "#Add information as a new column to annotated table with paste\n",
    "\n",
    "!cut -f1 temporary/olurida-blast-sort.tab \\\n",
    "| rev \\\n",
    "| cut -c 3- \\\n",
    "| rev \\\n",
    "> temporary/olurida-blast-sort2.tab"
   ]
  },
  {
   "cell_type": "code",
   "execution_count": 20,
   "metadata": {},
   "outputs": [
    {
     "name": "stdout",
     "output_type": "stream",
     "text": [
      "  % Total    % Received % Xferd  Average Speed   Time    Time     Time  Current\n",
      "                                 Dload  Upload   Total   Spent    Left  Speed\n",
      "100  340M  100  340M    0     0  2083k      0  0:02:47  0:02:47 --:--:-- 2187k 0  2154k      0  0:02:41  0:00:16  0:02:25 2175k0  1988k      0  0:02:55  0:00:36  0:02:19 1911k0  0:02:59  0:00:57  0:02:02 2190k79M    0     0  2067k      0  0:02:48  0:02:18  0:00:30 2206k\n"
     ]
    }
   ],
   "source": [
    "!curl http://owl.fish.washington.edu/halfshell/bu-alanine-wd/17-07-20/uniprot-SP-GO.sorted \\\n",
    "    > ../data/uniprot-SP-GO-sorted.tab"
   ]
  },
  {
   "cell_type": "code",
   "execution_count": 21,
   "metadata": {},
   "outputs": [
    {
     "name": "stdout",
     "output_type": "stream",
     "text": [
      "A0A023GPI8\tLECA_CANBL\treviewed\tLectin alpha chain (CboL) [Cleaved into: Lectin beta chain; Lectin gamma chain]\t\tCanavalia boliviana\t237\t\t\tmannose binding [GO:0005537]; metal ion binding [GO:0046872]\tmannose binding [GO:0005537]; metal ion binding [GO:0046872]\tGO:0005537; GO:0046872\r\n",
      "A0A023GPJ0\tCDII_ENTCC\treviewed\tImmunity protein CdiI\tcdiI ECL_04450.1\tEnterobacter cloacae subsp. cloacae (strain ATCC 13047 / DSM 30054 / NBRC 13535 / NCDC 279-56)\t145\t\t\t\t\t\r\n",
      "A0A023PXA5\tYA19A_YEAST\treviewed\tPutative uncharacterized protein YAL019W-A\tYAL019W-A\tSaccharomyces cerevisiae (strain ATCC 204508 / S288c) (Baker's yeast)\t189\t\t\t\t\t\r\n",
      "A0A023PXB0\tYA019_YEAST\treviewed\tPutative uncharacterized protein YAR019W-A\tYAR019W-A\tSaccharomyces cerevisiae (strain ATCC 204508 / S288c) (Baker's yeast)\t110\t\t\t\t\t\r\n",
      "A0A023PXB5\tIRC2_YEAST\treviewed\tPutative uncharacterized membrane protein IRC2 (Increased recombination centers protein 2)\tIRC2 YDR112W\tSaccharomyces cerevisiae (strain ATCC 204508 / S288c) (Baker's yeast)\t102\t\tintegral component of membrane [GO:0016021]\t\tintegral component of membrane [GO:0016021]\tGO:0016021\r\n",
      "A0A023PXB9\tYD99W_YEAST\treviewed\tPutative uncharacterized membrane protein YDR199W\tYDR199W\tSaccharomyces cerevisiae (strain ATCC 204508 / S288c) (Baker's yeast)\t121\t\tintegral component of membrane [GO:0016021]\t\tintegral component of membrane [GO:0016021]\tGO:0016021\r\n",
      "A0A023PXC2\tYE53A_YEAST\treviewed\tPutative uncharacterized membrane protein YEL053W-A\tYEL053W-A\tSaccharomyces cerevisiae (strain ATCC 204508 / S288c) (Baker's yeast)\t115\t\tintegral component of membrane [GO:0016021]\t\tintegral component of membrane [GO:0016021]\tGO:0016021\r\n",
      "A0A023PXC7\tYE068_YEAST\treviewed\tPutative uncharacterized membrane protein YER068C-A\tYER068C-A\tSaccharomyces cerevisiae (strain ATCC 204508 / S288c) (Baker's yeast)\t143\t\tintegral component of membrane [GO:0016021]\t\tintegral component of membrane [GO:0016021]\tGO:0016021\r\n",
      "A0A023PXD3\tYE88A_YEAST\treviewed\tPutative uncharacterized protein YER088C-A\tYER088C-A\tSaccharomyces cerevisiae (strain ATCC 204508 / S288c) (Baker's yeast)\t107\t\t\t\t\t\r\n",
      "A0A023PXD5\tYE147_YEAST\treviewed\tPutative uncharacterized membrane protein YER147C-A\tYER147C-A\tSaccharomyces cerevisiae (strain ATCC 204508 / S288c) (Baker's yeast)\t136\t\tintegral component of membrane [GO:0016021]\t\tintegral component of membrane [GO:0016021]\tGO:0016021\r\n"
     ]
    }
   ],
   "source": [
    "! head ../data/uniprot-SP-GO-sorted.tab"
   ]
  },
  {
   "cell_type": "markdown",
   "metadata": {},
   "source": [
    "Join the first column in the first file with the first column in the second file\n",
    "\n",
    "The files are tab delimited, and the output should also be tab delimited (-t $'\\t')"
   ]
  },
  {
   "cell_type": "code",
   "execution_count": 22,
   "metadata": {},
   "outputs": [],
   "source": [
    "! join -1 2 -2 1 -t $'\\t' \\\n",
    "../data/Olgene_blastx_uniprot.05-20191122-sort.tab \\\n",
    "../data/uniprot-SP-GO-sorted.tab \\\n",
    "> ../data/Oly_blastx_uniprot.tab"
   ]
  },
  {
   "cell_type": "code",
   "execution_count": 18,
   "metadata": {},
   "outputs": [
    {
     "name": "stdout",
     "output_type": "stream",
     "text": [
      "P31695\tContig100018:1232-2375\t2.23e-06\tNOTC4_MOUSE\treviewed\tNeurogenic locus notch homolog protein 4 (Notch 4) [Cleaved into: Transforming protein Int-3; Notch 4 extracellular truncation; Notch 4 intracellular domain]\tNotch4 Int-3 Int3\tMus musculus (Mouse)\t1964\tbranching involved in blood vessel morphogenesis [GO:0001569]; cell differentiation [GO:0030154]; embryo development [GO:0009790]; mammary gland development [GO:0030879]; morphogenesis of a branching structure [GO:0001763]; negative regulation of endothelial cell differentiation [GO:0045602]; negative regulation of Notch signaling pathway [GO:0045746]; Notch signaling pathway [GO:0007219]; positive regulation of angiogenesis [GO:0045766]; positive regulation of aorta morphogenesis [GO:1903849]; regulation of Notch signaling pathway [GO:0008593]; regulation of protein localization [GO:0032880]; regulation of protein processing [GO:0070613]; regulation of transcription, DNA-templated [GO:0006355]; transcription, DNA-templated [GO:0006351]; venous blood vessel morphogenesis [GO:0048845]\tcell surface [GO:0009986]; cytoplasmic vesicle [GO:0031410]; endoplasmic reticulum [GO:0005783]; integral component of membrane [GO:0016021]; nucleus [GO:0005634]; plasma membrane [GO:0005886]\tcalcium ion binding [GO:0005509]; Notch binding [GO:0005112]; receptor activity [GO:0004872]\tcell surface [GO:0009986]; cytoplasmic vesicle [GO:0031410]; endoplasmic reticulum [GO:0005783]; integral component of membrane [GO:0016021]; nucleus [GO:0005634]; plasma membrane [GO:0005886]; calcium ion binding [GO:0005509]; Notch binding [GO:0005112]; receptor activity [GO:0004872]; branching involved in blood vessel morphogenesis [GO:0001569]; cell differentiation [GO:0030154]; embryo development [GO:0009790]; mammary gland development [GO:0030879]; morphogenesis of a branching structure [GO:0001763]; negative regulation of endothelial cell differentiation [GO:0045602]; negative regulation of Notch signaling pathway [GO:0045746]; Notch signaling pathway [GO:0007219]; positive regulation of angiogenesis [GO:0045766]; positive regulation of aorta morphogenesis [GO:1903849]; regulation of Notch signaling pathway [GO:0008593]; regulation of protein localization [GO:0032880]; regulation of protein processing [GO:0070613]; regulation of transcription, DNA-templated [GO:0006355]; transcription, DNA-templated [GO:0006351]; venous blood vessel morphogenesis [GO:0048845]\tGO:0001569; GO:0001763; GO:0004872; GO:0005112; GO:0005509; GO:0005634; GO:0005783; GO:0005886; GO:0006351; GO:0006355; GO:0007219; GO:0008593; GO:0009790; GO:0009986; GO:0016021; GO:0030154; GO:0030879; GO:0031410; GO:0032880; GO:0045602; GO:0045746; GO:0045766; GO:0048845; GO:0070613; GO:1903849\r\n",
      "Q2KMM2\tContig100107:1089-2009\t8.78e-15\tTPPC1_RAT\treviewed\tTrafficking protein particle complex subunit 1\tTrappc1\tRattus norvegicus (Rat)\t145\tER to Golgi vesicle-mediated transport [GO:0006888]\tendoplasmic reticulum [GO:0005783]; Golgi apparatus [GO:0005794]; TRAPP complex [GO:0030008]\tRab guanyl-nucleotide exchange factor activity [GO:0017112]\tendoplasmic reticulum [GO:0005783]; Golgi apparatus [GO:0005794]; TRAPP complex [GO:0030008]; Rab guanyl-nucleotide exchange factor activity [GO:0017112]; ER to Golgi vesicle-mediated transport [GO:0006888]\tGO:0005783; GO:0005794; GO:0006888; GO:0017112; GO:0030008\r\n",
      "Q9V4M2\tContig100114:437-2094\t1.41e-09\tWECH_DROME\treviewed\tProtein wech (Protein dappled)\twech dpld CG42396\tDrosophila melanogaster (Fruit fly)\t832\tcell differentiation [GO:0030154]; instar larval development [GO:0002168]; muscle attachment [GO:0016203]; regulation of cell-cell adhesion mediated by integrin [GO:0033632]\tintracellular [GO:0005622]; muscle tendon junction [GO:0005927]\tprotein binding, bridging [GO:0030674]; zinc ion binding [GO:0008270]\tintracellular [GO:0005622]; muscle tendon junction [GO:0005927]; protein binding, bridging [GO:0030674]; zinc ion binding [GO:0008270]; cell differentiation [GO:0030154]; instar larval development [GO:0002168]; muscle attachment [GO:0016203]; regulation of cell-cell adhesion mediated by integrin [GO:0033632]\tGO:0002168; GO:0005622; GO:0005927; GO:0008270; GO:0016203; GO:0030154; GO:0030674; GO:0033632\r\n",
      "Q9Y6R7\tContig100513:1058-5433\t6.07e-15\tFCGBP_HUMAN\treviewed\tIgGFc-binding protein (Fcgamma-binding protein antigen) (FcgammaBP)\tFCGBP\tHomo sapiens (Human)\t5405\t\textracellular exosome [GO:0070062]\t\textracellular exosome [GO:0070062]\tGO:0070062\r\n",
      "Q9Z139\tContig105775:220-817\t2.17e-08\tROR1_MOUSE\treviewed\tInactive tyrosine-protein kinase transmembrane receptor ROR1 (mROR1) (Neurotrophic tyrosine kinase, receptor-related 1)\tRor1 Ntrkr1\tMus musculus (Mouse)\t937\tastrocyte development [GO:0014002]; transmembrane receptor protein tyrosine kinase signaling pathway [GO:0007169]; Wnt signaling pathway [GO:0016055]\tcell surface [GO:0009986]; cytoplasm [GO:0005737]; integral component of plasma membrane [GO:0005887]; receptor complex [GO:0043235]; stress fiber [GO:0001725]\tATP binding [GO:0005524]; transmembrane receptor protein tyrosine kinase activity [GO:0004714]; Wnt-protein binding [GO:0017147]\tcell surface [GO:0009986]; cytoplasm [GO:0005737]; integral component of plasma membrane [GO:0005887]; receptor complex [GO:0043235]; stress fiber [GO:0001725]; ATP binding [GO:0005524]; transmembrane receptor protein tyrosine kinase activity [GO:0004714]; Wnt-protein binding [GO:0017147]; astrocyte development [GO:0014002]; transmembrane receptor protein tyrosine kinase signaling pathway [GO:0007169]; Wnt signaling pathway [GO:0016055]\tGO:0001725; GO:0004714; GO:0005524; GO:0005737; GO:0005887; GO:0007169; GO:0009986; GO:0014002; GO:0016055; GO:0017147; GO:0043235\r\n",
      "Q9Z1K7\tContig107685:373-631\t5.34e-06\tAPCL_MOUSE\treviewed\tAdenomatous polyposis coli protein 2\tApc2\tMus musculus (Mouse)\t2274\tactivation of GTPase activity [GO:0090630]; microtubule cytoskeleton organization [GO:0000226]; negative regulation of canonical Wnt signaling pathway [GO:0090090]; negative regulation of catenin import into nucleus [GO:0035414]; Wnt signaling pathway [GO:0016055]\tactin filament [GO:0005884]; catenin complex [GO:0016342]; cytoplasm [GO:0005737]; Golgi apparatus [GO:0005794]; lamellipodium membrane [GO:0031258]; microtubule [GO:0005874]; microtubule cytoskeleton [GO:0015630]; perinuclear region of cytoplasm [GO:0048471]\tbeta-catenin binding [GO:0008013]; microtubule binding [GO:0008017]\tactin filament [GO:0005884]; catenin complex [GO:0016342]; cytoplasm [GO:0005737]; Golgi apparatus [GO:0005794]; lamellipodium membrane [GO:0031258]; microtubule [GO:0005874]; microtubule cytoskeleton [GO:0015630]; perinuclear region of cytoplasm [GO:0048471]; beta-catenin binding [GO:0008013]; microtubule binding [GO:0008017]; activation of GTPase activity [GO:0090630]; microtubule cytoskeleton organization [GO:0000226]; negative regulation of canonical Wnt signaling pathway [GO:0090090]; negative regulation of catenin import into nucleus [GO:0035414]; Wnt signaling pathway [GO:0016055]\tGO:0000226; GO:0005737; GO:0005794; GO:0005874; GO:0005884; GO:0008013; GO:0008017; GO:0015630; GO:0016055; GO:0016342; GO:0031258; GO:0035414; GO:0048471; GO:0090090; GO:0090630\r\n",
      "Q9Z2K0\tContig127694:1140-4202\t6.26e-37\tDEDD_RAT\treviewed\tDeath effector domain-containing protein (Death effector domain-containing testicular molecule)\tDedd Deft\tRattus norvegicus (Rat)\t318\tapoptotic process [GO:0006915]; decidualization [GO:0046697]; extrinsic apoptotic signaling pathway via death domain receptors [GO:0008625]; negative regulation of protein catabolic process [GO:0042177]; negative regulation of transcription of nuclear large rRNA transcript from RNA polymerase I promoter [GO:1901837]; regulation of apoptotic process [GO:0042981]; spermatogenesis [GO:0007283]; transcription, DNA-templated [GO:0006351]\tcytoplasm [GO:0005737]; nucleolus [GO:0005730]\tDNA binding [GO:0003677]\tcytoplasm [GO:0005737]; nucleolus [GO:0005730]; DNA binding [GO:0003677]; apoptotic process [GO:0006915]; decidualization [GO:0046697]; extrinsic apoptotic signaling pathway via death domain receptors [GO:0008625]; negative regulation of protein catabolic process [GO:0042177]; negative regulation of transcription of nuclear large rRNA transcript from RNA polymerase I promoter [GO:1901837]; regulation of apoptotic process [GO:0042981]; spermatogenesis [GO:0007283]; transcription, DNA-templated [GO:0006351]\tGO:0003677; GO:0005730; GO:0005737; GO:0006351; GO:0006915; GO:0007283; GO:0008625; GO:0042177; GO:0042981; GO:0046697; GO:1901837\r\n",
      "W4VSJ0\tContig16086:14079-20602\t1.14e-44\tACES_TRILK\treviewed\tAcetylcholinesterase-1 (AChE) (EC 3.1.1.7)\t\tTrittame loki (Brush-footed trapdoor spider)\t559\tneurotransmitter catabolic process [GO:0042135]\textracellular region [GO:0005576]\tacetylcholinesterase activity [GO:0003990]\textracellular region [GO:0005576]; acetylcholinesterase activity [GO:0003990]; neurotransmitter catabolic process [GO:0042135]\tGO:0003990; GO:0005576; GO:0042135\r\n",
      "W8W138\tContig53758:3059-10395\t7.87e-08\tBACE_STRPU\treviewed\tBeta-secretase (EC 3.4.23.-)\tBACE\tStrongylocentrotus purpuratus (Purple sea urchin)\t540\tprotein catabolic process [GO:0030163]; proteolysis [GO:0006508]\tintegral component of membrane [GO:0016021]\taspartic-type endopeptidase activity [GO:0004190]\tintegral component of membrane [GO:0016021]; aspartic-type endopeptidase activity [GO:0004190]; protein catabolic process [GO:0030163]; proteolysis [GO:0006508]\tGO:0004190; GO:0006508; GO:0016021; GO:0030163\r\n"
     ]
    }
   ],
   "source": [
    "! head ../data/Oly_blastx_uniprot.tab"
   ]
  }
 ],
 "metadata": {
  "celltoolbar": "Raw Cell Format",
  "kernelspec": {
   "display_name": "Python 3",
   "language": "python",
   "name": "python3"
  },
  "language_info": {
   "codemirror_mode": {
    "name": "ipython",
    "version": 3
   },
   "file_extension": ".py",
   "mimetype": "text/x-python",
   "name": "python",
   "nbconvert_exporter": "python",
   "pygments_lexer": "ipython3",
   "version": "3.7.0"
  }
 },
 "nbformat": 4,
 "nbformat_minor": 1
}
